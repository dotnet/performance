{
 "cells": [
  {
   "cell_type": "markdown",
   "metadata": {},
   "source": [
    "# Script to Find Out Which Sessions Enable The DotnetRunTime Provider "
   ]
  },
  {
   "cell_type": "code",
   "execution_count": null,
   "metadata": {},
   "outputs": [],
   "source": [
    "using System;\n",
    "using System.Collections.Generic;\n",
    "using System.Diagnostics;\n",
    "using System.Text.RegularExpressions;"
   ]
  },
  {
   "cell_type": "code",
   "execution_count": null,
   "metadata": {},
   "outputs": [],
   "source": [
    "public sealed class EventTraceProvider\n",
    "{\n",
    "    public string Name { get; }\n",
    "    public string Guid { get; }\n",
    "    public string Type { get; }\n",
    "    public string Status { get; }\n",
    "\n",
    "    public EventTraceProvider(string name, string guid, string type, string status)\n",
    "    {\n",
    "        Name = name;\n",
    "        Guid = guid;\n",
    "        Type = type;\n",
    "        Status = status;\n",
    "    }\n",
    "}"
   ]
  },
  {
   "cell_type": "code",
   "execution_count": null,
   "metadata": {
    "dotnet_interactive": {
     "language": "csharp"
    },
    "polyglot_notebook": {
     "kernelName": "csharp"
    }
   },
   "outputs": [],
   "source": [
    "public static void Run()\n",
    "{\n",
    "    string logmanOutput = RunLogmanCommand(\"query\", \"-ets\");\n",
    "\n",
    "    // Parse and display the data\n",
    "    List<EventTraceProvider> providers = ParseLogmanOutput(logmanOutput);\n",
    "\n",
    "    foreach (EventTraceProvider provider in providers)\n",
    "    {\n",
    "        //if (provider.Name.StartsWith(\"PerfView\") || provider.Name.StartsWith(\"AppModel\"))\n",
    "        {\n",
    "\n",
    "            Console.WriteLine($\"Provider Name: {provider.Name}\");\n",
    "\n",
    "            // Retrieve and parse details for the provider\n",
    "            string providerDetailsOutput = RunLogmanCommand(\"query\", \"-ets -n \" + provider.Name);\n",
    "            //Dictionary<string, string> providerDetails = ParseProviderDetails(providerDetailsOutput, args[0]);\n",
    "            string providerDetails = ParseProviderDetails(providerDetailsOutput);\n",
    "            if (providerDetails != null) \n",
    "            {\n",
    "                Console.WriteLine(providerDetails);\n",
    "            }\n",
    "\n",
    "            Console.WriteLine();\n",
    "        }\n",
    "    }\n",
    "\n",
    "}\n",
    "\n",
    "public static string RunLogmanCommand(string action, string arguments)\n",
    "{\n",
    "    try\n",
    "    {\n",
    "        // Create process start info\n",
    "        ProcessStartInfo psi = new ProcessStartInfo();\n",
    "        psi.FileName = \"logman\";\n",
    "        psi.Arguments = $\"{action} {arguments}\";\n",
    "        psi.RedirectStandardOutput = true;\n",
    "        psi.UseShellExecute = false;\n",
    "\n",
    "        // Start the process\n",
    "        Process process = Process.Start(psi);\n",
    "\n",
    "        // Read the output\n",
    "        string output = process.StandardOutput.ReadToEnd();\n",
    "\n",
    "        // Close the process\n",
    "        process.WaitForExit();\n",
    "        process.Close();\n",
    "\n",
    "        return output;\n",
    "    }\n",
    "    catch (Exception ex)\n",
    "    {\n",
    "        Console.WriteLine(\"Error: \" + ex.Message);\n",
    "        return null;\n",
    "    }\n",
    "}\n",
    "\n",
    "\n",
    "public static List<EventTraceProvider> ParseLogmanOutput(string logmanOutput)\n",
    "{\n",
    "    List<EventTraceProvider> providers = new List<EventTraceProvider>();\n",
    "\n",
    "    string[] lines = logmanOutput.Split(new[] { Environment.NewLine }, StringSplitOptions.None);\n",
    "\n",
    "    foreach (string line in lines)\n",
    "    {\n",
    "        int providerEnd = line.IndexOf(\"Trace                         Running\");\n",
    "        if (providerEnd != -1)\n",
    "        {\n",
    "            string providerName = line.Substring(0, providerEnd).TrimEnd();\n",
    "            //Console.WriteLine(\"---{0}------\", providerName);\n",
    "            providers.Add(new EventTraceProvider(providerName, null, null, null));\n",
    "        }\n",
    "    }\n",
    "\n",
    "    return providers;\n",
    "}\n",
    "\n",
    "public static string ParseProviderDetails(string providerDetailsOutput)\n",
    "{\n",
    "    Dictionary<string, string> details = new Dictionary<string, string>();\n",
    "\n",
    "    string[] lines = providerDetailsOutput.Split(new[] { Environment.NewLine }, StringSplitOptions.None);\n",
    "\n",
    "    foreach (string line in lines)\n",
    "    {\n",
    "        if (line.StartsWith(\"Name:                 Microsoft-Windows-DotNETRuntime\"))\n",
    "        {\n",
    "            return providerDetailsOutput;\n",
    "        }\n",
    "    }\n",
    "\n",
    "    return null;\n",
    "}"
   ]
  },
  {
   "cell_type": "code",
   "execution_count": null,
   "metadata": {},
   "outputs": [],
   "source": [
    "Run()"
   ]
  },
  {
   "cell_type": "code",
   "execution_count": null,
   "metadata": {},
   "outputs": [],
   "source": [
    "System.Diagnostics.Process.GetCurrentProcess().Id\n",
    "#!about"
   ]
  }
 ],
 "metadata": {
  "kernelspec": {
   "display_name": ".NET (C#)",
   "language": "C#",
   "name": ".net-csharp"
  },
  "language_info": {
   "name": "polyglot-notebook"
  },
  "polyglot_notebook": {
   "kernelInfo": {
    "defaultKernelName": "csharp",
    "items": [
     {
      "aliases": [],
      "languageName": "csharp",
      "name": "csharp"
     }
    ]
   }
  }
 },
 "nbformat": 4,
 "nbformat_minor": 2
}
