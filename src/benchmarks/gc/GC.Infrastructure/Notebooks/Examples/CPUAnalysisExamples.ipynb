{
 "cells": [
  {
   "attachments": {},
   "cell_type": "markdown",
   "metadata": {},
   "source": [
    "# Usage of GC.Analysis.API for CPU Analysis "
   ]
  },
  {
   "cell_type": "code",
   "execution_count": null,
   "metadata": {
    "dotnet_interactive": {
     "language": "csharp"
    },
    "vscode": {
     "languageId": "polyglot-notebook"
    }
   },
   "outputs": [],
   "source": [
    "#r \"nuget: Microsoft.Diagnostics.Tracing.TraceEvent, 3.1.13\"\n",
    "#r \"nuget: XPlot.Plotly\"\n",
    "#r \"nuget: XPlot.Plotly.Interactive\"\n",
    "#r \"nuget: Microsoft.Data.Analysis\"\n",
    "#r \"nuget: Newtonsoft.Json\"\n",
    "#r \"nuget: YamlDotNet\"\n",
    "\n",
    "using Etlx = Microsoft.Diagnostics.Tracing.Etlx;\n",
    "using Microsoft.Data.Analysis;\n",
    "using Microsoft.Diagnostics.Tracing.Analysis.GC;\n",
    "using Microsoft.Diagnostics.Tracing.Analysis;\n",
    "using Microsoft.Diagnostics.Tracing.Parsers.Clr;\n",
    "using Microsoft.Diagnostics.Tracing;\n",
    "using XPlot.Plotly;\n",
    "\n",
    "using System.IO;\n",
    "using Newtonsoft.Json;"
   ]
  },
  {
   "attachments": {},
   "cell_type": "markdown",
   "metadata": {},
   "source": [
    "## Building and Using The GC Analysis API"
   ]
  },
  {
   "cell_type": "code",
   "execution_count": null,
   "metadata": {
    "dotnet_interactive": {
     "language": "pwsh"
    },
    "vscode": {
     "languageId": "polyglot-notebook"
    }
   },
   "outputs": [],
   "source": [
    "dotnet build -c Release \"..\\..\\GC.Analysis.API\\\""
   ]
  },
  {
   "cell_type": "code",
   "execution_count": 4,
   "metadata": {
    "dotnet_interactive": {
     "language": "csharp"
    },
    "vscode": {
     "languageId": "polyglot-notebook"
    }
   },
   "outputs": [],
   "source": [
    "#r \"..\\..\\..\\..\\..\\..\\artifacts\\bin\\GC.Analysis.API\\Release\\net8.0\\GC.Analysis.API.dll\"\n",
    "\n",
    "using GC.Analysis.API;"
   ]
  },
  {
   "attachments": {},
   "cell_type": "markdown",
   "metadata": {},
   "source": [
    "## Creating the Analyzer"
   ]
  },
  {
   "cell_type": "code",
   "execution_count": 5,
   "metadata": {
    "dotnet_interactive": {
     "language": "csharp"
    },
    "vscode": {
     "languageId": "polyglot-notebook"
    }
   },
   "outputs": [],
   "source": [
    "string BASELINE_TRACE_PATH = @\".\\Traces\\CPU_Baseline.etl.zip\";\n",
    "string COMPARAND_TRACE_PATH = @\".\\Traces\\CPU_Comparand.etl.zip\";\n",
    "string processName = \"Benchmarks\";"
   ]
  },
  {
   "cell_type": "code",
   "execution_count": 6,
   "metadata": {
    "dotnet_interactive": {
     "language": "csharp"
    },
    "vscode": {
     "languageId": "polyglot-notebook"
    }
   },
   "outputs": [],
   "source": [
    "Analyzer baselineAnalyzer = new Analyzer(tracePath: BASELINE_TRACE_PATH, processNames: new HashSet<string> { processName });"
   ]
  },
  {
   "cell_type": "code",
   "execution_count": 7,
   "metadata": {
    "dotnet_interactive": {
     "language": "csharp"
    },
    "vscode": {
     "languageId": "polyglot-notebook"
    }
   },
   "outputs": [],
   "source": [
    "Analyzer comparandAnalyzer = new Analyzer(tracePath: COMPARAND_TRACE_PATH, processNames: new HashSet<string> { processName });"
   ]
  },
  {
   "attachments": {},
   "cell_type": "markdown",
   "metadata": {},
   "source": [
    "## Summarization"
   ]
  },
  {
   "cell_type": "code",
   "execution_count": null,
   "metadata": {
    "dotnet_interactive": {
     "language": "csharp"
    },
    "vscode": {
     "languageId": "polyglot-notebook"
    }
   },
   "outputs": [],
   "source": [
    "baselineAnalyzer.SummarizeTrace(processName: processName)"
   ]
  },
  {
   "cell_type": "code",
   "execution_count": null,
   "metadata": {
    "dotnet_interactive": {
     "language": "csharp"
    },
    "vscode": {
     "languageId": "polyglot-notebook"
    }
   },
   "outputs": [],
   "source": [
    "comparandAnalyzer.SummarizeTrace(processName: processName)"
   ]
  },
  {
   "cell_type": "code",
   "execution_count": null,
   "metadata": {
    "dotnet_interactive": {
     "language": "csharp"
    },
    "vscode": {
     "languageId": "polyglot-notebook"
    }
   },
   "outputs": [],
   "source": [
    "baselineAnalyzer.GetProcessGCData(processName).Single().Compare(new[] { comparandAnalyzer.GetProcessGCData(processName).Single() })"
   ]
  },
  {
   "attachments": {},
   "cell_type": "markdown",
   "metadata": {},
   "source": [
    "## CPU Analysis"
   ]
  },
  {
   "attachments": {},
   "cell_type": "markdown",
   "metadata": {},
   "source": [
    "### Creating the CPU Analysis\n",
    "\n",
    "Ensure you have followed the instructions [here](https://github.com/dotnet/performance/tree/main/src/benchmarks/gc/GC.Infrastructure/GC.Analysis.API#setting-up-for-cpu-analysis) before proceeding for complete results."
   ]
  },
  {
   "cell_type": "code",
   "execution_count": 11,
   "metadata": {
    "dotnet_interactive": {
     "language": "csharp"
    },
    "polyglot_notebook": {
     "kernelName": "csharp"
    },
    "vscode": {
     "languageId": "polyglot-notebook"
    }
   },
   "outputs": [],
   "source": [
    "baselineAnalyzer.AddCPUAnalysis(yamlPath: @\"..\\..\\GC.Analysis.API\\CPUAnalysis\\DefaultMethods.yaml\")"
   ]
  },
  {
   "cell_type": "code",
   "execution_count": 12,
   "metadata": {
    "dotnet_interactive": {
     "language": "csharp"
    },
    "vscode": {
     "languageId": "polyglot-notebook"
    }
   },
   "outputs": [],
   "source": [
    "comparandAnalyzer.AddCPUAnalysis(yamlPath: @\"..\\..\\GC.Analysis.API\\CPUAnalysis\\DefaultMethods.yaml\")"
   ]
  },
  {
   "cell_type": "code",
   "execution_count": 13,
   "metadata": {
    "dotnet_interactive": {
     "language": "csharp"
    },
    "vscode": {
     "languageId": "polyglot-notebook"
    }
   },
   "outputs": [],
   "source": [
    "CPUProcessData baselineCPUData  = baselineAnalyzer.CPUAnalyzer.GetCPUDataForProcessName(processName).Single();\n",
    "CPUProcessData comparandCPUData = comparandAnalyzer.CPUAnalyzer.GetCPUDataForProcessName(processName).Single();"
   ]
  },
  {
   "attachments": {},
   "cell_type": "markdown",
   "metadata": {},
   "source": [
    "### Summarization"
   ]
  },
  {
   "attachments": {},
   "cell_type": "markdown",
   "metadata": {},
   "source": [
    "#### Major GC Phase Summarization"
   ]
  },
  {
   "cell_type": "code",
   "execution_count": null,
   "metadata": {
    "dotnet_interactive": {
     "language": "csharp"
    },
    "vscode": {
     "languageId": "polyglot-notebook"
    }
   },
   "outputs": [],
   "source": [
    "baselineCPUData.GetPerPhaseSummary()"
   ]
  },
  {
   "cell_type": "code",
   "execution_count": null,
   "metadata": {
    "dotnet_interactive": {
     "language": "csharp"
    },
    "vscode": {
     "languageId": "polyglot-notebook"
    }
   },
   "outputs": [],
   "source": [
    "baselineCPUData.Compare(new [] { comparandCPUData })"
   ]
  },
  {
   "attachments": {},
   "cell_type": "markdown",
   "metadata": {},
   "source": [
    "#### Summarization By GC Type and Generation"
   ]
  },
  {
   "cell_type": "code",
   "execution_count": null,
   "metadata": {
    "dotnet_interactive": {
     "language": "csharp"
    },
    "vscode": {
     "languageId": "polyglot-notebook"
    }
   },
   "outputs": [],
   "source": [
    "comparandCPUData.GetPerGenerationSummary() // TODO: Check where the background phases went. BGC count - attribution."
   ]
  },
  {
   "attachments": {},
   "cell_type": "markdown",
   "metadata": {},
   "source": [
    "#### Aux Methods"
   ]
  },
  {
   "cell_type": "code",
   "execution_count": null,
   "metadata": {
    "dotnet_interactive": {
     "language": "csharp"
    },
    "vscode": {
     "languageId": "polyglot-notebook"
    }
   },
   "outputs": [],
   "source": [
    "baselineCPUData.GetPerGCMethodCost(\"gc_heap::mark_phase\").Select(gc => new { Number = gc.GC.Number, Count = gc.Count })"
   ]
  },
  {
   "cell_type": "code",
   "execution_count": null,
   "metadata": {
    "dotnet_interactive": {
     "language": "csharp"
    },
    "vscode": {
     "languageId": "polyglot-notebook"
    }
   },
   "outputs": [],
   "source": [
    "comparandCPUData.GetPerGCMethodCost(methodName: \"gc_heap::mark_through_cards_for_segments\", \n",
    "                                   caller: \"gc_heap::relocate_phase\").Select(gc => new { Number = gc.GC.Number, Count = gc.Count })"
   ]
  },
  {
   "attachments": {},
   "cell_type": "markdown",
   "metadata": {},
   "source": [
    "### Charting"
   ]
  },
  {
   "attachments": {},
   "cell_type": "markdown",
   "metadata": {},
   "source": [
    "#### Charting Counts For a Single GC Method"
   ]
  },
  {
   "attachments": {},
   "cell_type": "markdown",
   "metadata": {},
   "source": [
    "##### Charting Counts For a Single GC Method Using A Sorted Dictionary "
   ]
  },
  {
   "cell_type": "code",
   "execution_count": null,
   "metadata": {
    "dotnet_interactive": {
     "language": "csharp"
    },
    "vscode": {
     "languageId": "polyglot-notebook"
    }
   },
   "outputs": [],
   "source": [
    "(string, List<CPUInfo>) data = \n",
    "    (\"gc_heap::mark_phase\", comparandCPUData.GetPerGCMethodCost(\"gc_heap::mark_phase\"));\n",
    "\n",
    "CPUCharting.ChartCountForGCMethod(data, \"Mark Phase Data\")"
   ]
  },
  {
   "attachments": {},
   "cell_type": "markdown",
   "metadata": {},
   "source": [
    "##### Charting Counts For a Single Method GC Using CPU Process Data"
   ]
  },
  {
   "cell_type": "code",
   "execution_count": null,
   "metadata": {
    "dotnet_interactive": {
     "language": "csharp"
    },
    "vscode": {
     "languageId": "polyglot-notebook"
    }
   },
   "outputs": [],
   "source": [
    "// With Inclusive Count.\n",
    "comparandCPUData.ChartCountForGCMethod(methodName: \"gc_heap::plan_phase\", title: \"Plan Phase\")"
   ]
  },
  {
   "cell_type": "code",
   "execution_count": null,
   "metadata": {
    "dotnet_interactive": {
     "language": "csharp"
    },
    "vscode": {
     "languageId": "polyglot-notebook"
    }
   },
   "outputs": [],
   "source": [
    "// With Exclusive Count.\n",
    "baselineCPUData.ChartCountForGCMethod(methodName: \"gc_heap::plan_phase\", title: \"Plan Phase - Exclusive Count\", isInclusiveCount: false)"
   ]
  },
  {
   "attachments": {},
   "cell_type": "markdown",
   "metadata": {},
   "source": [
    "### Charting Counts For a Single GC Method With Caller"
   ]
  },
  {
   "cell_type": "code",
   "execution_count": null,
   "metadata": {
    "dotnet_interactive": {
     "language": "csharp"
    },
    "vscode": {
     "languageId": "polyglot-notebook"
    }
   },
   "outputs": [],
   "source": [
    "comparandCPUData.ChartCountForGCMethod(methodName: \"gc_heap::mark_through_cards_for_segments\", \n",
    "                                      title: \"Inc. cost of mark_through_cards_for_segments for the Mark Phase\", \n",
    "                                      caller: \"gc_heap::mark_phase\")"
   ]
  },
  {
   "cell_type": "code",
   "execution_count": null,
   "metadata": {
    "dotnet_interactive": {
     "language": "csharp"
    },
    "vscode": {
     "languageId": "polyglot-notebook"
    }
   },
   "outputs": [],
   "source": [
    "baselineCPUData.ChartCountForGCMethod(methodName: \"gc_heap::mark_through_cards_for_segments\", \n",
    "                                      title: \"Inc. cost of mark_through_cards_for_segments for the Relocate Phase\", \n",
    "                                      caller: \"gc_heap::relocate_phase\")"
   ]
  },
  {
   "attachments": {},
   "cell_type": "markdown",
   "metadata": {},
   "source": [
    "#### Charting Counts For Multiple GC Methods"
   ]
  },
  {
   "attachments": {},
   "cell_type": "markdown",
   "metadata": {},
   "source": [
    "##### Charting Counts For Multiple GC Methods Using A List"
   ]
  },
  {
   "cell_type": "code",
   "execution_count": null,
   "metadata": {
    "dotnet_interactive": {
     "language": "csharp"
    },
    "vscode": {
     "languageId": "polyglot-notebook"
    }
   },
   "outputs": [],
   "source": [
    "(string, List<CPUInfo>) markPhaseData = \n",
    "    (\"gc_heap::mark_phase\", baselineCPUData.GetPerGCMethodCost(\"gc_heap::mark_phase\"));\n",
    "\n",
    "(string, List<CPUInfo>) planPhaseData = \n",
    "    (\"gc_heap::plan_phase\", baselineCPUData.GetPerGCMethodCost(\"gc_heap::plan_phase\"));\n",
    "\n",
    "(string, List<CPUInfo>) relocate_phase = \n",
    "    (\"gc_heap::relocate_phase\", baselineCPUData.GetPerGCMethodCost(\"gc_heap::relocate_phase\"));\n",
    "\n",
    "CPUCharting.ChartCountForGCMethods(new [] { markPhaseData, planPhaseData, relocate_phase }, \"Custom Phase Data\")"
   ]
  },
  {
   "cell_type": "code",
   "execution_count": null,
   "metadata": {
    "dotnet_interactive": {
     "language": "csharp"
    },
    "vscode": {
     "languageId": "polyglot-notebook"
    }
   },
   "outputs": [],
   "source": [
    "(string, List<CPUInfo>) markPhaseData = \n",
    "    (\"gc_heap::mark_phase\", comparandCPUData.GetPerGCMethodCost(methodName: \"gc_heap::mark_phase\", gcsToConsider: new HashSet<int>{ 196, 200 }));\n",
    "\n",
    "(string, List<CPUInfo>) planPhaseData = \n",
    "    (\"gc_heap::plan_phase\", comparandCPUData.GetPerGCMethodCost(methodName: \"gc_heap::plan_phase\", gcsToConsider: new HashSet<int> { 196, 200 }) );\n",
    "\n",
    "CPUCharting.ChartCountForGCMethods(new [] { markPhaseData, planPhaseData }, \"Custom Phase Data\")"
   ]
  },
  {
   "attachments": {},
   "cell_type": "markdown",
   "metadata": {},
   "source": [
    "##### Charting Counts For The Same Phase Between For Different Traces"
   ]
  },
  {
   "cell_type": "code",
   "execution_count": null,
   "metadata": {
    "dotnet_interactive": {
     "language": "csharp"
    },
    "vscode": {
     "languageId": "polyglot-notebook"
    }
   },
   "outputs": [],
   "source": [
    "(string, List<CPUInfo>) markPhaseData = \n",
    "    (\"gc_heap::mark_phase - Baseline\", baselineCPUData.GetPerGCMethodCost(methodName: \"gc_heap::mark_phase\"));\n",
    "\n",
    "(string, List<CPUInfo>) planPhaseData = \n",
    "    (\"gc_heap::plan_phase - Comparand\", comparandCPUData.GetPerGCMethodCost(methodName: \"gc_heap::mark_phase\"));\n",
    "\n",
    "CPUCharting.ChartCountForGCMethods(new [] { markPhaseData, planPhaseData }, \"Mark Phase: Baseline vs. Comparand\")"
   ]
  },
  {
   "attachments": {},
   "cell_type": "markdown",
   "metadata": {},
   "source": [
    "##### Charting Counts For Multiple GC Methods Using CPU Process Data"
   ]
  },
  {
   "cell_type": "code",
   "execution_count": null,
   "metadata": {
    "dotnet_interactive": {
     "language": "csharp"
    },
    "vscode": {
     "languageId": "polyglot-notebook"
    }
   },
   "outputs": [],
   "source": [
    "baselineCPUData.ChartCountForGCMethods(methodNames: new [] { \"gc_heap::mark_phase\", \"gc_heap::plan_phase\", \"gc_heap::relocate_phase\", \"gc_heap::compact_phase\" }, \n",
    "                                 title: \"Major GC Phases\")"
   ]
  },
  {
   "attachments": {},
   "cell_type": "markdown",
   "metadata": {},
   "source": [
    "#### Charting GC Data With CPU Data"
   ]
  },
  {
   "cell_type": "code",
   "execution_count": 28,
   "metadata": {
    "dotnet_interactive": {
     "language": "csharp"
    },
    "vscode": {
     "languageId": "polyglot-notebook"
    }
   },
   "outputs": [],
   "source": [
    "GCProcessData processData = comparandAnalyzer.GetProcessGCData(processName).Single();"
   ]
  },
  {
   "cell_type": "code",
   "execution_count": null,
   "metadata": {
    "dotnet_interactive": {
     "language": "csharp"
    },
    "vscode": {
     "languageId": "polyglot-notebook"
    }
   },
   "outputs": [],
   "source": [
    "(string, List<CPUInfo>) cpuData = (\"Mark Phase\", baselineCPUData.GetPerGCMethodCost(\"gc_heap::mark_phase\"));\n",
    "(string, List<double>) gcData  = (\"Msec\", processData.GCs.Select(gc => gc.PauseDurationMSec));\n",
    "CPUCharting.ChartCountForGCMethodWithGCData(cpuData, gcData, \"Mark Phase Inc. Count vs. Pause Duration (MSec)\")"
   ]
  },
  {
   "attachments": {},
   "cell_type": "markdown",
   "metadata": {},
   "source": [
    "### Generic Charting"
   ]
  },
  {
   "cell_type": "code",
   "execution_count": null,
   "metadata": {
    "dotnet_interactive": {
     "language": "csharp"
    },
    "vscode": {
     "languageId": "polyglot-notebook"
    }
   },
   "outputs": [],
   "source": [
    "(string, List<CPUInfo>) markPhaseData = \n",
    "    (\"gc_heap::mark_phase\", baselineCPUData.GetPerGCMethodCost(methodName: \"gc_heap::mark_phase\"));\n",
    "\n",
    "bool Gen0Filter(CPUInfo cpuInfo)\n",
    "{\n",
    "    return cpuInfo.GC.Generation == 0;\n",
    "}\n",
    "\n",
    "bool Gen0Filter(TraceGC gc)\n",
    "{\n",
    "    return gc.Generation == 0;\n",
    "}\n",
    "\n",
    "List<CPUInfo> filteredGen0CPUData = markPhaseData.Item2.Where(Gen0Filter);\n",
    "List<TraceGC> traceGC = processData.GCs.Where(Gen0Filter);\n",
    "\n",
    "GCCharting.ChartGCData(\"Mark Phase Inc. Count Per GC\", \n",
    "                       new AxisInfo \n",
    "                       { \n",
    "                           Name = \"Mark Phase Inc\", \n",
    "                           XAxis = traceGC.Select(gc => (double)gc.Number), \n",
    "                           YAxis = filteredGen0CPUData.Select(gc => (double)gc.Count) \n",
    "                       })"
   ]
  },
  {
   "attachments": {},
   "cell_type": "markdown",
   "metadata": {},
   "source": [
    "### Mark Phase Analysis"
   ]
  },
  {
   "attachments": {},
   "cell_type": "markdown",
   "metadata": {},
   "source": [
    "#### Chart Per Generation and Type "
   ]
  },
  {
   "cell_type": "code",
   "execution_count": null,
   "metadata": {
    "dotnet_interactive": {
     "language": "csharp"
    },
    "vscode": {
     "languageId": "polyglot-notebook"
    }
   },
   "outputs": [],
   "source": [
    "processData.ChartStatisticsOfMarkPhaseByType(generation: 0, type: MarkRootType.MarkStack)"
   ]
  },
  {
   "attachments": {},
   "cell_type": "markdown",
   "metadata": {},
   "source": [
    "#### Chart All Mark Root Types For a Generation "
   ]
  },
  {
   "cell_type": "code",
   "execution_count": null,
   "metadata": {
    "dotnet_interactive": {
     "language": "csharp"
    },
    "vscode": {
     "languageId": "polyglot-notebook"
    }
   },
   "outputs": [],
   "source": [
    "processData.ChartAverageMarkPhaseTimeByMarkType(generation: 0, types: new [] { MarkRootType.MarkStack, MarkRootType.MarkHandles, MarkRootType.MarkOlder })"
   ]
  },
  {
   "attachments": {},
   "cell_type": "markdown",
   "metadata": {},
   "source": [
    "## Source Code Analysis"
   ]
  },
  {
   "cell_type": "code",
   "execution_count": null,
   "metadata": {
    "dotnet_interactive": {
     "language": "csharp"
    },
    "vscode": {
     "languageId": "polyglot-notebook"
    }
   },
   "outputs": [],
   "source": [
    "baselineCPUData.SetSourcePath(@\"C:\\runtime\\\");\n",
    "baselineCPUData.Annotate(\"gc_heap::garbage_collect\")"
   ]
  },
  {
   "attachments": {},
   "cell_type": "markdown",
   "metadata": {},
   "source": [
    "## Affinitized CPU Analysis"
   ]
  },
  {
   "attachments": {},
   "cell_type": "markdown",
   "metadata": {},
   "source": [
    "### Summary"
   ]
  },
  {
   "cell_type": "code",
   "execution_count": 33,
   "metadata": {
    "dotnet_interactive": {
     "language": "csharp"
    },
    "vscode": {
     "languageId": "polyglot-notebook"
    }
   },
   "outputs": [],
   "source": [
    "var gcData = baselineAnalyzer.GetProcessGCData(processName).First();\n",
    "\n",
    "Dictionary<string, AffinitizedCPUData> get_stats_gcs_with_large_diff(List<TraceGC> gcs, double threshold)\n",
    "{\n",
    "    // Per process name affinitized cpu data.\n",
    "    Dictionary<string, AffinitizedCPUData> data = new();\n",
    "\n",
    "    for(int i = 0; i < gcs.Count; i++)\n",
    "    {\n",
    "        double diff_between_suspend_ee_stop_and_gc_start = gcs[i].StartRelativeMSec - (gcs[i].PauseStartRelativeMSec + gcs[i].SuspendDurationMSec);\n",
    "        if (diff_between_suspend_ee_stop_and_gc_start > threshold)\n",
    "        {\n",
    "            // Processor -> < ProcessID, AffinitizedCPUData >\n",
    "            Dictionary<int, Dictionary<int, AffinitizedCPUData>> affinitizedAnalysis = gcData.GetAffinitizedAnalysis(gcs[i].PauseStartRelativeMSec + gcs[i].SuspendDurationMSec, gcs[i].StartRelativeMSec);\n",
    "            foreach(var processor in affinitizedAnalysis)\n",
    "            {\n",
    "                foreach(var process in processor.Value)\n",
    "                {\n",
    "                    if (!data.TryGetValue(process.Value.Name, out var affinitizedCPUData))\n",
    "                    {\n",
    "                        data[process.Value.Name] = affinitizedCPUData = new AffinitizedCPUData\n",
    "                        {\n",
    "                            Name = process.Value.Name,\n",
    "                            ProcessorNumber = -1, // All processors\n",
    "                        };\n",
    "                    }\n",
    "\n",
    "                    affinitizedCPUData.NumberOfSamples += process.Value.NumberOfSamples;\n",
    "                }\n",
    "            }\n",
    "        }\n",
    "    }\n",
    "\n",
    "    return data;\n",
    "}\n",
    "\n",
    "Dictionary<string, AffinitizedCPUData> stats = get_stats_gcs_with_large_diff(baselineAnalyzer.GetProcessGCData(processName).First().GCs, 8);"
   ]
  },
  {
   "attachments": {},
   "cell_type": "markdown",
   "metadata": {},
   "source": [
    "#### Number of Samples"
   ]
  },
  {
   "cell_type": "code",
   "execution_count": null,
   "metadata": {
    "dotnet_interactive": {
     "language": "csharp"
    },
    "vscode": {
     "languageId": "polyglot-notebook"
    }
   },
   "outputs": [],
   "source": [
    "float total_number_of_samples_from_non_gc_threads = 0;\n",
    "float total_number_of_samples_from_gc_threads = 0;\n",
    "\n",
    "foreach(var process_data in stats)\n",
    "{\n",
    "    if (process_data.Key != \"GC Thread\")\n",
    "    {\n",
    "        total_number_of_samples_from_non_gc_threads += process_data.Value.NumberOfSamples;\n",
    "    }\n",
    "\n",
    "    else\n",
    "    {\n",
    "        total_number_of_samples_from_gc_threads += process_data.Value.NumberOfSamples;\n",
    "    }\n",
    "}\n",
    "\n",
    "Console.WriteLine($\"Number of Samples from Threads >= GC Thread Priority of 14: {total_number_of_samples_from_non_gc_threads}\");\n",
    "Console.WriteLine($\"Number of Samples from GC Threads : {total_number_of_samples_from_gc_threads}\");"
   ]
  },
  {
   "attachments": {},
   "cell_type": "markdown",
   "metadata": {},
   "source": [
    "#### Per Process Summarization"
   ]
  },
  {
   "cell_type": "code",
   "execution_count": 35,
   "metadata": {
    "dotnet_interactive": {
     "language": "csharp"
    },
    "vscode": {
     "languageId": "polyglot-notebook"
    }
   },
   "outputs": [],
   "source": [
    "// Get total samples\n",
    "\n",
    "float total_samples = 0;\n",
    "foreach (var process_data in stats)\n",
    "{\n",
    "    total_samples += process_data.Value.NumberOfSamples;\n",
    "}\n",
    "\n",
    "StringDataFrameColumn process_name = new(\"Process Name\");\n",
    "DoubleDataFrameColumn number_of_samples = new(\"Number of Samples\");\n",
    "DoubleDataFrameColumn percentage_of_samples = new(\"% of Samples\");\n",
    "\n",
    "foreach (var process_data in stats)\n",
    "{\n",
    "    process_name.Append(process_data.Key);\n",
    "    number_of_samples.Append(process_data.Value.NumberOfSamples);\n",
    "    percentage_of_samples.Append(Math.Round(process_data.Value.NumberOfSamples / total_samples * 100, 2));\n",
    "    Console.WriteLine($\"For: {process_data.Key}, Number of Samples: {process_data.Value.NumberOfSamples}, % of Samples: {Math.Round((process_data.Value.NumberOfSamples / total_samples) * 100, 2)}%\");\n",
    "}\n",
    "\n",
    "var df = new DataFrame(process_name, number_of_samples, percentage_of_samples);"
   ]
  },
  {
   "attachments": {},
   "cell_type": "markdown",
   "metadata": {},
   "source": [
    "#### Save Results To Markdown "
   ]
  },
  {
   "cell_type": "code",
   "execution_count": null,
   "metadata": {
    "dotnet_interactive": {
     "language": "csharp"
    },
    "vscode": {
     "languageId": "polyglot-notebook"
    }
   },
   "outputs": [],
   "source": [
    "df.Display();\n",
    "df.ToMarkdown(\"./AffinitizedResults.md\");"
   ]
  },
  {
   "attachments": {},
   "cell_type": "markdown",
   "metadata": {},
   "source": [
    "## Debugging"
   ]
  },
  {
   "cell_type": "code",
   "execution_count": null,
   "metadata": {
    "dotnet_interactive": {
     "language": "csharp"
    },
    "vscode": {
     "languageId": "polyglot-notebook"
    }
   },
   "outputs": [],
   "source": [
    "Console.WriteLine($\"Current Process ID: {System.Diagnostics.Process.GetCurrentProcess().Id}\");\n",
    "\n",
    "#!about"
   ]
  }
 ],
 "metadata": {
  "kernelspec": {
   "display_name": ".NET (C#)",
   "language": "C#",
   "name": ".net-csharp"
  },
  "language_info": {
   "file_extension": ".cs",
   "mimetype": "text/x-csharp",
   "name": "C#",
   "pygments_lexer": "csharp",
   "version": "9.0"
  },
  "orig_nbformat": 4,
  "polyglot_notebook": {
   "kernelInfo": {
    "defaultKernelName": "csharp",
    "items": [
     {
      "aliases": [],
      "name": "csharp"
     }
    ]
   }
  }
 },
 "nbformat": 4,
 "nbformat_minor": 2
}
