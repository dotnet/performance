{
 "cells": [
  {
   "attachments": {},
   "cell_type": "markdown",
   "metadata": {},
   "source": [
    "# Usage of GC.Analysis.API for CPU Analysis "
   ]
  },
  {
   "cell_type": "code",
   "execution_count": 1,
   "metadata": {
    "dotnet_interactive": {
     "language": "csharp"
    },
    "vscode": {
     "languageId": "polyglot-notebook"
    }
   },
   "outputs": [
    {
     "data": {
      "text/html": [
       "<div><div></div><div></div><div><strong>Installed Packages</strong><ul><li><span>Microsoft.Data.Analysis, 0.20.1</span></li><li><span>Microsoft.Diagnostics.Tracing.TraceEvent, 3.0.1</span></li><li><span>Microsoft.Playwright, 1.16.0</span></li><li><span>Newtonsoft.Json, 13.0.3</span></li><li><span>XPlot.Plotly, 4.0.6</span></li><li><span>XPlot.Plotly.Interactive, 4.0.7</span></li><li><span>YamlDotNet, 13.1.0</span></li></ul></div></div>"
      ]
     },
     "metadata": {},
     "output_type": "display_data"
    },
    {
     "data": {
      "text/plain": [
       "Loading extensions from `C:\\Users\\musharm\\.nuget\\packages\\microsoft.data.analysis\\0.20.1\\interactive-extensions\\dotnet\\Microsoft.Data.Analysis.Interactive.dll`"
      ]
     },
     "metadata": {},
     "output_type": "display_data"
    },
    {
     "data": {
      "text/plain": [
       "Loading extensions from `C:\\Users\\musharm\\.nuget\\packages\\xplot.plotly.interactive\\4.0.7\\interactive-extensions\\dotnet\\XPlot.Plotly.Interactive.dll`"
      ]
     },
     "metadata": {},
     "output_type": "display_data"
    },
    {
     "data": {
      "text/markdown": [
       "Configuring PowerShell Kernel for XPlot.Plotly integration."
      ]
     },
     "metadata": {},
     "output_type": "display_data"
    },
    {
     "data": {
      "text/markdown": [
       "Installed support for XPlot.Plotly."
      ]
     },
     "metadata": {},
     "output_type": "display_data"
    }
   ],
   "source": [
    "#r \"nuget: Microsoft.Diagnostics.Tracing.TraceEvent, 3.0.1\"\n",
    "#r \"nuget: XPlot.Plotly\"\n",
    "#r \"nuget: XPlot.Plotly.Interactive\"\n",
    "#r \"nuget: Microsoft.Data.Analysis\"\n",
    "#r \"nuget: Newtonsoft.Json\"\n",
    "#r \"nuget: YamlDotNet\"\n",
    "#r \"nuget: Microsoft.Playwright, 1.16.0\"\n",
    "\n",
    "using Etlx = Microsoft.Diagnostics.Tracing.Etlx;\n",
    "using Microsoft.Data.Analysis;\n",
    "using Microsoft.Diagnostics.Tracing.Analysis.GC;\n",
    "using Microsoft.Diagnostics.Tracing.Analysis;\n",
    "using Microsoft.Diagnostics.Tracing.Parsers.Clr;\n",
    "using Microsoft.Diagnostics.Tracing;\n",
    "using XPlot.Plotly;\n",
    "\n",
    "using System.IO;\n",
    "using Newtonsoft.Json;"
   ]
  },
  {
   "attachments": {},
   "cell_type": "markdown",
   "metadata": {},
   "source": [
    "## Building and Using The GC Analysis API"
   ]
  },
  {
   "cell_type": "code",
   "execution_count": 2,
   "metadata": {
    "dotnet_interactive": {
     "language": "pwsh"
    },
    "vscode": {
     "languageId": "polyglot-notebook"
    }
   },
   "outputs": [
    {
     "name": "stdout",
     "output_type": "stream",
     "text": [
      "MSBuild version 17.6.0-preview-23174-01+e7de13307 for .NET\n",
      "  Determining projects to restore...\n",
      "  All projects are up-to-date for restore.\n",
      "  GC.Analysis.API -> C:\\performance\\artifacts\\bin\\GC.Analysis.API\\Release\\net6.0\\GC.Analysis.API.dll\n",
      "\n",
      "Build succeeded.\n",
      "    0 Warning(s)\n",
      "    0 Error(s)\n",
      "\n",
      "Time Elapsed 00:00:01.11\n"
     ]
    }
   ],
   "source": [
    "dotnet build -c Release \"..\\..\\GC.Analysis.API\\\""
   ]
  },
  {
   "cell_type": "code",
   "execution_count": 3,
   "metadata": {
    "dotnet_interactive": {
     "language": "csharp"
    },
    "vscode": {
     "languageId": "polyglot-notebook"
    }
   },
   "outputs": [],
   "source": [
    "#r \"C:\\performance\\artifacts\\bin\\GC.Analysis.API\\Release\\net6.0\\GC.Analysis.API.dll\" \n",
    "\n",
    "using GC.Analysis.API;"
   ]
  },
  {
   "attachments": {},
   "cell_type": "markdown",
   "metadata": {},
   "source": [
    "## Creating the Analyzer"
   ]
  },
  {
   "cell_type": "code",
   "execution_count": 4,
   "metadata": {
    "dotnet_interactive": {
     "language": "csharp"
    },
    "vscode": {
     "languageId": "polyglot-notebook"
    }
   },
   "outputs": [],
   "source": [
    "var BASELINE_TRACE_PATH = @\"Enter your baseline trace path here..\";\n",
    "var COMPARAND_TRACE_PATH  = @\"Enter your comparand trace path here..\";"
   ]
  },
  {
   "cell_type": "code",
   "execution_count": 5,
   "metadata": {
    "dotnet_interactive": {
     "language": "csharp"
    },
    "vscode": {
     "languageId": "polyglot-notebook"
    }
   },
   "outputs": [],
   "source": [
    "Analyzer baselineAnalyzer = new Analyzer(tracePath: BASELINE_TRACE_PATH, processNames: new HashSet<string> { \"corerun\" });"
   ]
  },
  {
   "cell_type": "code",
   "execution_count": 6,
   "metadata": {
    "dotnet_interactive": {
     "language": "csharp"
    },
    "vscode": {
     "languageId": "polyglot-notebook"
    }
   },
   "outputs": [],
   "source": [
    "Analyzer comparandAnalyzer = new Analyzer(tracePath: COMPARAND_TRACE_PATH, processNames: new HashSet<string> { \"corerun\" });"
   ]
  },
  {
   "attachments": {},
   "cell_type": "markdown",
   "metadata": {},
   "source": [
    "## Summarization"
   ]
  },
  {
   "cell_type": "code",
   "execution_count": 7,
   "metadata": {
    "dotnet_interactive": {
     "language": "csharp"
    },
    "vscode": {
     "languageId": "polyglot-notebook"
    }
   },
   "outputs": [
    {
     "data": {
      "text/html": [
       "<table><thead><tr><th><i>index</i></th><th>value</th></tr></thead><tbody><tr><td>0</td><td><table id=\"table_638211304381641281\"><thead><tr><th><i>index</i></th><th>Process ID: 20844</th><th>Start (ms)</th><th>Start GC Index</th><th>End (ms)</th><th>End GC Index</th><th>Notes</th></tr></thead><tbody><tr><td><i><div class=\"dni-plaintext\"><pre>0</pre></div></i></td><td>GC</td><td>1029.84</td><td>1</td><td>8149.29</td><td>493</td><td>493 GCs found for Process: 20844</td></tr><tr><td><i><div class=\"dni-plaintext\"><pre>1</pre></div></i></td><td>CPU Samples</td><td>901.38</td><td>1</td><td>8188.75</td><td>493</td><td>Total Number of CPU Sample Events: 128452</td></tr><tr><td><i><div class=\"dni-plaintext\"><pre>2</pre></div></i></td><td>CSwitch Data</td><td></td><td>-1</td><td></td><td>-1</td><td>No CSwitch Events Found for Process: 20844.</td></tr></tbody></table><style>\r\n",
       ".dni-code-hint {\r\n",
       "    font-style: italic;\r\n",
       "    overflow: hidden;\r\n",
       "    white-space: nowrap;\r\n",
       "}\r\n",
       ".dni-treeview {\r\n",
       "    white-space: nowrap;\r\n",
       "}\r\n",
       ".dni-treeview td {\r\n",
       "    vertical-align: top;\r\n",
       "    text-align: start;\r\n",
       "}\r\n",
       "details.dni-treeview {\r\n",
       "    padding-left: 1em;\r\n",
       "}\r\n",
       "table td {\r\n",
       "    text-align: start;\r\n",
       "}\r\n",
       "table tr { \r\n",
       "    vertical-align: top; \r\n",
       "    margin: 0em 0px;\r\n",
       "}\r\n",
       "table tr td pre \r\n",
       "{ \r\n",
       "    vertical-align: top !important; \r\n",
       "    margin: 0em 0px !important;\r\n",
       "} \r\n",
       "table th {\r\n",
       "    text-align: start;\r\n",
       "}\r\n",
       "</style></td></tr></tbody></table><style>\r\n",
       ".dni-code-hint {\r\n",
       "    font-style: italic;\r\n",
       "    overflow: hidden;\r\n",
       "    white-space: nowrap;\r\n",
       "}\r\n",
       ".dni-treeview {\r\n",
       "    white-space: nowrap;\r\n",
       "}\r\n",
       ".dni-treeview td {\r\n",
       "    vertical-align: top;\r\n",
       "    text-align: start;\r\n",
       "}\r\n",
       "details.dni-treeview {\r\n",
       "    padding-left: 1em;\r\n",
       "}\r\n",
       "table td {\r\n",
       "    text-align: start;\r\n",
       "}\r\n",
       "table tr { \r\n",
       "    vertical-align: top; \r\n",
       "    margin: 0em 0px;\r\n",
       "}\r\n",
       "table tr td pre \r\n",
       "{ \r\n",
       "    vertical-align: top !important; \r\n",
       "    margin: 0em 0px !important;\r\n",
       "} \r\n",
       "table th {\r\n",
       "    text-align: start;\r\n",
       "}\r\n",
       "</style>"
      ]
     },
     "metadata": {},
     "output_type": "display_data"
    }
   ],
   "source": [
    "baselineAnalyzer.SummarizeTrace(processName: \"corerun\")"
   ]
  },
  {
   "cell_type": "code",
   "execution_count": 8,
   "metadata": {
    "dotnet_interactive": {
     "language": "csharp"
    },
    "vscode": {
     "languageId": "polyglot-notebook"
    }
   },
   "outputs": [
    {
     "data": {
      "text/html": [
       "<table><thead><tr><th><i>index</i></th><th>value</th></tr></thead><tbody><tr><td>0</td><td><table id=\"table_638211304382777316\"><thead><tr><th><i>index</i></th><th>Process ID: 20844</th><th>Start (ms)</th><th>Start GC Index</th><th>End (ms)</th><th>End GC Index</th><th>Notes</th></tr></thead><tbody><tr><td><i><div class=\"dni-plaintext\"><pre>0</pre></div></i></td><td>GC</td><td>1029.84</td><td>1</td><td>8149.29</td><td>493</td><td>493 GCs found for Process: 20844</td></tr><tr><td><i><div class=\"dni-plaintext\"><pre>1</pre></div></i></td><td>CPU Samples</td><td>901.38</td><td>1</td><td>8188.75</td><td>493</td><td>Total Number of CPU Sample Events: 128452</td></tr><tr><td><i><div class=\"dni-plaintext\"><pre>2</pre></div></i></td><td>CSwitch Data</td><td></td><td>-1</td><td></td><td>-1</td><td>No CSwitch Events Found for Process: 20844.</td></tr></tbody></table><style>\r\n",
       ".dni-code-hint {\r\n",
       "    font-style: italic;\r\n",
       "    overflow: hidden;\r\n",
       "    white-space: nowrap;\r\n",
       "}\r\n",
       ".dni-treeview {\r\n",
       "    white-space: nowrap;\r\n",
       "}\r\n",
       ".dni-treeview td {\r\n",
       "    vertical-align: top;\r\n",
       "    text-align: start;\r\n",
       "}\r\n",
       "details.dni-treeview {\r\n",
       "    padding-left: 1em;\r\n",
       "}\r\n",
       "table td {\r\n",
       "    text-align: start;\r\n",
       "}\r\n",
       "table tr { \r\n",
       "    vertical-align: top; \r\n",
       "    margin: 0em 0px;\r\n",
       "}\r\n",
       "table tr td pre \r\n",
       "{ \r\n",
       "    vertical-align: top !important; \r\n",
       "    margin: 0em 0px !important;\r\n",
       "} \r\n",
       "table th {\r\n",
       "    text-align: start;\r\n",
       "}\r\n",
       "</style></td></tr></tbody></table><style>\r\n",
       ".dni-code-hint {\r\n",
       "    font-style: italic;\r\n",
       "    overflow: hidden;\r\n",
       "    white-space: nowrap;\r\n",
       "}\r\n",
       ".dni-treeview {\r\n",
       "    white-space: nowrap;\r\n",
       "}\r\n",
       ".dni-treeview td {\r\n",
       "    vertical-align: top;\r\n",
       "    text-align: start;\r\n",
       "}\r\n",
       "details.dni-treeview {\r\n",
       "    padding-left: 1em;\r\n",
       "}\r\n",
       "table td {\r\n",
       "    text-align: start;\r\n",
       "}\r\n",
       "table tr { \r\n",
       "    vertical-align: top; \r\n",
       "    margin: 0em 0px;\r\n",
       "}\r\n",
       "table tr td pre \r\n",
       "{ \r\n",
       "    vertical-align: top !important; \r\n",
       "    margin: 0em 0px !important;\r\n",
       "} \r\n",
       "table th {\r\n",
       "    text-align: start;\r\n",
       "}\r\n",
       "</style>"
      ]
     },
     "metadata": {},
     "output_type": "display_data"
    }
   ],
   "source": [
    "comparandAnalyzer.SummarizeTrace(processName: \"corerun\")"
   ]
  },
  {
   "cell_type": "code",
   "execution_count": 9,
   "metadata": {
    "dotnet_interactive": {
     "language": "csharp"
    },
    "vscode": {
     "languageId": "polyglot-notebook"
    }
   },
   "outputs": [
    {
     "data": {
      "text/html": [
       "<table id=\"table_638211304383838340\"><caption><h3 style=\"text-align: center;\">DataFrame - 29 rows </h3></caption><thead><tr><th><i>index</i></th><th> </th><th>Baseline</th><th>20844</th><th>Diff: 20844</th><th>Diff %: 20844</th></tr></thead><tbody><tr style=\"display: none\"><td><i><div class=\"dni-plaintext\"><pre>0</pre></div></i></td><td>Process ID</td><td>20844</td><td>20844</td><td></td><td></td></tr><tr style=\"display: none\"><td><i><div class=\"dni-plaintext\"><pre>1</pre></div></i></td><td>Process Name</td><td>corerun</td><td>corerun</td><td></td><td></td></tr><tr style=\"display: none\"><td><i><div class=\"dni-plaintext\"><pre>2</pre></div></i></td><td>Commandline</td><td>&quot;C:\\CoreRuns\\EmitEvent_Core_Root\\corerun.exe&quot; C:\\performance\\artifacts\\bin\\GCPerfSim\\release\\net7.0\\GCPerfSim.dll  -tc 36 -tagb 100 -tlgb 0 -lohar 0 -pohar 0 -sohsr 100-4000 -lohsr 102400-204800 -pohsr 100-204800 -sohsi 0 -lohsi 0 -pohsi 0 -sohpi 0 -lohpi 0 -sohfi 0 -lohfi 0 -pohfi 0 -allocType reference -testKind time</td><td>&quot;C:\\CoreRuns\\EmitEvent_Core_Root\\corerun.exe&quot; C:\\performance\\artifacts\\bin\\GCPerfSim\\release\\net7.0\\GCPerfSim.dll  -tc 36 -tagb 100 -tlgb 0 -lohar 0 -pohar 0 -sohsr 100-4000 -lohsr 102400-204800 -pohsr 100-204800 -sohsi 0 -lohsi 0 -pohsi 0 -sohpi 0 -lohpi 0 -sohfi 0 -lohfi 0 -pohfi 0 -allocType reference -testKind time</td><td></td><td></td></tr><tr style=\"display: none\"><td><i><div class=\"dni-plaintext\"><pre>3</pre></div></i></td><td>Process Duration (Sec)</td><td>7.120</td><td>7.120</td><td>0.000</td><td>0.000</td></tr><tr style=\"display: none\"><td><i><div class=\"dni-plaintext\"><pre>4</pre></div></i></td><td>Total Allocated MB</td><td>108,721.400</td><td>108,721.400</td><td>0.000</td><td>0.000</td></tr><tr style=\"display: none\"><td><i><div class=\"dni-plaintext\"><pre>5</pre></div></i></td><td>Max Size Peak MB</td><td>235.653</td><td>235.653</td><td>0.000</td><td>0.000</td></tr><tr style=\"display: none\"><td><i><div class=\"dni-plaintext\"><pre>6</pre></div></i></td><td>GC Count</td><td>493.000</td><td>493.000</td><td>0.000</td><td>0.000</td></tr><tr style=\"display: none\"><td><i><div class=\"dni-plaintext\"><pre>7</pre></div></i></td><td>Heap Count</td><td>18.000</td><td>18.000</td><td>0.000</td><td>0.000</td></tr><tr style=\"display: none\"><td><i><div class=\"dni-plaintext\"><pre>8</pre></div></i></td><td>Gen0 Count</td><td>485.000</td><td>485.000</td><td>0.000</td><td>0.000</td></tr><tr style=\"display: none\"><td><i><div class=\"dni-plaintext\"><pre>9</pre></div></i></td><td>Gen1 Count</td><td>8.000</td><td>8.000</td><td>0.000</td><td>0.000</td></tr><tr style=\"display: none\"><td><i><div class=\"dni-plaintext\"><pre>10</pre></div></i></td><td>Ephemeral Count</td><td>493.000</td><td>493.000</td><td>0.000</td><td>0.000</td></tr><tr style=\"display: none\"><td><i><div class=\"dni-plaintext\"><pre>11</pre></div></i></td><td>Gen2 Blocking Count</td><td>0.000</td><td>0.000</td><td>0.000</td><td>NaN</td></tr><tr style=\"display: none\"><td><i><div class=\"dni-plaintext\"><pre>12</pre></div></i></td><td>BGC Count</td><td>0.000</td><td>0.000</td><td>0.000</td><td>NaN</td></tr><tr style=\"display: none\"><td><i><div class=\"dni-plaintext\"><pre>13</pre></div></i></td><td>Gen0 Total Pause Time MSec</td><td>500.277</td><td>500.277</td><td>0.000</td><td>0.000</td></tr><tr style=\"display: none\"><td><i><div class=\"dni-plaintext\"><pre>14</pre></div></i></td><td>Gen1 Total Pause Time MSec</td><td>4.033</td><td>4.033</td><td>0.000</td><td>0.000</td></tr><tr style=\"display: none\"><td><i><div class=\"dni-plaintext\"><pre>15</pre></div></i></td><td>Ephemeral Total Pause Time MSec</td><td>504.310</td><td>504.310</td><td>0.000</td><td>0.000</td></tr><tr style=\"display: none\"><td><i><div class=\"dni-plaintext\"><pre>16</pre></div></i></td><td>Blocking Gen2 Total Pause Time MSec</td><td>0.000</td><td>0.000</td><td>0.000</td><td>NaN</td></tr><tr style=\"display: none\"><td><i><div class=\"dni-plaintext\"><pre>17</pre></div></i></td><td>BGC Total Pause Time MSec</td><td>0.000</td><td>0.000</td><td>0.000</td><td>NaN</td></tr><tr style=\"display: none\"><td><i><div class=\"dni-plaintext\"><pre>18</pre></div></i></td><td>GC Pause Time %</td><td>7.083</td><td>7.083</td><td>0.000</td><td>0.000</td></tr><tr style=\"display: none\"><td><i><div class=\"dni-plaintext\"><pre>19</pre></div></i></td><td>Avg. Gen0 Pause Time (ms)</td><td>1.031</td><td>1.031</td><td>0.000</td><td>0.000</td></tr><tr style=\"display: none\"><td><i><div class=\"dni-plaintext\"><pre>20</pre></div></i></td><td>Avg. Gen1 Pause Time (ms)</td><td>0.504</td><td>0.504</td><td>0.000</td><td>0.000</td></tr><tr style=\"display: none\"><td><i><div class=\"dni-plaintext\"><pre>21</pre></div></i></td><td>Avg. Gen0 Promoted (mb)</td><td>0.063</td><td>0.063</td><td>0.000</td><td>0.000</td></tr><tr style=\"display: none\"><td><i><div class=\"dni-plaintext\"><pre>22</pre></div></i></td><td>Avg. Gen1 Promoted (mb)</td><td>0.067</td><td>0.067</td><td>0.000</td><td>0.000</td></tr><tr style=\"display: none\"><td><i><div class=\"dni-plaintext\"><pre>23</pre></div></i></td><td>Avg. Gen0 Speed (mb/ms)</td><td>0.061</td><td>0.061</td><td>0.000</td><td>0.000</td></tr><tr style=\"display: none\"><td><i><div class=\"dni-plaintext\"><pre>24</pre></div></i></td><td>Avg. Gen1 Speed (mb/ms)</td><td>0.133</td><td>0.133</td><td>0.000</td><td>0.000</td></tr><tr style=\"display: none\"><td><i><div class=\"dni-plaintext\"><pre>25</pre></div></i></td><td>Avg. Gen0 Promoted (mb) / heap</td><td>0.004</td><td>0.004</td><td>0.000</td><td>0.000</td></tr><tr style=\"display: none\"><td><i><div class=\"dni-plaintext\"><pre>26</pre></div></i></td><td>Avg. Gen1 Promoted (mb) / heap</td><td>0.004</td><td>0.004</td><td>0.000</td><td>0.000</td></tr><tr style=\"display: none\"><td><i><div class=\"dni-plaintext\"><pre>27</pre></div></i></td><td>Avg. Gen0 Speed (mb/ms) / heap</td><td>0.003</td><td>0.003</td><td>0.000</td><td>0.000</td></tr><tr style=\"display: none\"><td><i><div class=\"dni-plaintext\"><pre>28</pre></div></i></td><td>Avg. Gen1 Speed (mb/ms) / heap</td><td>0.007</td><td>0.007</td><td>0.000</td><td>0.000</td></tr></tbody><tfoot><tr><td colspan=\"6\" style=\"text-align: center;\"><button style=\"margin: 2px;\" onclick=\"var allRows = document.querySelectorAll(&#39;#table_638211304383838340 tbody tr:nth-child(n)&#39;); for (let i = 0; i &lt; allRows.length; i++) { allRows[i].style.display=&#39;none&#39;; } document.querySelector(&#39;#page_638211304383838340&#39;).innerHTML = 1; var page = parseInt(document.querySelector(&#39;#page_638211304383838340&#39;).innerHTML) - 1; var pageRows = document.querySelectorAll(`#table_638211304383838340 tbody tr:nth-child(n + ${page * 25 + 1 })`); for (let j = 0; j &lt; 25; j++) { pageRows[j].style.display=&#39;table-row&#39;; } \">⏮</button><button style=\"margin: 2px;\" onclick=\"var allRows = document.querySelectorAll(&#39;#table_638211304383838340 tbody tr:nth-child(n)&#39;); for (let i = 0; i &lt; allRows.length; i++) { allRows[i].style.display=&#39;none&#39;; } var page = parseInt(document.querySelector(&#39;#page_638211304383838340&#39;).innerHTML) - 1; page = parseInt(page) + parseInt(-10); page = page &lt; 0 ? 0 : page; page = page > 1 ? 1 : page; document.querySelector(&#39;#page_638211304383838340&#39;).innerHTML = page + 1; var page = parseInt(document.querySelector(&#39;#page_638211304383838340&#39;).innerHTML) - 1; var pageRows = document.querySelectorAll(`#table_638211304383838340 tbody tr:nth-child(n + ${page * 25 + 1 })`); for (let j = 0; j &lt; 25; j++) { pageRows[j].style.display=&#39;table-row&#39;; } \">⏪</button><button style=\"margin: 2px;\" onclick=\"var allRows = document.querySelectorAll(&#39;#table_638211304383838340 tbody tr:nth-child(n)&#39;); for (let i = 0; i &lt; allRows.length; i++) { allRows[i].style.display=&#39;none&#39;; } var page = parseInt(document.querySelector(&#39;#page_638211304383838340&#39;).innerHTML) - 1; page = parseInt(page) + parseInt(-1); page = page &lt; 0 ? 0 : page; page = page > 1 ? 1 : page; document.querySelector(&#39;#page_638211304383838340&#39;).innerHTML = page + 1; var page = parseInt(document.querySelector(&#39;#page_638211304383838340&#39;).innerHTML) - 1; var pageRows = document.querySelectorAll(`#table_638211304383838340 tbody tr:nth-child(n + ${page * 25 + 1 })`); for (let j = 0; j &lt; 25; j++) { pageRows[j].style.display=&#39;table-row&#39;; } \">◀️</button><b style=\"margin: 2px;\">Page</b><b id=\"page_638211304383838340\" style=\"margin: 2px;\">1</b><button style=\"margin: 2px;\" onclick=\"var allRows = document.querySelectorAll(&#39;#table_638211304383838340 tbody tr:nth-child(n)&#39;); for (let i = 0; i &lt; allRows.length; i++) { allRows[i].style.display=&#39;none&#39;; } var page = parseInt(document.querySelector(&#39;#page_638211304383838340&#39;).innerHTML) - 1; page = parseInt(page) + parseInt(1); page = page &lt; 0 ? 0 : page; page = page > 1 ? 1 : page; document.querySelector(&#39;#page_638211304383838340&#39;).innerHTML = page + 1; var page = parseInt(document.querySelector(&#39;#page_638211304383838340&#39;).innerHTML) - 1; var pageRows = document.querySelectorAll(`#table_638211304383838340 tbody tr:nth-child(n + ${page * 25 + 1 })`); for (let j = 0; j &lt; 25; j++) { pageRows[j].style.display=&#39;table-row&#39;; } \">▶️</button><button style=\"margin: 2px;\" onclick=\"var allRows = document.querySelectorAll(&#39;#table_638211304383838340 tbody tr:nth-child(n)&#39;); for (let i = 0; i &lt; allRows.length; i++) { allRows[i].style.display=&#39;none&#39;; } var page = parseInt(document.querySelector(&#39;#page_638211304383838340&#39;).innerHTML) - 1; page = parseInt(page) + parseInt(10); page = page &lt; 0 ? 0 : page; page = page > 1 ? 1 : page; document.querySelector(&#39;#page_638211304383838340&#39;).innerHTML = page + 1; var page = parseInt(document.querySelector(&#39;#page_638211304383838340&#39;).innerHTML) - 1; var pageRows = document.querySelectorAll(`#table_638211304383838340 tbody tr:nth-child(n + ${page * 25 + 1 })`); for (let j = 0; j &lt; 25; j++) { pageRows[j].style.display=&#39;table-row&#39;; } \">⏩</button><button style=\"margin: 2px;\" onclick=\"var allRows = document.querySelectorAll(&#39;#table_638211304383838340 tbody tr:nth-child(n)&#39;); for (let i = 0; i &lt; allRows.length; i++) { allRows[i].style.display=&#39;none&#39;; } document.querySelector(&#39;#page_638211304383838340&#39;).innerHTML = 2; var page = parseInt(document.querySelector(&#39;#page_638211304383838340&#39;).innerHTML) - 1; var pageRows = document.querySelectorAll(`#table_638211304383838340 tbody tr:nth-child(n + ${page * 25 + 1 })`); for (let j = 0; j &lt; 25; j++) { pageRows[j].style.display=&#39;table-row&#39;; } \">⏭️</button></td></tr></tfoot></table><style>\r\n",
       ".dni-code-hint {\r\n",
       "    font-style: italic;\r\n",
       "    overflow: hidden;\r\n",
       "    white-space: nowrap;\r\n",
       "}\r\n",
       ".dni-treeview {\r\n",
       "    white-space: nowrap;\r\n",
       "}\r\n",
       ".dni-treeview td {\r\n",
       "    vertical-align: top;\r\n",
       "    text-align: start;\r\n",
       "}\r\n",
       "details.dni-treeview {\r\n",
       "    padding-left: 1em;\r\n",
       "}\r\n",
       "table td {\r\n",
       "    text-align: start;\r\n",
       "}\r\n",
       "table tr { \r\n",
       "    vertical-align: top; \r\n",
       "    margin: 0em 0px;\r\n",
       "}\r\n",
       "table tr td pre \r\n",
       "{ \r\n",
       "    vertical-align: top !important; \r\n",
       "    margin: 0em 0px !important;\r\n",
       "} \r\n",
       "table th {\r\n",
       "    text-align: start;\r\n",
       "}\r\n",
       "</style><script>var page = parseInt(document.querySelector('#page_638211304383838340').innerHTML) - 1; var pageRows = document.querySelectorAll(`#table_638211304383838340 tbody tr:nth-child(n + ${page * 25 + 1 })`); for (let j = 0; j < 25; j++) { pageRows[j].style.display='table-row'; } </script>"
      ]
     },
     "metadata": {},
     "output_type": "display_data"
    }
   ],
   "source": [
    "baselineAnalyzer.GetProcessGCData(\"corerun\").Single().Compare(new[] { comparandAnalyzer.GetProcessGCData(\"corerun\").Single() })"
   ]
  },
  {
   "attachments": {},
   "cell_type": "markdown",
   "metadata": {},
   "source": [
    "## CPU Analysis"
   ]
  },
  {
   "attachments": {},
   "cell_type": "markdown",
   "metadata": {},
   "source": [
    "### Creating the CPU Analysis"
   ]
  },
  {
   "cell_type": "code",
   "execution_count": 13,
   "metadata": {
    "dotnet_interactive": {
     "language": "csharp"
    },
    "polyglot_notebook": {
     "kernelName": "csharp"
    },
    "vscode": {
     "languageId": "polyglot-notebook"
    }
   },
   "outputs": [],
   "source": [
    "baselineAnalyzer.AddCPUAnalysis(yamlPath: @\"C:\\performance\\src\\benchmarks\\gc\\GC.Infrastructure\\GC.Analysis.API\\CPUAnalysis\\DefaultMethods.yaml\", symbolPath: @\"C:\\CoreRuns\\EmitEvent_Core_Root\\PDB\")"
   ]
  },
  {
   "cell_type": "code",
   "execution_count": 11,
   "metadata": {
    "dotnet_interactive": {
     "language": "csharp"
    },
    "vscode": {
     "languageId": "polyglot-notebook"
    }
   },
   "outputs": [],
   "source": [
    "comparandAnalyzer.AddCPUAnalysis(yamlPath: @\"C:\\performance\\src\\benchmarks\\gc\\GC.Infrastructure\\GC.Analysis.API\\CPUAnalysis\\DefaultMethods.yaml\", symbolPath: @\"C:\\CoreRuns\\EmitEvent_Core_Root\\PDB\")"
   ]
  },
  {
   "cell_type": "code",
   "execution_count": 17,
   "metadata": {
    "dotnet_interactive": {
     "language": "csharp"
    },
    "vscode": {
     "languageId": "polyglot-notebook"
    }
   },
   "outputs": [],
   "source": [
    "CPUProcessData baselineCPUData  = baselineAnalyzer.CPUAnalyzer.GetCPUDataForProcessName(\"corerun\").Single();\n",
    "CPUProcessData comparandCPUData = comparandAnalyzer.CPUAnalyzer.GetCPUDataForProcessName(\"corerun\").Single();"
   ]
  },
  {
   "attachments": {},
   "cell_type": "markdown",
   "metadata": {},
   "source": [
    "### Summarization"
   ]
  },
  {
   "attachments": {},
   "cell_type": "markdown",
   "metadata": {},
   "source": [
    "#### Major GC Phase Summarization"
   ]
  },
  {
   "cell_type": "code",
   "execution_count": 21,
   "metadata": {
    "dotnet_interactive": {
     "language": "csharp"
    },
    "vscode": {
     "languageId": "polyglot-notebook"
    }
   },
   "outputs": [
    {
     "data": {
      "text/html": [
       "<table id=\"table_638211307592455054\"><thead><tr><th><i>index</i></th><th>Phases</th><th>Inclusive Count</th><th>%</th></tr></thead><tbody><tr><td><i><div class=\"dni-plaintext\"><pre>0</pre></div></i></td><td>gc_heap::mark_phase</td><td><div class=\"dni-plaintext\"><pre>1662</pre></div></td><td><div class=\"dni-plaintext\"><pre>66.35</pre></div></td></tr><tr><td><i><div class=\"dni-plaintext\"><pre>1</pre></div></i></td><td>gc_heap::plan_phase</td><td><div class=\"dni-plaintext\"><pre>367</pre></div></td><td><div class=\"dni-plaintext\"><pre>14.65</pre></div></td></tr><tr><td><i><div class=\"dni-plaintext\"><pre>2</pre></div></i></td><td>gc_heap::relocate_phase</td><td><div class=\"dni-plaintext\"><pre>224</pre></div></td><td><div class=\"dni-plaintext\"><pre>8.94</pre></div></td></tr><tr><td><i><div class=\"dni-plaintext\"><pre>3</pre></div></i></td><td>gc_heap::compact_phase</td><td><div class=\"dni-plaintext\"><pre>252</pre></div></td><td><div class=\"dni-plaintext\"><pre>10.06</pre></div></td></tr><tr><td><i><div class=\"dni-plaintext\"><pre>4</pre></div></i></td><td>gc_heap::make_free_lists</td><td><div class=\"dni-plaintext\"><pre>0</pre></div></td><td><div class=\"dni-plaintext\"><pre>0</pre></div></td></tr><tr><td><i><div class=\"dni-plaintext\"><pre>5</pre></div></i></td><td>gc_heap::background_mark_phase</td><td><div class=\"dni-plaintext\"><pre>0</pre></div></td><td><div class=\"dni-plaintext\"><pre>0</pre></div></td></tr><tr><td><i><div class=\"dni-plaintext\"><pre>6</pre></div></i></td><td>gc_heap::background_sweep</td><td><div class=\"dni-plaintext\"><pre>0</pre></div></td><td><div class=\"dni-plaintext\"><pre>0</pre></div></td></tr></tbody></table><style>\r\n",
       ".dni-code-hint {\r\n",
       "    font-style: italic;\r\n",
       "    overflow: hidden;\r\n",
       "    white-space: nowrap;\r\n",
       "}\r\n",
       ".dni-treeview {\r\n",
       "    white-space: nowrap;\r\n",
       "}\r\n",
       ".dni-treeview td {\r\n",
       "    vertical-align: top;\r\n",
       "    text-align: start;\r\n",
       "}\r\n",
       "details.dni-treeview {\r\n",
       "    padding-left: 1em;\r\n",
       "}\r\n",
       "table td {\r\n",
       "    text-align: start;\r\n",
       "}\r\n",
       "table tr { \r\n",
       "    vertical-align: top; \r\n",
       "    margin: 0em 0px;\r\n",
       "}\r\n",
       "table tr td pre \r\n",
       "{ \r\n",
       "    vertical-align: top !important; \r\n",
       "    margin: 0em 0px !important;\r\n",
       "} \r\n",
       "table th {\r\n",
       "    text-align: start;\r\n",
       "}\r\n",
       "</style>"
      ]
     },
     "metadata": {},
     "output_type": "display_data"
    }
   ],
   "source": [
    "baselineCPUData.GetPerPhaseSummary()"
   ]
  },
  {
   "cell_type": "code",
   "execution_count": 24,
   "metadata": {
    "dotnet_interactive": {
     "language": "csharp"
    },
    "vscode": {
     "languageId": "polyglot-notebook"
    }
   },
   "outputs": [
    {
     "data": {
      "text/html": [
       "<table id=\"table_638211307917174159\"><thead><tr><th><i>index</i></th><th>Phases</th><th>Inclusive Count - Baseline</th><th>%</th><th>Inclusive Count: 20844</th><th>%: 20844</th><th>Diff: 20844</th><th>Diff %: 20844</th></tr></thead><tbody><tr><td><i><div class=\"dni-plaintext\"><pre>0</pre></div></i></td><td>gc_heap::mark_phase</td><td><div class=\"dni-plaintext\"><pre>1662</pre></div></td><td><div class=\"dni-plaintext\"><pre>66.35</pre></div></td><td><div class=\"dni-plaintext\"><pre>1662</pre></div></td><td><div class=\"dni-plaintext\"><pre>81.91</pre></div></td><td><div class=\"dni-plaintext\"><pre>0</pre></div></td><td><div class=\"dni-plaintext\"><pre>15.56</pre></div></td></tr><tr><td><i><div class=\"dni-plaintext\"><pre>1</pre></div></i></td><td>gc_heap::plan_phase</td><td><div class=\"dni-plaintext\"><pre>367</pre></div></td><td><div class=\"dni-plaintext\"><pre>14.65</pre></div></td><td><div class=\"dni-plaintext\"><pre>367</pre></div></td><td><div class=\"dni-plaintext\"><pre>18.09</pre></div></td><td><div class=\"dni-plaintext\"><pre>0</pre></div></td><td><div class=\"dni-plaintext\"><pre>3.44</pre></div></td></tr><tr><td><i><div class=\"dni-plaintext\"><pre>2</pre></div></i></td><td>gc_heap::relocate_phase</td><td><div class=\"dni-plaintext\"><pre>224</pre></div></td><td><div class=\"dni-plaintext\"><pre>8.94</pre></div></td><td><div class=\"dni-plaintext\"><pre>224</pre></div></td><td><div class=\"dni-plaintext\"><pre>11.04</pre></div></td><td><div class=\"dni-plaintext\"><pre>0</pre></div></td><td><div class=\"dni-plaintext\"><pre>2.1</pre></div></td></tr><tr><td><i><div class=\"dni-plaintext\"><pre>3</pre></div></i></td><td>gc_heap::compact_phase</td><td><div class=\"dni-plaintext\"><pre>252</pre></div></td><td><div class=\"dni-plaintext\"><pre>10.06</pre></div></td><td><div class=\"dni-plaintext\"><pre>252</pre></div></td><td><div class=\"dni-plaintext\"><pre>12.42</pre></div></td><td><div class=\"dni-plaintext\"><pre>0</pre></div></td><td><div class=\"dni-plaintext\"><pre>2.36</pre></div></td></tr><tr><td><i><div class=\"dni-plaintext\"><pre>4</pre></div></i></td><td>gc_heap::make_free_lists</td><td><div class=\"dni-plaintext\"><pre>0</pre></div></td><td><div class=\"dni-plaintext\"><pre>0</pre></div></td><td><div class=\"dni-plaintext\"><pre>0</pre></div></td><td><div class=\"dni-plaintext\"><pre>0</pre></div></td><td><div class=\"dni-plaintext\"><pre>0</pre></div></td><td><div class=\"dni-plaintext\"><pre>0</pre></div></td></tr><tr><td><i><div class=\"dni-plaintext\"><pre>5</pre></div></i></td><td>gc_heap::background_mark_phase</td><td><div class=\"dni-plaintext\"><pre>0</pre></div></td><td><div class=\"dni-plaintext\"><pre>0</pre></div></td><td><div class=\"dni-plaintext\"><pre>0</pre></div></td><td><div class=\"dni-plaintext\"><pre>0</pre></div></td><td><div class=\"dni-plaintext\"><pre>0</pre></div></td><td><div class=\"dni-plaintext\"><pre>0</pre></div></td></tr><tr><td><i><div class=\"dni-plaintext\"><pre>6</pre></div></i></td><td>gc_heap::background_sweep</td><td><div class=\"dni-plaintext\"><pre>0</pre></div></td><td><div class=\"dni-plaintext\"><pre>0</pre></div></td><td><div class=\"dni-plaintext\"><pre>0</pre></div></td><td><div class=\"dni-plaintext\"><pre>0</pre></div></td><td><div class=\"dni-plaintext\"><pre>0</pre></div></td><td><div class=\"dni-plaintext\"><pre>0</pre></div></td></tr></tbody></table><style>\r\n",
       ".dni-code-hint {\r\n",
       "    font-style: italic;\r\n",
       "    overflow: hidden;\r\n",
       "    white-space: nowrap;\r\n",
       "}\r\n",
       ".dni-treeview {\r\n",
       "    white-space: nowrap;\r\n",
       "}\r\n",
       ".dni-treeview td {\r\n",
       "    vertical-align: top;\r\n",
       "    text-align: start;\r\n",
       "}\r\n",
       "details.dni-treeview {\r\n",
       "    padding-left: 1em;\r\n",
       "}\r\n",
       "table td {\r\n",
       "    text-align: start;\r\n",
       "}\r\n",
       "table tr { \r\n",
       "    vertical-align: top; \r\n",
       "    margin: 0em 0px;\r\n",
       "}\r\n",
       "table tr td pre \r\n",
       "{ \r\n",
       "    vertical-align: top !important; \r\n",
       "    margin: 0em 0px !important;\r\n",
       "} \r\n",
       "table th {\r\n",
       "    text-align: start;\r\n",
       "}\r\n",
       "</style>"
      ]
     },
     "metadata": {},
     "output_type": "display_data"
    }
   ],
   "source": [
    "baselineCPUData.Compare(new [] { comparandCPUData })"
   ]
  },
  {
   "attachments": {},
   "cell_type": "markdown",
   "metadata": {},
   "source": [
    "#### Summarization By GC Type and Generation"
   ]
  },
  {
   "cell_type": "code",
   "execution_count": 26,
   "metadata": {
    "dotnet_interactive": {
     "language": "csharp"
    },
    "vscode": {
     "languageId": "polyglot-notebook"
    }
   },
   "outputs": [
    {
     "data": {
      "text/html": [
       "<table id=\"table_638211308098530725\"><thead><tr><th><i>index</i></th><th> </th><th>Gen0 Count</th><th>Gen1 Count</th><th>BGC Count</th><th>Blocking Gen2 Count</th></tr></thead><tbody><tr><td><i><div class=\"dni-plaintext\"><pre>0</pre></div></i></td><td>gc_heap::mark_phase</td><td>1625</td><td>27</td><td>0</td><td>0</td></tr><tr><td><i><div class=\"dni-plaintext\"><pre>1</pre></div></i></td><td>gc_heap::plan_phase</td><td>819</td><td>19</td><td>0</td><td>0</td></tr><tr><td><i><div class=\"dni-plaintext\"><pre>2</pre></div></i></td><td>gc_heap::relocate_phase</td><td>213</td><td>9</td><td>0</td><td>0</td></tr><tr><td><i><div class=\"dni-plaintext\"><pre>3</pre></div></i></td><td>gc_heap::compact_phase</td><td>247</td><td>3</td><td>0</td><td>0</td></tr></tbody></table><style>\r\n",
       ".dni-code-hint {\r\n",
       "    font-style: italic;\r\n",
       "    overflow: hidden;\r\n",
       "    white-space: nowrap;\r\n",
       "}\r\n",
       ".dni-treeview {\r\n",
       "    white-space: nowrap;\r\n",
       "}\r\n",
       ".dni-treeview td {\r\n",
       "    vertical-align: top;\r\n",
       "    text-align: start;\r\n",
       "}\r\n",
       "details.dni-treeview {\r\n",
       "    padding-left: 1em;\r\n",
       "}\r\n",
       "table td {\r\n",
       "    text-align: start;\r\n",
       "}\r\n",
       "table tr { \r\n",
       "    vertical-align: top; \r\n",
       "    margin: 0em 0px;\r\n",
       "}\r\n",
       "table tr td pre \r\n",
       "{ \r\n",
       "    vertical-align: top !important; \r\n",
       "    margin: 0em 0px !important;\r\n",
       "} \r\n",
       "table th {\r\n",
       "    text-align: start;\r\n",
       "}\r\n",
       "</style>"
      ]
     },
     "metadata": {},
     "output_type": "display_data"
    }
   ],
   "source": [
    "comparandCPUData.GetPerGenerationSummary() // TODO: Check where the background phases went. BGC count - attribution."
   ]
  },
  {
   "attachments": {},
   "cell_type": "markdown",
   "metadata": {},
   "source": [
    "#### Aux Methods"
   ]
  },
  {
   "cell_type": "code",
   "execution_count": 28,
   "metadata": {
    "dotnet_interactive": {
     "language": "csharp"
    },
    "vscode": {
     "languageId": "polyglot-notebook"
    }
   },
   "outputs": [
    {
     "data": {
      "text/html": [
       "<table><thead><tr><th><i>index</i></th><th>value</th></tr></thead><tbody><tr><td>0</td><td><details class=\"dni-treeview\"><summary><span class=\"dni-code-hint\"><code>{ Number = 1, Count = 7 }</code></span></summary><div><table><thead><tr></tr></thead><tbody><tr><td>Number</td><td><div class=\"dni-plaintext\"><pre>1</pre></div></td></tr><tr><td>Count</td><td><div class=\"dni-plaintext\"><pre>7</pre></div></td></tr></tbody></table></div></details></td></tr><tr><td>1</td><td><details class=\"dni-treeview\"><summary><span class=\"dni-code-hint\"><code>{ Number = 2, Count = 3 }</code></span></summary><div><table><thead><tr></tr></thead><tbody><tr><td>Number</td><td><div class=\"dni-plaintext\"><pre>2</pre></div></td></tr><tr><td>Count</td><td><div class=\"dni-plaintext\"><pre>3</pre></div></td></tr></tbody></table></div></details></td></tr><tr><td>2</td><td><details class=\"dni-treeview\"><summary><span class=\"dni-code-hint\"><code>{ Number = 3, Count = 5 }</code></span></summary><div><table><thead><tr></tr></thead><tbody><tr><td>Number</td><td><div class=\"dni-plaintext\"><pre>3</pre></div></td></tr><tr><td>Count</td><td><div class=\"dni-plaintext\"><pre>5</pre></div></td></tr></tbody></table></div></details></td></tr><tr><td>3</td><td><details class=\"dni-treeview\"><summary><span class=\"dni-code-hint\"><code>{ Number = 4, Count = 5 }</code></span></summary><div><table><thead><tr></tr></thead><tbody><tr><td>Number</td><td><div class=\"dni-plaintext\"><pre>4</pre></div></td></tr><tr><td>Count</td><td><div class=\"dni-plaintext\"><pre>5</pre></div></td></tr></tbody></table></div></details></td></tr><tr><td>4</td><td><details class=\"dni-treeview\"><summary><span class=\"dni-code-hint\"><code>{ Number = 5, Count = 0 }</code></span></summary><div><table><thead><tr></tr></thead><tbody><tr><td>Number</td><td><div class=\"dni-plaintext\"><pre>5</pre></div></td></tr><tr><td>Count</td><td><div class=\"dni-plaintext\"><pre>0</pre></div></td></tr></tbody></table></div></details></td></tr><tr><td>5</td><td><details class=\"dni-treeview\"><summary><span class=\"dni-code-hint\"><code>{ Number = 6, Count = 5 }</code></span></summary><div><table><thead><tr></tr></thead><tbody><tr><td>Number</td><td><div class=\"dni-plaintext\"><pre>6</pre></div></td></tr><tr><td>Count</td><td><div class=\"dni-plaintext\"><pre>5</pre></div></td></tr></tbody></table></div></details></td></tr><tr><td>6</td><td><details class=\"dni-treeview\"><summary><span class=\"dni-code-hint\"><code>{ Number = 7, Count = 2 }</code></span></summary><div><table><thead><tr></tr></thead><tbody><tr><td>Number</td><td><div class=\"dni-plaintext\"><pre>7</pre></div></td></tr><tr><td>Count</td><td><div class=\"dni-plaintext\"><pre>2</pre></div></td></tr></tbody></table></div></details></td></tr><tr><td>7</td><td><details class=\"dni-treeview\"><summary><span class=\"dni-code-hint\"><code>{ Number = 8, Count = 4 }</code></span></summary><div><table><thead><tr></tr></thead><tbody><tr><td>Number</td><td><div class=\"dni-plaintext\"><pre>8</pre></div></td></tr><tr><td>Count</td><td><div class=\"dni-plaintext\"><pre>4</pre></div></td></tr></tbody></table></div></details></td></tr><tr><td>8</td><td><details class=\"dni-treeview\"><summary><span class=\"dni-code-hint\"><code>{ Number = 9, Count = 1 }</code></span></summary><div><table><thead><tr></tr></thead><tbody><tr><td>Number</td><td><div class=\"dni-plaintext\"><pre>9</pre></div></td></tr><tr><td>Count</td><td><div class=\"dni-plaintext\"><pre>1</pre></div></td></tr></tbody></table></div></details></td></tr><tr><td>9</td><td><details class=\"dni-treeview\"><summary><span class=\"dni-code-hint\"><code>{ Number = 10, Count = 10 }</code></span></summary><div><table><thead><tr></tr></thead><tbody><tr><td>Number</td><td><div class=\"dni-plaintext\"><pre>10</pre></div></td></tr><tr><td>Count</td><td><div class=\"dni-plaintext\"><pre>10</pre></div></td></tr></tbody></table></div></details></td></tr><tr><td>10</td><td><details class=\"dni-treeview\"><summary><span class=\"dni-code-hint\"><code>{ Number = 11, Count = 2 }</code></span></summary><div><table><thead><tr></tr></thead><tbody><tr><td>Number</td><td><div class=\"dni-plaintext\"><pre>11</pre></div></td></tr><tr><td>Count</td><td><div class=\"dni-plaintext\"><pre>2</pre></div></td></tr></tbody></table></div></details></td></tr><tr><td>11</td><td><details class=\"dni-treeview\"><summary><span class=\"dni-code-hint\"><code>{ Number = 12, Count = 9 }</code></span></summary><div><table><thead><tr></tr></thead><tbody><tr><td>Number</td><td><div class=\"dni-plaintext\"><pre>12</pre></div></td></tr><tr><td>Count</td><td><div class=\"dni-plaintext\"><pre>9</pre></div></td></tr></tbody></table></div></details></td></tr><tr><td>12</td><td><details class=\"dni-treeview\"><summary><span class=\"dni-code-hint\"><code>{ Number = 13, Count = 2 }</code></span></summary><div><table><thead><tr></tr></thead><tbody><tr><td>Number</td><td><div class=\"dni-plaintext\"><pre>13</pre></div></td></tr><tr><td>Count</td><td><div class=\"dni-plaintext\"><pre>2</pre></div></td></tr></tbody></table></div></details></td></tr><tr><td>13</td><td><details class=\"dni-treeview\"><summary><span class=\"dni-code-hint\"><code>{ Number = 14, Count = 3 }</code></span></summary><div><table><thead><tr></tr></thead><tbody><tr><td>Number</td><td><div class=\"dni-plaintext\"><pre>14</pre></div></td></tr><tr><td>Count</td><td><div class=\"dni-plaintext\"><pre>3</pre></div></td></tr></tbody></table></div></details></td></tr><tr><td>14</td><td><details class=\"dni-treeview\"><summary><span class=\"dni-code-hint\"><code>{ Number = 15, Count = 2 }</code></span></summary><div><table><thead><tr></tr></thead><tbody><tr><td>Number</td><td><div class=\"dni-plaintext\"><pre>15</pre></div></td></tr><tr><td>Count</td><td><div class=\"dni-plaintext\"><pre>2</pre></div></td></tr></tbody></table></div></details></td></tr><tr><td>15</td><td><details class=\"dni-treeview\"><summary><span class=\"dni-code-hint\"><code>{ Number = 16, Count = 7 }</code></span></summary><div><table><thead><tr></tr></thead><tbody><tr><td>Number</td><td><div class=\"dni-plaintext\"><pre>16</pre></div></td></tr><tr><td>Count</td><td><div class=\"dni-plaintext\"><pre>7</pre></div></td></tr></tbody></table></div></details></td></tr><tr><td>16</td><td><details class=\"dni-treeview\"><summary><span class=\"dni-code-hint\"><code>{ Number = 17, Count = 1 }</code></span></summary><div><table><thead><tr></tr></thead><tbody><tr><td>Number</td><td><div class=\"dni-plaintext\"><pre>17</pre></div></td></tr><tr><td>Count</td><td><div class=\"dni-plaintext\"><pre>1</pre></div></td></tr></tbody></table></div></details></td></tr><tr><td>17</td><td><details class=\"dni-treeview\"><summary><span class=\"dni-code-hint\"><code>{ Number = 18, Count = 1 }</code></span></summary><div><table><thead><tr></tr></thead><tbody><tr><td>Number</td><td><div class=\"dni-plaintext\"><pre>18</pre></div></td></tr><tr><td>Count</td><td><div class=\"dni-plaintext\"><pre>1</pre></div></td></tr></tbody></table></div></details></td></tr><tr><td>18</td><td><details class=\"dni-treeview\"><summary><span class=\"dni-code-hint\"><code>{ Number = 19, Count = 1 }</code></span></summary><div><table><thead><tr></tr></thead><tbody><tr><td>Number</td><td><div class=\"dni-plaintext\"><pre>19</pre></div></td></tr><tr><td>Count</td><td><div class=\"dni-plaintext\"><pre>1</pre></div></td></tr></tbody></table></div></details></td></tr><tr><td>19</td><td><details class=\"dni-treeview\"><summary><span class=\"dni-code-hint\"><code>{ Number = 20, Count = 1 }</code></span></summary><div><table><thead><tr></tr></thead><tbody><tr><td>Number</td><td><div class=\"dni-plaintext\"><pre>20</pre></div></td></tr><tr><td>Count</td><td><div class=\"dni-plaintext\"><pre>1</pre></div></td></tr></tbody></table></div></details></td></tr><tr><td colspan=\"2\"><i>(473 more)</i></td></tr></tbody></table><style>\r\n",
       ".dni-code-hint {\r\n",
       "    font-style: italic;\r\n",
       "    overflow: hidden;\r\n",
       "    white-space: nowrap;\r\n",
       "}\r\n",
       ".dni-treeview {\r\n",
       "    white-space: nowrap;\r\n",
       "}\r\n",
       ".dni-treeview td {\r\n",
       "    vertical-align: top;\r\n",
       "    text-align: start;\r\n",
       "}\r\n",
       "details.dni-treeview {\r\n",
       "    padding-left: 1em;\r\n",
       "}\r\n",
       "table td {\r\n",
       "    text-align: start;\r\n",
       "}\r\n",
       "table tr { \r\n",
       "    vertical-align: top; \r\n",
       "    margin: 0em 0px;\r\n",
       "}\r\n",
       "table tr td pre \r\n",
       "{ \r\n",
       "    vertical-align: top !important; \r\n",
       "    margin: 0em 0px !important;\r\n",
       "} \r\n",
       "table th {\r\n",
       "    text-align: start;\r\n",
       "}\r\n",
       "</style>"
      ]
     },
     "metadata": {},
     "output_type": "display_data"
    }
   ],
   "source": [
    "baselineCPUData.GetPerGCMethodCost(\"gc_heap::mark_phase\").Select(gc => new { Number = gc.GC.Number, Count = gc.Count })"
   ]
  },
  {
   "cell_type": "code",
   "execution_count": 30,
   "metadata": {
    "dotnet_interactive": {
     "language": "csharp"
    },
    "vscode": {
     "languageId": "polyglot-notebook"
    }
   },
   "outputs": [
    {
     "data": {
      "text/html": [
       "<table><thead><tr><th><i>index</i></th><th>value</th></tr></thead><tbody><tr><td>0</td><td><details class=\"dni-treeview\"><summary><span class=\"dni-code-hint\"><code>{ Number = 52, Count = 0 }</code></span></summary><div><table><thead><tr></tr></thead><tbody><tr><td>Number</td><td><div class=\"dni-plaintext\"><pre>52</pre></div></td></tr><tr><td>Count</td><td><div class=\"dni-plaintext\"><pre>0</pre></div></td></tr></tbody></table></div></details></td></tr><tr><td>1</td><td><details class=\"dni-treeview\"><summary><span class=\"dni-code-hint\"><code>{ Number = 102, Count = 1 }</code></span></summary><div><table><thead><tr></tr></thead><tbody><tr><td>Number</td><td><div class=\"dni-plaintext\"><pre>102</pre></div></td></tr><tr><td>Count</td><td><div class=\"dni-plaintext\"><pre>1</pre></div></td></tr></tbody></table></div></details></td></tr><tr><td>2</td><td><details class=\"dni-treeview\"><summary><span class=\"dni-code-hint\"><code>{ Number = 190, Count = 1 }</code></span></summary><div><table><thead><tr></tr></thead><tbody><tr><td>Number</td><td><div class=\"dni-plaintext\"><pre>190</pre></div></td></tr><tr><td>Count</td><td><div class=\"dni-plaintext\"><pre>1</pre></div></td></tr></tbody></table></div></details></td></tr><tr><td>3</td><td><details class=\"dni-treeview\"><summary><span class=\"dni-code-hint\"><code>{ Number = 193, Count = 0 }</code></span></summary><div><table><thead><tr></tr></thead><tbody><tr><td>Number</td><td><div class=\"dni-plaintext\"><pre>193</pre></div></td></tr><tr><td>Count</td><td><div class=\"dni-plaintext\"><pre>0</pre></div></td></tr></tbody></table></div></details></td></tr><tr><td>4</td><td><details class=\"dni-treeview\"><summary><span class=\"dni-code-hint\"><code>{ Number = 242, Count = 0 }</code></span></summary><div><table><thead><tr></tr></thead><tbody><tr><td>Number</td><td><div class=\"dni-plaintext\"><pre>242</pre></div></td></tr><tr><td>Count</td><td><div class=\"dni-plaintext\"><pre>0</pre></div></td></tr></tbody></table></div></details></td></tr><tr><td>5</td><td><details class=\"dni-treeview\"><summary><span class=\"dni-code-hint\"><code>{ Number = 247, Count = 0 }</code></span></summary><div><table><thead><tr></tr></thead><tbody><tr><td>Number</td><td><div class=\"dni-plaintext\"><pre>247</pre></div></td></tr><tr><td>Count</td><td><div class=\"dni-plaintext\"><pre>0</pre></div></td></tr></tbody></table></div></details></td></tr><tr><td>6</td><td><details class=\"dni-treeview\"><summary><span class=\"dni-code-hint\"><code>{ Number = 251, Count = 0 }</code></span></summary><div><table><thead><tr></tr></thead><tbody><tr><td>Number</td><td><div class=\"dni-plaintext\"><pre>251</pre></div></td></tr><tr><td>Count</td><td><div class=\"dni-plaintext\"><pre>0</pre></div></td></tr></tbody></table></div></details></td></tr><tr><td>7</td><td><details class=\"dni-treeview\"><summary><span class=\"dni-code-hint\"><code>{ Number = 253, Count = 1 }</code></span></summary><div><table><thead><tr></tr></thead><tbody><tr><td>Number</td><td><div class=\"dni-plaintext\"><pre>253</pre></div></td></tr><tr><td>Count</td><td><div class=\"dni-plaintext\"><pre>1</pre></div></td></tr></tbody></table></div></details></td></tr><tr><td>8</td><td><details class=\"dni-treeview\"><summary><span class=\"dni-code-hint\"><code>{ Number = 258, Count = 0 }</code></span></summary><div><table><thead><tr></tr></thead><tbody><tr><td>Number</td><td><div class=\"dni-plaintext\"><pre>258</pre></div></td></tr><tr><td>Count</td><td><div class=\"dni-plaintext\"><pre>0</pre></div></td></tr></tbody></table></div></details></td></tr><tr><td>9</td><td><details class=\"dni-treeview\"><summary><span class=\"dni-code-hint\"><code>{ Number = 261, Count = 0 }</code></span></summary><div><table><thead><tr></tr></thead><tbody><tr><td>Number</td><td><div class=\"dni-plaintext\"><pre>261</pre></div></td></tr><tr><td>Count</td><td><div class=\"dni-plaintext\"><pre>0</pre></div></td></tr></tbody></table></div></details></td></tr><tr><td>10</td><td><details class=\"dni-treeview\"><summary><span class=\"dni-code-hint\"><code>{ Number = 305, Count = 0 }</code></span></summary><div><table><thead><tr></tr></thead><tbody><tr><td>Number</td><td><div class=\"dni-plaintext\"><pre>305</pre></div></td></tr><tr><td>Count</td><td><div class=\"dni-plaintext\"><pre>0</pre></div></td></tr></tbody></table></div></details></td></tr><tr><td>11</td><td><details class=\"dni-treeview\"><summary><span class=\"dni-code-hint\"><code>{ Number = 332, Count = 1 }</code></span></summary><div><table><thead><tr></tr></thead><tbody><tr><td>Number</td><td><div class=\"dni-plaintext\"><pre>332</pre></div></td></tr><tr><td>Count</td><td><div class=\"dni-plaintext\"><pre>1</pre></div></td></tr></tbody></table></div></details></td></tr><tr><td>12</td><td><details class=\"dni-treeview\"><summary><span class=\"dni-code-hint\"><code>{ Number = 342, Count = 1 }</code></span></summary><div><table><thead><tr></tr></thead><tbody><tr><td>Number</td><td><div class=\"dni-plaintext\"><pre>342</pre></div></td></tr><tr><td>Count</td><td><div class=\"dni-plaintext\"><pre>1</pre></div></td></tr></tbody></table></div></details></td></tr><tr><td>13</td><td><details class=\"dni-treeview\"><summary><span class=\"dni-code-hint\"><code>{ Number = 347, Count = 1 }</code></span></summary><div><table><thead><tr></tr></thead><tbody><tr><td>Number</td><td><div class=\"dni-plaintext\"><pre>347</pre></div></td></tr><tr><td>Count</td><td><div class=\"dni-plaintext\"><pre>1</pre></div></td></tr></tbody></table></div></details></td></tr><tr><td>14</td><td><details class=\"dni-treeview\"><summary><span class=\"dni-code-hint\"><code>{ Number = 348, Count = 0 }</code></span></summary><div><table><thead><tr></tr></thead><tbody><tr><td>Number</td><td><div class=\"dni-plaintext\"><pre>348</pre></div></td></tr><tr><td>Count</td><td><div class=\"dni-plaintext\"><pre>0</pre></div></td></tr></tbody></table></div></details></td></tr><tr><td>15</td><td><details class=\"dni-treeview\"><summary><span class=\"dni-code-hint\"><code>{ Number = 383, Count = 0 }</code></span></summary><div><table><thead><tr></tr></thead><tbody><tr><td>Number</td><td><div class=\"dni-plaintext\"><pre>383</pre></div></td></tr><tr><td>Count</td><td><div class=\"dni-plaintext\"><pre>0</pre></div></td></tr></tbody></table></div></details></td></tr><tr><td>16</td><td><details class=\"dni-treeview\"><summary><span class=\"dni-code-hint\"><code>{ Number = 387, Count = 0 }</code></span></summary><div><table><thead><tr></tr></thead><tbody><tr><td>Number</td><td><div class=\"dni-plaintext\"><pre>387</pre></div></td></tr><tr><td>Count</td><td><div class=\"dni-plaintext\"><pre>0</pre></div></td></tr></tbody></table></div></details></td></tr><tr><td>17</td><td><details class=\"dni-treeview\"><summary><span class=\"dni-code-hint\"><code>{ Number = 397, Count = 1 }</code></span></summary><div><table><thead><tr></tr></thead><tbody><tr><td>Number</td><td><div class=\"dni-plaintext\"><pre>397</pre></div></td></tr><tr><td>Count</td><td><div class=\"dni-plaintext\"><pre>1</pre></div></td></tr></tbody></table></div></details></td></tr><tr><td>18</td><td><details class=\"dni-treeview\"><summary><span class=\"dni-code-hint\"><code>{ Number = 415, Count = 0 }</code></span></summary><div><table><thead><tr></tr></thead><tbody><tr><td>Number</td><td><div class=\"dni-plaintext\"><pre>415</pre></div></td></tr><tr><td>Count</td><td><div class=\"dni-plaintext\"><pre>0</pre></div></td></tr></tbody></table></div></details></td></tr><tr><td>19</td><td><details class=\"dni-treeview\"><summary><span class=\"dni-code-hint\"><code>{ Number = 424, Count = 0 }</code></span></summary><div><table><thead><tr></tr></thead><tbody><tr><td>Number</td><td><div class=\"dni-plaintext\"><pre>424</pre></div></td></tr><tr><td>Count</td><td><div class=\"dni-plaintext\"><pre>0</pre></div></td></tr></tbody></table></div></details></td></tr><tr><td colspan=\"2\"><i>(4 more)</i></td></tr></tbody></table><style>\r\n",
       ".dni-code-hint {\r\n",
       "    font-style: italic;\r\n",
       "    overflow: hidden;\r\n",
       "    white-space: nowrap;\r\n",
       "}\r\n",
       ".dni-treeview {\r\n",
       "    white-space: nowrap;\r\n",
       "}\r\n",
       ".dni-treeview td {\r\n",
       "    vertical-align: top;\r\n",
       "    text-align: start;\r\n",
       "}\r\n",
       "details.dni-treeview {\r\n",
       "    padding-left: 1em;\r\n",
       "}\r\n",
       "table td {\r\n",
       "    text-align: start;\r\n",
       "}\r\n",
       "table tr { \r\n",
       "    vertical-align: top; \r\n",
       "    margin: 0em 0px;\r\n",
       "}\r\n",
       "table tr td pre \r\n",
       "{ \r\n",
       "    vertical-align: top !important; \r\n",
       "    margin: 0em 0px !important;\r\n",
       "} \r\n",
       "table th {\r\n",
       "    text-align: start;\r\n",
       "}\r\n",
       "</style>"
      ]
     },
     "metadata": {},
     "output_type": "display_data"
    }
   ],
   "source": [
    "comparandCPUData.GetPerGCMethodCost(methodName: \"gc_heap::mark_through_cards_for_segments\", \n",
    "                                   caller: \"gc_heap::relocate_phase\").Select(gc => new { Number = gc.GC.Number, Count = gc.Count })"
   ]
  },
  {
   "attachments": {},
   "cell_type": "markdown",
   "metadata": {},
   "source": [
    "### Charting"
   ]
  },
  {
   "attachments": {},
   "cell_type": "markdown",
   "metadata": {},
   "source": [
    "#### Charting Counts For a Single GC Method"
   ]
  },
  {
   "attachments": {},
   "cell_type": "markdown",
   "metadata": {},
   "source": [
    "##### Charting Counts For a Single GC Method Using A Sorted Dictionary "
   ]
  },
  {
   "cell_type": "code",
   "execution_count": 31,
   "metadata": {
    "dotnet_interactive": {
     "language": "csharp"
    },
    "vscode": {
     "languageId": "polyglot-notebook"
    }
   },
   "outputs": [
    {
     "data": {
      "text/html": [
       "<!DOCTYPE html>\r\n",
       "<div style=\"width: 900px; height: 500px;\" id=\"d3f4401c-6756-4e9b-9604-4e9ec947ad8a\"></div><script type=\"text/javascript\">\r\n",
       "\n",
       "var renderPlotly = function() {\n",
       "    var xplotRequire = require.config({context:'xplot-3.0.1',paths:{plotly:'https://cdn.plot.ly/plotly-1.49.2.min'}}) || require;\n",
       "    xplotRequire(['plotly'], function(Plotly) { \r\n",
       "\n",
       "            var data = [{\"type\":\"scatter\",\"showlegend\":true,\"x\":[1,2,3,4,5,6,7,8,9,10,11,12,13,14,15,16,17,18,19,20,21,22,23,24,25,26,27,28,29,30,31,32,33,34,35,36,37,38,39,40,41,42,43,44,45,46,47,48,49,50,51,52,53,54,55,56,57,58,59,60,61,62,63,64,65,66,67,68,69,70,71,72,73,74,75,76,77,78,79,80,81,82,83,84,85,86,87,88,89,90,91,92,93,94,95,96,97,98,99,100,101,102,103,104,105,106,107,108,109,110,111,112,113,114,115,116,117,118,119,120,121,122,123,124,125,126,127,128,129,130,131,132,133,134,135,136,137,138,139,140,141,142,143,144,145,146,147,148,149,150,151,152,153,154,155,156,157,158,159,160,161,162,163,164,165,166,167,168,169,170,171,172,173,174,175,176,177,178,179,180,181,182,183,184,185,186,187,188,189,190,191,192,193,194,195,196,197,198,199,200,201,202,203,204,205,206,207,208,209,210,211,212,213,214,215,216,217,218,219,220,221,222,223,224,225,226,227,228,229,230,231,232,233,234,235,236,237,238,239,240,241,242,243,244,245,246,247,248,249,250,251,252,253,254,255,256,257,258,259,260,261,262,263,264,265,266,267,268,269,270,271,272,273,274,275,276,277,278,279,280,281,282,283,284,285,286,287,288,289,290,291,292,293,294,295,296,297,298,299,300,301,302,303,304,305,306,307,308,309,310,311,312,313,314,315,316,317,318,319,320,321,322,323,324,325,326,327,328,329,330,331,332,333,334,335,336,337,338,339,340,341,342,343,344,345,346,347,348,349,350,351,352,353,354,355,356,357,358,359,360,361,362,363,364,365,366,367,368,369,370,371,372,373,374,375,376,377,378,379,380,381,382,383,384,385,386,387,388,389,390,391,392,393,394,395,396,397,398,399,400,401,402,403,404,405,406,407,408,409,410,411,412,413,414,415,416,417,418,419,420,421,422,423,424,425,426,427,428,429,430,431,432,433,434,435,436,437,438,439,440,441,442,443,444,445,446,447,448,449,450,451,452,453,454,455,456,457,458,459,460,461,462,463,464,465,466,467,468,469,470,471,472,473,474,475,476,477,478,479,480,481,482,483,484,485,486,487,488,489,490,491,492,493],\"y\":[7.0,3.0,5.0,5.0,0.0,5.0,2.0,4.0,1.0,10.0,2.0,9.0,2.0,3.0,2.0,7.0,1.0,1.0,1.0,1.0,2.0,0.0,2.0,9.0,3.0,6.0,1.0,6.0,4.0,2.0,4.0,1.0,5.0,3.0,2.0,2.0,7.0,2.0,1.0,13.0,4.0,3.0,1.0,2.0,2.0,1.0,1.0,3.0,2.0,1.0,2.0,2.0,1.0,2.0,2.0,6.0,1.0,2.0,0.0,5.0,0.0,5.0,5.0,2.0,0.0,0.0,2.0,8.0,2.0,1.0,1.0,4.0,3.0,6.0,2.0,0.0,1.0,2.0,2.0,4.0,0.0,0.0,2.0,4.0,2.0,4.0,2.0,2.0,2.0,1.0,2.0,1.0,2.0,0.0,4.0,0.0,1.0,4.0,3.0,0.0,3.0,1.0,2.0,1.0,1.0,3.0,0.0,2.0,1.0,1.0,13.0,18.0,2.0,1.0,1.0,4.0,2.0,4.0,3.0,1.0,4.0,3.0,0.0,5.0,4.0,1.0,1.0,1.0,5.0,2.0,2.0,1.0,4.0,5.0,1.0,8.0,4.0,2.0,1.0,2.0,2.0,2.0,2.0,0.0,2.0,2.0,5.0,1.0,2.0,7.0,0.0,3.0,1.0,3.0,0.0,1.0,3.0,2.0,2.0,2.0,1.0,7.0,2.0,2.0,0.0,1.0,5.0,1.0,2.0,4.0,6.0,1.0,7.0,4.0,1.0,3.0,4.0,0.0,6.0,6.0,19.0,0.0,2.0,3.0,3.0,1.0,2.0,2.0,2.0,4.0,1.0,3.0,2.0,2.0,2.0,1.0,0.0,2.0,0.0,4.0,4.0,3.0,4.0,3.0,6.0,7.0,4.0,3.0,0.0,4.0,4.0,4.0,5.0,3.0,5.0,0.0,5.0,2.0,1.0,8.0,1.0,1.0,2.0,0.0,3.0,6.0,2.0,2.0,3.0,2.0,7.0,1.0,2.0,6.0,6.0,2.0,9.0,1.0,7.0,1.0,4.0,3.0,4.0,5.0,9.0,6.0,1.0,10.0,10.0,3.0,4.0,5.0,3.0,1.0,3.0,2.0,4.0,6.0,5.0,1.0,2.0,2.0,0.0,0.0,1.0,2.0,4.0,2.0,1.0,3.0,1.0,1.0,4.0,5.0,2.0,4.0,6.0,1.0,4.0,6.0,0.0,6.0,0.0,2.0,0.0,1.0,4.0,1.0,2.0,3.0,7.0,1.0,6.0,3.0,3.0,4.0,4.0,5.0,2.0,2.0,2.0,7.0,3.0,3.0,5.0,5.0,1.0,5.0,1.0,2.0,4.0,0.0,3.0,1.0,6.0,5.0,2.0,13.0,23.0,10.0,4.0,3.0,4.0,5.0,2.0,3.0,4.0,4.0,2.0,2.0,6.0,2.0,4.0,1.0,5.0,5.0,3.0,6.0,4.0,4.0,2.0,5.0,2.0,4.0,5.0,2.0,3.0,2.0,4.0,2.0,5.0,5.0,3.0,2.0,4.0,3.0,3.0,4.0,5.0,1.0,1.0,6.0,9.0,4.0,2.0,5.0,4.0,2.0,1.0,4.0,1.0,3.0,4.0,3.0,3.0,6.0,4.0,2.0,2.0,2.0,10.0,8.0,7.0,4.0,3.0,3.0,6.0,18.0,17.0,26.0,2.0,2.0,2.0,10.0,4.0,6.0,4.0,5.0,1.0,3.0,4.0,3.0,1.0,2.0,1.0,9.0,7.0,4.0,3.0,6.0,9.0,1.0,1.0,3.0,8.0,3.0,3.0,5.0,2.0,2.0,2.0,1.0,6.0,6.0,0.0,8.0,2.0,3.0,5.0,3.0,5.0,4.0,9.0,5.0,2.0,6.0,6.0,2.0,4.0,5.0,4.0,4.0,2.0,2.0,3.0,3.0,4.0,3.0,3.0,0.0,2.0,4.0,1.0,1.0,3.0,3.0,6.0,12.0,4.0,3.0,6.0,3.0,6.0,4.0,2.0,4.0,6.0,3.0,5.0,0.0,5.0,2.0,0.0,0.0,2.0,2.0,1.0,3.0,1.0,0.0,4.0,2.0,3.0,5.0,0.0,3.0,3.0,1.0,1.0,5.0,3.0,3.0,1.0],\"name\":\"gc_heap::mark_phase\"}];\n",
       "           var layout = {\"title\":\"Mark Phase Data\",\"xaxis\":{\"title\":\"GC #\",\"_isSubplotObj\":true},\"yaxis\":{\"title\":\"gc_heap::mark_phase\",\"_isSubplotObj\":true}};\n",
       "           Plotly.newPlot('d3f4401c-6756-4e9b-9604-4e9ec947ad8a', data, layout);\n",
       "        \r\n",
       "});\n",
       "};\r\n",
       "// ensure `require` is available globally\r\n",
       "if ((typeof(require) !==  typeof(Function)) || (typeof(require.config) !== typeof(Function))) {\r\n",
       "    let require_script = document.createElement('script');\r\n",
       "    require_script.setAttribute('src', 'https://cdnjs.cloudflare.com/ajax/libs/require.js/2.3.6/require.min.js');\r\n",
       "    require_script.setAttribute('type', 'text/javascript');\r\n",
       "    \r\n",
       "    \r\n",
       "    require_script.onload = function() {\r\n",
       "        renderPlotly();\r\n",
       "    };\r\n",
       "\r\n",
       "    document.getElementsByTagName('head')[0].appendChild(require_script);\r\n",
       "}\r\n",
       "else {\r\n",
       "    renderPlotly();\r\n",
       "}\r\n",
       "\r\n",
       "</script>\r\n"
      ]
     },
     "metadata": {},
     "output_type": "display_data"
    }
   ],
   "source": [
    "(string, List<CPUInfo>) data = \n",
    "    (\"gc_heap::mark_phase\", comparandCPUData.GetPerGCMethodCost(\"gc_heap::mark_phase\"));\n",
    "\n",
    "CPUCharting.ChartCountForGCMethod(data, \"Mark Phase Data\")"
   ]
  },
  {
   "attachments": {},
   "cell_type": "markdown",
   "metadata": {},
   "source": [
    "##### Charting Counts For a Single Method GC Using CPU Process Data"
   ]
  },
  {
   "cell_type": "code",
   "execution_count": 32,
   "metadata": {
    "dotnet_interactive": {
     "language": "csharp"
    },
    "vscode": {
     "languageId": "polyglot-notebook"
    }
   },
   "outputs": [
    {
     "data": {
      "text/html": [
       "<!DOCTYPE html>\r\n",
       "<div style=\"width: 900px; height: 500px;\" id=\"7e12c4e5-0358-4f20-8f80-0ee40b691c25\"></div><script type=\"text/javascript\">\r\n",
       "\n",
       "var renderPlotly = function() {\n",
       "    var xplotRequire = require.config({context:'xplot-3.0.1',paths:{plotly:'https://cdn.plot.ly/plotly-1.49.2.min'}}) || require;\n",
       "    xplotRequire(['plotly'], function(Plotly) { \r\n",
       "\n",
       "            var data = [{\"type\":\"scatter\",\"showlegend\":true,\"x\":[1,2,3,4,5,6,7,8,9,10,11,12,13,14,15,16,17,18,19,20,21,22,23,24,25,26,27,28,29,30,31,32,33,34,35,36,37,38,39,40,41,42,43,44,45,46,47,48,49,50,51,52,53,54,55,56,57,58,59,60,61,62,63,64,65,66,67,68,69,70,71,72,73,74,75,76,77,78,79,80,81,82,83,84,85,86,87,88,89,90,91,92,93,94,95,96,97,98,99,100,101,102,103,104,105,106,107,108,109,110,111,112,113,114,115,116,117,118,119,120,121,122,123,124,125,126,127,128,129,130,131,132,133,134,135,136,137,138,139,140,141,142,143,144,145,146,147,148,149,150,151,152,153,154,155,156,157,158,159,160,161,162,163,164,165,166,167,168,169,170,171,172,173,174,175,176,177,178,179,180,181,182,183,184,185,186,187,188,189,190,191,192,193,194,195,196,197,198,199,200,201,202,203,204,205,206,207,208,209,210,211,212,213,214,215,216,217,218,219,220,221,222,223,224,225,226,227,228,229,230,231,232,233,234,235,236,237,238,239,240,241,242,243,244,245,246,247,248,249,250,251,252,253,254,255,256,257,258,259,260,261,262,263,264,265,266,267,268,269,270,271,272,273,274,275,276,277,278,279,280,281,282,283,284,285,286,287,288,289,290,291,292,293,294,295,296,297,298,299,300,301,302,303,304,305,306,307,308,309,310,311,312,313,314,315,316,317,318,319,320,321,322,323,324,325,326,327,328,329,330,331,332,333,334,335,336,337,338,339,340,341,342,343,344,345,346,347,348,349,350,351,352,353,354,355,356,357,358,359,360,361,362,363,364,365,366,367,368,369,370,371,372,373,374,375,376,377,378,379,380,381,382,383,384,385,386,387,388,389,390,391,392,393,394,395,396,397,398,399,400,401,402,403,404,405,406,407,408,409,410,411,412,413,414,415,416,417,418,419,420,421,422,423,424,425,426,427,428,429,430,431,432,433,434,435,436,437,438,439,440,441,442,443,444,445,446,447,448,449,450,451,452,453,454,455,456,457,458,459,460,461,462,463,464,465,466,467,468,469,470,471,472,473,474,475,476,477,478,479,480,481,482,483,484,485,486,487,488,489,490,491,492,493],\"y\":[2.0,4.0,0.0,0.0,1.0,1.0,1.0,0.0,0.0,1.0,1.0,0.0,0.0,1.0,0.0,0.0,0.0,0.0,0.0,1.0,0.0,1.0,1.0,4.0,0.0,0.0,0.0,0.0,2.0,0.0,1.0,1.0,1.0,0.0,0.0,3.0,0.0,0.0,0.0,0.0,0.0,2.0,0.0,2.0,1.0,0.0,1.0,3.0,0.0,0.0,0.0,2.0,0.0,0.0,2.0,0.0,1.0,0.0,0.0,2.0,0.0,0.0,5.0,0.0,0.0,1.0,0.0,0.0,0.0,2.0,1.0,0.0,1.0,0.0,0.0,2.0,0.0,0.0,0.0,0.0,0.0,1.0,0.0,0.0,0.0,0.0,0.0,0.0,0.0,1.0,2.0,0.0,0.0,0.0,1.0,0.0,2.0,1.0,0.0,1.0,1.0,0.0,0.0,2.0,0.0,0.0,0.0,1.0,1.0,1.0,1.0,1.0,1.0,0.0,0.0,0.0,0.0,0.0,1.0,1.0,0.0,0.0,1.0,2.0,0.0,0.0,0.0,0.0,2.0,0.0,0.0,0.0,1.0,2.0,0.0,1.0,0.0,0.0,1.0,0.0,1.0,0.0,0.0,3.0,1.0,0.0,1.0,1.0,1.0,0.0,0.0,0.0,2.0,2.0,0.0,0.0,1.0,2.0,1.0,0.0,1.0,0.0,0.0,0.0,0.0,0.0,1.0,0.0,0.0,1.0,1.0,1.0,0.0,2.0,2.0,0.0,0.0,0.0,3.0,2.0,3.0,0.0,0.0,1.0,4.0,0.0,0.0,1.0,0.0,0.0,0.0,0.0,0.0,0.0,0.0,1.0,0.0,1.0,0.0,1.0,1.0,0.0,0.0,0.0,1.0,2.0,0.0,0.0,0.0,0.0,0.0,1.0,0.0,0.0,0.0,0.0,0.0,0.0,0.0,0.0,2.0,0.0,1.0,0.0,0.0,0.0,0.0,1.0,0.0,1.0,0.0,0.0,0.0,0.0,0.0,1.0,1.0,0.0,0.0,2.0,0.0,2.0,2.0,0.0,0.0,0.0,5.0,8.0,0.0,1.0,0.0,0.0,0.0,0.0,1.0,2.0,0.0,1.0,0.0,4.0,0.0,0.0,0.0,1.0,0.0,0.0,0.0,1.0,1.0,0.0,2.0,0.0,0.0,0.0,3.0,3.0,1.0,0.0,1.0,0.0,0.0,1.0,1.0,1.0,0.0,1.0,0.0,0.0,0.0,1.0,1.0,1.0,0.0,3.0,1.0,0.0,0.0,1.0,1.0,0.0,2.0,0.0,6.0,0.0,0.0,0.0,2.0,0.0,0.0,0.0,0.0,2.0,1.0,1.0,3.0,1.0,2.0,5.0,6.0,1.0,2.0,0.0,3.0,0.0,1.0,0.0,0.0,2.0,0.0,0.0,1.0,0.0,0.0,0.0,2.0,0.0,2.0,0.0,0.0,0.0,0.0,1.0,0.0,1.0,0.0,2.0,0.0,1.0,1.0,1.0,3.0,1.0,0.0,0.0,1.0,0.0,0.0,1.0,1.0,0.0,0.0,0.0,0.0,2.0,0.0,0.0,1.0,1.0,1.0,0.0,1.0,1.0,0.0,1.0,0.0,1.0,0.0,0.0,0.0,0.0,1.0,2.0,0.0,0.0,0.0,1.0,3.0,1.0,7.0,14.0,1.0,1.0,0.0,1.0,0.0,0.0,0.0,1.0,1.0,0.0,3.0,1.0,1.0,0.0,1.0,0.0,1.0,0.0,0.0,0.0,2.0,0.0,1.0,0.0,1.0,0.0,0.0,2.0,1.0,1.0,0.0,2.0,0.0,4.0,1.0,1.0,4.0,1.0,0.0,1.0,0.0,0.0,0.0,0.0,0.0,1.0,2.0,0.0,0.0,0.0,1.0,2.0,1.0,1.0,0.0,0.0,2.0,0.0,1.0,3.0,0.0,1.0,1.0,0.0,0.0,0.0,1.0,3.0,0.0,1.0,2.0,0.0,0.0,0.0,2.0,0.0,2.0,0.0,0.0,0.0,1.0,2.0,0.0,0.0,0.0,0.0,0.0,0.0,1.0,2.0,1.0,0.0,0.0,0.0,2.0,0.0,0.0,2.0,0.0,0.0,2.0,2.0,1.0],\"mode\":\"lines+markers\",\"name\":\"gc_heap::plan_phase\"}];\n",
       "           var layout = {\"title\":\"Plan Phase\",\"xaxis\":{\"title\":\"GC #\",\"_isSubplotObj\":true},\"yaxis\":{\"title\":\"Inclusive Count\",\"_isSubplotObj\":true}};\n",
       "           Plotly.newPlot('7e12c4e5-0358-4f20-8f80-0ee40b691c25', data, layout);\n",
       "        \r\n",
       "});\n",
       "};\r\n",
       "// ensure `require` is available globally\r\n",
       "if ((typeof(require) !==  typeof(Function)) || (typeof(require.config) !== typeof(Function))) {\r\n",
       "    let require_script = document.createElement('script');\r\n",
       "    require_script.setAttribute('src', 'https://cdnjs.cloudflare.com/ajax/libs/require.js/2.3.6/require.min.js');\r\n",
       "    require_script.setAttribute('type', 'text/javascript');\r\n",
       "    \r\n",
       "    \r\n",
       "    require_script.onload = function() {\r\n",
       "        renderPlotly();\r\n",
       "    };\r\n",
       "\r\n",
       "    document.getElementsByTagName('head')[0].appendChild(require_script);\r\n",
       "}\r\n",
       "else {\r\n",
       "    renderPlotly();\r\n",
       "}\r\n",
       "\r\n",
       "</script>\r\n"
      ]
     },
     "metadata": {},
     "output_type": "display_data"
    }
   ],
   "source": [
    "// With Inclusive Count.\n",
    "comparandCPUData.ChartCountForGCMethod(methodName: \"gc_heap::plan_phase\", title: \"Plan Phase\")"
   ]
  },
  {
   "cell_type": "code",
   "execution_count": 33,
   "metadata": {
    "dotnet_interactive": {
     "language": "csharp"
    },
    "vscode": {
     "languageId": "polyglot-notebook"
    }
   },
   "outputs": [
    {
     "data": {
      "text/html": [
       "<!DOCTYPE html>\r\n",
       "<div style=\"width: 900px; height: 500px;\" id=\"b87b9f34-3180-45e7-9858-3890b9d8f62c\"></div><script type=\"text/javascript\">\r\n",
       "\n",
       "var renderPlotly = function() {\n",
       "    var xplotRequire = require.config({context:'xplot-3.0.1',paths:{plotly:'https://cdn.plot.ly/plotly-1.49.2.min'}}) || require;\n",
       "    xplotRequire(['plotly'], function(Plotly) { \r\n",
       "\n",
       "            var data = [{\"type\":\"scatter\",\"showlegend\":true,\"x\":[1,2,3,4,5,6,7,8,9,10,11,12,13,14,15,16,17,18,19,20,21,22,23,24,25,26,27,28,29,30,31,32,33,34,35,36,37,38,39,40,41,42,43,44,45,46,47,48,49,50,51,52,53,54,55,56,57,58,59,60,61,62,63,64,65,66,67,68,69,70,71,72,73,74,75,76,77,78,79,80,81,82,83,84,85,86,87,88,89,90,91,92,93,94,95,96,97,98,99,100,101,102,103,104,105,106,107,108,109,110,111,112,113,114,115,116,117,118,119,120,121,122,123,124,125,126,127,128,129,130,131,132,133,134,135,136,137,138,139,140,141,142,143,144,145,146,147,148,149,150,151,152,153,154,155,156,157,158,159,160,161,162,163,164,165,166,167,168,169,170,171,172,173,174,175,176,177,178,179,180,181,182,183,184,185,186,187,188,189,190,191,192,193,194,195,196,197,198,199,200,201,202,203,204,205,206,207,208,209,210,211,212,213,214,215,216,217,218,219,220,221,222,223,224,225,226,227,228,229,230,231,232,233,234,235,236,237,238,239,240,241,242,243,244,245,246,247,248,249,250,251,252,253,254,255,256,257,258,259,260,261,262,263,264,265,266,267,268,269,270,271,272,273,274,275,276,277,278,279,280,281,282,283,284,285,286,287,288,289,290,291,292,293,294,295,296,297,298,299,300,301,302,303,304,305,306,307,308,309,310,311,312,313,314,315,316,317,318,319,320,321,322,323,324,325,326,327,328,329,330,331,332,333,334,335,336,337,338,339,340,341,342,343,344,345,346,347,348,349,350,351,352,353,354,355,356,357,358,359,360,361,362,363,364,365,366,367,368,369,370,371,372,373,374,375,376,377,378,379,380,381,382,383,384,385,386,387,388,389,390,391,392,393,394,395,396,397,398,399,400,401,402,403,404,405,406,407,408,409,410,411,412,413,414,415,416,417,418,419,420,421,422,423,424,425,426,427,428,429,430,431,432,433,434,435,436,437,438,439,440,441,442,443,444,445,446,447,448,449,450,451,452,453,454,455,456,457,458,459,460,461,462,463,464,465,466,467,468,469,470,471,472,473,474,475,476,477,478,479,480,481,482,483,484,485,486,487,488,489,490,491,492,493],\"y\":[0.0,0.0,0.0,0.0,0.0,0.0,0.0,0.0,0.0,0.0,1.0,0.0,0.0,0.0,0.0,0.0,0.0,0.0,0.0,0.0,0.0,0.0,0.0,0.0,0.0,0.0,0.0,0.0,0.0,0.0,0.0,0.0,0.0,0.0,0.0,0.0,0.0,0.0,0.0,0.0,0.0,0.0,0.0,0.0,0.0,0.0,1.0,0.0,0.0,0.0,0.0,0.0,0.0,0.0,0.0,0.0,0.0,-1.0,0.0,0.0,0.0,0.0,0.0,0.0,0.0,0.0,0.0,0.0,0.0,0.0,0.0,0.0,0.0,0.0,0.0,0.0,0.0,0.0,0.0,0.0,0.0,0.0,0.0,0.0,0.0,-1.0,0.0,0.0,0.0,0.0,0.0,0.0,0.0,0.0,0.0,0.0,0.0,0.0,0.0,0.0,0.0,0.0,0.0,0.0,0.0,0.0,0.0,0.0,0.0,0.0,0.0,0.0,0.0,0.0,0.0,0.0,0.0,0.0,0.0,0.0,0.0,0.0,0.0,0.0,0.0,0.0,0.0,0.0,0.0,0.0,0.0,0.0,-1.0,0.0,0.0,0.0,0.0,0.0,0.0,0.0,0.0,0.0,0.0,0.0,0.0,0.0,0.0,0.0,0.0,0.0,0.0,0.0,0.0,0.0,0.0,0.0,0.0,0.0,0.0,0.0,0.0,0.0,0.0,0.0,0.0,0.0,0.0,0.0,0.0,0.0,0.0,0.0,0.0,0.0,0.0,0.0,0.0,0.0,0.0,0.0,0.0,0.0,0.0,0.0,0.0,0.0,0.0,0.0,0.0,0.0,0.0,0.0,0.0,0.0,0.0,0.0,0.0,0.0,0.0,0.0,0.0,0.0,-1.0,0.0,0.0,0.0,0.0,0.0,0.0,-1.0,0.0,0.0,0.0,0.0,0.0,0.0,0.0,0.0,0.0,0.0,0.0,0.0,0.0,0.0,0.0,0.0,0.0,0.0,0.0,0.0,0.0,0.0,-1.0,0.0,0.0,0.0,0.0,0.0,0.0,0.0,-1.0,0.0,-1.0,0.0,0.0,0.0,0.0,0.0,0.0,0.0,0.0,0.0,0.0,0.0,0.0,0.0,0.0,-1.0,0.0,0.0,0.0,0.0,0.0,0.0,0.0,0.0,0.0,0.0,0.0,0.0,0.0,0.0,0.0,0.0,0.0,0.0,0.0,0.0,1.0,0.0,0.0,0.0,0.0,1.0,0.0,0.0,0.0,0.0,0.0,0.0,0.0,0.0,0.0,0.0,0.0,0.0,0.0,0.0,0.0,0.0,0.0,0.0,0.0,0.0,0.0,0.0,0.0,0.0,0.0,0.0,0.0,0.0,0.0,0.0,0.0,0.0,0.0,0.0,0.0,0.0,0.0,0.0,1.0,0.0,0.0,0.0,0.0,-1.0,0.0,0.0,0.0,0.0,0.0,0.0,0.0,0.0,0.0,0.0,0.0,0.0,-1.0,0.0,0.0,0.0,0.0,0.0,0.0,0.0,0.0,0.0,0.0,0.0,0.0,0.0,0.0,0.0,0.0,0.0,0.0,0.0,0.0,0.0,0.0,0.0,0.0,0.0,-1.0,0.0,0.0,0.0,0.0,0.0,0.0,0.0,0.0,0.0,0.0,0.0,0.0,0.0,0.0,0.0,0.0,0.0,0.0,0.0,0.0,0.0,0.0,0.0,0.0,0.0,0.0,0.0,0.0,0.0,0.0,0.0,0.0,0.0,0.0,0.0,0.0,0.0,0.0,0.0,0.0,0.0,0.0,0.0,1.0,0.0,0.0,0.0,0.0,0.0,0.0,-1.0,0.0,0.0,0.0,0.0,0.0,0.0,0.0,0.0,0.0,0.0,0.0,0.0,0.0,0.0,0.0,0.0,0.0,0.0,0.0,0.0,0.0,0.0,0.0,0.0,0.0,0.0,-1.0,0.0,0.0,0.0,0.0,1.0,0.0,-1.0,0.0,0.0,0.0,0.0,0.0,1.0,0.0,0.0,0.0,0.0,0.0,0.0,1.0,0.0,0.0,0.0,0.0,0.0,0.0,0.0,0.0,0.0,0.0,0.0,0.0,0.0,0.0,0.0,0.0,-2.0,0.0,-1.0,0.0,0.0,0.0,0.0,0.0,0.0,0.0,0.0,0.0],\"mode\":\"lines+markers\",\"name\":\"gc_heap::plan_phase\"}];\n",
       "           var layout = {\"title\":\"Plan Phase - Exclusive Count\",\"xaxis\":{\"title\":\"GC #\",\"_isSubplotObj\":true},\"yaxis\":{\"title\":\"Exclusive Count\",\"_isSubplotObj\":true}};\n",
       "           Plotly.newPlot('b87b9f34-3180-45e7-9858-3890b9d8f62c', data, layout);\n",
       "        \r\n",
       "});\n",
       "};\r\n",
       "// ensure `require` is available globally\r\n",
       "if ((typeof(require) !==  typeof(Function)) || (typeof(require.config) !== typeof(Function))) {\r\n",
       "    let require_script = document.createElement('script');\r\n",
       "    require_script.setAttribute('src', 'https://cdnjs.cloudflare.com/ajax/libs/require.js/2.3.6/require.min.js');\r\n",
       "    require_script.setAttribute('type', 'text/javascript');\r\n",
       "    \r\n",
       "    \r\n",
       "    require_script.onload = function() {\r\n",
       "        renderPlotly();\r\n",
       "    };\r\n",
       "\r\n",
       "    document.getElementsByTagName('head')[0].appendChild(require_script);\r\n",
       "}\r\n",
       "else {\r\n",
       "    renderPlotly();\r\n",
       "}\r\n",
       "\r\n",
       "</script>\r\n"
      ]
     },
     "metadata": {},
     "output_type": "display_data"
    }
   ],
   "source": [
    "// With Exclusive Count.\n",
    "baselineCPUData.ChartCountForGCMethod(methodName: \"gc_heap::plan_phase\", title: \"Plan Phase - Exclusive Count\", isInclusiveCount: false)"
   ]
  },
  {
   "attachments": {},
   "cell_type": "markdown",
   "metadata": {},
   "source": [
    "### Charting Counts For a Single GC Method With Caller"
   ]
  },
  {
   "cell_type": "code",
   "execution_count": 34,
   "metadata": {
    "dotnet_interactive": {
     "language": "csharp"
    },
    "vscode": {
     "languageId": "polyglot-notebook"
    }
   },
   "outputs": [
    {
     "data": {
      "text/html": [
       "<!DOCTYPE html>\r\n",
       "<div style=\"width: 900px; height: 500px;\" id=\"4d8c8073-701b-4c9a-a6b5-2e3f7008244a\"></div><script type=\"text/javascript\">\r\n",
       "\n",
       "var renderPlotly = function() {\n",
       "    var xplotRequire = require.config({context:'xplot-3.0.1',paths:{plotly:'https://cdn.plot.ly/plotly-1.49.2.min'}}) || require;\n",
       "    xplotRequire(['plotly'], function(Plotly) { \r\n",
       "\n",
       "            var data = [{\"type\":\"scatter\",\"showlegend\":true,\"x\":[52,102,190,193,242,247,251,253,258,261,305,332,342,347,348,383,387,397,415,424,429,435,469,471],\"y\":[1.0,0.0,0.0,1.0,1.0,1.0,1.0,1.0,1.0,1.0,1.0,0.0,0.0,1.0,1.0,1.0,1.0,0.0,1.0,1.0,1.0,0.0,1.0,0.0],\"mode\":\"lines+markers\",\"name\":\"gc_heap::mark_through_cards_for_segments\"}];\n",
       "           var layout = {\"title\":\"Inc. cost of mark_through_cards_for_segments for the Mark Phase\",\"xaxis\":{\"title\":\"GC #\",\"_isSubplotObj\":true},\"yaxis\":{\"title\":\"Inclusive Count\",\"_isSubplotObj\":true}};\n",
       "           Plotly.newPlot('4d8c8073-701b-4c9a-a6b5-2e3f7008244a', data, layout);\n",
       "        \r\n",
       "});\n",
       "};\r\n",
       "// ensure `require` is available globally\r\n",
       "if ((typeof(require) !==  typeof(Function)) || (typeof(require.config) !== typeof(Function))) {\r\n",
       "    let require_script = document.createElement('script');\r\n",
       "    require_script.setAttribute('src', 'https://cdnjs.cloudflare.com/ajax/libs/require.js/2.3.6/require.min.js');\r\n",
       "    require_script.setAttribute('type', 'text/javascript');\r\n",
       "    \r\n",
       "    \r\n",
       "    require_script.onload = function() {\r\n",
       "        renderPlotly();\r\n",
       "    };\r\n",
       "\r\n",
       "    document.getElementsByTagName('head')[0].appendChild(require_script);\r\n",
       "}\r\n",
       "else {\r\n",
       "    renderPlotly();\r\n",
       "}\r\n",
       "\r\n",
       "</script>\r\n"
      ]
     },
     "metadata": {},
     "output_type": "display_data"
    }
   ],
   "source": [
    "comparandCPUData.ChartCountForGCMethod(methodName: \"gc_heap::mark_through_cards_for_segments\", \n",
    "                                      title: \"Inc. cost of mark_through_cards_for_segments for the Mark Phase\", \n",
    "                                      caller: \"gc_heap::mark_phase\")"
   ]
  },
  {
   "cell_type": "code",
   "execution_count": 35,
   "metadata": {
    "dotnet_interactive": {
     "language": "csharp"
    },
    "vscode": {
     "languageId": "polyglot-notebook"
    }
   },
   "outputs": [
    {
     "data": {
      "text/html": [
       "<!DOCTYPE html>\r\n",
       "<div style=\"width: 900px; height: 500px;\" id=\"62e18675-c14e-41c6-8331-415136f56ba3\"></div><script type=\"text/javascript\">\r\n",
       "\n",
       "var renderPlotly = function() {\n",
       "    var xplotRequire = require.config({context:'xplot-3.0.1',paths:{plotly:'https://cdn.plot.ly/plotly-1.49.2.min'}}) || require;\n",
       "    xplotRequire(['plotly'], function(Plotly) { \r\n",
       "\n",
       "            var data = [{\"type\":\"scatter\",\"showlegend\":true,\"x\":[52,102,190,193,242,247,251,253,258,261,305,332,342,347,348,383,387,397,415,424,429,435,469,471],\"y\":[0.0,1.0,1.0,0.0,0.0,0.0,0.0,1.0,0.0,0.0,0.0,1.0,1.0,1.0,0.0,0.0,0.0,1.0,0.0,0.0,0.0,1.0,0.0,1.0],\"mode\":\"lines+markers\",\"name\":\"gc_heap::mark_through_cards_for_segments\"}];\n",
       "           var layout = {\"title\":\"Inc. cost of mark_through_cards_for_segments for the Relocate Phase\",\"xaxis\":{\"title\":\"GC #\",\"_isSubplotObj\":true},\"yaxis\":{\"title\":\"Inclusive Count\",\"_isSubplotObj\":true}};\n",
       "           Plotly.newPlot('62e18675-c14e-41c6-8331-415136f56ba3', data, layout);\n",
       "        \r\n",
       "});\n",
       "};\r\n",
       "// ensure `require` is available globally\r\n",
       "if ((typeof(require) !==  typeof(Function)) || (typeof(require.config) !== typeof(Function))) {\r\n",
       "    let require_script = document.createElement('script');\r\n",
       "    require_script.setAttribute('src', 'https://cdnjs.cloudflare.com/ajax/libs/require.js/2.3.6/require.min.js');\r\n",
       "    require_script.setAttribute('type', 'text/javascript');\r\n",
       "    \r\n",
       "    \r\n",
       "    require_script.onload = function() {\r\n",
       "        renderPlotly();\r\n",
       "    };\r\n",
       "\r\n",
       "    document.getElementsByTagName('head')[0].appendChild(require_script);\r\n",
       "}\r\n",
       "else {\r\n",
       "    renderPlotly();\r\n",
       "}\r\n",
       "\r\n",
       "</script>\r\n"
      ]
     },
     "metadata": {},
     "output_type": "display_data"
    }
   ],
   "source": [
    "baselineCPUData.ChartCountForGCMethod(methodName: \"gc_heap::mark_through_cards_for_segments\", \n",
    "                                      title: \"Inc. cost of mark_through_cards_for_segments for the Relocate Phase\", \n",
    "                                      caller: \"gc_heap::relocate_phase\")"
   ]
  },
  {
   "attachments": {},
   "cell_type": "markdown",
   "metadata": {},
   "source": [
    "#### Charting Counts For Multiple GC Methods"
   ]
  },
  {
   "attachments": {},
   "cell_type": "markdown",
   "metadata": {},
   "source": [
    "##### Charting Counts For Multiple GC Methods Using A List"
   ]
  },
  {
   "cell_type": "code",
   "execution_count": 36,
   "metadata": {
    "dotnet_interactive": {
     "language": "csharp"
    },
    "vscode": {
     "languageId": "polyglot-notebook"
    }
   },
   "outputs": [
    {
     "data": {
      "text/html": [
       "<!DOCTYPE html>\r\n",
       "<div style=\"width: 900px; height: 500px;\" id=\"bd8756e3-b64e-4e1a-a75c-63ab0ace33c8\"></div><script type=\"text/javascript\">\r\n",
       "\n",
       "var renderPlotly = function() {\n",
       "    var xplotRequire = require.config({context:'xplot-3.0.1',paths:{plotly:'https://cdn.plot.ly/plotly-1.49.2.min'}}) || require;\n",
       "    xplotRequire(['plotly'], function(Plotly) { \r\n",
       "\n",
       "            var data = [{\"type\":\"scatter\",\"showlegend\":true,\"x\":[1,2,3,4,5,6,7,8,9,10,11,12,13,14,15,16,17,18,19,20,21,22,23,24,25,26,27,28,29,30,31,32,33,34,35,36,37,38,39,40,41,42,43,44,45,46,47,48,49,50,51,52,53,54,55,56,57,58,59,60,61,62,63,64,65,66,67,68,69,70,71,72,73,74,75,76,77,78,79,80,81,82,83,84,85,86,87,88,89,90,91,92,93,94,95,96,97,98,99,100,101,102,103,104,105,106,107,108,109,110,111,112,113,114,115,116,117,118,119,120,121,122,123,124,125,126,127,128,129,130,131,132,133,134,135,136,137,138,139,140,141,142,143,144,145,146,147,148,149,150,151,152,153,154,155,156,157,158,159,160,161,162,163,164,165,166,167,168,169,170,171,172,173,174,175,176,177,178,179,180,181,182,183,184,185,186,187,188,189,190,191,192,193,194,195,196,197,198,199,200,201,202,203,204,205,206,207,208,209,210,211,212,213,214,215,216,217,218,219,220,221,222,223,224,225,226,227,228,229,230,231,232,233,234,235,236,237,238,239,240,241,242,243,244,245,246,247,248,249,250,251,252,253,254,255,256,257,258,259,260,261,262,263,264,265,266,267,268,269,270,271,272,273,274,275,276,277,278,279,280,281,282,283,284,285,286,287,288,289,290,291,292,293,294,295,296,297,298,299,300,301,302,303,304,305,306,307,308,309,310,311,312,313,314,315,316,317,318,319,320,321,322,323,324,325,326,327,328,329,330,331,332,333,334,335,336,337,338,339,340,341,342,343,344,345,346,347,348,349,350,351,352,353,354,355,356,357,358,359,360,361,362,363,364,365,366,367,368,369,370,371,372,373,374,375,376,377,378,379,380,381,382,383,384,385,386,387,388,389,390,391,392,393,394,395,396,397,398,399,400,401,402,403,404,405,406,407,408,409,410,411,412,413,414,415,416,417,418,419,420,421,422,423,424,425,426,427,428,429,430,431,432,433,434,435,436,437,438,439,440,441,442,443,444,445,446,447,448,449,450,451,452,453,454,455,456,457,458,459,460,461,462,463,464,465,466,467,468,469,470,471,472,473,474,475,476,477,478,479,480,481,482,483,484,485,486,487,488,489,490,491,492,493],\"y\":[7.0,3.0,5.0,5.0,0.0,5.0,2.0,4.0,1.0,10.0,2.0,9.0,2.0,3.0,2.0,7.0,1.0,1.0,1.0,1.0,2.0,0.0,2.0,9.0,3.0,6.0,1.0,6.0,4.0,2.0,4.0,1.0,5.0,3.0,2.0,2.0,7.0,2.0,1.0,13.0,4.0,3.0,1.0,2.0,2.0,1.0,1.0,3.0,2.0,1.0,2.0,2.0,1.0,2.0,2.0,6.0,1.0,2.0,0.0,5.0,0.0,5.0,5.0,2.0,0.0,0.0,2.0,8.0,2.0,1.0,1.0,4.0,3.0,6.0,2.0,0.0,1.0,2.0,2.0,4.0,0.0,0.0,2.0,4.0,2.0,4.0,2.0,2.0,2.0,1.0,2.0,1.0,2.0,0.0,4.0,0.0,1.0,4.0,3.0,0.0,3.0,1.0,2.0,1.0,1.0,3.0,0.0,2.0,1.0,1.0,13.0,18.0,2.0,1.0,1.0,4.0,2.0,4.0,3.0,1.0,4.0,3.0,0.0,5.0,4.0,1.0,1.0,1.0,5.0,2.0,2.0,1.0,4.0,5.0,1.0,8.0,4.0,2.0,1.0,2.0,2.0,2.0,2.0,0.0,2.0,2.0,5.0,1.0,2.0,7.0,0.0,3.0,1.0,3.0,0.0,1.0,3.0,2.0,2.0,2.0,1.0,7.0,2.0,2.0,0.0,1.0,5.0,1.0,2.0,4.0,6.0,1.0,7.0,4.0,1.0,3.0,4.0,0.0,6.0,6.0,19.0,0.0,2.0,3.0,3.0,1.0,2.0,2.0,2.0,4.0,1.0,3.0,2.0,2.0,2.0,1.0,0.0,2.0,0.0,4.0,4.0,3.0,4.0,3.0,6.0,7.0,4.0,3.0,0.0,4.0,4.0,4.0,5.0,3.0,5.0,0.0,5.0,2.0,1.0,8.0,1.0,1.0,2.0,0.0,3.0,6.0,2.0,2.0,3.0,2.0,7.0,1.0,2.0,6.0,6.0,2.0,9.0,1.0,7.0,1.0,4.0,3.0,4.0,5.0,9.0,6.0,1.0,10.0,10.0,3.0,4.0,5.0,3.0,1.0,3.0,2.0,4.0,6.0,5.0,1.0,2.0,2.0,0.0,0.0,1.0,2.0,4.0,2.0,1.0,3.0,1.0,1.0,4.0,5.0,2.0,4.0,6.0,1.0,4.0,6.0,0.0,6.0,0.0,2.0,0.0,1.0,4.0,1.0,2.0,3.0,7.0,1.0,6.0,3.0,3.0,4.0,4.0,5.0,2.0,2.0,2.0,7.0,3.0,3.0,5.0,5.0,1.0,5.0,1.0,2.0,4.0,0.0,3.0,1.0,6.0,5.0,2.0,13.0,23.0,10.0,4.0,3.0,4.0,5.0,2.0,3.0,4.0,4.0,2.0,2.0,6.0,2.0,4.0,1.0,5.0,5.0,3.0,6.0,4.0,4.0,2.0,5.0,2.0,4.0,5.0,2.0,3.0,2.0,4.0,2.0,5.0,5.0,3.0,2.0,4.0,3.0,3.0,4.0,5.0,1.0,1.0,6.0,9.0,4.0,2.0,5.0,4.0,2.0,1.0,4.0,1.0,3.0,4.0,3.0,3.0,6.0,4.0,2.0,2.0,2.0,10.0,8.0,7.0,4.0,3.0,3.0,6.0,18.0,17.0,26.0,2.0,2.0,2.0,10.0,4.0,6.0,4.0,5.0,1.0,3.0,4.0,3.0,1.0,2.0,1.0,9.0,7.0,4.0,3.0,6.0,9.0,1.0,1.0,3.0,8.0,3.0,3.0,5.0,2.0,2.0,2.0,1.0,6.0,6.0,0.0,8.0,2.0,3.0,5.0,3.0,5.0,4.0,9.0,5.0,2.0,6.0,6.0,2.0,4.0,5.0,4.0,4.0,2.0,2.0,3.0,3.0,4.0,3.0,3.0,0.0,2.0,4.0,1.0,1.0,3.0,3.0,6.0,12.0,4.0,3.0,6.0,3.0,6.0,4.0,2.0,4.0,6.0,3.0,5.0,0.0,5.0,2.0,0.0,0.0,2.0,2.0,1.0,3.0,1.0,0.0,4.0,2.0,3.0,5.0,0.0,3.0,3.0,1.0,1.0,5.0,3.0,3.0,1.0],\"mode\":\"lines+markers\",\"name\":\"gc_heap::mark_phase\"},{\"type\":\"scatter\",\"showlegend\":true,\"x\":[1,2,3,4,5,6,7,8,9,10,11,12,13,14,15,16,17,18,19,20,21,22,23,24,25,26,27,28,29,30,31,32,33,34,35,36,37,38,39,40,41,42,43,44,45,46,47,48,49,50,51,52,53,54,55,56,57,58,59,60,61,62,63,64,65,66,67,68,69,70,71,72,73,74,75,76,77,78,79,80,81,82,83,84,85,86,87,88,89,90,91,92,93,94,95,96,97,98,99,100,101,102,103,104,105,106,107,108,109,110,111,112,113,114,115,116,117,118,119,120,121,122,123,124,125,126,127,128,129,130,131,132,133,134,135,136,137,138,139,140,141,142,143,144,145,146,147,148,149,150,151,152,153,154,155,156,157,158,159,160,161,162,163,164,165,166,167,168,169,170,171,172,173,174,175,176,177,178,179,180,181,182,183,184,185,186,187,188,189,190,191,192,193,194,195,196,197,198,199,200,201,202,203,204,205,206,207,208,209,210,211,212,213,214,215,216,217,218,219,220,221,222,223,224,225,226,227,228,229,230,231,232,233,234,235,236,237,238,239,240,241,242,243,244,245,246,247,248,249,250,251,252,253,254,255,256,257,258,259,260,261,262,263,264,265,266,267,268,269,270,271,272,273,274,275,276,277,278,279,280,281,282,283,284,285,286,287,288,289,290,291,292,293,294,295,296,297,298,299,300,301,302,303,304,305,306,307,308,309,310,311,312,313,314,315,316,317,318,319,320,321,322,323,324,325,326,327,328,329,330,331,332,333,334,335,336,337,338,339,340,341,342,343,344,345,346,347,348,349,350,351,352,353,354,355,356,357,358,359,360,361,362,363,364,365,366,367,368,369,370,371,372,373,374,375,376,377,378,379,380,381,382,383,384,385,386,387,388,389,390,391,392,393,394,395,396,397,398,399,400,401,402,403,404,405,406,407,408,409,410,411,412,413,414,415,416,417,418,419,420,421,422,423,424,425,426,427,428,429,430,431,432,433,434,435,436,437,438,439,440,441,442,443,444,445,446,447,448,449,450,451,452,453,454,455,456,457,458,459,460,461,462,463,464,465,466,467,468,469,470,471,472,473,474,475,476,477,478,479,480,481,482,483,484,485,486,487,488,489,490,491,492,493],\"y\":[2.0,4.0,0.0,0.0,1.0,1.0,1.0,0.0,0.0,1.0,1.0,0.0,0.0,1.0,0.0,0.0,0.0,0.0,0.0,1.0,0.0,1.0,1.0,4.0,0.0,0.0,0.0,0.0,2.0,0.0,1.0,1.0,1.0,0.0,0.0,3.0,0.0,0.0,0.0,0.0,0.0,2.0,0.0,2.0,1.0,0.0,1.0,3.0,0.0,0.0,0.0,2.0,0.0,0.0,2.0,0.0,1.0,0.0,0.0,2.0,0.0,0.0,5.0,0.0,0.0,1.0,0.0,0.0,0.0,2.0,1.0,0.0,1.0,0.0,0.0,2.0,0.0,0.0,0.0,0.0,0.0,1.0,0.0,0.0,0.0,0.0,0.0,0.0,0.0,1.0,2.0,0.0,0.0,0.0,1.0,0.0,2.0,1.0,0.0,1.0,1.0,0.0,0.0,2.0,0.0,0.0,0.0,1.0,1.0,1.0,1.0,1.0,1.0,0.0,0.0,0.0,0.0,0.0,1.0,1.0,0.0,0.0,1.0,2.0,0.0,0.0,0.0,0.0,2.0,0.0,0.0,0.0,1.0,2.0,0.0,1.0,0.0,0.0,1.0,0.0,1.0,0.0,0.0,3.0,1.0,0.0,1.0,1.0,1.0,0.0,0.0,0.0,2.0,2.0,0.0,0.0,1.0,2.0,1.0,0.0,1.0,0.0,0.0,0.0,0.0,0.0,1.0,0.0,0.0,1.0,1.0,1.0,0.0,2.0,2.0,0.0,0.0,0.0,3.0,2.0,3.0,0.0,0.0,1.0,4.0,0.0,0.0,1.0,0.0,0.0,0.0,0.0,0.0,0.0,0.0,1.0,0.0,1.0,0.0,1.0,1.0,0.0,0.0,0.0,1.0,2.0,0.0,0.0,0.0,0.0,0.0,1.0,0.0,0.0,0.0,0.0,0.0,0.0,0.0,0.0,2.0,0.0,1.0,0.0,0.0,0.0,0.0,1.0,0.0,1.0,0.0,0.0,0.0,0.0,0.0,1.0,1.0,0.0,0.0,2.0,0.0,2.0,2.0,0.0,0.0,0.0,5.0,8.0,0.0,1.0,0.0,0.0,0.0,0.0,1.0,2.0,0.0,1.0,0.0,4.0,0.0,0.0,0.0,1.0,0.0,0.0,0.0,1.0,1.0,0.0,2.0,0.0,0.0,0.0,3.0,3.0,1.0,0.0,1.0,0.0,0.0,1.0,1.0,1.0,0.0,1.0,0.0,0.0,0.0,1.0,1.0,1.0,0.0,3.0,1.0,0.0,0.0,1.0,1.0,0.0,2.0,0.0,6.0,0.0,0.0,0.0,2.0,0.0,0.0,0.0,0.0,2.0,1.0,1.0,3.0,1.0,2.0,5.0,6.0,1.0,2.0,0.0,3.0,0.0,1.0,0.0,0.0,2.0,0.0,0.0,1.0,0.0,0.0,0.0,2.0,0.0,2.0,0.0,0.0,0.0,0.0,1.0,0.0,1.0,0.0,2.0,0.0,1.0,1.0,1.0,3.0,1.0,0.0,0.0,1.0,0.0,0.0,1.0,1.0,0.0,0.0,0.0,0.0,2.0,0.0,0.0,1.0,1.0,1.0,0.0,1.0,1.0,0.0,1.0,0.0,1.0,0.0,0.0,0.0,0.0,1.0,2.0,0.0,0.0,0.0,1.0,3.0,1.0,7.0,14.0,1.0,1.0,0.0,1.0,0.0,0.0,0.0,1.0,1.0,0.0,3.0,1.0,1.0,0.0,1.0,0.0,1.0,0.0,0.0,0.0,2.0,0.0,1.0,0.0,1.0,0.0,0.0,2.0,1.0,1.0,0.0,2.0,0.0,4.0,1.0,1.0,4.0,1.0,0.0,1.0,0.0,0.0,0.0,0.0,0.0,1.0,2.0,0.0,0.0,0.0,1.0,2.0,1.0,1.0,0.0,0.0,2.0,0.0,1.0,3.0,0.0,1.0,1.0,0.0,0.0,0.0,1.0,3.0,0.0,1.0,2.0,0.0,0.0,0.0,2.0,0.0,2.0,0.0,0.0,0.0,1.0,2.0,0.0,0.0,0.0,0.0,0.0,0.0,1.0,2.0,1.0,0.0,0.0,0.0,2.0,0.0,0.0,2.0,0.0,0.0,2.0,2.0,1.0],\"mode\":\"lines+markers\",\"name\":\"gc_heap::plan_phase\"},{\"type\":\"scatter\",\"showlegend\":true,\"x\":[1,2,3,4,5,6,7,8,9,10,11,12,13,14,15,16,17,18,19,20,21,22,23,24,25,26,27,28,29,30,31,32,33,34,35,36,37,38,39,40,41,42,43,44,45,46,47,48,49,50,51,52,53,54,55,56,57,58,59,60,61,62,63,64,65,66,67,68,69,70,71,72,73,74,75,76,77,78,79,80,81,82,83,84,85,86,87,88,89,90,91,92,93,94,95,96,97,98,99,100,101,102,103,104,105,106,107,108,109,110,111,112,113,114,115,116,117,118,119,120,121,122,123,124,125,126,127,128,129,130,131,132,133,134,135,136,137,138,139,140,141,142,143,144,145,146,147,148,149,150,151,152,153,154,155,156,157,158,159,160,161,162,163,164,165,166,167,168,169,170,171,172,173,174,175,176,177,178,179,180,181,182,183,184,185,186,187,188,189,190,191,192,193,194,195,196,197,198,199,200,201,202,203,204,205,206,207,208,209,210,211,212,213,214,215,216,217,218,219,220,221,222,223,224,225,226,227,228,229,230,231,232,233,234,235,236,237,238,239,240,241,242,243,244,245,246,247,248,249,250,251,252,253,254,255,256,257,258,259,260,261,262,263,264,265,266,267,268,269,270,271,272,273,274,275,276,277,278,279,280,281,282,283,284,285,286,287,288,289,290,291,292,293,294,295,296,297,298,299,300,301,302,303,304,305,306,307,308,309,310,311,312,313,314,315,316,317,318,319,320,321,322,323,324,325,326,327,328,329,330,331,332,333,334,335,336,337,338,339,340,341,342,343,344,345,346,347,348,349,350,351,352,353,354,355,356,357,358,359,360,361,362,363,364,365,366,367,368,369,370,371,372,373,374,375,376,377,378,379,380,381,382,383,384,385,386,387,388,389,390,391,392,393,394,395,396,397,398,399,400,401,402,403,404,405,406,407,408,409,410,411,412,413,414,415,416,417,418,419,420,421,422,423,424,425,426,427,428,429,430,431,432,433,434,435,436,437,438,439,440,441,442,443,444,445,446,447,448,449,450,451,452,453,454,455,456,457,458,459,460,461,462,463,464,465,466,467,468,469,470,471,472,473,474,475,476,477,478,479,480,481,482,483,484,485,486,487,488,489,490,491,492,493],\"y\":[0.0,1.0,1.0,1.0,0.0,1.0,2.0,0.0,0.0,0.0,0.0,0.0,0.0,0.0,0.0,0.0,0.0,0.0,0.0,2.0,0.0,0.0,0.0,0.0,0.0,1.0,0.0,0.0,0.0,0.0,0.0,0.0,1.0,1.0,1.0,1.0,1.0,0.0,0.0,0.0,1.0,0.0,0.0,1.0,1.0,0.0,0.0,1.0,0.0,0.0,0.0,0.0,0.0,0.0,1.0,0.0,1.0,1.0,0.0,1.0,1.0,1.0,0.0,2.0,0.0,0.0,0.0,0.0,2.0,0.0,0.0,1.0,0.0,0.0,0.0,0.0,0.0,0.0,0.0,0.0,1.0,1.0,0.0,0.0,2.0,0.0,0.0,1.0,1.0,0.0,0.0,0.0,0.0,2.0,1.0,1.0,1.0,0.0,0.0,0.0,1.0,1.0,0.0,0.0,0.0,0.0,0.0,0.0,0.0,1.0,1.0,1.0,0.0,0.0,1.0,0.0,3.0,0.0,0.0,0.0,1.0,1.0,0.0,0.0,0.0,0.0,1.0,0.0,1.0,0.0,3.0,1.0,0.0,0.0,1.0,0.0,0.0,0.0,0.0,2.0,1.0,1.0,1.0,0.0,0.0,0.0,0.0,0.0,0.0,0.0,0.0,0.0,2.0,0.0,0.0,0.0,0.0,0.0,0.0,0.0,1.0,0.0,0.0,0.0,0.0,0.0,0.0,1.0,0.0,0.0,1.0,0.0,0.0,2.0,1.0,0.0,0.0,1.0,1.0,0.0,0.0,2.0,1.0,0.0,0.0,0.0,0.0,1.0,0.0,2.0,1.0,0.0,1.0,0.0,1.0,1.0,0.0,1.0,0.0,1.0,0.0,1.0,1.0,0.0,0.0,1.0,1.0,0.0,0.0,0.0,0.0,1.0,0.0,0.0,2.0,0.0,0.0,0.0,0.0,0.0,0.0,0.0,1.0,0.0,1.0,2.0,0.0,0.0,2.0,0.0,0.0,0.0,1.0,0.0,0.0,0.0,0.0,1.0,0.0,0.0,0.0,1.0,0.0,0.0,0.0,1.0,2.0,0.0,0.0,1.0,0.0,0.0,1.0,1.0,0.0,0.0,0.0,1.0,0.0,1.0,0.0,0.0,0.0,0.0,1.0,1.0,1.0,1.0,3.0,0.0,0.0,0.0,1.0,1.0,1.0,1.0,0.0,0.0,1.0,1.0,0.0,0.0,0.0,0.0,0.0,0.0,2.0,0.0,0.0,2.0,0.0,0.0,0.0,0.0,0.0,1.0,0.0,0.0,0.0,0.0,0.0,0.0,0.0,1.0,0.0,1.0,0.0,1.0,0.0,0.0,0.0,1.0,0.0,0.0,2.0,1.0,2.0,0.0,0.0,0.0,2.0,0.0,1.0,0.0,0.0,0.0,3.0,2.0,0.0,0.0,1.0,2.0,1.0,0.0,1.0,1.0,0.0,1.0,1.0,0.0,0.0,1.0,0.0,1.0,0.0,1.0,1.0,0.0,0.0,1.0,0.0,0.0,1.0,0.0,0.0,0.0,0.0,0.0,0.0,1.0,0.0,0.0,0.0,1.0,0.0,1.0,0.0,0.0,1.0,2.0,1.0,0.0,0.0,0.0,0.0,0.0,0.0,0.0,0.0,0.0,0.0,0.0,0.0,0.0,1.0,0.0,0.0,0.0,2.0,1.0,0.0,2.0,0.0,0.0,0.0,0.0,1.0,0.0,0.0,0.0,0.0,0.0,0.0,0.0,0.0,5.0,1.0,0.0,0.0,1.0,1.0,1.0,0.0,0.0,0.0,0.0,2.0,1.0,4.0,1.0,0.0,0.0,0.0,0.0,1.0,1.0,0.0,0.0,0.0,0.0,0.0,0.0,0.0,1.0,1.0,0.0,0.0,1.0,1.0,0.0,0.0,1.0,0.0,0.0,0.0,2.0,1.0,0.0,0.0,0.0,0.0,0.0,1.0,0.0,1.0,1.0,2.0,1.0,0.0,0.0,0.0,1.0,0.0,0.0,1.0,1.0,0.0,0.0,3.0,0.0,1.0,1.0,0.0,0.0,0.0,0.0,1.0,0.0,2.0,2.0,1.0,1.0,0.0,0.0,1.0,0.0,0.0,0.0,1.0,0.0,1.0,0.0,0.0],\"mode\":\"lines+markers\",\"name\":\"gc_heap::relocate_phase\"}];\n",
       "           var layout = {\"title\":\"Custom Phase Data\",\"xaxis\":{\"title\":\"GC #\",\"_isSubplotObj\":true},\"yaxis\":{\"title\":\"Inclusive Cost\",\"_isSubplotObj\":true}};\n",
       "           Plotly.newPlot('bd8756e3-b64e-4e1a-a75c-63ab0ace33c8', data, layout);\n",
       "        \r\n",
       "});\n",
       "};\r\n",
       "// ensure `require` is available globally\r\n",
       "if ((typeof(require) !==  typeof(Function)) || (typeof(require.config) !== typeof(Function))) {\r\n",
       "    let require_script = document.createElement('script');\r\n",
       "    require_script.setAttribute('src', 'https://cdnjs.cloudflare.com/ajax/libs/require.js/2.3.6/require.min.js');\r\n",
       "    require_script.setAttribute('type', 'text/javascript');\r\n",
       "    \r\n",
       "    \r\n",
       "    require_script.onload = function() {\r\n",
       "        renderPlotly();\r\n",
       "    };\r\n",
       "\r\n",
       "    document.getElementsByTagName('head')[0].appendChild(require_script);\r\n",
       "}\r\n",
       "else {\r\n",
       "    renderPlotly();\r\n",
       "}\r\n",
       "\r\n",
       "</script>\r\n"
      ]
     },
     "metadata": {},
     "output_type": "display_data"
    }
   ],
   "source": [
    "(string, List<CPUInfo>) markPhaseData = \n",
    "    (\"gc_heap::mark_phase\", baselineCPUData.GetPerGCMethodCost(\"gc_heap::mark_phase\"));\n",
    "\n",
    "(string, List<CPUInfo>) planPhaseData = \n",
    "    (\"gc_heap::plan_phase\", baselineCPUData.GetPerGCMethodCost(\"gc_heap::plan_phase\"));\n",
    "\n",
    "(string, List<CPUInfo>) relocate_phase = \n",
    "    (\"gc_heap::relocate_phase\", baselineCPUData.GetPerGCMethodCost(\"gc_heap::relocate_phase\"));\n",
    "\n",
    "CPUCharting.ChartCountForGCMethods(new [] { markPhaseData, planPhaseData, relocate_phase }, \"Custom Phase Data\")"
   ]
  },
  {
   "cell_type": "code",
   "execution_count": 37,
   "metadata": {
    "dotnet_interactive": {
     "language": "csharp"
    },
    "vscode": {
     "languageId": "polyglot-notebook"
    }
   },
   "outputs": [
    {
     "data": {
      "text/html": [
       "<!DOCTYPE html>\r\n",
       "<div style=\"width: 900px; height: 500px;\" id=\"e8a8c7c6-37bf-4247-b382-38476f4f7f9b\"></div><script type=\"text/javascript\">\r\n",
       "\n",
       "var renderPlotly = function() {\n",
       "    var xplotRequire = require.config({context:'xplot-3.0.1',paths:{plotly:'https://cdn.plot.ly/plotly-1.49.2.min'}}) || require;\n",
       "    xplotRequire(['plotly'], function(Plotly) { \r\n",
       "\n",
       "            var data = [{\"type\":\"scatter\",\"showlegend\":true,\"x\":[196,200],\"y\":[1.0,4.0],\"mode\":\"lines+markers\",\"name\":\"gc_heap::mark_phase\"},{\"type\":\"scatter\",\"showlegend\":true,\"x\":[196,200],\"y\":[1.0,1.0],\"mode\":\"lines+markers\",\"name\":\"gc_heap::plan_phase\"}];\n",
       "           var layout = {\"title\":\"Custom Phase Data\",\"xaxis\":{\"title\":\"GC #\",\"_isSubplotObj\":true},\"yaxis\":{\"title\":\"Inclusive Cost\",\"_isSubplotObj\":true}};\n",
       "           Plotly.newPlot('e8a8c7c6-37bf-4247-b382-38476f4f7f9b', data, layout);\n",
       "        \r\n",
       "});\n",
       "};\r\n",
       "// ensure `require` is available globally\r\n",
       "if ((typeof(require) !==  typeof(Function)) || (typeof(require.config) !== typeof(Function))) {\r\n",
       "    let require_script = document.createElement('script');\r\n",
       "    require_script.setAttribute('src', 'https://cdnjs.cloudflare.com/ajax/libs/require.js/2.3.6/require.min.js');\r\n",
       "    require_script.setAttribute('type', 'text/javascript');\r\n",
       "    \r\n",
       "    \r\n",
       "    require_script.onload = function() {\r\n",
       "        renderPlotly();\r\n",
       "    };\r\n",
       "\r\n",
       "    document.getElementsByTagName('head')[0].appendChild(require_script);\r\n",
       "}\r\n",
       "else {\r\n",
       "    renderPlotly();\r\n",
       "}\r\n",
       "\r\n",
       "</script>\r\n"
      ]
     },
     "metadata": {},
     "output_type": "display_data"
    }
   ],
   "source": [
    "(string, List<CPUInfo>) markPhaseData = \n",
    "    (\"gc_heap::mark_phase\", comparandCPUData.GetPerGCMethodCost(methodName: \"gc_heap::mark_phase\", gcsToConsider: new HashSet<int>{ 196, 200 }));\n",
    "\n",
    "(string, List<CPUInfo>) planPhaseData = \n",
    "    (\"gc_heap::plan_phase\", comparandCPUData.GetPerGCMethodCost(methodName: \"gc_heap::plan_phase\", gcsToConsider: new HashSet<int> { 196, 200 }) );\n",
    "\n",
    "CPUCharting.ChartCountForGCMethods(new [] { markPhaseData, planPhaseData }, \"Custom Phase Data\")"
   ]
  },
  {
   "attachments": {},
   "cell_type": "markdown",
   "metadata": {},
   "source": [
    "##### Charting Counts For The Same Phase Between For Different Traces"
   ]
  },
  {
   "cell_type": "code",
   "execution_count": 39,
   "metadata": {
    "dotnet_interactive": {
     "language": "csharp"
    },
    "vscode": {
     "languageId": "polyglot-notebook"
    }
   },
   "outputs": [
    {
     "data": {
      "text/html": [
       "<!DOCTYPE html>\r\n",
       "<div style=\"width: 900px; height: 500px;\" id=\"aac2b45d-f999-4809-aff6-5b7fb3673200\"></div><script type=\"text/javascript\">\r\n",
       "\n",
       "var renderPlotly = function() {\n",
       "    var xplotRequire = require.config({context:'xplot-3.0.1',paths:{plotly:'https://cdn.plot.ly/plotly-1.49.2.min'}}) || require;\n",
       "    xplotRequire(['plotly'], function(Plotly) { \r\n",
       "\n",
       "            var data = [{\"type\":\"scatter\",\"showlegend\":true,\"x\":[1,2,3,4,5,6,7,8,9,10,11,12,13,14,15,16,17,18,19,20,21,22,23,24,25,26,27,28,29,30,31,32,33,34,35,36,37,38,39,40,41,42,43,44,45,46,47,48,49,50,51,52,53,54,55,56,57,58,59,60,61,62,63,64,65,66,67,68,69,70,71,72,73,74,75,76,77,78,79,80,81,82,83,84,85,86,87,88,89,90,91,92,93,94,95,96,97,98,99,100,101,102,103,104,105,106,107,108,109,110,111,112,113,114,115,116,117,118,119,120,121,122,123,124,125,126,127,128,129,130,131,132,133,134,135,136,137,138,139,140,141,142,143,144,145,146,147,148,149,150,151,152,153,154,155,156,157,158,159,160,161,162,163,164,165,166,167,168,169,170,171,172,173,174,175,176,177,178,179,180,181,182,183,184,185,186,187,188,189,190,191,192,193,194,195,196,197,198,199,200,201,202,203,204,205,206,207,208,209,210,211,212,213,214,215,216,217,218,219,220,221,222,223,224,225,226,227,228,229,230,231,232,233,234,235,236,237,238,239,240,241,242,243,244,245,246,247,248,249,250,251,252,253,254,255,256,257,258,259,260,261,262,263,264,265,266,267,268,269,270,271,272,273,274,275,276,277,278,279,280,281,282,283,284,285,286,287,288,289,290,291,292,293,294,295,296,297,298,299,300,301,302,303,304,305,306,307,308,309,310,311,312,313,314,315,316,317,318,319,320,321,322,323,324,325,326,327,328,329,330,331,332,333,334,335,336,337,338,339,340,341,342,343,344,345,346,347,348,349,350,351,352,353,354,355,356,357,358,359,360,361,362,363,364,365,366,367,368,369,370,371,372,373,374,375,376,377,378,379,380,381,382,383,384,385,386,387,388,389,390,391,392,393,394,395,396,397,398,399,400,401,402,403,404,405,406,407,408,409,410,411,412,413,414,415,416,417,418,419,420,421,422,423,424,425,426,427,428,429,430,431,432,433,434,435,436,437,438,439,440,441,442,443,444,445,446,447,448,449,450,451,452,453,454,455,456,457,458,459,460,461,462,463,464,465,466,467,468,469,470,471,472,473,474,475,476,477,478,479,480,481,482,483,484,485,486,487,488,489,490,491,492,493],\"y\":[7.0,3.0,5.0,5.0,0.0,5.0,2.0,4.0,1.0,10.0,2.0,9.0,2.0,3.0,2.0,7.0,1.0,1.0,1.0,1.0,2.0,0.0,2.0,9.0,3.0,6.0,1.0,6.0,4.0,2.0,4.0,1.0,5.0,3.0,2.0,2.0,7.0,2.0,1.0,13.0,4.0,3.0,1.0,2.0,2.0,1.0,1.0,3.0,2.0,1.0,2.0,2.0,1.0,2.0,2.0,6.0,1.0,2.0,0.0,5.0,0.0,5.0,5.0,2.0,0.0,0.0,2.0,8.0,2.0,1.0,1.0,4.0,3.0,6.0,2.0,0.0,1.0,2.0,2.0,4.0,0.0,0.0,2.0,4.0,2.0,4.0,2.0,2.0,2.0,1.0,2.0,1.0,2.0,0.0,4.0,0.0,1.0,4.0,3.0,0.0,3.0,1.0,2.0,1.0,1.0,3.0,0.0,2.0,1.0,1.0,13.0,18.0,2.0,1.0,1.0,4.0,2.0,4.0,3.0,1.0,4.0,3.0,0.0,5.0,4.0,1.0,1.0,1.0,5.0,2.0,2.0,1.0,4.0,5.0,1.0,8.0,4.0,2.0,1.0,2.0,2.0,2.0,2.0,0.0,2.0,2.0,5.0,1.0,2.0,7.0,0.0,3.0,1.0,3.0,0.0,1.0,3.0,2.0,2.0,2.0,1.0,7.0,2.0,2.0,0.0,1.0,5.0,1.0,2.0,4.0,6.0,1.0,7.0,4.0,1.0,3.0,4.0,0.0,6.0,6.0,19.0,0.0,2.0,3.0,3.0,1.0,2.0,2.0,2.0,4.0,1.0,3.0,2.0,2.0,2.0,1.0,0.0,2.0,0.0,4.0,4.0,3.0,4.0,3.0,6.0,7.0,4.0,3.0,0.0,4.0,4.0,4.0,5.0,3.0,5.0,0.0,5.0,2.0,1.0,8.0,1.0,1.0,2.0,0.0,3.0,6.0,2.0,2.0,3.0,2.0,7.0,1.0,2.0,6.0,6.0,2.0,9.0,1.0,7.0,1.0,4.0,3.0,4.0,5.0,9.0,6.0,1.0,10.0,10.0,3.0,4.0,5.0,3.0,1.0,3.0,2.0,4.0,6.0,5.0,1.0,2.0,2.0,0.0,0.0,1.0,2.0,4.0,2.0,1.0,3.0,1.0,1.0,4.0,5.0,2.0,4.0,6.0,1.0,4.0,6.0,0.0,6.0,0.0,2.0,0.0,1.0,4.0,1.0,2.0,3.0,7.0,1.0,6.0,3.0,3.0,4.0,4.0,5.0,2.0,2.0,2.0,7.0,3.0,3.0,5.0,5.0,1.0,5.0,1.0,2.0,4.0,0.0,3.0,1.0,6.0,5.0,2.0,13.0,23.0,10.0,4.0,3.0,4.0,5.0,2.0,3.0,4.0,4.0,2.0,2.0,6.0,2.0,4.0,1.0,5.0,5.0,3.0,6.0,4.0,4.0,2.0,5.0,2.0,4.0,5.0,2.0,3.0,2.0,4.0,2.0,5.0,5.0,3.0,2.0,4.0,3.0,3.0,4.0,5.0,1.0,1.0,6.0,9.0,4.0,2.0,5.0,4.0,2.0,1.0,4.0,1.0,3.0,4.0,3.0,3.0,6.0,4.0,2.0,2.0,2.0,10.0,8.0,7.0,4.0,3.0,3.0,6.0,18.0,17.0,26.0,2.0,2.0,2.0,10.0,4.0,6.0,4.0,5.0,1.0,3.0,4.0,3.0,1.0,2.0,1.0,9.0,7.0,4.0,3.0,6.0,9.0,1.0,1.0,3.0,8.0,3.0,3.0,5.0,2.0,2.0,2.0,1.0,6.0,6.0,0.0,8.0,2.0,3.0,5.0,3.0,5.0,4.0,9.0,5.0,2.0,6.0,6.0,2.0,4.0,5.0,4.0,4.0,2.0,2.0,3.0,3.0,4.0,3.0,3.0,0.0,2.0,4.0,1.0,1.0,3.0,3.0,6.0,12.0,4.0,3.0,6.0,3.0,6.0,4.0,2.0,4.0,6.0,3.0,5.0,0.0,5.0,2.0,0.0,0.0,2.0,2.0,1.0,3.0,1.0,0.0,4.0,2.0,3.0,5.0,0.0,3.0,3.0,1.0,1.0,5.0,3.0,3.0,1.0],\"mode\":\"lines+markers\",\"name\":\"gc_heap::mark_phase - Baseline\"},{\"type\":\"scatter\",\"showlegend\":true,\"x\":[1,2,3,4,5,6,7,8,9,10,11,12,13,14,15,16,17,18,19,20,21,22,23,24,25,26,27,28,29,30,31,32,33,34,35,36,37,38,39,40,41,42,43,44,45,46,47,48,49,50,51,52,53,54,55,56,57,58,59,60,61,62,63,64,65,66,67,68,69,70,71,72,73,74,75,76,77,78,79,80,81,82,83,84,85,86,87,88,89,90,91,92,93,94,95,96,97,98,99,100,101,102,103,104,105,106,107,108,109,110,111,112,113,114,115,116,117,118,119,120,121,122,123,124,125,126,127,128,129,130,131,132,133,134,135,136,137,138,139,140,141,142,143,144,145,146,147,148,149,150,151,152,153,154,155,156,157,158,159,160,161,162,163,164,165,166,167,168,169,170,171,172,173,174,175,176,177,178,179,180,181,182,183,184,185,186,187,188,189,190,191,192,193,194,195,196,197,198,199,200,201,202,203,204,205,206,207,208,209,210,211,212,213,214,215,216,217,218,219,220,221,222,223,224,225,226,227,228,229,230,231,232,233,234,235,236,237,238,239,240,241,242,243,244,245,246,247,248,249,250,251,252,253,254,255,256,257,258,259,260,261,262,263,264,265,266,267,268,269,270,271,272,273,274,275,276,277,278,279,280,281,282,283,284,285,286,287,288,289,290,291,292,293,294,295,296,297,298,299,300,301,302,303,304,305,306,307,308,309,310,311,312,313,314,315,316,317,318,319,320,321,322,323,324,325,326,327,328,329,330,331,332,333,334,335,336,337,338,339,340,341,342,343,344,345,346,347,348,349,350,351,352,353,354,355,356,357,358,359,360,361,362,363,364,365,366,367,368,369,370,371,372,373,374,375,376,377,378,379,380,381,382,383,384,385,386,387,388,389,390,391,392,393,394,395,396,397,398,399,400,401,402,403,404,405,406,407,408,409,410,411,412,413,414,415,416,417,418,419,420,421,422,423,424,425,426,427,428,429,430,431,432,433,434,435,436,437,438,439,440,441,442,443,444,445,446,447,448,449,450,451,452,453,454,455,456,457,458,459,460,461,462,463,464,465,466,467,468,469,470,471,472,473,474,475,476,477,478,479,480,481,482,483,484,485,486,487,488,489,490,491,492,493],\"y\":[7.0,3.0,5.0,5.0,0.0,5.0,2.0,4.0,1.0,10.0,2.0,9.0,2.0,3.0,2.0,7.0,1.0,1.0,1.0,1.0,2.0,0.0,2.0,9.0,3.0,6.0,1.0,6.0,4.0,2.0,4.0,1.0,5.0,3.0,2.0,2.0,7.0,2.0,1.0,13.0,4.0,3.0,1.0,2.0,2.0,1.0,1.0,3.0,2.0,1.0,2.0,2.0,1.0,2.0,2.0,6.0,1.0,2.0,0.0,5.0,0.0,5.0,5.0,2.0,0.0,0.0,2.0,8.0,2.0,1.0,1.0,4.0,3.0,6.0,2.0,0.0,1.0,2.0,2.0,4.0,0.0,0.0,2.0,4.0,2.0,4.0,2.0,2.0,2.0,1.0,2.0,1.0,2.0,0.0,4.0,0.0,1.0,4.0,3.0,0.0,3.0,1.0,2.0,1.0,1.0,3.0,0.0,2.0,1.0,1.0,13.0,18.0,2.0,1.0,1.0,4.0,2.0,4.0,3.0,1.0,4.0,3.0,0.0,5.0,4.0,1.0,1.0,1.0,5.0,2.0,2.0,1.0,4.0,5.0,1.0,8.0,4.0,2.0,1.0,2.0,2.0,2.0,2.0,0.0,2.0,2.0,5.0,1.0,2.0,7.0,0.0,3.0,1.0,3.0,0.0,1.0,3.0,2.0,2.0,2.0,1.0,7.0,2.0,2.0,0.0,1.0,5.0,1.0,2.0,4.0,6.0,1.0,7.0,4.0,1.0,3.0,4.0,0.0,6.0,6.0,19.0,0.0,2.0,3.0,3.0,1.0,2.0,2.0,2.0,4.0,1.0,3.0,2.0,2.0,2.0,1.0,0.0,2.0,0.0,4.0,4.0,3.0,4.0,3.0,6.0,7.0,4.0,3.0,0.0,4.0,4.0,4.0,5.0,3.0,5.0,0.0,5.0,2.0,1.0,8.0,1.0,1.0,2.0,0.0,3.0,6.0,2.0,2.0,3.0,2.0,7.0,1.0,2.0,6.0,6.0,2.0,9.0,1.0,7.0,1.0,4.0,3.0,4.0,5.0,9.0,6.0,1.0,10.0,10.0,3.0,4.0,5.0,3.0,1.0,3.0,2.0,4.0,6.0,5.0,1.0,2.0,2.0,0.0,0.0,1.0,2.0,4.0,2.0,1.0,3.0,1.0,1.0,4.0,5.0,2.0,4.0,6.0,1.0,4.0,6.0,0.0,6.0,0.0,2.0,0.0,1.0,4.0,1.0,2.0,3.0,7.0,1.0,6.0,3.0,3.0,4.0,4.0,5.0,2.0,2.0,2.0,7.0,3.0,3.0,5.0,5.0,1.0,5.0,1.0,2.0,4.0,0.0,3.0,1.0,6.0,5.0,2.0,13.0,23.0,10.0,4.0,3.0,4.0,5.0,2.0,3.0,4.0,4.0,2.0,2.0,6.0,2.0,4.0,1.0,5.0,5.0,3.0,6.0,4.0,4.0,2.0,5.0,2.0,4.0,5.0,2.0,3.0,2.0,4.0,2.0,5.0,5.0,3.0,2.0,4.0,3.0,3.0,4.0,5.0,1.0,1.0,6.0,9.0,4.0,2.0,5.0,4.0,2.0,1.0,4.0,1.0,3.0,4.0,3.0,3.0,6.0,4.0,2.0,2.0,2.0,10.0,8.0,7.0,4.0,3.0,3.0,6.0,18.0,17.0,26.0,2.0,2.0,2.0,10.0,4.0,6.0,4.0,5.0,1.0,3.0,4.0,3.0,1.0,2.0,1.0,9.0,7.0,4.0,3.0,6.0,9.0,1.0,1.0,3.0,8.0,3.0,3.0,5.0,2.0,2.0,2.0,1.0,6.0,6.0,0.0,8.0,2.0,3.0,5.0,3.0,5.0,4.0,9.0,5.0,2.0,6.0,6.0,2.0,4.0,5.0,4.0,4.0,2.0,2.0,3.0,3.0,4.0,3.0,3.0,0.0,2.0,4.0,1.0,1.0,3.0,3.0,6.0,12.0,4.0,3.0,6.0,3.0,6.0,4.0,2.0,4.0,6.0,3.0,5.0,0.0,5.0,2.0,0.0,0.0,2.0,2.0,1.0,3.0,1.0,0.0,4.0,2.0,3.0,5.0,0.0,3.0,3.0,1.0,1.0,5.0,3.0,3.0,1.0],\"mode\":\"lines+markers\",\"name\":\"gc_heap::plan_phase - Comparand\"}];\n",
       "           var layout = {\"title\":\"Mark Phase: Baseline vs. Comparand\",\"xaxis\":{\"title\":\"GC #\",\"_isSubplotObj\":true},\"yaxis\":{\"title\":\"Inclusive Cost\",\"_isSubplotObj\":true}};\n",
       "           Plotly.newPlot('aac2b45d-f999-4809-aff6-5b7fb3673200', data, layout);\n",
       "        \r\n",
       "});\n",
       "};\r\n",
       "// ensure `require` is available globally\r\n",
       "if ((typeof(require) !==  typeof(Function)) || (typeof(require.config) !== typeof(Function))) {\r\n",
       "    let require_script = document.createElement('script');\r\n",
       "    require_script.setAttribute('src', 'https://cdnjs.cloudflare.com/ajax/libs/require.js/2.3.6/require.min.js');\r\n",
       "    require_script.setAttribute('type', 'text/javascript');\r\n",
       "    \r\n",
       "    \r\n",
       "    require_script.onload = function() {\r\n",
       "        renderPlotly();\r\n",
       "    };\r\n",
       "\r\n",
       "    document.getElementsByTagName('head')[0].appendChild(require_script);\r\n",
       "}\r\n",
       "else {\r\n",
       "    renderPlotly();\r\n",
       "}\r\n",
       "\r\n",
       "</script>\r\n"
      ]
     },
     "metadata": {},
     "output_type": "display_data"
    }
   ],
   "source": [
    "(string, List<CPUInfo>) markPhaseData = \n",
    "    (\"gc_heap::mark_phase - Baseline\", baselineCPUData.GetPerGCMethodCost(methodName: \"gc_heap::mark_phase\"));\n",
    "\n",
    "(string, List<CPUInfo>) planPhaseData = \n",
    "    (\"gc_heap::plan_phase - Comparand\", comparandCPUData.GetPerGCMethodCost(methodName: \"gc_heap::mark_phase\"));\n",
    "\n",
    "CPUCharting.ChartCountForGCMethods(new [] { markPhaseData, planPhaseData }, \"Mark Phase: Baseline vs. Comparand\")"
   ]
  },
  {
   "attachments": {},
   "cell_type": "markdown",
   "metadata": {},
   "source": [
    "##### Charting Counts For Multiple GC Methods Using CPU Process Data"
   ]
  },
  {
   "cell_type": "code",
   "execution_count": 40,
   "metadata": {
    "dotnet_interactive": {
     "language": "csharp"
    },
    "vscode": {
     "languageId": "polyglot-notebook"
    }
   },
   "outputs": [
    {
     "data": {
      "text/html": [
       "<!DOCTYPE html>\r\n",
       "<div style=\"width: 900px; height: 500px;\" id=\"3d994b41-ddd1-40dc-be67-1042ffb1ae82\"></div><script type=\"text/javascript\">\r\n",
       "\n",
       "var renderPlotly = function() {\n",
       "    var xplotRequire = require.config({context:'xplot-3.0.1',paths:{plotly:'https://cdn.plot.ly/plotly-1.49.2.min'}}) || require;\n",
       "    xplotRequire(['plotly'], function(Plotly) { \r\n",
       "\n",
       "            var data = [{\"type\":\"scatter\",\"showlegend\":true,\"x\":[1,2,3,4,5,6,7,8,9,10,11,12,13,14,15,16,17,18,19,20,21,22,23,24,25,26,27,28,29,30,31,32,33,34,35,36,37,38,39,40,41,42,43,44,45,46,47,48,49,50,51,52,53,54,55,56,57,58,59,60,61,62,63,64,65,66,67,68,69,70,71,72,73,74,75,76,77,78,79,80,81,82,83,84,85,86,87,88,89,90,91,92,93,94,95,96,97,98,99,100,101,102,103,104,105,106,107,108,109,110,111,112,113,114,115,116,117,118,119,120,121,122,123,124,125,126,127,128,129,130,131,132,133,134,135,136,137,138,139,140,141,142,143,144,145,146,147,148,149,150,151,152,153,154,155,156,157,158,159,160,161,162,163,164,165,166,167,168,169,170,171,172,173,174,175,176,177,178,179,180,181,182,183,184,185,186,187,188,189,190,191,192,193,194,195,196,197,198,199,200,201,202,203,204,205,206,207,208,209,210,211,212,213,214,215,216,217,218,219,220,221,222,223,224,225,226,227,228,229,230,231,232,233,234,235,236,237,238,239,240,241,242,243,244,245,246,247,248,249,250,251,252,253,254,255,256,257,258,259,260,261,262,263,264,265,266,267,268,269,270,271,272,273,274,275,276,277,278,279,280,281,282,283,284,285,286,287,288,289,290,291,292,293,294,295,296,297,298,299,300,301,302,303,304,305,306,307,308,309,310,311,312,313,314,315,316,317,318,319,320,321,322,323,324,325,326,327,328,329,330,331,332,333,334,335,336,337,338,339,340,341,342,343,344,345,346,347,348,349,350,351,352,353,354,355,356,357,358,359,360,361,362,363,364,365,366,367,368,369,370,371,372,373,374,375,376,377,378,379,380,381,382,383,384,385,386,387,388,389,390,391,392,393,394,395,396,397,398,399,400,401,402,403,404,405,406,407,408,409,410,411,412,413,414,415,416,417,418,419,420,421,422,423,424,425,426,427,428,429,430,431,432,433,434,435,436,437,438,439,440,441,442,443,444,445,446,447,448,449,450,451,452,453,454,455,456,457,458,459,460,461,462,463,464,465,466,467,468,469,470,471,472,473,474,475,476,477,478,479,480,481,482,483,484,485,486,487,488,489,490,491,492,493],\"y\":[7.0,3.0,5.0,5.0,0.0,5.0,2.0,4.0,1.0,10.0,2.0,9.0,2.0,3.0,2.0,7.0,1.0,1.0,1.0,1.0,2.0,0.0,2.0,9.0,3.0,6.0,1.0,6.0,4.0,2.0,4.0,1.0,5.0,3.0,2.0,2.0,7.0,2.0,1.0,13.0,4.0,3.0,1.0,2.0,2.0,1.0,1.0,3.0,2.0,1.0,2.0,2.0,1.0,2.0,2.0,6.0,1.0,2.0,0.0,5.0,0.0,5.0,5.0,2.0,0.0,0.0,2.0,8.0,2.0,1.0,1.0,4.0,3.0,6.0,2.0,0.0,1.0,2.0,2.0,4.0,0.0,0.0,2.0,4.0,2.0,4.0,2.0,2.0,2.0,1.0,2.0,1.0,2.0,0.0,4.0,0.0,1.0,4.0,3.0,0.0,3.0,1.0,2.0,1.0,1.0,3.0,0.0,2.0,1.0,1.0,13.0,18.0,2.0,1.0,1.0,4.0,2.0,4.0,3.0,1.0,4.0,3.0,0.0,5.0,4.0,1.0,1.0,1.0,5.0,2.0,2.0,1.0,4.0,5.0,1.0,8.0,4.0,2.0,1.0,2.0,2.0,2.0,2.0,0.0,2.0,2.0,5.0,1.0,2.0,7.0,0.0,3.0,1.0,3.0,0.0,1.0,3.0,2.0,2.0,2.0,1.0,7.0,2.0,2.0,0.0,1.0,5.0,1.0,2.0,4.0,6.0,1.0,7.0,4.0,1.0,3.0,4.0,0.0,6.0,6.0,19.0,0.0,2.0,3.0,3.0,1.0,2.0,2.0,2.0,4.0,1.0,3.0,2.0,2.0,2.0,1.0,0.0,2.0,0.0,4.0,4.0,3.0,4.0,3.0,6.0,7.0,4.0,3.0,0.0,4.0,4.0,4.0,5.0,3.0,5.0,0.0,5.0,2.0,1.0,8.0,1.0,1.0,2.0,0.0,3.0,6.0,2.0,2.0,3.0,2.0,7.0,1.0,2.0,6.0,6.0,2.0,9.0,1.0,7.0,1.0,4.0,3.0,4.0,5.0,9.0,6.0,1.0,10.0,10.0,3.0,4.0,5.0,3.0,1.0,3.0,2.0,4.0,6.0,5.0,1.0,2.0,2.0,0.0,0.0,1.0,2.0,4.0,2.0,1.0,3.0,1.0,1.0,4.0,5.0,2.0,4.0,6.0,1.0,4.0,6.0,0.0,6.0,0.0,2.0,0.0,1.0,4.0,1.0,2.0,3.0,7.0,1.0,6.0,3.0,3.0,4.0,4.0,5.0,2.0,2.0,2.0,7.0,3.0,3.0,5.0,5.0,1.0,5.0,1.0,2.0,4.0,0.0,3.0,1.0,6.0,5.0,2.0,13.0,23.0,10.0,4.0,3.0,4.0,5.0,2.0,3.0,4.0,4.0,2.0,2.0,6.0,2.0,4.0,1.0,5.0,5.0,3.0,6.0,4.0,4.0,2.0,5.0,2.0,4.0,5.0,2.0,3.0,2.0,4.0,2.0,5.0,5.0,3.0,2.0,4.0,3.0,3.0,4.0,5.0,1.0,1.0,6.0,9.0,4.0,2.0,5.0,4.0,2.0,1.0,4.0,1.0,3.0,4.0,3.0,3.0,6.0,4.0,2.0,2.0,2.0,10.0,8.0,7.0,4.0,3.0,3.0,6.0,18.0,17.0,26.0,2.0,2.0,2.0,10.0,4.0,6.0,4.0,5.0,1.0,3.0,4.0,3.0,1.0,2.0,1.0,9.0,7.0,4.0,3.0,6.0,9.0,1.0,1.0,3.0,8.0,3.0,3.0,5.0,2.0,2.0,2.0,1.0,6.0,6.0,0.0,8.0,2.0,3.0,5.0,3.0,5.0,4.0,9.0,5.0,2.0,6.0,6.0,2.0,4.0,5.0,4.0,4.0,2.0,2.0,3.0,3.0,4.0,3.0,3.0,0.0,2.0,4.0,1.0,1.0,3.0,3.0,6.0,12.0,4.0,3.0,6.0,3.0,6.0,4.0,2.0,4.0,6.0,3.0,5.0,0.0,5.0,2.0,0.0,0.0,2.0,2.0,1.0,3.0,1.0,0.0,4.0,2.0,3.0,5.0,0.0,3.0,3.0,1.0,1.0,5.0,3.0,3.0,1.0],\"mode\":\"lines+markers\",\"name\":\"gc_heap::mark_phase\"},{\"type\":\"scatter\",\"showlegend\":true,\"x\":[1,2,3,4,5,6,7,8,9,10,11,12,13,14,15,16,17,18,19,20,21,22,23,24,25,26,27,28,29,30,31,32,33,34,35,36,37,38,39,40,41,42,43,44,45,46,47,48,49,50,51,52,53,54,55,56,57,58,59,60,61,62,63,64,65,66,67,68,69,70,71,72,73,74,75,76,77,78,79,80,81,82,83,84,85,86,87,88,89,90,91,92,93,94,95,96,97,98,99,100,101,102,103,104,105,106,107,108,109,110,111,112,113,114,115,116,117,118,119,120,121,122,123,124,125,126,127,128,129,130,131,132,133,134,135,136,137,138,139,140,141,142,143,144,145,146,147,148,149,150,151,152,153,154,155,156,157,158,159,160,161,162,163,164,165,166,167,168,169,170,171,172,173,174,175,176,177,178,179,180,181,182,183,184,185,186,187,188,189,190,191,192,193,194,195,196,197,198,199,200,201,202,203,204,205,206,207,208,209,210,211,212,213,214,215,216,217,218,219,220,221,222,223,224,225,226,227,228,229,230,231,232,233,234,235,236,237,238,239,240,241,242,243,244,245,246,247,248,249,250,251,252,253,254,255,256,257,258,259,260,261,262,263,264,265,266,267,268,269,270,271,272,273,274,275,276,277,278,279,280,281,282,283,284,285,286,287,288,289,290,291,292,293,294,295,296,297,298,299,300,301,302,303,304,305,306,307,308,309,310,311,312,313,314,315,316,317,318,319,320,321,322,323,324,325,326,327,328,329,330,331,332,333,334,335,336,337,338,339,340,341,342,343,344,345,346,347,348,349,350,351,352,353,354,355,356,357,358,359,360,361,362,363,364,365,366,367,368,369,370,371,372,373,374,375,376,377,378,379,380,381,382,383,384,385,386,387,388,389,390,391,392,393,394,395,396,397,398,399,400,401,402,403,404,405,406,407,408,409,410,411,412,413,414,415,416,417,418,419,420,421,422,423,424,425,426,427,428,429,430,431,432,433,434,435,436,437,438,439,440,441,442,443,444,445,446,447,448,449,450,451,452,453,454,455,456,457,458,459,460,461,462,463,464,465,466,467,468,469,470,471,472,473,474,475,476,477,478,479,480,481,482,483,484,485,486,487,488,489,490,491,492,493],\"y\":[2.0,4.0,0.0,0.0,1.0,1.0,1.0,0.0,0.0,1.0,1.0,0.0,0.0,1.0,0.0,0.0,0.0,0.0,0.0,1.0,0.0,1.0,1.0,4.0,0.0,0.0,0.0,0.0,2.0,0.0,1.0,1.0,1.0,0.0,0.0,3.0,0.0,0.0,0.0,0.0,0.0,2.0,0.0,2.0,1.0,0.0,1.0,3.0,0.0,0.0,0.0,2.0,0.0,0.0,2.0,0.0,1.0,0.0,0.0,2.0,0.0,0.0,5.0,0.0,0.0,1.0,0.0,0.0,0.0,2.0,1.0,0.0,1.0,0.0,0.0,2.0,0.0,0.0,0.0,0.0,0.0,1.0,0.0,0.0,0.0,0.0,0.0,0.0,0.0,1.0,2.0,0.0,0.0,0.0,1.0,0.0,2.0,1.0,0.0,1.0,1.0,0.0,0.0,2.0,0.0,0.0,0.0,1.0,1.0,1.0,1.0,1.0,1.0,0.0,0.0,0.0,0.0,0.0,1.0,1.0,0.0,0.0,1.0,2.0,0.0,0.0,0.0,0.0,2.0,0.0,0.0,0.0,1.0,2.0,0.0,1.0,0.0,0.0,1.0,0.0,1.0,0.0,0.0,3.0,1.0,0.0,1.0,1.0,1.0,0.0,0.0,0.0,2.0,2.0,0.0,0.0,1.0,2.0,1.0,0.0,1.0,0.0,0.0,0.0,0.0,0.0,1.0,0.0,0.0,1.0,1.0,1.0,0.0,2.0,2.0,0.0,0.0,0.0,3.0,2.0,3.0,0.0,0.0,1.0,4.0,0.0,0.0,1.0,0.0,0.0,0.0,0.0,0.0,0.0,0.0,1.0,0.0,1.0,0.0,1.0,1.0,0.0,0.0,0.0,1.0,2.0,0.0,0.0,0.0,0.0,0.0,1.0,0.0,0.0,0.0,0.0,0.0,0.0,0.0,0.0,2.0,0.0,1.0,0.0,0.0,0.0,0.0,1.0,0.0,1.0,0.0,0.0,0.0,0.0,0.0,1.0,1.0,0.0,0.0,2.0,0.0,2.0,2.0,0.0,0.0,0.0,5.0,8.0,0.0,1.0,0.0,0.0,0.0,0.0,1.0,2.0,0.0,1.0,0.0,4.0,0.0,0.0,0.0,1.0,0.0,0.0,0.0,1.0,1.0,0.0,2.0,0.0,0.0,0.0,3.0,3.0,1.0,0.0,1.0,0.0,0.0,1.0,1.0,1.0,0.0,1.0,0.0,0.0,0.0,1.0,1.0,1.0,0.0,3.0,1.0,0.0,0.0,1.0,1.0,0.0,2.0,0.0,6.0,0.0,0.0,0.0,2.0,0.0,0.0,0.0,0.0,2.0,1.0,1.0,3.0,1.0,2.0,5.0,6.0,1.0,2.0,0.0,3.0,0.0,1.0,0.0,0.0,2.0,0.0,0.0,1.0,0.0,0.0,0.0,2.0,0.0,2.0,0.0,0.0,0.0,0.0,1.0,0.0,1.0,0.0,2.0,0.0,1.0,1.0,1.0,3.0,1.0,0.0,0.0,1.0,0.0,0.0,1.0,1.0,0.0,0.0,0.0,0.0,2.0,0.0,0.0,1.0,1.0,1.0,0.0,1.0,1.0,0.0,1.0,0.0,1.0,0.0,0.0,0.0,0.0,1.0,2.0,0.0,0.0,0.0,1.0,3.0,1.0,7.0,14.0,1.0,1.0,0.0,1.0,0.0,0.0,0.0,1.0,1.0,0.0,3.0,1.0,1.0,0.0,1.0,0.0,1.0,0.0,0.0,0.0,2.0,0.0,1.0,0.0,1.0,0.0,0.0,2.0,1.0,1.0,0.0,2.0,0.0,4.0,1.0,1.0,4.0,1.0,0.0,1.0,0.0,0.0,0.0,0.0,0.0,1.0,2.0,0.0,0.0,0.0,1.0,2.0,1.0,1.0,0.0,0.0,2.0,0.0,1.0,3.0,0.0,1.0,1.0,0.0,0.0,0.0,1.0,3.0,0.0,1.0,2.0,0.0,0.0,0.0,2.0,0.0,2.0,0.0,0.0,0.0,1.0,2.0,0.0,0.0,0.0,0.0,0.0,0.0,1.0,2.0,1.0,0.0,0.0,0.0,2.0,0.0,0.0,2.0,0.0,0.0,2.0,2.0,1.0],\"mode\":\"lines+markers\",\"name\":\"gc_heap::plan_phase\"},{\"type\":\"scatter\",\"showlegend\":true,\"x\":[1,2,3,4,5,6,7,8,9,10,11,12,13,14,15,16,17,18,19,20,21,22,23,24,25,26,27,28,29,30,31,32,33,34,35,36,37,38,39,40,41,42,43,44,45,46,47,48,49,50,51,52,53,54,55,56,57,58,59,60,61,62,63,64,65,66,67,68,69,70,71,72,73,74,75,76,77,78,79,80,81,82,83,84,85,86,87,88,89,90,91,92,93,94,95,96,97,98,99,100,101,102,103,104,105,106,107,108,109,110,111,112,113,114,115,116,117,118,119,120,121,122,123,124,125,126,127,128,129,130,131,132,133,134,135,136,137,138,139,140,141,142,143,144,145,146,147,148,149,150,151,152,153,154,155,156,157,158,159,160,161,162,163,164,165,166,167,168,169,170,171,172,173,174,175,176,177,178,179,180,181,182,183,184,185,186,187,188,189,190,191,192,193,194,195,196,197,198,199,200,201,202,203,204,205,206,207,208,209,210,211,212,213,214,215,216,217,218,219,220,221,222,223,224,225,226,227,228,229,230,231,232,233,234,235,236,237,238,239,240,241,242,243,244,245,246,247,248,249,250,251,252,253,254,255,256,257,258,259,260,261,262,263,264,265,266,267,268,269,270,271,272,273,274,275,276,277,278,279,280,281,282,283,284,285,286,287,288,289,290,291,292,293,294,295,296,297,298,299,300,301,302,303,304,305,306,307,308,309,310,311,312,313,314,315,316,317,318,319,320,321,322,323,324,325,326,327,328,329,330,331,332,333,334,335,336,337,338,339,340,341,342,343,344,345,346,347,348,349,350,351,352,353,354,355,356,357,358,359,360,361,362,363,364,365,366,367,368,369,370,371,372,373,374,375,376,377,378,379,380,381,382,383,384,385,386,387,388,389,390,391,392,393,394,395,396,397,398,399,400,401,402,403,404,405,406,407,408,409,410,411,412,413,414,415,416,417,418,419,420,421,422,423,424,425,426,427,428,429,430,431,432,433,434,435,436,437,438,439,440,441,442,443,444,445,446,447,448,449,450,451,452,453,454,455,456,457,458,459,460,461,462,463,464,465,466,467,468,469,470,471,472,473,474,475,476,477,478,479,480,481,482,483,484,485,486,487,488,489,490,491,492,493],\"y\":[0.0,1.0,1.0,1.0,0.0,1.0,2.0,0.0,0.0,0.0,0.0,0.0,0.0,0.0,0.0,0.0,0.0,0.0,0.0,2.0,0.0,0.0,0.0,0.0,0.0,1.0,0.0,0.0,0.0,0.0,0.0,0.0,1.0,1.0,1.0,1.0,1.0,0.0,0.0,0.0,1.0,0.0,0.0,1.0,1.0,0.0,0.0,1.0,0.0,0.0,0.0,0.0,0.0,0.0,1.0,0.0,1.0,1.0,0.0,1.0,1.0,1.0,0.0,2.0,0.0,0.0,0.0,0.0,2.0,0.0,0.0,1.0,0.0,0.0,0.0,0.0,0.0,0.0,0.0,0.0,1.0,1.0,0.0,0.0,2.0,0.0,0.0,1.0,1.0,0.0,0.0,0.0,0.0,2.0,1.0,1.0,1.0,0.0,0.0,0.0,1.0,1.0,0.0,0.0,0.0,0.0,0.0,0.0,0.0,1.0,1.0,1.0,0.0,0.0,1.0,0.0,3.0,0.0,0.0,0.0,1.0,1.0,0.0,0.0,0.0,0.0,1.0,0.0,1.0,0.0,3.0,1.0,0.0,0.0,1.0,0.0,0.0,0.0,0.0,2.0,1.0,1.0,1.0,0.0,0.0,0.0,0.0,0.0,0.0,0.0,0.0,0.0,2.0,0.0,0.0,0.0,0.0,0.0,0.0,0.0,1.0,0.0,0.0,0.0,0.0,0.0,0.0,1.0,0.0,0.0,1.0,0.0,0.0,2.0,1.0,0.0,0.0,1.0,1.0,0.0,0.0,2.0,1.0,0.0,0.0,0.0,0.0,1.0,0.0,2.0,1.0,0.0,1.0,0.0,1.0,1.0,0.0,1.0,0.0,1.0,0.0,1.0,1.0,0.0,0.0,1.0,1.0,0.0,0.0,0.0,0.0,1.0,0.0,0.0,2.0,0.0,0.0,0.0,0.0,0.0,0.0,0.0,1.0,0.0,1.0,2.0,0.0,0.0,2.0,0.0,0.0,0.0,1.0,0.0,0.0,0.0,0.0,1.0,0.0,0.0,0.0,1.0,0.0,0.0,0.0,1.0,2.0,0.0,0.0,1.0,0.0,0.0,1.0,1.0,0.0,0.0,0.0,1.0,0.0,1.0,0.0,0.0,0.0,0.0,1.0,1.0,1.0,1.0,3.0,0.0,0.0,0.0,1.0,1.0,1.0,1.0,0.0,0.0,1.0,1.0,0.0,0.0,0.0,0.0,0.0,0.0,2.0,0.0,0.0,2.0,0.0,0.0,0.0,0.0,0.0,1.0,0.0,0.0,0.0,0.0,0.0,0.0,0.0,1.0,0.0,1.0,0.0,1.0,0.0,0.0,0.0,1.0,0.0,0.0,2.0,1.0,2.0,0.0,0.0,0.0,2.0,0.0,1.0,0.0,0.0,0.0,3.0,2.0,0.0,0.0,1.0,2.0,1.0,0.0,1.0,1.0,0.0,1.0,1.0,0.0,0.0,1.0,0.0,1.0,0.0,1.0,1.0,0.0,0.0,1.0,0.0,0.0,1.0,0.0,0.0,0.0,0.0,0.0,0.0,1.0,0.0,0.0,0.0,1.0,0.0,1.0,0.0,0.0,1.0,2.0,1.0,0.0,0.0,0.0,0.0,0.0,0.0,0.0,0.0,0.0,0.0,0.0,0.0,0.0,1.0,0.0,0.0,0.0,2.0,1.0,0.0,2.0,0.0,0.0,0.0,0.0,1.0,0.0,0.0,0.0,0.0,0.0,0.0,0.0,0.0,5.0,1.0,0.0,0.0,1.0,1.0,1.0,0.0,0.0,0.0,0.0,2.0,1.0,4.0,1.0,0.0,0.0,0.0,0.0,1.0,1.0,0.0,0.0,0.0,0.0,0.0,0.0,0.0,1.0,1.0,0.0,0.0,1.0,1.0,0.0,0.0,1.0,0.0,0.0,0.0,2.0,1.0,0.0,0.0,0.0,0.0,0.0,1.0,0.0,1.0,1.0,2.0,1.0,0.0,0.0,0.0,1.0,0.0,0.0,1.0,1.0,0.0,0.0,3.0,0.0,1.0,1.0,0.0,0.0,0.0,0.0,1.0,0.0,2.0,2.0,1.0,1.0,0.0,0.0,1.0,0.0,0.0,0.0,1.0,0.0,1.0,0.0,0.0],\"mode\":\"lines+markers\",\"name\":\"gc_heap::relocate_phase\"},{\"type\":\"scatter\",\"showlegend\":true,\"x\":[1,2,3,4,5,6,7,8,9,10,11,12,13,14,15,16,17,18,19,20,21,22,23,24,25,26,27,28,29,30,31,32,33,34,35,36,37,38,39,40,41,42,43,44,45,46,47,48,49,50,51,52,53,54,55,56,57,58,59,60,61,62,63,64,65,66,67,68,69,70,71,72,73,74,75,76,77,78,79,80,81,82,83,84,85,86,87,88,89,90,91,92,93,94,95,96,97,98,99,100,101,102,103,104,105,106,107,108,109,110,111,112,113,114,115,116,117,118,119,120,121,122,123,124,125,126,127,128,129,130,131,132,133,134,135,136,137,138,139,140,141,142,143,144,145,146,147,148,149,150,151,152,153,154,155,156,157,158,159,160,161,162,163,164,165,166,167,168,169,170,171,172,173,174,175,176,177,178,179,180,181,182,183,184,185,186,187,188,189,190,191,192,193,194,195,196,197,198,199,200,201,202,203,204,205,206,207,208,209,210,211,212,213,214,215,216,217,218,219,220,221,222,223,224,225,226,227,228,229,230,231,232,233,234,235,236,237,238,239,240,241,242,243,244,245,246,247,248,249,250,251,252,253,254,255,256,257,258,259,260,261,262,263,264,265,266,267,268,269,270,271,272,273,274,275,276,277,278,279,280,281,282,283,284,285,286,287,288,289,290,291,292,293,294,295,296,297,298,299,300,301,302,303,304,305,306,307,308,309,310,311,312,313,314,315,316,317,318,319,320,321,322,323,324,325,326,327,328,329,330,331,332,333,334,335,336,337,338,339,340,341,342,343,344,345,346,347,348,349,350,351,352,353,354,355,356,357,358,359,360,361,362,363,364,365,366,367,368,369,370,371,372,373,374,375,376,377,378,379,380,381,382,383,384,385,386,387,388,389,390,391,392,393,394,395,396,397,398,399,400,401,402,403,404,405,406,407,408,409,410,411,412,413,414,415,416,417,418,419,420,421,422,423,424,425,426,427,428,429,430,431,432,433,434,435,436,437,438,439,440,441,442,443,444,445,446,447,448,449,450,451,452,453,454,455,456,457,458,459,460,461,462,463,464,465,466,467,468,469,470,471,472,473,474,475,476,477,478,479,480,481,482,483,484,485,486,487,488,489,490,491,492,493],\"y\":[1.0,0.0,1.0,0.0,0.0,0.0,3.0,0.0,0.0,1.0,0.0,0.0,0.0,0.0,0.0,0.0,0.0,3.0,0.0,1.0,1.0,0.0,0.0,0.0,0.0,0.0,0.0,0.0,3.0,0.0,0.0,0.0,1.0,0.0,0.0,0.0,1.0,0.0,1.0,1.0,1.0,0.0,1.0,0.0,0.0,1.0,0.0,0.0,1.0,0.0,0.0,1.0,0.0,0.0,0.0,0.0,0.0,1.0,0.0,1.0,0.0,2.0,1.0,1.0,0.0,0.0,0.0,0.0,0.0,0.0,1.0,0.0,2.0,0.0,0.0,0.0,0.0,0.0,1.0,1.0,1.0,1.0,0.0,1.0,0.0,1.0,1.0,0.0,0.0,0.0,0.0,0.0,0.0,0.0,0.0,0.0,1.0,0.0,0.0,0.0,0.0,1.0,1.0,1.0,1.0,0.0,1.0,1.0,0.0,0.0,0.0,0.0,1.0,0.0,1.0,1.0,0.0,1.0,0.0,0.0,0.0,0.0,2.0,0.0,1.0,0.0,1.0,0.0,0.0,0.0,0.0,0.0,1.0,1.0,0.0,0.0,0.0,0.0,0.0,0.0,2.0,0.0,1.0,1.0,0.0,0.0,0.0,1.0,0.0,0.0,0.0,1.0,1.0,0.0,0.0,0.0,0.0,0.0,0.0,0.0,0.0,1.0,0.0,1.0,1.0,1.0,0.0,0.0,0.0,1.0,0.0,0.0,0.0,0.0,0.0,2.0,0.0,0.0,3.0,0.0,1.0,3.0,0.0,2.0,0.0,0.0,0.0,1.0,0.0,0.0,2.0,0.0,1.0,1.0,0.0,1.0,2.0,1.0,1.0,1.0,0.0,1.0,1.0,0.0,0.0,0.0,0.0,1.0,0.0,2.0,0.0,0.0,1.0,1.0,0.0,0.0,0.0,1.0,0.0,0.0,1.0,0.0,0.0,0.0,1.0,0.0,0.0,1.0,0.0,0.0,0.0,0.0,2.0,0.0,0.0,1.0,0.0,0.0,0.0,0.0,1.0,1.0,1.0,1.0,0.0,0.0,2.0,0.0,0.0,0.0,0.0,1.0,0.0,0.0,1.0,1.0,0.0,2.0,0.0,0.0,0.0,0.0,0.0,0.0,1.0,0.0,2.0,0.0,1.0,0.0,1.0,0.0,0.0,1.0,0.0,0.0,1.0,0.0,0.0,1.0,1.0,0.0,0.0,0.0,0.0,0.0,0.0,0.0,1.0,1.0,1.0,0.0,1.0,0.0,0.0,1.0,1.0,2.0,0.0,0.0,0.0,1.0,1.0,1.0,1.0,1.0,0.0,2.0,0.0,0.0,0.0,0.0,2.0,1.0,0.0,0.0,0.0,8.0,6.0,0.0,0.0,0.0,1.0,1.0,0.0,0.0,2.0,2.0,0.0,1.0,1.0,0.0,0.0,0.0,0.0,0.0,0.0,0.0,0.0,1.0,1.0,0.0,0.0,0.0,0.0,1.0,0.0,1.0,1.0,0.0,0.0,0.0,0.0,1.0,0.0,0.0,0.0,0.0,1.0,0.0,0.0,0.0,0.0,0.0,1.0,1.0,2.0,3.0,1.0,0.0,0.0,1.0,0.0,1.0,0.0,2.0,3.0,1.0,3.0,0.0,0.0,1.0,1.0,0.0,1.0,0.0,0.0,4.0,6.0,6.0,2.0,0.0,1.0,1.0,0.0,0.0,0.0,0.0,1.0,1.0,0.0,0.0,1.0,0.0,0.0,0.0,0.0,0.0,0.0,0.0,0.0,0.0,0.0,0.0,1.0,1.0,0.0,5.0,1.0,0.0,0.0,0.0,2.0,1.0,1.0,0.0,1.0,1.0,0.0,0.0,1.0,0.0,0.0,0.0,0.0,1.0,1.0,1.0,0.0,0.0,0.0,1.0,0.0,1.0,1.0,1.0,1.0,0.0,0.0,1.0,0.0,2.0,0.0,0.0,0.0,0.0,0.0,0.0,0.0,0.0,0.0,0.0,0.0,0.0,0.0,1.0,0.0,0.0,0.0,0.0,1.0,0.0,1.0,1.0,0.0,0.0,0.0,1.0,2.0,0.0,0.0,1.0,0.0,1.0,0.0,0.0,0.0,0.0,0.0,0.0,1.0,0.0,0.0],\"mode\":\"lines+markers\",\"name\":\"gc_heap::compact_phase\"}];\n",
       "           var layout = {\"title\":\"Major GC Phases\",\"xaxis\":{\"title\":\"GC #\",\"_isSubplotObj\":true},\"yaxis\":{\"title\":\"Inclusive Count\",\"_isSubplotObj\":true}};\n",
       "           Plotly.newPlot('3d994b41-ddd1-40dc-be67-1042ffb1ae82', data, layout);\n",
       "        \r\n",
       "});\n",
       "};\r\n",
       "// ensure `require` is available globally\r\n",
       "if ((typeof(require) !==  typeof(Function)) || (typeof(require.config) !== typeof(Function))) {\r\n",
       "    let require_script = document.createElement('script');\r\n",
       "    require_script.setAttribute('src', 'https://cdnjs.cloudflare.com/ajax/libs/require.js/2.3.6/require.min.js');\r\n",
       "    require_script.setAttribute('type', 'text/javascript');\r\n",
       "    \r\n",
       "    \r\n",
       "    require_script.onload = function() {\r\n",
       "        renderPlotly();\r\n",
       "    };\r\n",
       "\r\n",
       "    document.getElementsByTagName('head')[0].appendChild(require_script);\r\n",
       "}\r\n",
       "else {\r\n",
       "    renderPlotly();\r\n",
       "}\r\n",
       "\r\n",
       "</script>\r\n"
      ]
     },
     "metadata": {},
     "output_type": "display_data"
    }
   ],
   "source": [
    "baselineCPUData.ChartCountForGCMethods(methodNames: new [] { \"gc_heap::mark_phase\", \"gc_heap::plan_phase\", \"gc_heap::relocate_phase\", \"gc_heap::compact_phase\" }, \n",
    "                                 title: \"Major GC Phases\")"
   ]
  },
  {
   "attachments": {},
   "cell_type": "markdown",
   "metadata": {},
   "source": [
    "#### Charting GC Data With CPU Data"
   ]
  },
  {
   "cell_type": "code",
   "execution_count": 41,
   "metadata": {
    "dotnet_interactive": {
     "language": "csharp"
    },
    "vscode": {
     "languageId": "polyglot-notebook"
    }
   },
   "outputs": [],
   "source": [
    "GCProcessData processData = comparandAnalyzer.GetProcessGCData(\"corerun\").Single();"
   ]
  },
  {
   "cell_type": "code",
   "execution_count": 43,
   "metadata": {
    "dotnet_interactive": {
     "language": "csharp"
    },
    "vscode": {
     "languageId": "polyglot-notebook"
    }
   },
   "outputs": [
    {
     "data": {
      "text/html": [
       "<!DOCTYPE html>\r\n",
       "<div style=\"width: 900px; height: 500px;\" id=\"9e7b24a2-3bab-40ea-b2f7-7bc3305186e5\"></div><script type=\"text/javascript\">\r\n",
       "\n",
       "var renderPlotly = function() {\n",
       "    var xplotRequire = require.config({context:'xplot-3.0.1',paths:{plotly:'https://cdn.plot.ly/plotly-1.49.2.min'}}) || require;\n",
       "    xplotRequire(['plotly'], function(Plotly) { \r\n",
       "\n",
       "            var data = [{\"type\":\"scatter\",\"showlegend\":true,\"x\":[1,2,3,4,5,6,7,8,9,10,11,12,13,14,15,16,17,18,19,20,21,22,23,24,25,26,27,28,29,30,31,32,33,34,35,36,37,38,39,40,41,42,43,44,45,46,47,48,49,50,51,52,53,54,55,56,57,58,59,60,61,62,63,64,65,66,67,68,69,70,71,72,73,74,75,76,77,78,79,80,81,82,83,84,85,86,87,88,89,90,91,92,93,94,95,96,97,98,99,100,101,102,103,104,105,106,107,108,109,110,111,112,113,114,115,116,117,118,119,120,121,122,123,124,125,126,127,128,129,130,131,132,133,134,135,136,137,138,139,140,141,142,143,144,145,146,147,148,149,150,151,152,153,154,155,156,157,158,159,160,161,162,163,164,165,166,167,168,169,170,171,172,173,174,175,176,177,178,179,180,181,182,183,184,185,186,187,188,189,190,191,192,193,194,195,196,197,198,199,200,201,202,203,204,205,206,207,208,209,210,211,212,213,214,215,216,217,218,219,220,221,222,223,224,225,226,227,228,229,230,231,232,233,234,235,236,237,238,239,240,241,242,243,244,245,246,247,248,249,250,251,252,253,254,255,256,257,258,259,260,261,262,263,264,265,266,267,268,269,270,271,272,273,274,275,276,277,278,279,280,281,282,283,284,285,286,287,288,289,290,291,292,293,294,295,296,297,298,299,300,301,302,303,304,305,306,307,308,309,310,311,312,313,314,315,316,317,318,319,320,321,322,323,324,325,326,327,328,329,330,331,332,333,334,335,336,337,338,339,340,341,342,343,344,345,346,347,348,349,350,351,352,353,354,355,356,357,358,359,360,361,362,363,364,365,366,367,368,369,370,371,372,373,374,375,376,377,378,379,380,381,382,383,384,385,386,387,388,389,390,391,392,393,394,395,396,397,398,399,400,401,402,403,404,405,406,407,408,409,410,411,412,413,414,415,416,417,418,419,420,421,422,423,424,425,426,427,428,429,430,431,432,433,434,435,436,437,438,439,440,441,442,443,444,445,446,447,448,449,450,451,452,453,454,455,456,457,458,459,460,461,462,463,464,465,466,467,468,469,470,471,472,473,474,475,476,477,478,479,480,481,482,483,484,485,486,487,488,489,490,491,492,493],\"y\":[7.0,3.0,5.0,5.0,0.0,5.0,2.0,4.0,1.0,10.0,2.0,9.0,2.0,3.0,2.0,7.0,1.0,1.0,1.0,1.0,2.0,0.0,2.0,9.0,3.0,6.0,1.0,6.0,4.0,2.0,4.0,1.0,5.0,3.0,2.0,2.0,7.0,2.0,1.0,13.0,4.0,3.0,1.0,2.0,2.0,1.0,1.0,3.0,2.0,1.0,2.0,2.0,1.0,2.0,2.0,6.0,1.0,2.0,0.0,5.0,0.0,5.0,5.0,2.0,0.0,0.0,2.0,8.0,2.0,1.0,1.0,4.0,3.0,6.0,2.0,0.0,1.0,2.0,2.0,4.0,0.0,0.0,2.0,4.0,2.0,4.0,2.0,2.0,2.0,1.0,2.0,1.0,2.0,0.0,4.0,0.0,1.0,4.0,3.0,0.0,3.0,1.0,2.0,1.0,1.0,3.0,0.0,2.0,1.0,1.0,13.0,18.0,2.0,1.0,1.0,4.0,2.0,4.0,3.0,1.0,4.0,3.0,0.0,5.0,4.0,1.0,1.0,1.0,5.0,2.0,2.0,1.0,4.0,5.0,1.0,8.0,4.0,2.0,1.0,2.0,2.0,2.0,2.0,0.0,2.0,2.0,5.0,1.0,2.0,7.0,0.0,3.0,1.0,3.0,0.0,1.0,3.0,2.0,2.0,2.0,1.0,7.0,2.0,2.0,0.0,1.0,5.0,1.0,2.0,4.0,6.0,1.0,7.0,4.0,1.0,3.0,4.0,0.0,6.0,6.0,19.0,0.0,2.0,3.0,3.0,1.0,2.0,2.0,2.0,4.0,1.0,3.0,2.0,2.0,2.0,1.0,0.0,2.0,0.0,4.0,4.0,3.0,4.0,3.0,6.0,7.0,4.0,3.0,0.0,4.0,4.0,4.0,5.0,3.0,5.0,0.0,5.0,2.0,1.0,8.0,1.0,1.0,2.0,0.0,3.0,6.0,2.0,2.0,3.0,2.0,7.0,1.0,2.0,6.0,6.0,2.0,9.0,1.0,7.0,1.0,4.0,3.0,4.0,5.0,9.0,6.0,1.0,10.0,10.0,3.0,4.0,5.0,3.0,1.0,3.0,2.0,4.0,6.0,5.0,1.0,2.0,2.0,0.0,0.0,1.0,2.0,4.0,2.0,1.0,3.0,1.0,1.0,4.0,5.0,2.0,4.0,6.0,1.0,4.0,6.0,0.0,6.0,0.0,2.0,0.0,1.0,4.0,1.0,2.0,3.0,7.0,1.0,6.0,3.0,3.0,4.0,4.0,5.0,2.0,2.0,2.0,7.0,3.0,3.0,5.0,5.0,1.0,5.0,1.0,2.0,4.0,0.0,3.0,1.0,6.0,5.0,2.0,13.0,23.0,10.0,4.0,3.0,4.0,5.0,2.0,3.0,4.0,4.0,2.0,2.0,6.0,2.0,4.0,1.0,5.0,5.0,3.0,6.0,4.0,4.0,2.0,5.0,2.0,4.0,5.0,2.0,3.0,2.0,4.0,2.0,5.0,5.0,3.0,2.0,4.0,3.0,3.0,4.0,5.0,1.0,1.0,6.0,9.0,4.0,2.0,5.0,4.0,2.0,1.0,4.0,1.0,3.0,4.0,3.0,3.0,6.0,4.0,2.0,2.0,2.0,10.0,8.0,7.0,4.0,3.0,3.0,6.0,18.0,17.0,26.0,2.0,2.0,2.0,10.0,4.0,6.0,4.0,5.0,1.0,3.0,4.0,3.0,1.0,2.0,1.0,9.0,7.0,4.0,3.0,6.0,9.0,1.0,1.0,3.0,8.0,3.0,3.0,5.0,2.0,2.0,2.0,1.0,6.0,6.0,0.0,8.0,2.0,3.0,5.0,3.0,5.0,4.0,9.0,5.0,2.0,6.0,6.0,2.0,4.0,5.0,4.0,4.0,2.0,2.0,3.0,3.0,4.0,3.0,3.0,0.0,2.0,4.0,1.0,1.0,3.0,3.0,6.0,12.0,4.0,3.0,6.0,3.0,6.0,4.0,2.0,4.0,6.0,3.0,5.0,0.0,5.0,2.0,0.0,0.0,2.0,2.0,1.0,3.0,1.0,0.0,4.0,2.0,3.0,5.0,0.0,3.0,3.0,1.0,1.0,5.0,3.0,3.0,1.0],\"name\":\"Mark Phase\"},{\"type\":\"scatter\",\"showlegend\":true,\"x\":[1,2,3,4,5,6,7,8,9,10,11,12,13,14,15,16,17,18,19,20,21,22,23,24,25,26,27,28,29,30,31,32,33,34,35,36,37,38,39,40,41,42,43,44,45,46,47,48,49,50,51,52,53,54,55,56,57,58,59,60,61,62,63,64,65,66,67,68,69,70,71,72,73,74,75,76,77,78,79,80,81,82,83,84,85,86,87,88,89,90,91,92,93,94,95,96,97,98,99,100,101,102,103,104,105,106,107,108,109,110,111,112,113,114,115,116,117,118,119,120,121,122,123,124,125,126,127,128,129,130,131,132,133,134,135,136,137,138,139,140,141,142,143,144,145,146,147,148,149,150,151,152,153,154,155,156,157,158,159,160,161,162,163,164,165,166,167,168,169,170,171,172,173,174,175,176,177,178,179,180,181,182,183,184,185,186,187,188,189,190,191,192,193,194,195,196,197,198,199,200,201,202,203,204,205,206,207,208,209,210,211,212,213,214,215,216,217,218,219,220,221,222,223,224,225,226,227,228,229,230,231,232,233,234,235,236,237,238,239,240,241,242,243,244,245,246,247,248,249,250,251,252,253,254,255,256,257,258,259,260,261,262,263,264,265,266,267,268,269,270,271,272,273,274,275,276,277,278,279,280,281,282,283,284,285,286,287,288,289,290,291,292,293,294,295,296,297,298,299,300,301,302,303,304,305,306,307,308,309,310,311,312,313,314,315,316,317,318,319,320,321,322,323,324,325,326,327,328,329,330,331,332,333,334,335,336,337,338,339,340,341,342,343,344,345,346,347,348,349,350,351,352,353,354,355,356,357,358,359,360,361,362,363,364,365,366,367,368,369,370,371,372,373,374,375,376,377,378,379,380,381,382,383,384,385,386,387,388,389,390,391,392,393,394,395,396,397,398,399,400,401,402,403,404,405,406,407,408,409,410,411,412,413,414,415,416,417,418,419,420,421,422,423,424,425,426,427,428,429,430,431,432,433,434,435,436,437,438,439,440,441,442,443,444,445,446,447,448,449,450,451,452,453,454,455,456,457,458,459,460,461,462,463,464,465,466,467,468,469,470,471,472,473,474,475,476,477,478,479,480,481,482,483,484,485,486,487,488,489,490,491,492,493],\"y\":[0.9599000000000615,0.9955999999999676,1.2264999999999873,0.924199999999928,0.9057999999999993,0.72199999999998,0.5184000000001561,0.4511999999999716,0.4864000000000033,0.6133000000002085,0.6258000000000266,0.6002000000000862,0.3409999999998945,0.5109999999999673,0.669800000000123,0.8988999999999123,0.4821999999999207,0.4755000000000109,0.3769999999999527,0.4997000000000753,0.49260000000003856,0.4657999999999447,0.4981999999999971,0.7925999999999931,1.0983000000001084,0.3681000000001404,0.47420000000010987,0.4442999999998847,0.44650000000001455,0.40990000000010696,0.39589999999998327,0.435799999999972,0.35369999999988977,0.5059999999998581,0.51949999999988,0.6182999999998628,0.44430000000011205,0.5316000000000258,0.41450000000008913,8.385800000000017,0.5208999999999833,16.425399999999854,0.38220000000001164,0.5959000000000287,0.3488999999999578,0.3588999999999487,0.7273000000000138,0.9519999999999982,1.5830999999998312,0.6066000000000713,0.4094000000000051,0.4072999999998501,0.5084000000001652,0.4197999999998956,0.4759000000001379,0.3874999999998181,0.4351999999998952,0.5121999999998934,0.3488999999999578,0.4813000000001466,0.3347999999998592,0.48090000000001965,0.48860000000013315,1.1685999999999694,0.47889999999983957,0.5380000000000109,0.40279999999984284,0.48139999999989413,0.5033999999998287,0.3129999999998745,0.3081999999999425,0.6592000000000553,0.448399999999765,0.4335000000000946,0.5165999999999258,0.5095999999998639,0.3287000000000262,0.3848000000002685,0.38220000000001164,0.7271999999998116,0.3007999999999811,0.6345000000001164,0.5025999999998021,0.3161000000000058,0.5523000000002867,0.4867999999996755,0.37570000000005166,0.5380000000000109,0.47060000000010405,0.40970000000015716,0.44790000000011787,0.5933999999997468,0.5010000000002037,0.5536999999999352,0.37390000000004875,0.5192000000001826,0.3605999999999767,0.44860000000016953,0.45870000000013533,0.4141999999997097,0.44909999999981665,0.3168000000000575,0.3625999999999294,0.32110000000011496,0.528599999999642,0.5457000000001244,0.3713999999999942,0.5321000000003551,0.41469999999981155,0.3524000000002161,8.511999999999716,22.665800000000218,0.44119999999975335,0.4867999999996755,0.39580000000023574,0.31550000000015643,0.5561000000002423,14.635699999999815,0.33120000000008076,0.4616000000000895,0.42669999999998254,0.4596000000001368,0.3768000000000029,0.4355000000000473,0.40830000000005384,0.4748999999997068,0.5291999999999462,0.5050999999998567,0.5552999999999884,0.42669999999998254,0.5490999999997257,0.43640000000004875,0.7148999999999432,0.8825000000001637,0.3931999999999789,0.5444000000002234,0.35809999999992215,0.37580000000025393,0.6200000000003456,0.35869999999977153,0.44479999999975917,0.4128000000000611,0.5105000000003201,0.43010000000003856,0.3953000000001339,0.5212000000001353,0.5400999999997111,0.479200000000219,0.4394999999999527,0.47679999999991196,0.6684999999997672,0.5338999999999032,0.5322999999998501,0.5302999999998974,0.37960000000020955,0.46860000000015134,0.4620999999997366,0.5169999999998254,0.4040999999997439,0.4293999999999869,0.3342999999999847,0.5138999999999214,0.4744999999998072,0.4693999999999505,0.5013999999996486,0.8321000000000822,0.527599999999893,0.4817000000002736,0.48529999999982465,0.4499000000000706,0.7354000000000269,0.42139999999972133,0.5630000000001019,0.6582000000003063,0.3739999999997963,0.5316000000002532,0.5003999999998996,0.45890000000008513,0.6138999999998305,0.6037999999998647,41.91429999999991,0.4466000000002168,15.915199999999913,0.8153999999999542,0.45129999999971915,0.6192000000000917,1.450800000000072,0.5675000000001091,0.3582000000001244,0.5180000000000291,0.3587999999999738,0.47119999999995343,0.3841000000002168,0.41679999999996653,0.4657000000001972,0.3718999999996413,0.4962000000000444,0.6399999999998727,0.4671999999995933,0.43249999999989086,0.5248000000001412,0.4898000000002867,0.5084000000001652,0.5358000000001084,0.5127000000002226,0.8156999999996515,0.5553999999997359,0.4311000000002423,0.41269999999985885,0.5210999999999331,0.48430000000007567,0.5050000000001091,0.4128999999993539,0.42889999999988504,0.46370000000024447,0.4894000000003871,0.543800000000374,0.6412000000000262,0.40830000000005384,0.6505999999999403,0.38619999999991705,0.5226000000002387,0.5471000000006825,0.3629000000000815,0.4449000000004162,0.7352000000000771,0.443000000000211,0.6017999999994572,0.44620000000031723,0.5887999999995372,0.696100000000115,0.550199999999677,0.4508000000005268,0.506800000000112,0.9266999999999825,0.6504999999997381,0.8996999999999389,0.3632999999999811,0.5637000000006083,0.4008000000003449,1.37920000000031,0.7161999999998443,0.4665000000004511,0.9690000000000509,0.7206999999998516,0.4503999999997177,0.6727000000000771,17.75420000000031,16.64599999999973,0.6010000000005675,0.37669999999980064,0.413300000000163,0.42739999999957945,0.3621000000002823,0.4691000000002532,0.5475999999998749,0.5387999999993554,0.5352999999995518,0.35900000000037835,0.6365999999998166,0.5747000000001208,1.096400000000358,0.4401000000007116,0.3742000000002008,0.4382000000005064,0.4280000000007931,0.4859999999998763,0.3850000000002183,0.5664999999999054,0.3686999999999898,0.3757999999997992,0.534099999999853,0.5129000000006272,0.6634000000003653,0.6080999999994674,0.5799000000006345,0.5480000000006839,0.5514000000002852,0.6867000000002008,0.4908000000004904,0.4099999999998545,0.7898999999997613,0.5406000000002678,0.33910000000014406,0.409099999999853,0.8847999999998137,0.5610999999998967,0.48260000000027503,0.5940999999993437,0.6611999999995533,0.5246999999999389,0.4098999999996522,0.6421000000000276,0.5734999999995125,0.467200000000048,0.4677000000001499,0.5404000000007727,0.5330999999996493,0.5163999999995212,0.42820000000028813,0.5246999999999389,0.4495999999999185,0.8635999999996784,0.6615000000001601,0.6952000000001135,0.7098999999998341,0.43770000000040454,0.815799999999399,0.45609999999942374,0.6161000000001877,0.36009999999987485,0.6899999999995998,0.7906000000002678,0.706000000000131,1.0291999999999462,1.899399999999332,0.6921999999995023,3.5143000000007305,4.852100000000064,8.48620000000028,0.5326999999997497,1.134200000000419,0.4463999999998123,0.40099999999983993,0.2941000000000713,0.464799999999741,0.556100000000697,0.5892000000003463,0.35829999999987194,0.6561999999994441,0.3726999999998952,0.4283000000004904,0.5003999999998996,0.7645999999995183,0.4507000000003245,0.5498999999999796,0.6251000000002023,0.6314000000002125,0.6278000000002066,0.4702000000006592,0.5285000000003492,0.49319999999988795,0.4153999999998632,0.5808999999999287,0.7971000000006825,0.585399999999936,0.5294999999996435,0.6079999999992651,0.5196999999998297,0.41299999999955617,0.5574999999998909,0.7597999999998137,0.5137000000004264,0.5316000000002532,0.631399999999303,0.527499999999236,0.5288999999993393,0.5309999999999491,0.6439999999993233,0.6057000000000698,0.4338999999999942,0.6309000000001106,0.7319999999999709,0.7435999999997875,0.5857999999998356,0.75420000000031,0.9745000000002619,0.7337999999999738,0.3768000000000029,0.5137000000004264,0.5195999999996275,0.6345000000001164,0.5775000000003274,0.5855000000001382,0.48369999999977153,0.46600000000034925,0.6026000000001659,0.39459999999962747,0.6362000000008265,0.4285999999992782,0.762300000000323,0.8548000000000684,0.6057000000000698,0.4143000000003667,0.6118999999998778,1.2872999999999593,0.49120000000039,5.66359999999986,3.019999999999527,13.869700000000194,1.828299999999217,0.46120000000064465,0.36089999999967404,0.8157000000001062,0.8265000000001237,0.6727000000000771,0.5762999999997191,0.9830000000001746,0.3503000000000611,0.4273000000002867,0.4633000000003449,0.773099999999431,0.875,0.4837999999999738,0.5436999999992622,0.6869000000006054,0.501299999999901,0.6514999999999418,0.47810000000026776,0.6092000000007829,0.42439999999987776,0.6136999999998807,0.7943999999997686,0.7872999999999593,0.7169999999996435,0.5857999999998356,0.5982999999996537,0.8032000000002881,0.511199999999917,0.6941999999999098,0.5991999999996551,0.6953000000003158,0.51299999999992,0.6403000000000247,0.46569999999974243,0.514299999999821,0.5717000000004191,0.75420000000031,0.6482999999998356,0.5387000000000626,0.55829999999969,0.697400000000016,0.7862000000004628,0.7935999999999694,0.4350000000004002,0.6255000000001019,0.7196000000003551,0.5284999999994398,0.43000000000029104,0.7433000000000902,0.4818999999997686,0.501299999999901,0.4780000000000655,0.49979999999959546,0.4709000000002561,0.45489999999972497,0.6493000000000393,0.5420999999996639,0.46349999999983993,0.4448999999995067,0.4621999999999389,0.48620000000028085,0.46970000000055734,0.43730000000050495,3.1891999999998006,0.4629000000004453,4.027999999999338,20.150899999999638,0.5958000000000538,15.909700000000157,0.5619999999998981,0.34719999999924767,0.5137000000004264,0.4709000000002561,0.5487999999995736,0.4863999999997759,0.6129000000000815,0.4672999999993408,0.3187000000007174,0.31239999999979773,0.5902999999998428,0.5942000000004555,0.5955999999996493,0.43219999999928405,0.35720000000037544,0.370600000000195,0.38439999999991414,0.43289999999979045,0.4537000000000262,0.306999999999789,0.5333000000000538,0.4263999999993757,0.28220000000055734,0.4214000000001761,0.30310000000008586,0.3431000000000495,0.42630000000008295,0.3951999999999316,0.36129999999957363,0.393699999999626,0.4566999999997279,0.44949999999971624,0.37110000000029686],\"yaxis\":\"y2\",\"name\":\"Msec\"}];\n",
       "           var layout = {\"title\":\"Mark Phase Inc. Count vs. Pause Duration (MSec)\",\"xaxis\":{\"title\":\"GC #\",\"_isSubplotObj\":true},\"yaxis\":{\"title\":\"Inclusive Count\",\"_isSubplotObj\":true},\"yaxis2\":{\"title\":\"Msec\",\"side\":\"right\",\"overlaying\":\"y\",\"_isSubplotObj\":true}};\n",
       "           Plotly.newPlot('9e7b24a2-3bab-40ea-b2f7-7bc3305186e5', data, layout);\n",
       "        \r\n",
       "});\n",
       "};\r\n",
       "// ensure `require` is available globally\r\n",
       "if ((typeof(require) !==  typeof(Function)) || (typeof(require.config) !== typeof(Function))) {\r\n",
       "    let require_script = document.createElement('script');\r\n",
       "    require_script.setAttribute('src', 'https://cdnjs.cloudflare.com/ajax/libs/require.js/2.3.6/require.min.js');\r\n",
       "    require_script.setAttribute('type', 'text/javascript');\r\n",
       "    \r\n",
       "    \r\n",
       "    require_script.onload = function() {\r\n",
       "        renderPlotly();\r\n",
       "    };\r\n",
       "\r\n",
       "    document.getElementsByTagName('head')[0].appendChild(require_script);\r\n",
       "}\r\n",
       "else {\r\n",
       "    renderPlotly();\r\n",
       "}\r\n",
       "\r\n",
       "</script>\r\n"
      ]
     },
     "metadata": {},
     "output_type": "display_data"
    }
   ],
   "source": [
    "(string, List<CPUInfo>) cpuData = (\"Mark Phase\", baselineCPUData.GetPerGCMethodCost(\"gc_heap::mark_phase\"));\n",
    "(string, List<double>) gcData  = (\"Msec\", processData.GCs.Select(gc => gc.PauseDurationMSec));\n",
    "CPUCharting.ChartCountForGCMethodWithGCData(cpuData, gcData, \"Mark Phase Inc. Count vs. Pause Duration (MSec)\")"
   ]
  },
  {
   "attachments": {},
   "cell_type": "markdown",
   "metadata": {},
   "source": [
    "### Generic Charting"
   ]
  },
  {
   "cell_type": "code",
   "execution_count": 48,
   "metadata": {
    "dotnet_interactive": {
     "language": "csharp"
    },
    "vscode": {
     "languageId": "polyglot-notebook"
    }
   },
   "outputs": [
    {
     "data": {
      "text/html": [
       "<!DOCTYPE html>\r\n",
       "<div style=\"width: 900px; height: 500px;\" id=\"a00da3c5-0b45-4054-94cd-74a629bb1aea\"></div><script type=\"text/javascript\">\r\n",
       "\n",
       "var renderPlotly = function() {\n",
       "    var xplotRequire = require.config({context:'xplot-3.0.1',paths:{plotly:'https://cdn.plot.ly/plotly-1.49.2.min'}}) || require;\n",
       "    xplotRequire(['plotly'], function(Plotly) { \r\n",
       "\n",
       "            var data = [{\"type\":\"scatter\",\"showlegend\":true,\"x\":[1.0,2.0,3.0,4.0,5.0,6.0,7.0,8.0,9.0,10.0,11.0,12.0,13.0,14.0,15.0,16.0,17.0,18.0,19.0,20.0,21.0,22.0,23.0,25.0,26.0,27.0,28.0,29.0,30.0,31.0,32.0,33.0,34.0,35.0,36.0,37.0,38.0,39.0,40.0,41.0,42.0,43.0,44.0,45.0,46.0,47.0,48.0,49.0,50.0,51.0,52.0,53.0,54.0,55.0,56.0,57.0,58.0,59.0,60.0,61.0,62.0,63.0,64.0,65.0,66.0,67.0,68.0,69.0,70.0,71.0,72.0,73.0,74.0,75.0,76.0,77.0,78.0,79.0,80.0,81.0,82.0,83.0,84.0,85.0,86.0,87.0,88.0,89.0,90.0,91.0,92.0,93.0,95.0,96.0,97.0,98.0,99.0,100.0,101.0,102.0,103.0,104.0,105.0,106.0,107.0,108.0,109.0,110.0,111.0,112.0,113.0,114.0,115.0,116.0,117.0,118.0,119.0,120.0,121.0,122.0,123.0,124.0,125.0,126.0,127.0,128.0,129.0,130.0,131.0,132.0,133.0,134.0,135.0,136.0,137.0,138.0,139.0,140.0,141.0,142.0,143.0,144.0,145.0,146.0,147.0,148.0,149.0,150.0,151.0,152.0,153.0,154.0,156.0,157.0,158.0,159.0,160.0,161.0,162.0,163.0,164.0,165.0,166.0,167.0,168.0,169.0,170.0,171.0,172.0,173.0,174.0,175.0,176.0,177.0,178.0,179.0,180.0,181.0,182.0,183.0,184.0,185.0,186.0,187.0,188.0,189.0,190.0,191.0,192.0,193.0,194.0,195.0,196.0,197.0,198.0,199.0,200.0,201.0,202.0,203.0,204.0,205.0,206.0,207.0,208.0,209.0,210.0,211.0,212.0,213.0,214.0,216.0,217.0,218.0,219.0,220.0,221.0,222.0,223.0,224.0,225.0,226.0,227.0,228.0,229.0,230.0,231.0,232.0,233.0,234.0,235.0,236.0,237.0,238.0,239.0,240.0,241.0,242.0,243.0,244.0,245.0,246.0,247.0,248.0,249.0,250.0,251.0,252.0,253.0,254.0,255.0,256.0,257.0,258.0,259.0,260.0,261.0,262.0,263.0,264.0,265.0,266.0,267.0,269.0,270.0,271.0,272.0,273.0,274.0,275.0,276.0,277.0,278.0,279.0,280.0,281.0,282.0,283.0,284.0,285.0,286.0,287.0,288.0,289.0,290.0,291.0,292.0,293.0,294.0,295.0,296.0,297.0,298.0,299.0,300.0,301.0,302.0,303.0,304.0,305.0,306.0,307.0,308.0,309.0,310.0,311.0,312.0,313.0,314.0,315.0,316.0,317.0,318.0,319.0,320.0,321.0,322.0,323.0,324.0,325.0,326.0,327.0,329.0,330.0,331.0,332.0,333.0,334.0,335.0,336.0,337.0,338.0,339.0,340.0,341.0,342.0,343.0,344.0,345.0,346.0,347.0,348.0,349.0,350.0,351.0,352.0,353.0,354.0,355.0,356.0,357.0,358.0,359.0,360.0,361.0,362.0,363.0,364.0,365.0,366.0,367.0,368.0,369.0,370.0,371.0,372.0,373.0,374.0,375.0,376.0,377.0,378.0,379.0,380.0,381.0,382.0,383.0,385.0,386.0,387.0,388.0,389.0,390.0,391.0,392.0,393.0,394.0,395.0,396.0,397.0,398.0,399.0,400.0,401.0,402.0,403.0,404.0,405.0,406.0,407.0,408.0,409.0,410.0,411.0,412.0,413.0,414.0,415.0,416.0,417.0,418.0,419.0,420.0,421.0,422.0,423.0,424.0,425.0,426.0,427.0,428.0,429.0,430.0,431.0,432.0,433.0,434.0,435.0,436.0,437.0,438.0,439.0,440.0,441.0,442.0,443.0,444.0,445.0,447.0,448.0,449.0,450.0,451.0,452.0,453.0,454.0,455.0,456.0,457.0,458.0,459.0,460.0,461.0,462.0,463.0,464.0,465.0,466.0,467.0,468.0,469.0,470.0,471.0,472.0,473.0,474.0,475.0,476.0,477.0,478.0,479.0,480.0,481.0,482.0,483.0,484.0,485.0,486.0,487.0,488.0,489.0,490.0,491.0,492.0,493.0],\"y\":[7.0,3.0,5.0,5.0,0.0,5.0,2.0,4.0,1.0,10.0,2.0,9.0,2.0,3.0,2.0,7.0,1.0,1.0,1.0,1.0,2.0,0.0,2.0,3.0,6.0,1.0,6.0,4.0,2.0,4.0,1.0,5.0,3.0,2.0,2.0,7.0,2.0,1.0,13.0,4.0,3.0,1.0,2.0,2.0,1.0,1.0,3.0,2.0,1.0,2.0,2.0,1.0,2.0,2.0,6.0,1.0,2.0,0.0,5.0,0.0,5.0,5.0,2.0,0.0,0.0,2.0,8.0,2.0,1.0,1.0,4.0,3.0,6.0,2.0,0.0,1.0,2.0,2.0,4.0,0.0,0.0,2.0,4.0,2.0,4.0,2.0,2.0,2.0,1.0,2.0,1.0,2.0,4.0,0.0,1.0,4.0,3.0,0.0,3.0,1.0,2.0,1.0,1.0,3.0,0.0,2.0,1.0,1.0,13.0,18.0,2.0,1.0,1.0,4.0,2.0,4.0,3.0,1.0,4.0,3.0,0.0,5.0,4.0,1.0,1.0,1.0,5.0,2.0,2.0,1.0,4.0,5.0,1.0,8.0,4.0,2.0,1.0,2.0,2.0,2.0,2.0,0.0,2.0,2.0,5.0,1.0,2.0,7.0,0.0,3.0,1.0,3.0,1.0,3.0,2.0,2.0,2.0,1.0,7.0,2.0,2.0,0.0,1.0,5.0,1.0,2.0,4.0,6.0,1.0,7.0,4.0,1.0,3.0,4.0,0.0,6.0,6.0,19.0,0.0,2.0,3.0,3.0,1.0,2.0,2.0,2.0,4.0,1.0,3.0,2.0,2.0,2.0,1.0,0.0,2.0,0.0,4.0,4.0,3.0,4.0,3.0,6.0,7.0,4.0,3.0,0.0,4.0,4.0,4.0,5.0,3.0,0.0,5.0,2.0,1.0,8.0,1.0,1.0,2.0,0.0,3.0,6.0,2.0,2.0,3.0,2.0,7.0,1.0,2.0,6.0,6.0,2.0,9.0,1.0,7.0,1.0,4.0,3.0,4.0,5.0,9.0,6.0,1.0,10.0,10.0,3.0,4.0,5.0,3.0,1.0,3.0,2.0,4.0,6.0,5.0,1.0,2.0,2.0,0.0,0.0,1.0,2.0,4.0,1.0,3.0,1.0,1.0,4.0,5.0,2.0,4.0,6.0,1.0,4.0,6.0,0.0,6.0,0.0,2.0,0.0,1.0,4.0,1.0,2.0,3.0,7.0,1.0,6.0,3.0,3.0,4.0,4.0,5.0,2.0,2.0,2.0,7.0,3.0,3.0,5.0,5.0,1.0,5.0,1.0,2.0,4.0,0.0,3.0,1.0,6.0,5.0,2.0,13.0,23.0,10.0,4.0,3.0,4.0,5.0,2.0,3.0,4.0,2.0,2.0,6.0,2.0,4.0,1.0,5.0,5.0,3.0,6.0,4.0,4.0,2.0,5.0,2.0,4.0,5.0,2.0,3.0,2.0,4.0,2.0,5.0,5.0,3.0,2.0,4.0,3.0,3.0,4.0,5.0,1.0,1.0,6.0,9.0,4.0,2.0,5.0,4.0,2.0,1.0,4.0,1.0,3.0,4.0,3.0,3.0,6.0,4.0,2.0,2.0,2.0,10.0,8.0,7.0,3.0,3.0,6.0,18.0,17.0,26.0,2.0,2.0,2.0,10.0,4.0,6.0,4.0,5.0,1.0,3.0,4.0,3.0,1.0,2.0,1.0,9.0,7.0,4.0,3.0,6.0,9.0,1.0,1.0,3.0,8.0,3.0,3.0,5.0,2.0,2.0,2.0,1.0,6.0,6.0,0.0,8.0,2.0,3.0,5.0,3.0,5.0,4.0,9.0,5.0,2.0,6.0,6.0,2.0,4.0,5.0,4.0,4.0,2.0,2.0,3.0,4.0,3.0,3.0,0.0,2.0,4.0,1.0,1.0,3.0,3.0,6.0,12.0,4.0,3.0,6.0,3.0,6.0,4.0,2.0,4.0,6.0,3.0,5.0,0.0,5.0,2.0,0.0,0.0,2.0,2.0,1.0,3.0,1.0,0.0,4.0,2.0,3.0,5.0,0.0,3.0,3.0,1.0,1.0,5.0,3.0,3.0,1.0],\"mode\":\"lines+markers\",\"name\":\"Mark Phase Inc\"}];\n",
       "           var layout = {\"title\":\"Mark Phase Inc. Count Per GC\"};\n",
       "           Plotly.newPlot('a00da3c5-0b45-4054-94cd-74a629bb1aea', data, layout);\n",
       "        \r\n",
       "});\n",
       "};\r\n",
       "// ensure `require` is available globally\r\n",
       "if ((typeof(require) !==  typeof(Function)) || (typeof(require.config) !== typeof(Function))) {\r\n",
       "    let require_script = document.createElement('script');\r\n",
       "    require_script.setAttribute('src', 'https://cdnjs.cloudflare.com/ajax/libs/require.js/2.3.6/require.min.js');\r\n",
       "    require_script.setAttribute('type', 'text/javascript');\r\n",
       "    \r\n",
       "    \r\n",
       "    require_script.onload = function() {\r\n",
       "        renderPlotly();\r\n",
       "    };\r\n",
       "\r\n",
       "    document.getElementsByTagName('head')[0].appendChild(require_script);\r\n",
       "}\r\n",
       "else {\r\n",
       "    renderPlotly();\r\n",
       "}\r\n",
       "\r\n",
       "</script>\r\n"
      ]
     },
     "metadata": {},
     "output_type": "display_data"
    }
   ],
   "source": [
    "(string, List<CPUInfo>) markPhaseData = \n",
    "    (\"gc_heap::mark_phase\", baselineCPUData.GetPerGCMethodCost(methodName: \"gc_heap::mark_phase\"));\n",
    "\n",
    "bool Gen0Filter(CPUInfo cpuInfo)\n",
    "{\n",
    "    return cpuInfo.GC.Generation == 0;\n",
    "}\n",
    "\n",
    "bool Gen0Filter(TraceGC gc)\n",
    "{\n",
    "    return gc.Generation == 0;\n",
    "}\n",
    "\n",
    "List<CPUInfo> filteredGen0CPUData = markPhaseData.Item2.Where(Gen0Filter);\n",
    "List<TraceGC> traceGC = processData.GCs.Where(Gen0Filter);\n",
    "\n",
    "GCCharting.ChartGCData(\"Mark Phase Inc. Count Per GC\", \n",
    "                       new AxisInfo \n",
    "                       { \n",
    "                           Name = \"Mark Phase Inc\", \n",
    "                           XAxis = traceGC.Select(gc => (double)gc.Number), \n",
    "                           YAxis = filteredGen0CPUData.Select(gc => (double)gc.Count) \n",
    "                       })"
   ]
  },
  {
   "attachments": {},
   "cell_type": "markdown",
   "metadata": {},
   "source": [
    "### Mark Phase Analysis"
   ]
  },
  {
   "attachments": {},
   "cell_type": "markdown",
   "metadata": {},
   "source": [
    "#### Chart Per Generation and Type "
   ]
  },
  {
   "cell_type": "code",
   "execution_count": 49,
   "metadata": {
    "dotnet_interactive": {
     "language": "csharp"
    },
    "vscode": {
     "languageId": "polyglot-notebook"
    }
   },
   "outputs": [
    {
     "data": {
      "text/html": [
       "<table><thead><tr><th><i>index</i></th><th>value</th></tr></thead><tbody><tr><td>0</td><td><!DOCTYPE html>\r\n",
       "<div style=\"width: 900px; height: 500px;\" id=\"9365647c-d8b1-4b8f-a8cf-92d78dcc0b45\"></div><script type=\"text/javascript\">\r\n",
       "\n",
       "var renderPlotly = function() {\n",
       "    var xplotRequire = require.config({context:'xplot-3.0.1',paths:{plotly:'https://cdn.plot.ly/plotly-1.49.2.min'}}) || require;\n",
       "    xplotRequire(['plotly'], function(Plotly) { \r\n",
       "\n",
       "            var data = [{\"type\":\"scatter\",\"showlegend\":true,\"x\":[1,2,3,4,5,6,7,8,9,10,11,12,13,14,15,16,17,18,19,20,21,22,23,25,26,27,28,29,30,31,32,33,34,35,36,37,38,39,40,41,42,43,44,45,46,47,48,49,50,51,52,53,54,55,56,57,58,59,60,61,62,63,64,65,66,67,68,69,70,71,72,73,74,75,76,77,78,79,80,81,82,83,84,85,86,87,88,89,90,91,92,93,95,96,97,98,99,100,101,102,103,104,105,106,107,108,109,110,111,112,113,114,115,116,117,118,119,120,121,122,123,124,125,126,127,128,129,130,131,132,133,134,135,136,137,138,139,140,141,142,143,144,145,146,147,148,149,150,151,152,153,154,156,157,158,159,160,161,162,163,164,165,166,167,168,169,170,171,172,173,174,175,176,177,178,179,180,181,182,183,184,185,186,187,188,189,190,191,192,193,194,195,196,197,198,199,200,201,202,203,204,205,206,207,208,209,210,211,212,213,214,216,217,218,219,220,221,222,223,224,225,226,227,228,229,230,231,232,233,234,235,236,237,238,239,240,241,242,243,244,245,246,247,248,249,250,251,252,253,254,255,256,257,258,259,260,261,262,263,264,265,266,267,269,270,271,272,273,274,275,276,277,278,279,280,281,282,283,284,285,286,287,288,289,290,291,292,293,294,295,296,297,298,299,300,301,302,303,304,305,306,307,308,309,310,311,312,313,314,315,316,317,318,319,320,321,322,323,324,325,326,327,329,330,331,332,333,334,335,336,337,338,339,340,341,342,343,344,345,346,347,348,349,350,351,352,353,354,355,356,357,358,359,360,361,362,363,364,365,366,367,368,369,370,371,372,373,374,375,376,377,378,379,380,381,382,383,385,386,387,388,389,390,391,392,393,394,395,396,397,398,399,400,401,402,403,404,405,406,407,408,409,410,411,412,413,414,415,416,417,418,419,420,421,422,423,424,425,426,427,428,429,430,431,432,433,434,435,436,437,438,439,440,441,442,443,444,445,447,448,449,450,451,452,453,454,455,456,457,458,459,460,461,462,463,464,465,466,467,468,469,470,471,472,473,474,475,476,477,478,479,480,481,482,483,484,485,486,487,488,489,490,491,492,493],\"y\":[0.09220000000004802,0.0262000000000171,0.1407000000001517,0.09140000000002146,0.09009999999989304,0.024800000000141154,0.02539999999999054,0.02539999999999054,0.01869999999985339,0.040199999999913416,0.017900000000054206,0.02320000000008804,0.026900000000068758,0.02599999999983993,0.028599999999869397,0.06899999999995998,0.01929999999993015,0.025900000000092405,0.017800000000079308,0.02589999999986503,0.022099999999909414,0.02250000000003638,0.02680000000009386,0.17860000000018772,0.047700000000077125,0.044800000000122964,0.04629999999997381,0.015099999999847569,0.06079999999997199,0.018000000000029104,0.034099999999853026,0.023500000000012733,0.026400000000194268,0.020400000000108776,0.0284999999998945,0.026700000000118962,0.02820000000019718,0.027600000000120417,5.684400000000096,0.020199999999931606,0.2421999999999116,0.02419999999983702,0.023600000000215005,0.02430000000003929,0.02490000000011605,0.012600000000020373,0.027700000000095315,0.05989999999997053,0.048400000000128784,0.01340000000004693,0.02549999999996544,0.017399999999952342,0.011999999999943611,0.01639999999997599,0.014499999999998181,0.02539999999999054,0.026400000000194268,0.025799999999890133,0.025300000000015643,0.025099999999838474,0.02479999999991378,0.028199999999969805,0.07510000000002037,0.02970000000004802,0.014199999999846113,0.012600000000020373,0.03199999999992542,0.014899999999897773,0.024400000000014188,0.01269999999999527,0.041600000000016735,0.030799999999999272,0.034799999999904685,0.014799999999922875,0.02260000000023865,0.022699999999986176,0.02959999999984575,0.028999999999996362,0.02430000000003929,0.024499999999989086,0.02790000000004511,0.015100000000074942,0.026600000000144064,0.02510000000029322,0.022699999999986176,0.024499999999989086,0.02599999999983993,0.013900000000376167,0.02470000000039363,0.020600000000285945,0.0239000000001397,0.025099999999838474,0.011700000000018917,0.027399999999943248,0.028399999999692227,0.014000000000123691,0.01209999999991851,0.03240000000005239,0.029600000000300497,0.024100000000089494,0.025799999999890133,0.023500000000240107,0.024100000000089494,0.012899999999717693,0.013200000000324508,0.023400000000037835,0.01139999999986685,0.024200000000291766,0.39720000000033906,15.441599999999653,0.024800000000141154,0.04399999999986903,0.03290000000015425,0.02650000000039654,0.025599999999940337,0.07659999999987122,0.02709999999979118,0.0227999999997337,0.027800000000297587,0.029500000000098225,0.012899999999717693,0.012799999999970169,0.02570000000014261,0.02570000000014261,0.024899999999888678,0.01319999999986976,0.017199999999775173,0.023099999999885767,0.018100000000231375,0.023099999999885767,0.024499999999989086,0.09349999999994907,0.026199999999789725,0.014099999999871216,0.02359999999998763,0.023400000000037835,0.028500000000349246,0.03500000000030923,0.03469999999970241,0.04100000000016735,0.03260000000000218,0.013299999999617285,0.02539999999999054,0.02359999999998763,0.02430000000003929,0.014099999999871216,0.02790000000004511,0.0215000000002874,0.07999999999992724,0.023999999999887223,0.02010000000018408,0.02289999999993597,0.024800000000141154,0.02970000000004802,0.013900000000376167,0.02719999999999345,0.025799999999890133,0.024800000000141154,0.0261000000000422,0.02459999999973661,0.024100000000089494,0.022499999999581632,0.0603000000000975,0.02699999999958891,0.02760000000034779,0.026299999999991996,0.023099999999885767,0.034099999999853026,0.028800000000046566,0.030900000000201544,0.046000000000276486,0.015300000000024738,0.04000000000041837,0.02529999999978827,0.03470000000015716,0.017800000000079308,0.05289999999968131,15.121200000000044,0.03290000000015425,0.06770000000005894,0.032700000000204454,0.04570000000012442,0.028699999999844295,0.062300000000050204,0.03470000000015716,0.024499999999989086,0.023999999999887223,0.02110000000038781,0.043699999999716965,0.023799999999937427,0.025099999999838474,0.03669999999965512,0.025099999999838474,0.02359999999998763,0.02430000000003929,0.028000000000247383,0.01650000000017826,0.03760000000011132,0.029899999999997817,0.027300000000195723,0.01290000000017244,0.0363999999999578,0.025900000000092405,0.024699999999938882,0.025799999999890133,0.026699999999891588,0.07970000000022992,0.02719999999999345,0.027100000000245927,0.02510000000074797,0.03980000000046857,0.02449999999953434,0.025599999999940337,0.0408000000006723,0.013100000000122236,0.020399999999426655,0.028699999999844295,0.03210000000035507,0.04129999999986467,0.029199999999946158,0.025099999999838474,0.07579999999961728,0.027000000000043656,0.027299999999740976,0.028299999999944703,0.016399999999521242,0.07440000000042346,0.027199999999538704,0.030600000000049477,0.02989999999954307,0.0169000000005326,0.029399999999441206,0.16259999999965657,0.025099999999838474,0.024699999999938882,0.06890000000021246,0.07480000000032305,0.023200000000542786,0.044999999999163265,0.09789999999975407,0.01720000000022992,0.02779999999984284,0.02819999999974243,10.955300000000534,15.681999999999789,0.041700000000673754,0.02629999999953725,0.04899999999997817,0.03920000000016444,0.025099999999838474,0.02489999999943393,0.026899999999841384,0.06819999999970605,0.025099999999838474,0.025099999999838474,0.016200000000026193,0.04140000000006694,0.08700000000044383,0.03120000000035361,0.024900000000343425,0.04700000000048021,0.028699999999844295,0.023899999999230204,0.023100000000340515,0.012899999999717693,0.026200000000244472,0.026300000000446744,0.02819999999974243,0.027000000000043656,0.020899999999528518,0.024900000000343425,0.04529999999977008,0.05650000000059663,0.0738999999994121,0.029199999999946158,0.07270000000062282,0.02910000000065338,0.0385999999998603,0.03250000000025466,0.027000000000043656,0.059900000000197906,0.026600000000144064,0.02289999999993597,0.04140000000006694,0.02410000000054424,0.014400000000023283,0.026700000000346336,0.01749999999992724,0.014500000000225555,0.02540000000044529,0.02930000000014843,0.024699999999938882,0.025399999999535794,0.02669999999943684,0.02570000000014261,0.028200000000651926,0.04219999999986612,0.023999999999432475,0.042999999999665306,0.032000000000152795,0.04739999999947031,0.025799999999435386,0.049500000000080036,0.07770000000073196,0.022599999999329157,0.023400000000037835,0.03650000000016007,0.036199999999553256,0.036199999999553256,0.05989999999928841,0.07480000000032305,0.033800000000155705,0.1374999999998181,0.07750000000032742,0.08019999999942229,0.07330000000001746,0.06750000000010914,0.03299999999944703,0.027700000000550062,0.026700000000346336,0.026499999999941792,0.026899999999841384,0.02779999999984284,0.02779999999984284,0.024500000000443833,0.02730000000065047,0.030099999999947613,0.07470000000012078,0.02230000000054133,0.029800000000250293,0.01449999999931606,0.04609999999956926,0.06899999999950523,0.03620000000046275,0.028299999999944703,0.03159999999934371,0.04359999999996944,0.027399999999943248,0.14099999999962165,0.02779999999984284,0.061399999999594,0.02639999999973952,0.08169999999972788,0.0363999999999578,0.025399999999535794,0.02629999999953725,0.025499999999738066,0.04179999999996653,0.02410000000054424,0.024900000000343425,0.03990000000067084,0.07849999999962165,0.044399999999768625,0.016099999999823922,0.03240000000005239,0.04069999999956053,0.03790000000026339,0.03180000000065775,0.05560000000059517,0.015199999999822467,0.032299999999850115,0.054999999999381544,0.035899999999855936,0.025200000000040745,0.0261000000000422,0.02269999999953143,0.07290000000011787,0.012600000000020373,0.02639999999973952,0.08469999999942956,0.022299999999631837,0.025599999999940337,0.02629999999953725,0.0385999999998603,0.028400000000146974,0.04330000000027212,0.026899999999841384,0.03830000000016298,0.07409999999981665,0.040500000000065484,3.662199999999757,0.29460000000017317,0.44570000000021537,0.23099999999976717,0.03150000000005093,0.06880000000001019,0.14990000000034343,0.05929999999989377,0.05249999999978172,0.04480000000057771,0.08590000000003783,0.014900000000125146,0.026200000000244472,0.016999999999825377,0.04980000000068685,0.03819999999996071,0.06040000000029977,0.09169999999994616,0.04020000000036816,0.03620000000046275,0.07639999999992142,0.047100000000682485,0.016200000000026193,0.03510000000005675,0.03659999999945285,0.1345999999994092,0.039099999999962165,0.024999999999636202,0.023300000000745058,0.024699999999938882,0.04069999999956053,0.024999999999636202,0.052999999999883585,0.025200000000040745,0.08559999999943102,0.030300000000352156,0.0330999999996493,0.06710000000020955,0.02639999999973952,0.018000000000029104,0.03679999999985739,0.020300000000133878,0.02580000000034488,0.04150000000026921,0.028400000000146974,0.025599999999940337,0.05459999999948195,0.02070000000003347,0.03559999999924912,0.044200000000273576,0.02449999999953434,0.025200000000040745,0.059600000000500586,0.04510000000027503,0.025200000000040745,0.03470000000015716,0.013200000000324508,0.033800000000155705,0.026700000000346336,0.0239000000001397,0.014799999999922875,0.023200000000542786,0.02309999999943102,0.02570000000014261,0.023799999999937427,0.031199999999444117,0.13700000000062573,0.016499999999723514,0.16570000000047003,0.1283000000003085,0.02930000000014843,0.07290000000011787,0.02599999999983993,0.027100000000245927,0.013799999999719148,0.026199999999334977,0.026700000000346336,0.03629999999975553,0.030300000000352156,0.025900000000547152,0.020299999999224383,0.03090000000065629,0.02599999999983993,0.014500000000225555,0.03169999999954598,0.014000000000123691,0.022099999999227293,0.0400999999992564,0.01710000000002765,0.014900000000125146,0.025099999999838474,0.021300000000337604,0.018599999999423744,0.011999999999716238,0.013100000000122236,0.023400000000037835,0.014100000000325963,0.03120000000035361,0.06989999999950669,0.011300000000119326,0.011500000000523869,0.012500000000727596,0.012200000000120781,0.011499999999614374,0.02099999999973079],\"mode\":\"lines+markers\",\"name\":\"Min Time (ms)\"},{\"type\":\"scatter\",\"showlegend\":true,\"x\":[1,2,3,4,5,6,7,8,9,10,11,12,13,14,15,16,17,18,19,20,21,22,23,25,26,27,28,29,30,31,32,33,34,35,36,37,38,39,40,41,42,43,44,45,46,47,48,49,50,51,52,53,54,55,56,57,58,59,60,61,62,63,64,65,66,67,68,69,70,71,72,73,74,75,76,77,78,79,80,81,82,83,84,85,86,87,88,89,90,91,92,93,95,96,97,98,99,100,101,102,103,104,105,106,107,108,109,110,111,112,113,114,115,116,117,118,119,120,121,122,123,124,125,126,127,128,129,130,131,132,133,134,135,136,137,138,139,140,141,142,143,144,145,146,147,148,149,150,151,152,153,154,156,157,158,159,160,161,162,163,164,165,166,167,168,169,170,171,172,173,174,175,176,177,178,179,180,181,182,183,184,185,186,187,188,189,190,191,192,193,194,195,196,197,198,199,200,201,202,203,204,205,206,207,208,209,210,211,212,213,214,216,217,218,219,220,221,222,223,224,225,226,227,228,229,230,231,232,233,234,235,236,237,238,239,240,241,242,243,244,245,246,247,248,249,250,251,252,253,254,255,256,257,258,259,260,261,262,263,264,265,266,267,269,270,271,272,273,274,275,276,277,278,279,280,281,282,283,284,285,286,287,288,289,290,291,292,293,294,295,296,297,298,299,300,301,302,303,304,305,306,307,308,309,310,311,312,313,314,315,316,317,318,319,320,321,322,323,324,325,326,327,329,330,331,332,333,334,335,336,337,338,339,340,341,342,343,344,345,346,347,348,349,350,351,352,353,354,355,356,357,358,359,360,361,362,363,364,365,366,367,368,369,370,371,372,373,374,375,376,377,378,379,380,381,382,383,385,386,387,388,389,390,391,392,393,394,395,396,397,398,399,400,401,402,403,404,405,406,407,408,409,410,411,412,413,414,415,416,417,418,419,420,421,422,423,424,425,426,427,428,429,430,431,432,433,434,435,436,437,438,439,440,441,442,443,444,445,447,448,449,450,451,452,453,454,455,456,457,458,459,460,461,462,463,464,465,466,467,468,469,470,471,472,473,474,475,476,477,478,479,480,481,482,483,484,485,486,487,488,489,490,491,492,493],\"y\":[0.10169999999996232,0.033561111111086776,0.16107777777790488,0.10022222222234076,0.097283333333318,0.031177777777846433,0.032361111111059576,0.03306111111121229,0.035555555555510585,0.05283888888882555,0.03637222222219963,0.035155555555535206,0.03447777777780124,0.034516666666579314,0.035055555555433986,0.07645555555552619,0.036716666666633396,0.03272222222224425,0.032644444444549156,0.033566666666603046,0.039722222222230305,0.032444444444422516,0.034716666666705955,0.19397222222232813,0.05695555555555782,0.05273888888896434,0.05358888888878886,0.03208333333327573,0.06903888888892754,0.03233888888886819,0.04151111111102384,0.04018333333332672,0.03331666666676685,0.039005555555617216,0.035161111111013575,0.033905555555646866,0.03453888888896017,0.03374444444447514,5.73096666666677,0.05244444444437906,0.2497222222222414,0.03158333333321176,0.030294444444583252,0.031083333333463595,0.032027777777898336,0.03232222222215518,0.05796666666668039,0.07833333333333788,0.05505000000010164,0.033194444444448995,0.0322277777777976,0.032027777777759385,0.03242777777773477,0.031983333333389256,0.031077777777719955,0.03132777777783405,0.033550000000104774,0.032672222222155746,0.031038888888916618,0.031661111111071075,0.031261111111120954,0.03464444444436291,0.0942444444445477,0.036183333333433945,0.02936666666657099,0.031583333333237026,0.0503444444443883,0.03223333333325071,0.031105555555667606,0.029583333333398007,0.048955555555557514,0.038033333333563256,0.04192222222205702,0.030266666666572444,0.0287611111112306,0.030088888888940346,0.036188888888722834,0.03499444444459085,0.03071111111123375,0.030116666666673255,0.03375555555567189,0.034483333333254346,0.033550000000003716,0.03194444444468698,0.034044444444260885,0.031727777777657847,0.03422777777773768,0.03357777777801453,0.031055555555718053,0.03186111111128614,0.03047777777783267,0.031599999999950036,0.029311111110953587,0.03426666666655365,0.034533333333229166,0.03233888888891872,0.029688888888712326,0.03897777777794747,0.03633333333350998,0.030805555555692383,0.033561111111238356,0.030294444444507462,0.03114444444433199,0.032772222222067486,0.030283333333449666,0.030338888888839694,0.030044444444481795,0.0307222222223926,0.7703944444446935,15.786972222222074,0.03403888888892147,0.051194444444263354,0.05447777777779569,0.032600000000229556,0.03643333333328277,0.08452777777779374,0.033661111110910094,0.030949999999873197,0.04865555555572124,0.03797222222210116,0.030822222222013806,0.03414444444426105,0.03314444444441102,0.03196666666667625,0.03099999999974696,0.030716666666522643,0.03416666666647769,0.029994444444279605,0.034350000000005015,0.034372222222297445,0.031188888888790543,0.10110000000011293,0.03348888888884479,0.03868333333316008,0.03165000000015223,0.030761111110955933,0.04526666666677354,0.04176666666684367,0.042127777777649394,0.04777777777788591,0.038705555555629365,0.03133333333309767,0.03413333333315273,0.031144444444559365,0.034266666666856814,0.029150000000021867,0.03568333333348366,0.032544444444536365,0.08703333333328879,0.031305555555390024,0.029883333333347965,0.0351611111110641,0.03135000000017701,0.03609999999998258,0.04060555555578402,0.033299999999877,0.032805555555392454,0.032327777777987246,0.0374888888887502,0.03104999999987336,0.03327777777798878,0.03241111111088281,0.07950000000005275,0.03730555555532394,0.03378888888909791,0.03319999999985157,0.04008333333323814,0.04162222222203127,0.03542222222224862,0.037594444444519266,0.056372222222307755,0.03213888888904472,0.05345000000018748,0.03704444444434153,0.040866666666690636,0.03440555555564768,0.07538333333324469,15.703438888888943,0.03973333333361653,0.07775555555566724,0.0424111111113032,0.052655555555525604,0.0341833333332286,0.08596666666676356,0.04115000000004127,0.030805555555717647,0.030822222222064335,0.0312666666668267,0.05143333333315544,0.030122222222037937,0.032427777777709506,0.04373333333324404,0.031705555555289616,0.030727777777706758,0.03315555555569619,0.0334666666667292,0.03550555555567472,0.04458333333332121,0.036544444444315455,0.037105555555753095,0.032194444444460006,0.04827777777786145,0.03327222222227041,0.03169444444456025,0.03547777777786602,0.03332222222229575,0.08923333333351972,0.03467222222209582,0.03335000000020551,0.03450000000030842,0.04913333333342962,0.0305944444443311,0.03349999999980153,0.06014444444483363,0.03243888888912099,0.04226666666646553,0.035827777777740266,0.03812222222222772,0.047944444444561266,0.036599999999907595,0.03322777777808975,0.08632222222235618,0.032538888888817986,0.043072222222185194,0.03774444444419108,0.03352777777763549,0.08165555555564828,0.033655555555570676,0.049655555555596545,0.03836111111074084,0.03355000000020583,0.036427777777337016,0.18511111111087708,0.044555555555032496,0.0335777777776861,0.07632222222244106,0.08108333333348128,0.03425000000035854,0.052527777777261996,0.10908333333312233,0.03820000000036493,0.0363888888889758,0.03889444444449611,10.992261111111475,15.697905555555685,0.05186111111147006,0.03217222222191493,0.05688888888890789,0.046205555555793074,0.035266666666302626,0.03467777777723313,0.03419444444433692,0.07515555555558724,0.031261111110678835,0.033961111111289535,0.036433333333004865,0.04837777777771003,0.09415555555602219,0.037466666666861985,0.03482222222212133,0.05534444444482586,0.03542222222232441,0.03248333333279637,0.03027777777773129,0.03313888888892001,0.03230000000010275,0.03281111111159084,0.034888888888922845,0.041838888888681446,0.03061111111077884,0.03257777777778554,0.05336111111071457,0.06417777777808926,0.08310555555539799,0.03858333333326098,0.08012222222249774,0.051627777778271086,0.047794444444662076,0.0398500000003676,0.036677777777640586,0.067894444444543,0.034016666666704824,0.029266666666697146,0.05112222222245085,0.029977777778236084,0.03285555555556938,0.033250000000053764,0.03760000000011132,0.029988888889268612,0.03350000000020575,0.03815555555593164,0.03319444444438583,0.033855555555267834,0.03304444444408242,0.032144444444586244,0.035350000000259264,0.05130555555534658,0.03190555555526468,0.050811111110862034,0.03946111111094473,0.05474999999973483,0.03224444444408113,0.056938888889211135,0.08386666666713911,0.03297777777748302,0.03147777777778376,0.05340555555529944,0.059327777777626683,0.053944444444217275,0.07658888888853552,0.0852222222223544,0.05187777777786727,0.20213888888858694,0.11714444444462263,0.5109777777775485,0.0811888888887956,0.07450000000012046,0.04029444444429626,0.03508333333350796,0.03265555555551853,0.03262222222176408,0.03377222222237227,0.03468888888902358,0.03635000000015983,0.03266666666685422,0.04011111111140053,0.0512722222220974,0.086583333333187,0.045527777778059116,0.038305555555679244,0.03397777777748464,0.05796111111087359,0.08660555555515101,0.047677777777759424,0.0362333333336614,0.039388888888374315,0.04922777777740824,0.03330000000030648,0.14922777777762045,0.03728888888902778,0.08268333333297859,0.03541666666680814,0.08786111111112405,0.04391666666646819,0.03213888888846365,0.036277777777286246,0.03621666666635469,0.0483166666662732,0.03051666666685075,0.03367777777803996,0.05039444444471681,0.09296111111062702,0.05572777777797455,0.03582777777733605,0.03929444444464833,0.04739444444420668,0.04616666666682553,0.042083333333620326,0.06358888888922189,0.03434999999985343,0.0401611111111985,0.06578888888856858,0.04274444444430022,0.031461111111285495,0.03250555555551829,0.04116111111094748,0.08166111111101297,0.03281111111118662,0.034694444444034564,0.09506666666634879,0.04155555555558345,0.03212777777808798,0.03351666666650191,0.04471111111130691,0.035433333333407466,0.054100000000087474,0.04101111111140199,0.050216666667135236,0.08822222222185398,0.053383333333335434,3.6887166666664495,0.3058222222223574,0.473777777777741,0.23726111111111298,0.041072222222687235,0.07571666666626697,0.1612222222226794,0.08330555555524673,0.0648666666665526,0.0508666666667826,0.09301111111123343,0.034572222222525144,0.048083333333528974,0.036499999999856904,0.059355555556066975,0.06287222222262143,0.06782222222227574,0.1162000000000363,0.05094444444486928,0.04756111111141258,0.0873111111113758,0.05627777777807649,0.037477777777742936,0.04350555555543502,0.061983333332995647,0.14392777777735924,0.05227222222204849,0.036094444444087354,0.03119444444473629,0.043849999999717205,0.04662222222208988,0.0328166666665513,0.06793888888867311,0.033322222222270485,0.09254444444407757,0.0468666666667256,0.05437777777782079,0.07340555555578653,0.04021666666651274,0.03814444444464647,0.05188888888920297,0.040372222222534525,0.03452777777809186,0.05091666666658057,0.03756111111124483,0.03672222222207387,0.07788888888858815,0.043005555555333155,0.05373888888849857,0.06395000000020445,0.0314111111110833,0.03444444444453944,0.06731666666685972,0.053027777778071244,0.03485000000030899,0.04219444444460249,0.03270000000025498,0.041927777777649076,0.03883333333351402,0.032150000000203564,0.03195000000015272,0.029650000000351104,0.030949999999746878,0.032638888889272896,0.030044444444481795,0.03801111111074028,0.1436666666670337,0.036050000000058285,0.18969444444468941,0.3528888888889823,0.05491666666658704,0.07771111111130974,0.03188333333355331,0.032766666666601746,0.030033333333196625,0.031222222221812344,0.03251111111159036,0.04318888888873415,0.03741666666671032,0.031916666666802485,0.02878888888850876,0.0358055555560289,0.029644444444531674,0.03248333333320059,0.035044444444186716,0.02765555555535886,0.030394444444128667,0.044611111110649894,0.030222222222012835,0.02846111111148275,0.027805555555561214,0.0325666666671067,0.03459999999995489,0.025522222222005238,0.025555555555153358,0.03984444444485133,0.025294444444474113,0.043577777778157016,0.07934444444430887,0.021111111111470866,0.021400000000489347,0.022788888889459083,0.019577777778118213,0.018655555555445364,0.02592222222205641],\"mode\":\"lines+markers\",\"name\":\"Avg Time (ms)\"},{\"type\":\"scatter\",\"showlegend\":true,\"x\":[1,2,3,4,5,6,7,8,9,10,11,12,13,14,15,16,17,18,19,20,21,22,23,25,26,27,28,29,30,31,32,33,34,35,36,37,38,39,40,41,42,43,44,45,46,47,48,49,50,51,52,53,54,55,56,57,58,59,60,61,62,63,64,65,66,67,68,69,70,71,72,73,74,75,76,77,78,79,80,81,82,83,84,85,86,87,88,89,90,91,92,93,95,96,97,98,99,100,101,102,103,104,105,106,107,108,109,110,111,112,113,114,115,116,117,118,119,120,121,122,123,124,125,126,127,128,129,130,131,132,133,134,135,136,137,138,139,140,141,142,143,144,145,146,147,148,149,150,151,152,153,154,156,157,158,159,160,161,162,163,164,165,166,167,168,169,170,171,172,173,174,175,176,177,178,179,180,181,182,183,184,185,186,187,188,189,190,191,192,193,194,195,196,197,198,199,200,201,202,203,204,205,206,207,208,209,210,211,212,213,214,216,217,218,219,220,221,222,223,224,225,226,227,228,229,230,231,232,233,234,235,236,237,238,239,240,241,242,243,244,245,246,247,248,249,250,251,252,253,254,255,256,257,258,259,260,261,262,263,264,265,266,267,269,270,271,272,273,274,275,276,277,278,279,280,281,282,283,284,285,286,287,288,289,290,291,292,293,294,295,296,297,298,299,300,301,302,303,304,305,306,307,308,309,310,311,312,313,314,315,316,317,318,319,320,321,322,323,324,325,326,327,329,330,331,332,333,334,335,336,337,338,339,340,341,342,343,344,345,346,347,348,349,350,351,352,353,354,355,356,357,358,359,360,361,362,363,364,365,366,367,368,369,370,371,372,373,374,375,376,377,378,379,380,381,382,383,385,386,387,388,389,390,391,392,393,394,395,396,397,398,399,400,401,402,403,404,405,406,407,408,409,410,411,412,413,414,415,416,417,418,419,420,421,422,423,424,425,426,427,428,429,430,431,432,433,434,435,436,437,438,439,440,441,442,443,444,445,447,448,449,450,451,452,453,454,455,456,457,458,459,460,461,462,463,464,465,466,467,468,469,470,471,472,473,474,475,476,477,478,479,480,481,482,483,484,485,486,487,488,489,490,491,492,493],\"y\":[0.11660000000006221,0.04739999999992506,0.1793999999999869,0.11390000000005784,0.11179999999990287,0.03809999999998581,0.04189999999994143,0.04079999999999018,0.05079999999998108,0.08989999999994325,0.054300000000012005,0.0907999999999447,0.053900000000112414,0.04849999999987631,0.04159999999978936,0.09339999999997417,0.047700000000077125,0.03899999999998727,0.04560000000014952,0.044399999999996,0.07799999999997453,0.047000000000025466,0.07010000000013861,0.21050000000013824,0.07799999999997453,0.0865000000001146,0.07659999999987122,0.0464999999999236,0.08179999999993015,0.04349999999999454,0.06589999999982865,0.05379999999991014,0.045200000000022555,0.04870000000005348,0.047599999999874854,0.04560000000014952,0.044399999999996,0.04349999999999454,6.297600000000102,0.12029999999981555,0.2726999999999862,0.05969999999979336,0.04630000000020118,0.04240000000004329,0.052700000000186265,0.07960000000002765,0.11879999999996471,0.09609999999997854,0.07080000000019027,0.05529999999998836,0.04140000000006694,0.04629999999997381,0.059799999999995634,0.04070000000001528,0.0443000000000211,0.04719999999997526,0.05060000000003129,0.041999999999916326,0.04070000000001528,0.037699999999858846,0.04140000000006694,0.04599999999982174,0.10540000000014516,0.04560000000014952,0.054799999999886495,0.04739999999992506,0.07809999999994943,0.050499999999829015,0.04030000000011569,0.0420000000001437,0.05950000000007094,0.05060000000003129,0.05949999999984357,0.04639999999972133,0.03430000000025757,0.0419000000001688,0.06869999999980791,0.06150000000025102,0.05230000000028667,0.048800000000028376,0.045200000000022555,0.05359999999973297,0.041600000000016735,0.04809999999997672,0.061199999999644206,0.05269999999973152,0.05060000000003129,0.04400000000032378,0.03890000000001237,0.04570000000012442,0.035899999999855936,0.0385999999998603,0.0466999999998734,0.05169999999998254,0.04030000000011569,0.053100000000085856,0.040799999999762804,0.05300000000033833,0.04610000000002401,0.04469999999992069,0.0500000000001819,0.044200000000273576,0.04329999999981737,0.05629999999973734,0.040500000000065484,0.040199999999913416,0.045099999999820284,0.03960000000006403,7.000600000000304,21.372499999999945,0.04640000000017608,0.06069999999999709,0.07760000000007494,0.04650000000037835,0.09349999999994907,0.11869999999998981,0.040799999999762804,0.04599999999982174,0.06300000000010186,0.06399999999985084,0.04309999999986758,0.05319999999983338,0.05470000000013897,0.04260000000022046,0.046199999999771535,0.04970000000002983,0.050499999999829015,0.041899999999714055,0.054099999999834836,0.05410000000028958,0.051899999999932334,0.12130000000024665,0.04250000000001819,0.09789999999975407,0.046600000000125874,0.041199999999662396,0.055499999999938154,0.051300000000082946,0.0625,0.07000000000016371,0.05330000000003565,0.046199999999771535,0.05169999999998254,0.040600000000267755,0.0682000000001608,0.038800000000264845,0.04970000000002983,0.05150000000003274,0.09799999999995634,0.04250000000001819,0.049100000000180444,0.09609999999975116,0.046700000000328146,0.04370000000017171,0.15060000000039508,0.05150000000003274,0.045200000000022555,0.048500000000331056,0.093199999999797,0.04140000000006694,0.050200000000131695,0.04539999999997235,0.08719999999993888,0.08249999999998181,0.043100000000322325,0.042599999999765714,0.055499999999938154,0.05319999999983338,0.04989999999997963,0.052000000000134605,0.06680000000005748,0.04730000000017753,0.12840000000005602,0.12930000000005748,0.0466999999998734,0.04460000000017317,0.10729999999966822,25.317599999999857,0.05050000000028376,0.08750000000009095,0.0759000000002743,0.06199999999989814,0.042699999999967986,0.11720000000013897,0.05490000000008877,0.04320000000006985,0.04229999999961365,0.048500000000331056,0.08849999999983993,0.04140000000006694,0.04219999999986612,0.053399999999783176,0.04249999999956344,0.040899999999965075,0.04530000000022483,0.04860000000007858,0.08359999999993306,0.06239999999979773,0.05040000000008149,0.08800000000019281,0.04779999999982465,0.09500000000025466,0.04440000000022337,0.03960000000006403,0.08359999999993306,0.04260000000022046,0.1327000000001135,0.05739999999968859,0.04280000000017026,0.06440000000020518,0.05850000000009459,0.04280000000017026,0.04739999999947031,0.08760000000074797,0.04440000000067812,0.0639999999993961,0.04700000000048021,0.05169999999998254,0.061599999999998545,0.04460000000017317,0.04260000000067521,0.09590000000025611,0.03979999999955908,0.13659999999981665,0.0900999999994383,0.04379999999946449,0.09820000000036089,0.040600000000267755,0.060099999999692955,0.06129999999939173,0.048800000000483124,0.04569999999966967,0.2524999999995998,0.06279999999969732,0.07529999999951542,0.09460000000035507,0.09090000000014697,0.048900000000685395,0.07829999999921711,0.1698999999998705,0.11419999999998254,0.05789999999979045,0.0945000000001528,11.28400000000056,15.718499999999949,0.09940000000005966,0.03989999999976135,0.08039999999982683,0.06230000000050495,0.04549999999926513,0.0625,0.05360000000018772,0.09810000000015862,0.04129999999986467,0.04970000000048458,0.05289999999968131,0.06269999999949505,0.10400000000026921,0.05389999999988504,0.04849999999987631,0.07000000000061846,0.04790000000048167,0.04809999999997672,0.04629999999997381,0.05529999999998836,0.052800000000388536,0.04750000000058208,0.0510999999996784,0.051599999999780266,0.04320000000006985,0.05239999999957945,0.07689999999911379,0.07790000000022701,0.1253999999998996,0.05429999999978463,0.1032999999997628,0.3091000000003987,0.08010000000012951,0.05580000000009022,0.08619999999973516,0.10959999999977299,0.04960000000028231,0.04430000000047585,0.0820000000003347,0.04340000000047439,0.06220000000030268,0.04169999999976426,0.06120000000009895,0.04320000000006985,0.045600000000376895,0.07440000000042346,0.06300000000010186,0.05209999999988213,0.04049999999915599,0.044399999999768625,0.04730000000017753,0.06409999999959837,0.03780000000006112,0.06669999999940046,0.06970000000001164,0.06889999999930296,0.04279999999926076,0.07710000000042783,0.09790000000066357,0.06329999999979918,0.044399999999768625,0.07709999999951833,0.27070000000003347,0.07920000000012806,0.1470999999992273,0.11450000000058935,0.06990000000041618,0.751299999999901,0.4526000000005297,7.70299999999952,0.09469999999964784,0.0842000000002372,0.053100000000085856,0.04539999999997235,0.04309999999986758,0.053599999999278225,0.04110000000036962,0.0430000000005748,0.055900000000292493,0.05249999999978172,0.09979999999995925,0.06149999999979627,0.11759999999958382,0.08110000000033324,0.06080000000019936,0.04719999999997526,0.07700000000022555,0.12799999999970169,0.12470000000030268,0.05290000000059081,0.04919999999947322,0.06919999999990978,0.043500000000676664,0.1734999999998763,0.09600000000045839,0.10469999999986612,0.06610000000000582,0.10130000000026484,0.056799999999384454,0.042899999999463034,0.08119999999962602,0.06899999999950523,0.058999999999286956,0.040600000000267755,0.05879999999979191,0.08430000000043947,0.1363999999994121,0.10750000000007276,0.05489999999917927,0.054799999999886495,0.05889999999999418,0.07650000000012369,0.07030000000031578,0.1099000000003798,0.05789999999979045,0.06329999999979918,0.1374999999998181,0.05379999999968277,0.0500000000001819,0.042599999999765714,0.05779999999958818,0.10030000000006112,0.04489999999987049,0.046199999999771535,0.17379999999957363,0.056599999999889405,0.04440000000067812,0.0488999999997759,0.056000000000494765,0.06149999999979627,0.16370000000006257,0.14180000000033033,0.1066000000000713,0.1514999999999418,0.07160000000021682,3.755500000000211,0.3316999999997279,0.7791999999999462,0.2466999999996915,0.08930000000054861,0.10769999999956781,0.18740000000070722,0.12079999999969004,0.14270000000033178,0.06549999999970169,0.1147000000000844,0.046000000000276486,0.06880000000001019,0.047599999999874854,0.08780000000024302,0.10320000000047003,0.08110000000033324,0.1712999999999738,0.06590000000051077,0.09590000000025611,0.1511000000000422,0.07970000000022992,0.06089999999949214,0.06499999999959982,0.10819999999966967,0.19749999999930878,0.10750000000007276,0.07349999999951251,0.05020000000058644,0.13249999999970896,0.052999999999883585,0.0591999999996915,0.14769999999953143,0.07409999999981665,0.10079999999925349,0.057999999999992724,0.08910000000014406,0.08489999999983411,0.139299999999821,0.09340000000065629,0.08650000000034197,0.10910000000058062,0.07400000000052387,0.07740000000012515,0.06940000000031432,0.09789999999975407,0.12460000000010041,0.06099999999969441,0.10619999999926222,0.0875000000005457,0.047700000000077125,0.06180000000040309,0.08830000000034488,0.07450000000062573,0.09390000000075815,0.061400000000503496,0.05140000000028522,0.05879999999979191,0.0749999999998181,0.07250000000021828,0.05020000000058644,0.04500000000007276,0.04680000000007567,0.054200000000491855,0.04020000000036816,0.04680000000007567,0.15390000000024884,0.12219999999979336,0.23059999999986758,4.056300000000192,0.06819999999970605,0.08390000000053988,0.054600000000391447,0.042999999999665306,0.058100000000194996,0.03889999999955762,0.0485000000007858,0.05820000000039727,0.04820000000017899,0.040899999999965075,0.03999999999996362,0.047200000000884756,0.04179999999996653,0.05360000000018772,0.042899999999463034,0.04179999999996653,0.04039999999986321,0.06269999999949505,0.03949999999986176,0.04790000000048167,0.03610000000026048,0.04610000000047876,0.05680000000029395,0.03699999999935244,0.041199999999662396,0.09330000000045402,0.03319999999985157,0.06680000000051223,0.09220000000004802,0.02910000000065338,0.04250000000047294,0.041700000000673754,0.030700000000251748,0.02449999999953434,0.03989999999976135],\"mode\":\"lines+markers\",\"name\":\"Max Time (ms)\"}];\n",
       "           var layout = {\"title\":\"Mark Times for Gen0 - MarkStack\",\"showlegend\":true,\"xaxis\":{\"title\":\"GC #\",\"_isSubplotObj\":true},\"yaxis\":{\"title\":\"ms\",\"_isSubplotObj\":true}};\n",
       "           Plotly.newPlot('9365647c-d8b1-4b8f-a8cf-92d78dcc0b45', data, layout);\n",
       "        \r\n",
       "});\n",
       "};\r\n",
       "// ensure `require` is available globally\r\n",
       "if ((typeof(require) !==  typeof(Function)) || (typeof(require.config) !== typeof(Function))) {\r\n",
       "    let require_script = document.createElement('script');\r\n",
       "    require_script.setAttribute('src', 'https://cdnjs.cloudflare.com/ajax/libs/require.js/2.3.6/require.min.js');\r\n",
       "    require_script.setAttribute('type', 'text/javascript');\r\n",
       "    \r\n",
       "    \r\n",
       "    require_script.onload = function() {\r\n",
       "        renderPlotly();\r\n",
       "    };\r\n",
       "\r\n",
       "    document.getElementsByTagName('head')[0].appendChild(require_script);\r\n",
       "}\r\n",
       "else {\r\n",
       "    renderPlotly();\r\n",
       "}\r\n",
       "\r\n",
       "</script>\r\n",
       "</td></tr><tr><td>1</td><td><!DOCTYPE html>\r\n",
       "<div style=\"width: 900px; height: 500px;\" id=\"24450a6e-3be3-4343-9044-90d03626367d\"></div><script type=\"text/javascript\">\r\n",
       "\n",
       "var renderPlotly = function() {\n",
       "    var xplotRequire = require.config({context:'xplot-3.0.1',paths:{plotly:'https://cdn.plot.ly/plotly-1.49.2.min'}}) || require;\n",
       "    xplotRequire(['plotly'], function(Plotly) { \r\n",
       "\n",
       "            var data = [{\"type\":\"scatter\",\"showlegend\":true,\"x\":[1,2,3,4,5,6,7,8,9,10,11,12,13,14,15,16,17,18,19,20,21,22,23,25,26,27,28,29,30,31,32,33,34,35,36,37,38,39,40,41,42,43,44,45,46,47,48,49,50,51,52,53,54,55,56,57,58,59,60,61,62,63,64,65,66,67,68,69,70,71,72,73,74,75,76,77,78,79,80,81,82,83,84,85,86,87,88,89,90,91,92,93,95,96,97,98,99,100,101,102,103,104,105,106,107,108,109,110,111,112,113,114,115,116,117,118,119,120,121,122,123,124,125,126,127,128,129,130,131,132,133,134,135,136,137,138,139,140,141,142,143,144,145,146,147,148,149,150,151,152,153,154,156,157,158,159,160,161,162,163,164,165,166,167,168,169,170,171,172,173,174,175,176,177,178,179,180,181,182,183,184,185,186,187,188,189,190,191,192,193,194,195,196,197,198,199,200,201,202,203,204,205,206,207,208,209,210,211,212,213,214,216,217,218,219,220,221,222,223,224,225,226,227,228,229,230,231,232,233,234,235,236,237,238,239,240,241,242,243,244,245,246,247,248,249,250,251,252,253,254,255,256,257,258,259,260,261,262,263,264,265,266,267,269,270,271,272,273,274,275,276,277,278,279,280,281,282,283,284,285,286,287,288,289,290,291,292,293,294,295,296,297,298,299,300,301,302,303,304,305,306,307,308,309,310,311,312,313,314,315,316,317,318,319,320,321,322,323,324,325,326,327,329,330,331,332,333,334,335,336,337,338,339,340,341,342,343,344,345,346,347,348,349,350,351,352,353,354,355,356,357,358,359,360,361,362,363,364,365,366,367,368,369,370,371,372,373,374,375,376,377,378,379,380,381,382,383,385,386,387,388,389,390,391,392,393,394,395,396,397,398,399,400,401,402,403,404,405,406,407,408,409,410,411,412,413,414,415,416,417,418,419,420,421,422,423,424,425,426,427,428,429,430,431,432,433,434,435,436,437,438,439,440,441,442,443,444,445,447,448,449,450,451,452,453,454,455,456,457,458,459,460,461,462,463,464,465,466,467,468,469,470,471,472,473,474,475,476,477,478,479,480,481,482,483,484,485,486,487,488,489,490,491,492,493],\"y\":[224,72,0,0,72,0,72,0,0,0,0,0,72,72,40,0,0,0,0,0,0,0,72,0,0,0,40,0,0,0,40,0,72,0,0,72,72,72,0,0,0,0,0,0,72,0,0,0,0,0,40,0,0,0,0,0,72,0,0,0,0,0,0,0,0,0,0,0,40,0,0,0,0,0,0,72,72,72,72,0,0,0,40,72,0,0,0,0,0,0,72,72,0,72,72,0,0,0,72,0,72,0,72,0,0,72,0,72,0,0,0,72,0,72,72,72,72,0,0,0,0,0,0,40,72,0,0,0,0,0,0,0,40,0,72,72,0,72,72,0,72,0,72,72,0,0,0,0,0,72,0,72,72,0,0,72,0,40,72,40,0,0,0,72,0,0,0,0,0,0,0,0,0,0,72,0,0,0,72,0,0,72,72,0,0,0,72,0,0,0,40,0,72,72,0,0,0,72,0,72,0,0,0,72,72,72,0,0,72,0,0,0,72,0,0,0,0,0,72,0,40,0,72,0,72,0,0,72,0,0,0,0,0,0,40,72,0,0,40,72,0,72,72,0,0,72,0,40,72,0,72,72,72,0,0,0,0,0,0,0,72,0,0,0,0,40,40,0,0,0,0,72,0,0,40,40,72,72,72,0,72,0,0,72,72,0,0,0,0,0,0,0,40,72,72,0,0,0,72,72,40,72,40,0,0,0,0,0,0,72,0,0,0,0,0,0,0,72,40,72,40,72,72,0,0,0,0,0,0,72,0,0,0,0,72,72,0,72,0,72,0,72,72,72,0,0,0,0,0,72,40,0,40,0,72,72,72,0,72,0,0,72,0,0,72,0,72,0,40,40,0,72,0,0,40,72,0,0,0,0,0,0,0,72,0,72,0,0,0,0,72,0,0,0,0,0,0,0,0,72,72,0,0,72,0,72,0,72,72,72,72,40,40,72,72,0,0,0,0,0,0,0,0,72,0,0,0,0,0,0,40,0,0,72,0,72,0,72,0,72,0,0,72,72,72,0,72,0,0,0,0,0,72,72,0,72,0,72,0,40,0,72,72,0,0,0,0,72,0,0,0,0,0,0,0,0,0,0,0,0,0,0,0,0,0],\"mode\":\"lines+markers\",\"name\":\"Min Bytes\"},{\"type\":\"scatter\",\"showlegend\":true,\"x\":[1,2,3,4,5,6,7,8,9,10,11,12,13,14,15,16,17,18,19,20,21,22,23,25,26,27,28,29,30,31,32,33,34,35,36,37,38,39,40,41,42,43,44,45,46,47,48,49,50,51,52,53,54,55,56,57,58,59,60,61,62,63,64,65,66,67,68,69,70,71,72,73,74,75,76,77,78,79,80,81,82,83,84,85,86,87,88,89,90,91,92,93,95,96,97,98,99,100,101,102,103,104,105,106,107,108,109,110,111,112,113,114,115,116,117,118,119,120,121,122,123,124,125,126,127,128,129,130,131,132,133,134,135,136,137,138,139,140,141,142,143,144,145,146,147,148,149,150,151,152,153,154,156,157,158,159,160,161,162,163,164,165,166,167,168,169,170,171,172,173,174,175,176,177,178,179,180,181,182,183,184,185,186,187,188,189,190,191,192,193,194,195,196,197,198,199,200,201,202,203,204,205,206,207,208,209,210,211,212,213,214,216,217,218,219,220,221,222,223,224,225,226,227,228,229,230,231,232,233,234,235,236,237,238,239,240,241,242,243,244,245,246,247,248,249,250,251,252,253,254,255,256,257,258,259,260,261,262,263,264,265,266,267,269,270,271,272,273,274,275,276,277,278,279,280,281,282,283,284,285,286,287,288,289,290,291,292,293,294,295,296,297,298,299,300,301,302,303,304,305,306,307,308,309,310,311,312,313,314,315,316,317,318,319,320,321,322,323,324,325,326,327,329,330,331,332,333,334,335,336,337,338,339,340,341,342,343,344,345,346,347,348,349,350,351,352,353,354,355,356,357,358,359,360,361,362,363,364,365,366,367,368,369,370,371,372,373,374,375,376,377,378,379,380,381,382,383,385,386,387,388,389,390,391,392,393,394,395,396,397,398,399,400,401,402,403,404,405,406,407,408,409,410,411,412,413,414,415,416,417,418,419,420,421,422,423,424,425,426,427,428,429,430,431,432,433,434,435,436,437,438,439,440,441,442,443,444,445,447,448,449,450,451,452,453,454,455,456,457,458,459,460,461,462,463,464,465,466,467,468,469,470,471,472,473,474,475,476,477,478,479,480,481,482,483,484,485,486,487,488,489,490,491,492,493],\"y\":[1915.4444444444443,125.33333333333333,128.0,90.22222222222223,177.5,100.0,96.0,94.22222222222223,108.0,92.0,106.22222222222223,100.0,96.0,469.44444444444446,90.66666666666667,112.0,92.0,112.0,100.0,88.0,96.0,120.0,112.0,90.66666666666667,80.0,98.22222222222223,84.44444444444444,70.22222222222223,100.0,86.22222222222223,86.22222222222223,100.44444444444444,92.0,88.0,88.0,84.0,112.44444444444444,96.0,90.22222222222223,84.0,96.0,112.0,197.72222222222223,84.0,92.0,88.0,94.22222222222223,110.22222222222223,98.22222222222223,120.0,118.22222222222223,100.0,84.0,92.0,104.0,80.0,104.0,90.22222222222223,88.0,90.22222222222223,80.0,84.0,94.22222222222223,78.22222222222223,112.0,104.44444444444444,94.22222222222223,86.22222222222223,90.22222222222223,100.0,80.0,112.0,96.0,100.0,90.22222222222223,108.0,92.0,100.0,104.0,84.0,86.22222222222223,98.22222222222223,94.22222222222223,82.22222222222223,92.0,112.0,86.22222222222223,106.22222222222223,94.22222222222223,92.0,96.0,96.0,104.0,92.0,98.22222222222223,96.0,90.22222222222223,92.0,104.0,92.0,108.0,104.0,104.0,120.0,96.0,92.0,102.22222222222223,102.66666666666667,92.0,84.0,100.0,104.0,80.0,104.0,90.22222222222223,108.0,100.0,102.22222222222223,106.22222222222223,78.22222222222223,92.0,92.0,104.0,86.22222222222223,110.22222222222223,92.0,102.22222222222223,78.22222222222223,104.0,98.22222222222223,96.44444444444444,82.22222222222223,98.22222222222223,82.22222222222223,88.0,92.0,86.22222222222223,120.0,108.0,98.22222222222223,88.0,132.0,100.0,116.0,96.0,86.22222222222223,102.22222222222223,92.0,104.0,120.0,92.0,104.0,98.22222222222223,94.22222222222223,84.0,88.0,102.22222222222223,98.22222222222223,86.22222222222223,98.22222222222223,90.22222222222223,88.0,116.0,112.0,88.0,112.0,88.0,96.0,96.0,100.0,100.0,98.22222222222223,86.22222222222223,96.0,96.0,84.0,72.0,76.0,88.0,76.0,86.22222222222223,82.22222222222223,102.22222222222223,106.22222222222223,94.22222222222223,108.0,100.0,96.0,104.0,88.0,94.22222222222223,106.22222222222223,94.22222222222223,96.0,274.22222222222223,104.0,96.0,96.0,82.22222222222223,104.0,112.0,92.0,106.22222222222223,96.0,124.0,102.22222222222223,80.0,84.0,100.0,80.0,84.0,90.22222222222223,116.0,100.44444444444444,120.0,94.22222222222223,84.0,84.0,104.0,100.0,94.22222222222223,80.0,108.0,88.0,92.0,76.0,84.0,104.0,100.0,94.22222222222223,96.0,96.0,114.22222222222223,88.0,110.22222222222223,108.0,80.0,106.22222222222223,94.22222222222223,84.0,110.22222222222223,88.0,88.0,76.0,110.22222222222223,100.0,86.22222222222223,96.44444444444444,92.0,86.22222222222223,84.0,92.0,84.0,76.0,82.22222222222223,84.0,96.0,124.0,88.0,88.0,88.0,96.0,98.22222222222223,108.0,118.22222222222223,96.44444444444444,82.22222222222223,102.22222222222223,96.44444444444444,80.0,96.0,108.0,88.0,76.0,94.22222222222223,86.22222222222223,80.0,96.0,92.0,84.0,84.0,118.22222222222223,102.22222222222223,82.22222222222223,104.0,98.22222222222223,90.22222222222223,96.0,84.0,88.0,100.0,86.22222222222223,82.66666666666667,80.0,94.22222222222223,84.0,94.22222222222223,80.0,126.22222222222223,108.0,98.22222222222223,96.0,102.22222222222223,96.0,94.22222222222223,82.22222222222223,102.22222222222223,94.22222222222223,82.66666666666667,88.0,82.22222222222223,92.0,72.0,94.22222222222223,90.22222222222223,84.0,84.0,116.44444444444444,94.22222222222223,86.22222222222223,92.44444444444444,98.22222222222223,80.0,78.22222222222223,92.0,74.22222222222223,110.22222222222223,88.0,98.22222222222223,96.0,98.22222222222223,84.0,88.0,82.22222222222223,96.0,80.0,84.0,104.0,86.22222222222223,100.0,72.0,96.0,100.0,104.0,86.22222222222223,118.22222222222223,92.0,86.22222222222223,84.0,80.44444444444444,94.22222222222223,104.0,98.22222222222223,84.0,92.0,108.0,100.0,100.0,92.0,88.0,92.0,88.0,80.0,90.22222222222223,100.0,108.44444444444444,100.0,104.0,94.22222222222223,86.22222222222223,92.0,80.0,88.0,104.0,86.22222222222223,118.22222222222223,98.22222222222223,82.22222222222223,76.0,80.0,78.22222222222223,66.22222222222223,86.66666666666667,96.0,84.0,92.0,72.0,102.22222222222223,92.0,80.0,80.0,94.22222222222223,92.0,84.0,92.0,112.0,116.0,84.0,76.0,84.0,88.0,82.22222222222223,80.0,92.0,84.44444444444444,80.0,94.22222222222223,96.0,84.0,100.0,100.0,94.22222222222223,94.22222222222223,84.0,102.22222222222223,96.0,82.22222222222223,72.0,78.22222222222223,76.0,96.0,84.44444444444444,86.22222222222223,88.0,94.66666666666667,102.22222222222223,108.0,100.0,108.0,106.22222222222223,78.22222222222223,86.22222222222223,96.0,122.22222222222223,84.0,80.0,92.0,100.0,88.0,100.0,100.0,82.22222222222223,110.22222222222223,104.0,116.0,112.0,100.0,88.0,80.44444444444444,88.0,89.77777777777777,80.0,100.0,90.22222222222223,102.22222222222223,96.0,78.22222222222223,100.0,96.0,92.44444444444444,88.0,96.0,98.22222222222223,96.44444444444444,88.0,84.44444444444444,82.22222222222223,92.0,84.0,88.44444444444444,82.22222222222223,76.0,76.0,72.0,72.0,68.0,68.0,60.0,42.22222222222222,52.0,52.0,48.0,40.0,34.22222222222222,24.0],\"mode\":\"lines+markers\",\"name\":\"Avg Bytes\"},{\"type\":\"scatter\",\"showlegend\":true,\"x\":[1,2,3,4,5,6,7,8,9,10,11,12,13,14,15,16,17,18,19,20,21,22,23,25,26,27,28,29,30,31,32,33,34,35,36,37,38,39,40,41,42,43,44,45,46,47,48,49,50,51,52,53,54,55,56,57,58,59,60,61,62,63,64,65,66,67,68,69,70,71,72,73,74,75,76,77,78,79,80,81,82,83,84,85,86,87,88,89,90,91,92,93,95,96,97,98,99,100,101,102,103,104,105,106,107,108,109,110,111,112,113,114,115,116,117,118,119,120,121,122,123,124,125,126,127,128,129,130,131,132,133,134,135,136,137,138,139,140,141,142,143,144,145,146,147,148,149,150,151,152,153,154,156,157,158,159,160,161,162,163,164,165,166,167,168,169,170,171,172,173,174,175,176,177,178,179,180,181,182,183,184,185,186,187,188,189,190,191,192,193,194,195,196,197,198,199,200,201,202,203,204,205,206,207,208,209,210,211,212,213,214,216,217,218,219,220,221,222,223,224,225,226,227,228,229,230,231,232,233,234,235,236,237,238,239,240,241,242,243,244,245,246,247,248,249,250,251,252,253,254,255,256,257,258,259,260,261,262,263,264,265,266,267,269,270,271,272,273,274,275,276,277,278,279,280,281,282,283,284,285,286,287,288,289,290,291,292,293,294,295,296,297,298,299,300,301,302,303,304,305,306,307,308,309,310,311,312,313,314,315,316,317,318,319,320,321,322,323,324,325,326,327,329,330,331,332,333,334,335,336,337,338,339,340,341,342,343,344,345,346,347,348,349,350,351,352,353,354,355,356,357,358,359,360,361,362,363,364,365,366,367,368,369,370,371,372,373,374,375,376,377,378,379,380,381,382,383,385,386,387,388,389,390,391,392,393,394,395,396,397,398,399,400,401,402,403,404,405,406,407,408,409,410,411,412,413,414,415,416,417,418,419,420,421,422,423,424,425,426,427,428,429,430,431,432,433,434,435,436,437,438,439,440,441,442,443,444,445,447,448,449,450,451,452,453,454,455,456,457,458,459,460,461,462,463,464,465,466,467,468,469,470,471,472,473,474,475,476,477,478,479,480,481,482,483,484,485,486,487,488,489,490,491,492,493],\"y\":[20358,360,360,144,1395,216,216,144,360,144,216,216,144,3423,216,288,216,216,216,144,216,288,432,144,144,216,216,216,216,216,144,288,216,144,144,144,288,144,144,216,216,360,1975,216,144,288,216,256,144,288,288,288,288,216,216,288,144,288,144,144,144,216,216,144,504,144,288,288,144,216,144,288,144,288,144,216,216,216,216,216,144,288,144,144,216,360,288,216,216,216,144,216,288,144,144,216,144,144,216,216,288,216,216,288,288,216,216,216,216,216,216,144,216,216,216,288,216,216,216,144,216,216,216,216,328,216,216,144,216,328,144,216,216,144,144,144,216,216,360,216,144,360,144,216,216,288,216,216,216,216,216,216,216,144,216,144,288,216,216,288,216,144,216,216,144,216,288,144,216,360,216,216,216,216,216,216,144,216,216,144,216,144,216,216,144,144,216,216,360,144,216,216,288,144,2992,360,288,216,216,216,288,216,216,144,216,216,144,216,216,144,216,216,216,224,288,216,216,216,216,216,216,144,216,288,216,144,144,216,216,288,216,216,288,144,216,216,216,288,144,144,216,144,144,144,432,216,216,216,144,216,144,144,144,144,144,216,216,216,216,144,144,216,216,216,288,256,144,288,184,144,216,288,216,144,216,144,144,216,144,216,144,216,288,144,288,288,144,216,144,144,216,216,184,144,144,144,216,144,216,216,216,216,216,216,288,216,144,216,216,144,216,288,288,216,216,216,144,288,216,144,288,144,144,144,216,144,216,216,144,216,288,216,144,144,144,216,216,216,144,216,144,144,144,288,144,288,216,144,216,144,216,288,216,144,216,216,216,144,216,360,216,144,144,360,216,360,216,216,216,144,216,216,144,216,216,544,216,144,144,216,216,144,216,216,216,144,144,432,216,144,144,216,288,216,216,216,288,216,144,144,216,216,144,144,216,144,144,216,144,144,144,144,288,144,144,216,144,144,144,144,432,144,216,144,216,216,216,144,216,288,144,184,216,288,144,144,288,144,144,216,216,216,216,144,288,216,216,144,144,216,216,144,144,144,216,144,216,216,288,216,144,144,256,216,216,288,184,216,144,256,144,144,216,216,144,144,144,144,144,144,144,72,72,72,72],\"mode\":\"lines+markers\",\"name\":\"Max Bytes\"}];\n",
       "           var layout = {\"title\":\"Mark Promoted Bytes for Gen0 - MarkStack\",\"showlegend\":true,\"xaxis\":{\"title\":\"GC #\",\"_isSubplotObj\":true},\"yaxis\":{\"title\":\"Bytes\",\"_isSubplotObj\":true}};\n",
       "           Plotly.newPlot('24450a6e-3be3-4343-9044-90d03626367d', data, layout);\n",
       "        \r\n",
       "});\n",
       "};\r\n",
       "// ensure `require` is available globally\r\n",
       "if ((typeof(require) !==  typeof(Function)) || (typeof(require.config) !== typeof(Function))) {\r\n",
       "    let require_script = document.createElement('script');\r\n",
       "    require_script.setAttribute('src', 'https://cdnjs.cloudflare.com/ajax/libs/require.js/2.3.6/require.min.js');\r\n",
       "    require_script.setAttribute('type', 'text/javascript');\r\n",
       "    \r\n",
       "    \r\n",
       "    require_script.onload = function() {\r\n",
       "        renderPlotly();\r\n",
       "    };\r\n",
       "\r\n",
       "    document.getElementsByTagName('head')[0].appendChild(require_script);\r\n",
       "}\r\n",
       "else {\r\n",
       "    renderPlotly();\r\n",
       "}\r\n",
       "\r\n",
       "</script>\r\n",
       "</td></tr></tbody></table><style>\r\n",
       ".dni-code-hint {\r\n",
       "    font-style: italic;\r\n",
       "    overflow: hidden;\r\n",
       "    white-space: nowrap;\r\n",
       "}\r\n",
       ".dni-treeview {\r\n",
       "    white-space: nowrap;\r\n",
       "}\r\n",
       ".dni-treeview td {\r\n",
       "    vertical-align: top;\r\n",
       "    text-align: start;\r\n",
       "}\r\n",
       "details.dni-treeview {\r\n",
       "    padding-left: 1em;\r\n",
       "}\r\n",
       "table td {\r\n",
       "    text-align: start;\r\n",
       "}\r\n",
       "table tr { \r\n",
       "    vertical-align: top; \r\n",
       "    margin: 0em 0px;\r\n",
       "}\r\n",
       "table tr td pre \r\n",
       "{ \r\n",
       "    vertical-align: top !important; \r\n",
       "    margin: 0em 0px !important;\r\n",
       "} \r\n",
       "table th {\r\n",
       "    text-align: start;\r\n",
       "}\r\n",
       "</style>"
      ]
     },
     "metadata": {},
     "output_type": "display_data"
    }
   ],
   "source": [
    "processData.ChartStatisticsOfMarkPhaseByType(generation: 0, type: MarkRootType.MarkStack)"
   ]
  },
  {
   "attachments": {},
   "cell_type": "markdown",
   "metadata": {},
   "source": [
    "#### Chart All Mark Root Types For a Generation "
   ]
  },
  {
   "cell_type": "code",
   "execution_count": 50,
   "metadata": {
    "dotnet_interactive": {
     "language": "csharp"
    },
    "vscode": {
     "languageId": "polyglot-notebook"
    }
   },
   "outputs": [
    {
     "data": {
      "text/html": [
       "<!DOCTYPE html>\r\n",
       "<div style=\"width: 900px; height: 500px;\" id=\"9998f5d3-d19e-46ee-bd91-9bec6314776a\"></div><script type=\"text/javascript\">\r\n",
       "\n",
       "var renderPlotly = function() {\n",
       "    var xplotRequire = require.config({context:'xplot-3.0.1',paths:{plotly:'https://cdn.plot.ly/plotly-1.49.2.min'}}) || require;\n",
       "    xplotRequire(['plotly'], function(Plotly) { \r\n",
       "\n",
       "            var data = [{\"type\":\"scatter\",\"showlegend\":true,\"x\":[1,2,3,4,5,6,7,8,9,10,11,12,13,14,15,16,17,18,19,20,21,22,23,25,26,27,28,29,30,31,32,33,34,35,36,37,38,39,40,41,42,43,44,45,46,47,48,49,50,51,52,53,54,55,56,57,58,59,60,61,62,63,64,65,66,67,68,69,70,71,72,73,74,75,76,77,78,79,80,81,82,83,84,85,86,87,88,89,90,91,92,93,95,96,97,98,99,100,101,102,103,104,105,106,107,108,109,110,111,112,113,114,115,116,117,118,119,120,121,122,123,124,125,126,127,128,129,130,131,132,133,134,135,136,137,138,139,140,141,142,143,144,145,146,147,148,149,150,151,152,153,154,156,157,158,159,160,161,162,163,164,165,166,167,168,169,170,171,172,173,174,175,176,177,178,179,180,181,182,183,184,185,186,187,188,189,190,191,192,193,194,195,196,197,198,199,200,201,202,203,204,205,206,207,208,209,210,211,212,213,214,216,217,218,219,220,221,222,223,224,225,226,227,228,229,230,231,232,233,234,235,236,237,238,239,240,241,242,243,244,245,246,247,248,249,250,251,252,253,254,255,256,257,258,259,260,261,262,263,264,265,266,267,269,270,271,272,273,274,275,276,277,278,279,280,281,282,283,284,285,286,287,288,289,290,291,292,293,294,295,296,297,298,299,300,301,302,303,304,305,306,307,308,309,310,311,312,313,314,315,316,317,318,319,320,321,322,323,324,325,326,327,329,330,331,332,333,334,335,336,337,338,339,340,341,342,343,344,345,346,347,348,349,350,351,352,353,354,355,356,357,358,359,360,361,362,363,364,365,366,367,368,369,370,371,372,373,374,375,376,377,378,379,380,381,382,383,385,386,387,388,389,390,391,392,393,394,395,396,397,398,399,400,401,402,403,404,405,406,407,408,409,410,411,412,413,414,415,416,417,418,419,420,421,422,423,424,425,426,427,428,429,430,431,432,433,434,435,436,437,438,439,440,441,442,443,444,445,447,448,449,450,451,452,453,454,455,456,457,458,459,460,461,462,463,464,465,466,467,468,469,470,471,472,473,474,475,476,477,478,479,480,481,482,483,484,485,486,487,488,489,490,491,492,493],\"y\":[1915.4444444444443,125.33333333333333,128.0,90.22222222222223,177.5,100.0,96.0,94.22222222222223,108.0,92.0,106.22222222222223,100.0,96.0,469.44444444444446,90.66666666666667,112.0,92.0,112.0,100.0,88.0,96.0,120.0,112.0,90.66666666666667,80.0,98.22222222222223,84.44444444444444,70.22222222222223,100.0,86.22222222222223,86.22222222222223,100.44444444444444,92.0,88.0,88.0,84.0,112.44444444444444,96.0,90.22222222222223,84.0,96.0,112.0,197.72222222222223,84.0,92.0,88.0,94.22222222222223,110.22222222222223,98.22222222222223,120.0,118.22222222222223,100.0,84.0,92.0,104.0,80.0,104.0,90.22222222222223,88.0,90.22222222222223,80.0,84.0,94.22222222222223,78.22222222222223,112.0,104.44444444444444,94.22222222222223,86.22222222222223,90.22222222222223,100.0,80.0,112.0,96.0,100.0,90.22222222222223,108.0,92.0,100.0,104.0,84.0,86.22222222222223,98.22222222222223,94.22222222222223,82.22222222222223,92.0,112.0,86.22222222222223,106.22222222222223,94.22222222222223,92.0,96.0,96.0,104.0,92.0,98.22222222222223,96.0,90.22222222222223,92.0,104.0,92.0,108.0,104.0,104.0,120.0,96.0,92.0,102.22222222222223,102.66666666666667,92.0,84.0,100.0,104.0,80.0,104.0,90.22222222222223,108.0,100.0,102.22222222222223,106.22222222222223,78.22222222222223,92.0,92.0,104.0,86.22222222222223,110.22222222222223,92.0,102.22222222222223,78.22222222222223,104.0,98.22222222222223,96.44444444444444,82.22222222222223,98.22222222222223,82.22222222222223,88.0,92.0,86.22222222222223,120.0,108.0,98.22222222222223,88.0,132.0,100.0,116.0,96.0,86.22222222222223,102.22222222222223,92.0,104.0,120.0,92.0,104.0,98.22222222222223,94.22222222222223,84.0,88.0,102.22222222222223,98.22222222222223,86.22222222222223,98.22222222222223,90.22222222222223,88.0,116.0,112.0,88.0,112.0,88.0,96.0,96.0,100.0,100.0,98.22222222222223,86.22222222222223,96.0,96.0,84.0,72.0,76.0,88.0,76.0,86.22222222222223,82.22222222222223,102.22222222222223,106.22222222222223,94.22222222222223,108.0,100.0,96.0,104.0,88.0,94.22222222222223,106.22222222222223,94.22222222222223,96.0,274.22222222222223,104.0,96.0,96.0,82.22222222222223,104.0,112.0,92.0,106.22222222222223,96.0,124.0,102.22222222222223,80.0,84.0,100.0,80.0,84.0,90.22222222222223,116.0,100.44444444444444,120.0,94.22222222222223,84.0,84.0,104.0,100.0,94.22222222222223,80.0,108.0,88.0,92.0,76.0,84.0,104.0,100.0,94.22222222222223,96.0,96.0,114.22222222222223,88.0,110.22222222222223,108.0,80.0,106.22222222222223,94.22222222222223,84.0,110.22222222222223,88.0,88.0,76.0,110.22222222222223,100.0,86.22222222222223,96.44444444444444,92.0,86.22222222222223,84.0,92.0,84.0,76.0,82.22222222222223,84.0,96.0,124.0,88.0,88.0,88.0,96.0,98.22222222222223,108.0,118.22222222222223,96.44444444444444,82.22222222222223,102.22222222222223,96.44444444444444,80.0,96.0,108.0,88.0,76.0,94.22222222222223,86.22222222222223,80.0,96.0,92.0,84.0,84.0,118.22222222222223,102.22222222222223,82.22222222222223,104.0,98.22222222222223,90.22222222222223,96.0,84.0,88.0,100.0,86.22222222222223,82.66666666666667,80.0,94.22222222222223,84.0,94.22222222222223,80.0,126.22222222222223,108.0,98.22222222222223,96.0,102.22222222222223,96.0,94.22222222222223,82.22222222222223,102.22222222222223,94.22222222222223,82.66666666666667,88.0,82.22222222222223,92.0,72.0,94.22222222222223,90.22222222222223,84.0,84.0,116.44444444444444,94.22222222222223,86.22222222222223,92.44444444444444,98.22222222222223,80.0,78.22222222222223,92.0,74.22222222222223,110.22222222222223,88.0,98.22222222222223,96.0,98.22222222222223,84.0,88.0,82.22222222222223,96.0,80.0,84.0,104.0,86.22222222222223,100.0,72.0,96.0,100.0,104.0,86.22222222222223,118.22222222222223,92.0,86.22222222222223,84.0,80.44444444444444,94.22222222222223,104.0,98.22222222222223,84.0,92.0,108.0,100.0,100.0,92.0,88.0,92.0,88.0,80.0,90.22222222222223,100.0,108.44444444444444,100.0,104.0,94.22222222222223,86.22222222222223,92.0,80.0,88.0,104.0,86.22222222222223,118.22222222222223,98.22222222222223,82.22222222222223,76.0,80.0,78.22222222222223,66.22222222222223,86.66666666666667,96.0,84.0,92.0,72.0,102.22222222222223,92.0,80.0,80.0,94.22222222222223,92.0,84.0,92.0,112.0,116.0,84.0,76.0,84.0,88.0,82.22222222222223,80.0,92.0,84.44444444444444,80.0,94.22222222222223,96.0,84.0,100.0,100.0,94.22222222222223,94.22222222222223,84.0,102.22222222222223,96.0,82.22222222222223,72.0,78.22222222222223,76.0,96.0,84.44444444444444,86.22222222222223,88.0,94.66666666666667,102.22222222222223,108.0,100.0,108.0,106.22222222222223,78.22222222222223,86.22222222222223,96.0,122.22222222222223,84.0,80.0,92.0,100.0,88.0,100.0,100.0,82.22222222222223,110.22222222222223,104.0,116.0,112.0,100.0,88.0,80.44444444444444,88.0,89.77777777777777,80.0,100.0,90.22222222222223,102.22222222222223,96.0,78.22222222222223,100.0,96.0,92.44444444444444,88.0,96.0,98.22222222222223,96.44444444444444,88.0,84.44444444444444,82.22222222222223,92.0,84.0,88.44444444444444,82.22222222222223,76.0,76.0,72.0,72.0,68.0,68.0,60.0,42.22222222222222,52.0,52.0,48.0,40.0,34.22222222222222,24.0],\"mode\":\"lines+markers\",\"name\":\"Avg Time (ms) - MarkStack\"},{\"type\":\"scatter\",\"showlegend\":true,\"x\":[1,2,3,4,5,6,7,8,9,10,11,12,13,14,15,16,17,18,19,20,21,22,23,25,26,27,28,29,30,31,32,33,34,35,36,37,38,39,40,41,42,43,44,45,46,47,48,49,50,51,52,53,54,55,56,57,58,59,60,61,62,63,64,65,66,67,68,69,70,71,72,73,74,75,76,77,78,79,80,81,82,83,84,85,86,87,88,89,90,91,92,93,95,96,97,98,99,100,101,102,103,104,105,106,107,108,109,110,111,112,113,114,115,116,117,118,119,120,121,122,123,124,125,126,127,128,129,130,131,132,133,134,135,136,137,138,139,140,141,142,143,144,145,146,147,148,149,150,151,152,153,154,156,157,158,159,160,161,162,163,164,165,166,167,168,169,170,171,172,173,174,175,176,177,178,179,180,181,182,183,184,185,186,187,188,189,190,191,192,193,194,195,196,197,198,199,200,201,202,203,204,205,206,207,208,209,210,211,212,213,214,216,217,218,219,220,221,222,223,224,225,226,227,228,229,230,231,232,233,234,235,236,237,238,239,240,241,242,243,244,245,246,247,248,249,250,251,252,253,254,255,256,257,258,259,260,261,262,263,264,265,266,267,269,270,271,272,273,274,275,276,277,278,279,280,281,282,283,284,285,286,287,288,289,290,291,292,293,294,295,296,297,298,299,300,301,302,303,304,305,306,307,308,309,310,311,312,313,314,315,316,317,318,319,320,321,322,323,324,325,326,327,329,330,331,332,333,334,335,336,337,338,339,340,341,342,343,344,345,346,347,348,349,350,351,352,353,354,355,356,357,358,359,360,361,362,363,364,365,366,367,368,369,370,371,372,373,374,375,376,377,378,379,380,381,382,383,385,386,387,388,389,390,391,392,393,394,395,396,397,398,399,400,401,402,403,404,405,406,407,408,409,410,411,412,413,414,415,416,417,418,419,420,421,422,423,424,425,426,427,428,429,430,431,432,433,434,435,436,437,438,439,440,441,442,443,444,445,447,448,449,450,451,452,453,454,455,456,457,458,459,460,461,462,463,464,465,466,467,468,469,470,471,472,473,474,475,476,477,478,479,480,481,482,483,484,485,486,487,488,489,490,491,492,493],\"y\":[458.6666666666667,1.3333333333333333,0.0,0.0,1.3333333333333333,1.3333333333333333,0.0,1.3333333333333333,0.0,0.0,0.0,0.0,0.0,0.0,1.3333333333333333,1.3333333333333333,0.0,1.3333333333333333,0.0,1.3333333333333333,1.3333333333333333,0.0,1.3333333333333333,0.0,1.3333333333333333,1.3333333333333333,1.3333333333333333,1.3333333333333333,0.0,0.0,1.3333333333333333,0.0,0.0,0.0,0.0,1.3333333333333333,0.0,1.3333333333333333,0.0,1.3333333333333333,1.3333333333333333,1.3333333333333333,0.0,0.0,1.3333333333333333,0.0,1.3333333333333333,0.0,1.3333333333333333,0.0,1.3333333333333333,1.3333333333333333,0.0,0.0,0.0,1.3333333333333333,1.3333333333333333,0.0,1.3333333333333333,0.0,0.0,0.0,0.0,1.3333333333333333,1.3333333333333333,1.3333333333333333,0.0,1.3333333333333333,1.3333333333333333,0.0,1.3333333333333333,1.3333333333333333,1.3333333333333333,1.3333333333333333,1.3333333333333333,0.0,1.3333333333333333,1.3333333333333333,1.3333333333333333,1.3333333333333333,0.0,0.0,1.3333333333333333,1.3333333333333333,0.0,0.0,0.0,0.0,0.0,1.3333333333333333,0.0,1.3333333333333333,0.0,0.0,1.3333333333333333,1.3333333333333333,0.0,0.0,1.3333333333333333,1.3333333333333333,0.0,1.3333333333333333,1.3333333333333333,1.3333333333333333,1.3333333333333333,0.0,0.0,1.3333333333333333,0.0,0.0,1.3333333333333333,1.3333333333333333,1.3333333333333333,1.3333333333333333,0.0,0.0,0.0,0.0,0.0,1.3333333333333333,1.3333333333333333,0.0,1.3333333333333333,1.3333333333333333,1.3333333333333333,1.3333333333333333,0.0,1.3333333333333333,0.0,0.0,0.0,0.0,0.0,0.0,1.3333333333333333,1.3333333333333333,1.3333333333333333,1.3333333333333333,0.0,0.0,0.0,0.0,1.3333333333333333,0.0,0.0,0.0,1.3333333333333333,1.3333333333333333,1.3333333333333333,1.3333333333333333,0.0,1.3333333333333333,0.0,0.0,0.0,0.0,0.0,1.3333333333333333,0.0,1.3333333333333333,1.3333333333333333,0.0,0.0,1.3333333333333333,0.0,1.3333333333333333,1.3333333333333333,1.3333333333333333,1.3333333333333333,1.3333333333333333,0.0,0.0,0.0,1.3333333333333333,1.3333333333333333,0.0,1.3333333333333333,0.0,1.3333333333333333,0.0,0.0,0.0,1.3333333333333333,1.3333333333333333,1.3333333333333333,1.3333333333333333,1.3333333333333333,1.3333333333333333,0.0,0.0,0.0,1.3333333333333333,1.3333333333333333,1.3333333333333333,0.0,0.0,0.0,1.3333333333333333,1.3333333333333333,0.0,0.0,0.0,0.0,1.3333333333333333,1.3333333333333333,1.3333333333333333,1.3333333333333333,1.3333333333333333,1.3333333333333333,1.3333333333333333,1.3333333333333333,0.0,0.0,0.0,0.0,0.0,1.3333333333333333,1.3333333333333333,0.0,0.0,1.3333333333333333,0.0,0.0,0.0,0.0,0.0,0.0,0.0,0.0,1.3333333333333333,0.0,1.3333333333333333,1.3333333333333333,1.3333333333333333,0.0,1.3333333333333333,0.0,0.0,1.3333333333333333,0.0,1.3333333333333333,1.3333333333333333,0.0,0.0,0.0,1.3333333333333333,0.0,0.0,0.0,0.0,0.0,0.0,1.3333333333333333,0.0,0.0,0.0,0.0,1.3333333333333333,1.3333333333333333,1.3333333333333333,1.3333333333333333,1.3333333333333333,1.3333333333333333,1.3333333333333333,1.3333333333333333,1.3333333333333333,1.3333333333333333,0.0,0.0,0.0,1.3333333333333333,1.3333333333333333,0.0,1.3333333333333333,0.0,0.0,1.3333333333333333,1.3333333333333333,1.3333333333333333,1.3333333333333333,0.0,0.0,0.0,0.0,1.3333333333333333,1.3333333333333333,1.3333333333333333,1.3333333333333333,0.0,1.3333333333333333,0.0,1.3333333333333333,0.0,1.3333333333333333,1.3333333333333333,0.0,1.3333333333333333,0.0,1.3333333333333333,1.3333333333333333,0.0,0.0,0.0,0.0,0.0,0.0,0.0,0.0,0.0,0.0,0.0,0.0,1.3333333333333333,0.0,0.0,0.0,0.0,1.3333333333333333,1.3333333333333333,1.3333333333333333,1.3333333333333333,1.3333333333333333,1.3333333333333333,0.0,1.3333333333333333,1.3333333333333333,1.3333333333333333,0.0,0.0,0.0,1.3333333333333333,0.0,1.3333333333333333,0.0,0.0,0.0,0.0,1.3333333333333333,1.3333333333333333,1.3333333333333333,0.0,0.0,0.0,1.3333333333333333,0.0,1.3333333333333333,0.0,1.3333333333333333,0.0,0.0,1.3333333333333333,1.3333333333333333,1.3333333333333333,0.0,1.3333333333333333,1.3333333333333333,1.3333333333333333,0.0,1.3333333333333333,0.0,1.3333333333333333,1.3333333333333333,0.0,0.0,1.3333333333333333,0.0,1.3333333333333333,0.0,0.0,0.0,1.3333333333333333,1.3333333333333333,0.0,1.3333333333333333,1.3333333333333333,1.3333333333333333,0.0,1.3333333333333333,0.0,0.0,0.0,0.0,0.0,0.0,0.0,1.3333333333333333,1.3333333333333333,0.0,0.0,0.0,0.0,0.0,1.3333333333333333,1.3333333333333333,0.0,0.0,0.0,0.0,0.0,0.0,0.0,0.0,0.0,0.0,0.0,0.0,0.0,0.0,1.3333333333333333,1.3333333333333333,0.0,0.0,1.3333333333333333,1.3333333333333333,1.3333333333333333,0.0,0.0,0.0,0.0,0.0,1.3333333333333333,0.0,0.0,0.0,0.0,1.3333333333333333,0.0,0.0,0.0,0.0,1.3333333333333333,1.3333333333333333,1.3333333333333333,1.3333333333333333,1.3333333333333333,0.0,1.3333333333333333,0.0,0.0,0.0,0.0,1.3333333333333333,0.0,0.0,1.3333333333333333,0.0,0.0,1.3333333333333333,0.0,1.3333333333333333,1.3333333333333333,0.0,1.3333333333333333,1.3333333333333333,0.0,1.3333333333333333,1.3333333333333333,0.0,1.3333333333333333,0.0,1.3333333333333333,1.3333333333333333,1.3333333333333333,1.3333333333333333,1.3333333333333333,1.3333333333333333,1.3333333333333333,1.3333333333333333,0.0,1.3333333333333333,0.0,1.3333333333333333,0.0,1.3333333333333333,0.0,1.3333333333333333,0.0,0.0,0.0,0.0,1.3333333333333333,0.0,1.3333333333333333,0.0,1.3333333333333333],\"mode\":\"lines+markers\",\"name\":\"Avg Time (ms) - MarkHandles\"},{\"type\":\"scatter\",\"showlegend\":true,\"x\":[1,2,3,4,5,6,7,8,9,10,11,12,13,14,15,16,17,18,19,20,21,22,23,25,26,27,28,29,30,31,32,33,34,35,36,37,38,39,40,41,42,43,44,45,46,47,48,49,50,51,52,53,54,55,56,57,58,59,60,61,62,63,64,65,66,67,68,69,70,71,72,73,74,75,76,77,78,79,80,81,82,83,84,85,86,87,88,89,90,91,92,93,95,96,97,98,99,100,101,102,103,104,105,106,107,108,109,110,111,112,113,114,115,116,117,118,119,120,121,122,123,124,125,126,127,128,129,130,131,132,133,134,135,136,137,138,139,140,141,142,143,144,145,146,147,148,149,150,151,152,153,154,156,157,158,159,160,161,162,163,164,165,166,167,168,169,170,171,172,173,174,175,176,177,178,179,180,181,182,183,184,185,186,187,188,189,190,191,192,193,194,195,196,197,198,199,200,201,202,203,204,205,206,207,208,209,210,211,212,213,214,216,217,218,219,220,221,222,223,224,225,226,227,228,229,230,231,232,233,234,235,236,237,238,239,240,241,242,243,244,245,246,247,248,249,250,251,252,253,254,255,256,257,258,259,260,261,262,263,264,265,266,267,269,270,271,272,273,274,275,276,277,278,279,280,281,282,283,284,285,286,287,288,289,290,291,292,293,294,295,296,297,298,299,300,301,302,303,304,305,306,307,308,309,310,311,312,313,314,315,316,317,318,319,320,321,322,323,324,325,326,327,329,330,331,332,333,334,335,336,337,338,339,340,341,342,343,344,345,346,347,348,349,350,351,352,353,354,355,356,357,358,359,360,361,362,363,364,365,366,367,368,369,370,371,372,373,374,375,376,377,378,379,380,381,382,383,385,386,387,388,389,390,391,392,393,394,395,396,397,398,399,400,401,402,403,404,405,406,407,408,409,410,411,412,413,414,415,416,417,418,419,420,421,422,423,424,425,426,427,428,429,430,431,432,433,434,435,436,437,438,439,440,441,442,443,444,445,447,448,449,450,451,452,453,454,455,456,457,458,459,460,461,462,463,464,465,466,467,468,469,470,471,472,473,474,475,476,477,478,479,480,481,482,483,484,485,486,487,488,489,490,491,492,493],\"y\":[15078.888888888889,4145.277777777777,4798.055555555556,3353.777777777778,3967.222222222222,3954.777777777778,3483.1111111111113,3765.9444444444443,3828.0,3472.722222222222,4048.1111111111113,3677.1111111111113,3994.277777777778,4703.388888888889,3543.6111111111113,3047.3333333333335,3535.0,4377.111111111111,3127.1666666666665,3429.722222222222,3484.4444444444443,4702.833333333333,4052.0555555555557,3155.1111111111113,2525.722222222222,3308.777777777778,3210.222222222222,2733.0555555555557,3012.5555555555557,2765.5,3658.8333333333335,3847.6666666666665,3099.1111111111113,2911.3888888888887,3295.0,3224.0555555555557,4575.944444444444,3524.0555555555557,3182.722222222222,2986.777777777778,3937.222222222222,4321.666666666667,3534.1666666666665,3059.722222222222,3392.277777777778,3771.777777777778,3482.0,3463.6111111111113,3715.8333333333335,3890.777777777778,4112.222222222223,3826.5555555555557,2972.1666666666665,3314.777777777778,3718.5,3147.6666666666665,3897.6666666666665,3135.8333333333335,3393.9444444444443,3066.3333333333335,3086.1666666666665,2946.8333333333335,3066.0555555555557,2909.6111111111113,4618.555555555556,3516.277777777778,3138.222222222222,3312.6111111111113,3250.1111111111113,3330.0,3060.277777777778,4048.1666666666665,3488.6111111111113,3388.1666666666665,3374.4444444444443,3728.777777777778,3068.0,3765.722222222222,3906.8888888888887,3230.6666666666665,3754.3333333333335,4352.666666666667,3347.8333333333335,2962.6111111111113,2912.277777777778,4389.222222222223,3127.4444444444443,3176.5,3139.6111111111113,3694.8888888888887,3260.277777777778,3512.3333333333335,4262.833333333333,3287.0555555555557,3776.6111111111113,2689.8333333333335,3176.9444444444443,3057.1666666666665,3957.0,3759.277777777778,3838.1111111111113,3523.777777777778,3420.1666666666665,5076.777777777777,3554.777777777778,3235.4444444444443,3505.8333333333335,4136.0,3206.6111111111113,3253.5555555555557,3668.3888888888887,3494.3333333333335,3029.4444444444443,3439.722222222222,3130.8888888888887,4086.722222222222,3587.3888888888887,3863.6666666666665,4096.055555555556,3085.277777777778,3217.8333333333335,3401.9444444444443,3840.6111111111113,3410.4444444444443,4283.611111111111,3233.277777777778,3260.1111111111113,3295.3333333333335,3173.1111111111113,4274.166666666667,3523.3888888888887,2701.1666666666665,2786.777777777778,3325.0555555555557,2433.5555555555557,3816.6111111111113,3284.0,3901.722222222222,3506.6666666666665,3446.722222222222,2920.277777777778,5010.055555555556,4027.1111111111113,3635.222222222222,3758.0555555555557,3422.8888888888887,3324.5555555555557,3083.6666666666665,3382.8888888888887,3888.777777777778,3651.1666666666665,3345.8333333333335,3299.5555555555557,3700.1666666666665,3100.8333333333335,3772.0555555555557,3829.3888888888887,3220.8888888888887,3353.1666666666665,3674.3333333333335,4131.388888888889,3224.6666666666665,4063.3888888888887,3882.277777777778,3727.9444444444443,4315.0,3224.6666666666665,3495.1111111111113,3115.8888888888887,3825.9444444444443,3475.8888888888887,3375.8888888888887,3296.6111111111113,3123.9444444444443,2810.3888888888887,3196.3888888888887,2625.6666666666665,3061.8333333333335,3313.0,2941.8333333333335,2996.9444444444443,2950.6111111111113,3425.777777777778,3925.222222222222,3744.8333333333335,3351.222222222222,3688.277777777778,3506.8333333333335,4176.611111111111,2885.8888888888887,3920.777777777778,3641.8333333333335,3505.0555555555557,3356.8888888888887,4487.0,3564.0555555555557,3858.8888888888887,3277.277777777778,2556.6111111111113,3021.222222222222,3778.222222222222,3159.777777777778,4093.3888888888887,3585.5555555555557,4640.388888888889,4071.0,2931.277777777778,3181.9444444444443,3071.9444444444443,3216.3888888888887,3631.8333333333335,3461.777777777778,3671.777777777778,4499.722222222223,3786.6111111111113,3401.222222222222,3015.1666666666665,3180.3333333333335,3929.6111111111113,3424.277777777778,3078.9444444444443,3071.3888888888887,3505.722222222222,3266.1111111111113,3292.3333333333335,3068.9444444444443,2659.6111111111113,3720.0,4031.3888888888887,3201.3888888888887,3548.5,3430.6666666666665,4401.277777777777,2890.1111111111113,4280.222222222223,3851.1666666666665,3105.777777777778,4019.6111111111113,3018.222222222222,2863.1111111111113,3966.0,3532.4444444444443,2614.6666666666665,2792.6666666666665,4471.0,3036.3333333333335,3372.6111111111113,3154.6111111111113,3354.8333333333335,3158.5555555555557,3076.3888888888887,3336.6111111111113,3111.8333333333335,2644.0,3337.6666666666665,3327.0555555555557,3047.6666666666665,3957.3888888888887,3070.777777777778,3661.722222222222,3117.4444444444443,3408.8888888888887,3181.5,4065.8333333333335,4488.055555555556,3438.6666666666665,3534.8333333333335,4378.277777777777,2600.722222222222,3209.0,3275.8888888888887,3929.8333333333335,3710.0555555555557,2571.3888888888887,3379.8888888888887,3069.0,2724.777777777778,3432.6111111111113,3570.8888888888887,2824.3888888888887,3431.3888888888887,4679.944444444444,3852.222222222222,3599.5,3772.722222222222,3620.0555555555557,3343.777777777778,2833.6666666666665,2861.5,3756.5555555555557,3091.0555555555557,3214.5555555555557,2922.5555555555557,2451.3888888888887,3426.5,2854.9444444444443,3343.3333333333335,3217.8333333333335,4631.333333333333,3968.3888888888887,4041.0555555555557,3411.4444444444443,3882.0,3715.222222222222,3190.4444444444443,2656.0,3849.0,3122.0555555555557,3102.277777777778,3078.0,2933.3333333333335,3403.8333333333335,2200.5555555555557,3154.722222222222,3162.277777777778,2747.277777777778,3097.3333333333335,3832.8333333333335,2881.3888888888887,3169.1111111111113,3301.3888888888887,3751.3888888888887,2659.4444444444443,2857.6666666666665,3391.222222222222,2417.1111111111113,4326.333333333333,2605.5,3616.1666666666665,3456.3333333333335,3444.6666666666665,3212.1666666666665,3134.3333333333335,3265.0555555555557,2967.8888888888887,2954.777777777778,3272.1111111111113,4115.333333333333,3231.222222222222,3357.722222222222,2642.1666666666665,3439.3888888888887,3878.9444444444443,4199.0,3237.222222222222,4091.0555555555557,3488.4444444444443,3186.4444444444443,2905.6111111111113,3135.222222222222,3418.6666666666665,3663.777777777778,3229.5,3069.3333333333335,3411.1111111111113,4466.555555555556,3221.6111111111113,3828.6666666666665,3098.9444444444443,3940.277777777778,3659.8888888888887,3085.3888888888887,2671.0555555555557,3480.222222222222,3300.1111111111113,3757.222222222222,3439.222222222222,4193.0,3424.8333333333335,3619.9444444444443,3283.222222222222,3103.222222222222,2817.722222222222,3847.277777777778,3011.6111111111113,4287.277777777777,4060.722222222222,3149.9444444444443,2730.1666666666665,3079.8333333333335,2406.6111111111113,2592.4444444444443,2777.4444444444443,2698.5,3314.777777777778,2869.3333333333335,2916.0,3544.8333333333335,3463.5555555555557,2830.8333333333335,2680.8888888888887,3709.3333333333335,3271.0,3676.722222222222,2815.4444444444443,4935.277777777777,4440.722222222223,2538.4444444444443,3084.0555555555557,2872.1111111111113,2687.777777777778,3513.8888888888887,2656.8333333333335,3108.3333333333335,3257.1111111111113,2480.0,3682.0555555555557,3578.3888888888887,2596.1666666666665,3374.8888888888887,3870.4444444444443,3493.277777777778,3388.0,2848.8333333333335,3948.0,3232.6666666666665,3282.8333333333335,2647.3888888888887,2480.3888888888887,2727.1666666666665,3592.222222222222,3001.777777777778,2363.0555555555557,3041.4444444444443,3786.1666666666665,3539.9444444444443,4363.444444444444,3121.4444444444443,4009.0555555555557,3735.5555555555557,2903.277777777778,2767.8333333333335,3489.6666666666665,4139.111111111111,3456.5555555555557,2822.0,2967.8888888888887,3471.0,2345.722222222222,3381.1666666666665,3539.8333333333335,3102.0,3718.1111111111113,3756.3333333333335,3722.722222222222,4544.388888888889,3997.8333333333335,3051.5,3523.5555555555557,3090.6666666666665,3746.5555555555557,2460.6666666666665,3061.1666666666665,3601.8888888888887,3583.3888888888887,3022.3888888888887,3029.9444444444443,3281.277777777778,3307.3333333333335,3725.4444444444443,3532.1111111111113,4212.5,3822.5555555555557,3306.277777777778,2804.5555555555557,3322.5,3221.4444444444443,3298.6111111111113,3082.277777777778,3888.8333333333335,3261.9444444444443,2666.9444444444443,3009.9444444444443,2824.1666666666665,2494.5,2253.777777777778,2664.1111111111113,2349.1666666666665,2265.8888888888887,1351.1666666666667,1929.1666666666667,1602.111111111111,1676.7222222222222,1235.0,1117.7222222222222],\"mode\":\"lines+markers\",\"name\":\"Avg Time (ms) - MarkOlder\"}];\n",
       "           var layout = {\"title\":\"Average Mark Promoted Bytes for Gen0\",\"showlegend\":true,\"xaxis\":{\"title\":\"GC #\",\"_isSubplotObj\":true},\"yaxis\":{\"title\":\"Bytes\",\"_isSubplotObj\":true}};\n",
       "           Plotly.newPlot('9998f5d3-d19e-46ee-bd91-9bec6314776a', data, layout);\n",
       "        \r\n",
       "});\n",
       "};\r\n",
       "// ensure `require` is available globally\r\n",
       "if ((typeof(require) !==  typeof(Function)) || (typeof(require.config) !== typeof(Function))) {\r\n",
       "    let require_script = document.createElement('script');\r\n",
       "    require_script.setAttribute('src', 'https://cdnjs.cloudflare.com/ajax/libs/require.js/2.3.6/require.min.js');\r\n",
       "    require_script.setAttribute('type', 'text/javascript');\r\n",
       "    \r\n",
       "    \r\n",
       "    require_script.onload = function() {\r\n",
       "        renderPlotly();\r\n",
       "    };\r\n",
       "\r\n",
       "    document.getElementsByTagName('head')[0].appendChild(require_script);\r\n",
       "}\r\n",
       "else {\r\n",
       "    renderPlotly();\r\n",
       "}\r\n",
       "\r\n",
       "</script>\r\n"
      ]
     },
     "metadata": {},
     "output_type": "display_data"
    }
   ],
   "source": [
    "processData.ChartAverageMarkPhaseTimeByMarkType(generation: 0, types: new [] { MarkRootType.MarkStack, MarkRootType.MarkHandles, MarkRootType.MarkOlder })"
   ]
  },
  {
   "attachments": {},
   "cell_type": "markdown",
   "metadata": {},
   "source": [
    "## Source Code Analysis"
   ]
  },
  {
   "cell_type": "code",
   "execution_count": 52,
   "metadata": {
    "dotnet_interactive": {
     "language": "csharp"
    },
    "vscode": {
     "languageId": "polyglot-notebook"
    }
   },
   "outputs": [
    {
     "data": {
      "text/plain": [
       "                                                             FALSE);\n",
       "           gc_t_join.join(this, gc_join_generation_determined);\n",
       "           if (gc_t_join.joined())\n",
       "       #endif //MULTIPLE_HEAPS\n",
       "           {\n",
       " 14.0 |#ifdef FEATURE_BASICFREEZE\n",
       "               seg_table->delete_old_slots();\n",
       "       #endif //FEATURE_BASICFREEZE\n",
       "       \n",
       "       #ifdef MULTIPLE_HEAPS\n",
       "               for (int i = 0; i < n_heaps; i++)\n",
       " 28.0 |        {\n",
       "                   gc_heap* hp = g_heaps[i];\n",
       "                   // check for card table growth\n",
       "                   if (g_gc_card_table != hp->card_table)\n",
       "                       hp->copy_brick_card_table();\n",
       "       \n",
       "                   hp->rearrange_uoh_segments();\n",
       "       #ifdef BACKGROUND_GC\n",
       "                   hp->background_delay_delete_uoh_segments();\n",
       "                   if (!gc_heap::background_running_p())\n",
       "                       hp->rearrange_small_heap_segments();\n",
       "       #endif //BACKGROUND_GC\n",
       "               }\n",
       "       #else //MULTIPLE_HEAPS\n",
       "               if (g_gc_card_table != card_table)\n",
       "                   copy_brick_card_table();\n",
       "       \n",
       "               rearrange_uoh_segments();\n",
       "       #ifdef BACKGROUND_GC\n",
       "               background_delay_delete_uoh_segments();\n",
       "               if (!gc_heap::background_running_p())\n",
       "                   rearrange_small_heap_segments();\n",
       "       #endif //BACKGROUND_GC\n",
       "       #endif //MULTIPLE_HEAPS\n",
       "       \n",
       "               BOOL should_evaluate_elevation = TRUE;\n",
       "               BOOL should_do_blocking_collection = FALSE;\n",
       "       \n",
       "       #ifdef MULTIPLE_HEAPS\n",
       "               int gen_max = condemned_generation_num;\n",
       "               for (int i = 0; i < n_heaps; i++)\n",
       "               {\n",
       "                   if (gen_max < g_heaps[i]->condemned_generation_num)\n",
       "                       gen_max = g_heaps[i]->condemned_generation_num;\n",
       "                   if (should_evaluate_elevation && !(g_heaps[i]->elevation_requested))\n",
       "                       should_evaluate_elevation = FALSE;\n",
       "                   if ((!should_do_blocking_collection) && (g_heaps[i]->blocking_collection))\n",
       "  1.0 |                should_do_blocking_collection = TRUE;\n",
       "               }\n",
       "       \n",
       "               settings.condemned_generation = gen_max;\n",
       "       #else //MULTIPLE_HEAPS\n",
       "               settings.condemned_generation = generation_to_condemn (n,\n",
       "                                                                   &blocking_collection,\n",
       "                                                                   &elevation_requested,\n",
       "                                                                   FALSE);\n",
       "               should_evaluate_elevation = elevation_requested;\n",
       "               should_do_blocking_collection = blocking_collection;\n",
       "       #endif //MULTIPLE_HEAPS\n",
       "       \n",
       "               settings.condemned_generation = joined_generation_to_condemn (\n",
       "                                                   should_evaluate_elevation,\n",
       "                                                   n,\n",
       "                                                   settings.condemned_generation,\n",
       "                                                   &should_do_blocking_collection\n",
       " 89.0 |                                            STRESS_HEAP_ARG(n)\n",
       "861.0 |                                            );\n",
       "       \n",
       "               STRESS_LOG1(LF_GCROOTS|LF_GC|LF_GCALLOC, LL_INFO10,\n",
       "                       \"condemned generation num: %d\\n\", settings.condemned_generation);\n",
       "       \n",
       "               record_gcs_during_no_gc();\n",
       "       \n",
       "               if (settings.condemned_generation > 1)\n",
       "                   settings.promotion = TRUE;\n",
       "       \n",
       "       #ifdef HEAP_ANALYZE\n",
       "               // At this point we've decided what generation is condemned\n",
       "               // See if we've been requested to analyze survivors after the mark phase\n",
       "               if (GCToEEInterface::AnalyzeSurvivorsRequested(settings.condemned_generation))\n",
       "               {\n",
       "                   heap_analyze_enabled = TRUE;\n",
       "               }\n",
       "       #endif // HEAP_ANALYZE\n",
       "       \n",
       "               GCToEEInterface::DiagGCStart(settings.condemned_generation, settings.reason == reason_induced);\n",
       "       \n",
       "       #ifdef BACKGROUND_GC\n",
       "               if ((settings.condemned_generation == max_generation) &&\n",
       "                   (should_do_blocking_collection == FALSE) &&\n",
       "                   gc_can_use_concurrent &&\n",
       "                   !temp_disable_concurrent_p &&\n",
       "                   ((settings.pause_mode == pause_interactive) || (settings.pause_mode == pause_sustained_low_latency)))\n",
       "               {\n",
       "                   keep_bgc_threads_p = TRUE;\n",
       "                   c_write (settings.concurrent, TRUE);\n",
       "                   memset (&bgc_data_global, 0, sizeof(bgc_data_global));\n",
       "                   memcpy (&bgc_data_global, &gc_data_global, sizeof(gc_data_global));\n",
       "               }\n",
       "       #endif //BACKGROUND_GC\n",
       "       \n",
       "               settings.gc_index = (uint32_t)dd_collection_count (dynamic_data_of (0)) + 1;\n",
       "       \n",
       "       #ifdef MULTIPLE_HEAPS\n",
       "               hb_log_balance_activities();\n",
       "               hb_log_new_allocation();\n",
       "       #endif //MULTIPLE_HEAPS\n",
       "       \n",
       "               // Call the EE for start of GC work\n",
       "               GCToEEInterface::GcStartWork (settings.condemned_generation,\n",
       "                                       max_generation);\n",
       "       \n",
       "               // TODO: we could fire an ETW event to say this GC as a concurrent GC but later on due to not being able to\n",
       "               // create threads or whatever, this could be a non concurrent GC. Maybe for concurrent GC we should fire\n",
       "               // it in do_background_gc and if it failed to be a CGC we fire it in gc1... in other words, this should be\n",
       "               // fired in gc1.\n",
       "               do_pre_gc();\n",
       "       \n",
       "       #ifdef MULTIPLE_HEAPS\n",
       "               gc_start_event.Reset();\n",
       "               dprintf(3, (\"Starting all gc threads for gc\"));\n",
       "               gc_t_join.restart();\n",
       "       #endif //MULTIPLE_HEAPS\n",
       "           }\n",
       "       \n",
       "           descr_generations (\"BEGIN\");\n",
       "       #if defined(TRACE_GC) && defined(USE_REGIONS)\n",
       "           if (heap_number == 0)\n",
       "           {\n",
       "       #ifdef MULTIPLE_HEAPS\n",
       "               for (int i = 0; i < n_heaps; i++)\n",
       "               {\n",
       "                   gc_heap *hp = g_heaps[i];\n",
       "       #else //MULTIPLE_HEAPS\n",
       "               {\n",
       "                   gc_heap* hp = pGenGCHeap;\n",
       "                   const int i = 0;\n",
       "       #endif //MULTIPLE_HEAPS\n",
       "                   if (settings.condemned_generation == max_generation)\n",
       "                   {\n",
       "                       // print all kinds of free regions\n",
       "                       region_free_list::print(hp->free_regions, i, \"BEGIN\");\n",
       "                   }\n",
       "                   else\n",
       "                   {\n",
       "                       // print only basic free regions\n",
       "                       hp->free_regions[basic_free_region].print (i, \"BEGIN\");\n",
       "                   }\n",
       "               }\n",
       "           }\n",
       "       #endif // TRACE_GC && USE_REGIONS\n",
       "       \n",
       "       #ifdef VERIFY_HEAP\n",
       "           if ((GCConfig::GetHeapVerifyLevel() & GCConfig::HEAPVERIFY_GC) &&\n",
       "              !(GCConfig::GetHeapVerifyLevel() & GCConfig::HEAPVERIFY_POST_GC_ONLY))\n",
       "           {\n",
       "               verify_heap (TRUE);\n",
       "           }\n",
       "           if (GCConfig::GetHeapVerifyLevel() & GCConfig::HEAPVERIFY_BARRIERCHECK)\n",
       "               checkGCWriteBarrier();\n",
       "       #endif // VERIFY_HEAP\n",
       "       \n",
       "       #ifdef BACKGROUND_GC\n",
       "           if (settings.concurrent)\n",
       "           {\n",
       "               // We need to save the settings because we'll need to restore it after each FGC.\n",
       "               assert (settings.condemned_generation == max_generation);\n",
       "               settings.compaction = FALSE;\n",
       "               saved_bgc_settings = settings;\n",
       "       \n",
       "       #ifdef MULTIPLE_HEAPS\n",
       "               if (heap_number == 0)\n",
       "               {\n",
       "                   for (int i = 0; i < n_heaps; i++)\n",
       "                   {\n",
       "                       prepare_bgc_thread (g_heaps[i]);\n",
       "                   }\n",
       "                   dprintf (2, (\"setting bgc_threads_sync_event\"));\n",
       "                   bgc_threads_sync_event.Set();\n",
       "               }\n",
       "               else\n",
       "               {\n",
       "                   bgc_threads_sync_event.Wait(INFINITE, FALSE);\n",
       "                   dprintf (2, (\"bgc_threads_sync_event is signalled\"));\n",
       "  3.0 |        }\n",
       "       #else\n",
       "               prepare_bgc_thread(0);\n",
       "       #endif //MULTIPLE_HEAPS\n",
       "       \n",
       "       #ifdef MULTIPLE_HEAPS\n",
       "  3.0 |        gc_t_join.join(this, gc_join_start_bgc);\n",
       "               if (gc_t_join.joined())\n",
       "       #endif //MULTIPLE_HEAPS\n",
       "               {\n",
       "                   do_concurrent_p = TRUE;\n",
       "                   do_ephemeral_gc_p = FALSE;\n",
       "       #ifdef MULTIPLE_HEAPS\n",
       "                   dprintf(2, (\"Joined to perform a background GC\"));\n",
       "       \n",
       "                   for (int i = 0; i < n_heaps; i++)\n",
       "                   {\n",
       "                       gc_heap* hp = g_heaps[i];\n",
       "                       if (!(hp->bgc_thread) || !hp->commit_mark_array_bgc_init())\n",
       "                       {\n",
       "                           do_concurrent_p = FALSE;\n",
       "                           break;\n",
       "                       }\n",
       "                       else\n",
       "                       {\n",
       "                           hp->background_saved_lowest_address = hp->lowest_address;\n",
       "                           hp->background_saved_highest_address = hp->highest_address;\n",
       "                       }\n",
       "                   }\n",
       "       #else\n",
       "                   do_concurrent_p = (!!bgc_thread && commit_mark_array_bgc_init());\n",
       "                   if (do_concurrent_p)\n",
       "                   {\n",
       "                       background_saved_lowest_address = lowest_address;\n",
       "                       background_saved_highest_address = highest_address;\n",
       "                   }\n",
       "       #endif //MULTIPLE_HEAPS\n",
       "       \n",
       "                   if (do_concurrent_p)\n",
       "                   {\n",
       "       #ifdef FEATURE_USE_SOFTWARE_WRITE_WATCH_FOR_GC_HEAP\n",
       "                       SoftwareWriteWatch::EnableForGCHeap();\n",
       "       #endif //FEATURE_USE_SOFTWARE_WRITE_WATCH_FOR_GC_HEAP\n",
       "       \n",
       "       #ifdef MULTIPLE_HEAPS\n",
       "                       for (int i = 0; i < n_heaps; i++)\n",
       "                           g_heaps[i]->current_bgc_state = bgc_initialized;\n",
       "       #else\n",
       "                       current_bgc_state = bgc_initialized;\n",
       "       #endif //MULTIPLE_HEAPS\n",
       "       \n",
       "                       int gen = check_for_ephemeral_alloc();\n",
       "                       // always do a gen1 GC before we start BGC.\n",
       "                       dont_restart_ee_p = TRUE;\n",
       "                       if (gen == -1)\n",
       "                       {\n",
       "                           // If we decide to not do a GC before the BGC we need to\n",
       "                           // restore the gen0 alloc context.\n",
       "       #ifdef MULTIPLE_HEAPS\n",
       "                           for (int i = 0; i < n_heaps; i++)\n",
       "                           {\n",
       "                               generation_allocation_pointer (g_heaps[i]->generation_of (0)) =  0;\n",
       "                               generation_allocation_limit (g_heaps[i]->generation_of (0)) = 0;\n",
       "                           }\n",
       "       #else\n",
       "                           generation_allocation_pointer (youngest_generation) =  0;\n",
       "                           generation_allocation_limit (youngest_generation) = 0;\n",
       "       #endif //MULTIPLE_HEAPS\n",
       "                       }\n",
       "                       else\n",
       "                       {\n",
       "                           do_ephemeral_gc_p = TRUE;\n",
       "       \n",
       "                           settings.init_mechanisms();\n",
       "                           settings.condemned_generation = gen;\n",
       "                           settings.gc_index = (size_t)dd_collection_count (dynamic_data_of (0)) + 2;\n",
       "                           do_pre_gc();\n",
       "       \n",
       "                           // TODO BACKGROUND_GC need to add the profiling stuff here.\n",
       "                           dprintf (GTC_LOG, (\"doing gen%d before doing a bgc\", gen));\n",
       "                       }\n",
       "       \n",
       "                       //clear the cards so they don't bleed in gen 1 during collection\n",
       "                       // shouldn't this always be done at the beginning of any GC?\n",
       "                       //clear_card_for_addresses (\n",
       "                       //    generation_allocation_start (generation_of (0)),\n",
       "                       //    heap_segment_allocated (ephemeral_heap_segment));\n",
       "       \n",
       "                       if (!do_ephemeral_gc_p)\n",
       "                       {\n",
       "                           do_background_gc();\n",
       "                       }\n",
       "                   }\n",
       "                   else\n",
       "                   {\n",
       "                       settings.compaction = TRUE;\n",
       "                       c_write (settings.concurrent, FALSE);\n",
       "                   }\n",
       "       \n",
       "       #ifdef MULTIPLE_HEAPS\n",
       "                   gc_t_join.restart();\n",
       "       #endif //MULTIPLE_HEAPS\n",
       "               }\n",
       "       \n",
       "               if (do_concurrent_p)\n",
       "               {\n",
       "                   // At this point we are sure we'll be starting a BGC, so save its per heap data here.\n",
       "                   // global data is only calculated at the end of the GC so we don't need to worry about\n",
       "                   // FGCs overwriting it.\n",
       "                   memset (&bgc_data_per_heap, 0, sizeof (bgc_data_per_heap));\n",
       "                   memcpy (&bgc_data_per_heap, &gc_data_per_heap, sizeof(gc_data_per_heap));\n",
       "       \n",
       "                   if (do_ephemeral_gc_p)\n",
       "                   {\n",
       "                       dprintf (2, (\"GC threads running, doing gen%d GC\", settings.condemned_generation));\n",
       "       \n",
       "                       gen_to_condemn_reasons.init();\n",
       "                       gen_to_condemn_reasons.set_condition (gen_before_bgc);\n",
       "                       gc_data_per_heap.gen_to_condemn_reasons.init (&gen_to_condemn_reasons);\n",
       "                       gc1();\n",
       "       #ifdef MULTIPLE_HEAPS\n",
       "                       gc_t_join.join(this, gc_join_bgc_after_ephemeral);\n",
       "                       if (gc_t_join.joined())\n",
       "       #endif //MULTIPLE_HEAPS\n",
       "                       {\n",
       "       #ifdef MULTIPLE_HEAPS\n",
       "                           do_post_gc();\n",
       "       #endif //MULTIPLE_HEAPS\n",
       "                           settings = saved_bgc_settings;\n",
       "                           assert (settings.concurrent);\n",
       "       \n",
       "                           do_background_gc();\n",
       "       \n",
       "       #ifdef MULTIPLE_HEAPS\n",
       "                           gc_t_join.restart();\n",
       "       #endif //MULTIPLE_HEAPS\n",
       "                       }\n",
       "                   }\n",
       "               }\n",
       "               else\n",
       "               {\n",
       "                   dprintf (2, (\"couldn't create BGC threads, reverting to doing a blocking GC\"));\n",
       "                   gc1();\n",
       "               }\n",
       "           }\n",
       "           else\n",
       "       #endif //BACKGROUND_GC\n",
       "           {\n",
       "               gc1();\n",
       "           }\n",
       "       #ifndef MULTIPLE_HEAPS\n",
       "           allocation_running_time = (size_t)GCToOSInterface::GetLowPrecisionTimeStamp();\n",
       "           allocation_running_amount = dd_new_allocation (dynamic_data_of (0));\n",
       "           fgn_last_alloc = dd_new_allocation (dynamic_data_of (0));\n",
       "       #endif //MULTIPLE_HEAPS\n",
       "       \n",
       "       done:\n",
       "           if (settings.pause_mode == pause_no_gc)\n",
       "               allocate_for_no_gc_after_gc();\n",
       "       }\n",
       "       \n",
       "       #define mark_stack_empty_p() (mark_stack_base == mark_stack_tos)\n",
       "       \n",
       "       inline\n",
       "       size_t gc_heap::get_promoted_bytes()\n",
       "       {\n",
       "       #ifdef USE_REGIONS\n",
       "           if (!survived_per_region)\n",
       "           {\n",
       "               dprintf (REGIONS_LOG, (\"no space to store promoted bytes\"));\n",
       "               return 0;\n",
       "           }\n",
       "       \n",
       "           dprintf (3, (\"h%d getting surv\", heap_number));\n",
       "           size_t promoted = 0;\n",
       "           for (size_t i = 0; i < region_count; i++)\n",
       "           {\n",
       "               if (survived_per_region[i] > 0)\n",
       "               {\n",
       "                   heap_segment* region = get_region_at_index (i);\n",
       "                   dprintf (REGIONS_LOG, (\"h%d region[%d] %Ix(g%d)(%s) surv: %Id(%Ix)\",\n",
       "                       heap_number, i,\n",
       "                       heap_segment_mem (region),\n",
       "                       heap_segment_gen_num (region),\n",
       "                       (heap_segment_loh_p (region) ? \"LOH\" : (heap_segment_poh_p (region) ? \"POH\" :\"SOH\")),\n",
       "                       survived_per_region[i],\n",
       "                       &survived_per_region[i]));\n",
       "       \n",
       "                   promoted += survived_per_region[i];\n",
       "               }\n",
       "           }\n",
       "       \n",
       "       #ifdef _DEBUG\n",
       "           dprintf (REGIONS_LOG, (\"h%d global recorded %Id, regions recorded %Id\",\n",
       "               heap_number, promoted_bytes (heap_number), promoted));\n",
       "           assert (promoted_bytes (heap_number) == promoted);\n",
       "       #endif //_DEBUG\n",
       "       \n",
       "           return promoted;\n",
       "       \n",
       "       #else //USE_REGIONS\n",
       "       \n",
       "       #ifdef MULTIPLE_HEAPS\n",
       "           return g_promoted [heap_number*16];\n",
       "       #else //MULTIPLE_HEAPS\n",
       "           return g_promoted;\n",
       "       #endif //MULTIPLE_HEAPS\n",
       "       #endif //USE_REGIONS\n",
       "       }\n",
       "       \n",
       "       #ifdef USE_REGIONS\n",
       "       void gc_heap::sync_promoted_bytes()\n",
       "       {\n",
       "  3.0K|    int condemned_gen_number = settings.condemned_generation;"
      ]
     },
     "metadata": {},
     "output_type": "display_data"
    }
   ],
   "source": [
    "baselineCPUData.SetSourcePath(@\"C:\\runtime\\\");\n",
    "baselineCPUData.Annotate(\"gc_heap::garbage_collect\")"
   ]
  },
  {
   "attachments": {},
   "cell_type": "markdown",
   "metadata": {},
   "source": [
    "## Affinitized CPU Analysis"
   ]
  },
  {
   "attachments": {},
   "cell_type": "markdown",
   "metadata": {},
   "source": [
    "### Summary"
   ]
  },
  {
   "cell_type": "code",
   "execution_count": 55,
   "metadata": {
    "dotnet_interactive": {
     "language": "csharp"
    },
    "vscode": {
     "languageId": "polyglot-notebook"
    }
   },
   "outputs": [],
   "source": [
    "var gcData = baselineAnalyzer.GetProcessGCData(\"corerun\").First();\n",
    "\n",
    "Dictionary<string, AffinitizedCPUData> get_stats_gcs_with_large_diff(List<TraceGC> gcs, double threshold)\n",
    "{\n",
    "    // Per process name affinitized cpu data.\n",
    "    Dictionary<string, AffinitizedCPUData> data = new();\n",
    "\n",
    "    for(int i = 0; i < gcs.Count; i++)\n",
    "    {\n",
    "        double diff_between_suspend_ee_stop_and_gc_start = gcs[i].StartRelativeMSec - (gcs[i].PauseStartRelativeMSec + gcs[i].SuspendDurationMSec);\n",
    "        if (diff_between_suspend_ee_stop_and_gc_start > threshold)\n",
    "        {\n",
    "            // Processor -> < ProcessID, AffinitizedCPUData >\n",
    "            Dictionary<int, Dictionary<int, AffinitizedCPUData>> affinitizedAnalysis = gcData.GetAffinitizedAnalysis(gcs[i].PauseStartRelativeMSec + gcs[i].SuspendDurationMSec, gcs[i].StartRelativeMSec);\n",
    "            foreach(var processor in affinitizedAnalysis)\n",
    "            {\n",
    "                foreach(var process in processor.Value)\n",
    "                {\n",
    "                    if (!data.TryGetValue(process.Value.Name, out var affinitizedCPUData))\n",
    "                    {\n",
    "                        data[process.Value.Name] = affinitizedCPUData = new AffinitizedCPUData\n",
    "                        {\n",
    "                            Name = process.Value.Name,\n",
    "                            ProcessorNumber = -1, // All processors\n",
    "                        };\n",
    "                    }\n",
    "\n",
    "                    affinitizedCPUData.NumberOfSamples += process.Value.NumberOfSamples;\n",
    "                }\n",
    "            }\n",
    "        }\n",
    "    }\n",
    "\n",
    "    return data;\n",
    "}\n",
    "\n",
    "Dictionary<string, AffinitizedCPUData> stats = get_stats_gcs_with_large_diff(baselineAnalyzer.GetProcessGCData(\"corerun\").First().GCs, 8);"
   ]
  },
  {
   "attachments": {},
   "cell_type": "markdown",
   "metadata": {},
   "source": [
    "#### Number of Samples"
   ]
  },
  {
   "cell_type": "code",
   "execution_count": 56,
   "metadata": {
    "dotnet_interactive": {
     "language": "csharp"
    },
    "vscode": {
     "languageId": "polyglot-notebook"
    }
   },
   "outputs": [
    {
     "name": "stdout",
     "output_type": "stream",
     "text": [
      "Number of Samples from Threads >= GC Thread Priority of 14: 0\n",
      "Number of Samples from GC Threads : 21\n"
     ]
    }
   ],
   "source": [
    "float total_number_of_samples_from_non_gc_threads = 0;\n",
    "float total_number_of_samples_from_gc_threads = 0;\n",
    "\n",
    "foreach(var process_data in stats)\n",
    "{\n",
    "    if (process_data.Key != \"GC Thread\")\n",
    "    {\n",
    "        total_number_of_samples_from_non_gc_threads += process_data.Value.NumberOfSamples;\n",
    "    }\n",
    "\n",
    "    else\n",
    "    {\n",
    "        total_number_of_samples_from_gc_threads += process_data.Value.NumberOfSamples;\n",
    "    }\n",
    "}\n",
    "\n",
    "Console.WriteLine($\"Number of Samples from Threads >= GC Thread Priority of 14: {total_number_of_samples_from_non_gc_threads}\");\n",
    "Console.WriteLine($\"Number of Samples from GC Threads : {total_number_of_samples_from_gc_threads}\");"
   ]
  },
  {
   "attachments": {},
   "cell_type": "markdown",
   "metadata": {},
   "source": [
    "#### Per Process Summarization"
   ]
  },
  {
   "cell_type": "code",
   "execution_count": 57,
   "metadata": {
    "dotnet_interactive": {
     "language": "csharp"
    },
    "vscode": {
     "languageId": "polyglot-notebook"
    }
   },
   "outputs": [
    {
     "name": "stdout",
     "output_type": "stream",
     "text": [
      "For: GC Thread, Number of Samples: 21, % of Samples: 100%\r\n"
     ]
    }
   ],
   "source": [
    "// Get total samples\n",
    "\n",
    "float total_samples = 0;\n",
    "foreach (var process_data in stats)\n",
    "{\n",
    "    total_samples += process_data.Value.NumberOfSamples;\n",
    "}\n",
    "\n",
    "StringDataFrameColumn process_name = new(\"Process Name\");\n",
    "DoubleDataFrameColumn number_of_samples = new(\"Number of Samples\");\n",
    "DoubleDataFrameColumn percentage_of_samples = new(\"% of Samples\");\n",
    "\n",
    "foreach (var process_data in stats)\n",
    "{\n",
    "    process_name.Append(process_data.Key);\n",
    "    number_of_samples.Append(process_data.Value.NumberOfSamples);\n",
    "    percentage_of_samples.Append(Math.Round(process_data.Value.NumberOfSamples / total_samples * 100, 2));\n",
    "    Console.WriteLine($\"For: {process_data.Key}, Number of Samples: {process_data.Value.NumberOfSamples}, % of Samples: {Math.Round((process_data.Value.NumberOfSamples / total_samples) * 100, 2)}%\");\n",
    "}\n",
    "\n",
    "var df = new DataFrame(process_name, number_of_samples, percentage_of_samples);"
   ]
  },
  {
   "attachments": {},
   "cell_type": "markdown",
   "metadata": {},
   "source": [
    "#### Save Results To Markdown "
   ]
  },
  {
   "cell_type": "code",
   "execution_count": null,
   "metadata": {
    "dotnet_interactive": {
     "language": "csharp"
    },
    "vscode": {
     "languageId": "polyglot-notebook"
    }
   },
   "outputs": [],
   "source": [
    "df.Display();\n",
    "df.ToMarkdown(\"./AffinitizedResults.md\");"
   ]
  },
  {
   "attachments": {},
   "cell_type": "markdown",
   "metadata": {},
   "source": [
    "## Debugging"
   ]
  },
  {
   "cell_type": "code",
   "execution_count": 44,
   "metadata": {
    "dotnet_interactive": {
     "language": "csharp"
    },
    "vscode": {
     "languageId": "polyglot-notebook"
    }
   },
   "outputs": [
    {
     "name": "stdout",
     "output_type": "stream",
     "text": [
      "Current Process ID: 29892\r\n"
     ]
    },
    {
     "data": {
      "text/html": [
       "<table><tbody><tr><td><img src=\"data:image/png;base64, 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\" width=\"125em\"></img></td><td style=\"line-height:.8em\"><p style=\"font-size:1.5em\"><b>.NET Interactive</b></p><p>&#169; 2020 Microsoft Corporation</p><p><b>Version: </b>1.0.425803+1db2979099d0272660e1497cae9b9af1238db42f</p><p><b>Library version: </b>1.0.0-beta.23258.3+1db2979099d0272660e1497cae9b9af1238db42f</p><p><b>Build date: </b>2023-05-19T04:42:05.2974204Z</p><p><a href=\"https://github.com/dotnet/interactive\">https://github.com/dotnet/interactive</a></p></td></tr></tbody></table>"
      ]
     },
     "metadata": {},
     "output_type": "display_data"
    }
   ],
   "source": [
    "Console.WriteLine($\"Current Process ID: {System.Diagnostics.Process.GetCurrentProcess().Id}\");\n",
    "\n",
    "#!about"
   ]
  }
 ],
 "metadata": {
  "kernelspec": {
   "display_name": ".NET (C#)",
   "language": "C#",
   "name": ".net-csharp"
  },
  "language_info": {
   "file_extension": ".cs",
   "mimetype": "text/x-csharp",
   "name": "C#",
   "pygments_lexer": "csharp",
   "version": "9.0"
  },
  "orig_nbformat": 4
 },
 "nbformat": 4,
 "nbformat_minor": 2
}
