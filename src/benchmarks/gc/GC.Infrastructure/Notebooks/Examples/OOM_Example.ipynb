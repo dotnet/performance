{
 "cells": [
  {
   "attachments": {},
   "cell_type": "markdown",
   "metadata": {},
   "source": [
    "# Custom Dynamic Event Example"
   ]
  },
  {
   "cell_type": "code",
   "execution_count": 1,
   "metadata": {
    "dotnet_interactive": {
     "language": "csharp"
    },
    "vscode": {
     "languageId": "polyglot-notebook"
    }
   },
   "outputs": [
    {
     "data": {
      "text/html": [
       "<div><div></div><div></div><div><strong>Installed Packages</strong><ul><li><span>Microsoft.Data.Analysis, 0.22.0</span></li><li><span>Microsoft.Diagnostics.Tracing.TraceEvent, 3.1.13</span></li><li><span>Newtonsoft.Json, 13.0.3</span></li><li><span>XPlot.Plotly, 4.0.6</span></li><li><span>XPlot.Plotly.Interactive, 4.0.7</span></li></ul></div></div>"
      ]
     },
     "metadata": {},
     "output_type": "display_data"
    },
    {
     "data": {
      "text/plain": [
       "Loading extensions from `Q:\\.tools\\.nuget\\packages\\microsoft.data.analysis\\0.22.0\\interactive-extensions\\dotnet\\Microsoft.Data.Analysis.Interactive.dll`"
      ]
     },
     "metadata": {},
     "output_type": "display_data"
    },
    {
     "data": {
      "text/plain": [
       "Loading extensions from `Q:\\.tools\\.nuget\\packages\\xplot.plotly.interactive\\4.0.7\\lib\\net7.0\\XPlot.Plotly.Interactive.dll`"
      ]
     },
     "metadata": {},
     "output_type": "display_data"
    },
    {
     "data": {
      "text/markdown": [
       "Configuring PowerShell Kernel for XPlot.Plotly integration."
      ]
     },
     "metadata": {},
     "output_type": "display_data"
    },
    {
     "data": {
      "text/markdown": [
       "Installed support for XPlot.Plotly."
      ]
     },
     "metadata": {},
     "output_type": "display_data"
    }
   ],
   "source": [
    "#r \"nuget: Microsoft.Diagnostics.Tracing.TraceEvent, 3.1.13\"\n",
    "// #r \"./TraceEvent.dll\" <- Here is how to add your custom TraceEvent.dll\n",
    "\n",
    "#r \"nuget: XPlot.Plotly\"\n",
    "#r \"nuget: XPlot.Plotly.Interactive\"\n",
    "#r \"nuget: Microsoft.Data.Analysis\"\n",
    "#r \"nuget: Newtonsoft.Json\"\n",
    "\n",
    "using Etlx = Microsoft.Diagnostics.Tracing.Etlx;\n",
    "using Microsoft.Data.Analysis;\n",
    "using Microsoft.Diagnostics.Tracing.Analysis.GC;\n",
    "using Microsoft.Diagnostics.Tracing.Analysis;\n",
    "using Microsoft.Diagnostics.Tracing.Parsers.Clr;\n",
    "using Microsoft.Diagnostics.Tracing;\n",
    "using XPlot.Plotly;\n",
    "\n",
    "using System.IO;\n",
    "using Newtonsoft.Json;"
   ]
  },
  {
   "cell_type": "code",
   "execution_count": 2,
   "metadata": {
    "dotnet_interactive": {
     "language": "pwsh"
    },
    "vscode": {
     "languageId": "polyglot-notebook"
    }
   },
   "outputs": [
    {
     "name": "stdout",
     "output_type": "stream",
     "text": [
      "  Determining projects to restore...\n",
      "  All projects are up-to-date for restore.\n",
      "  GC.Analysis.API -> C:\\Users\\musharm\\source\\repos\\performance_oom\\artifacts\\bin\\GC.Analysis.API\\Release\\net8.0\\GC.Analysis.API.dll\n",
      "\n",
      "Build succeeded.\n",
      "    0 Warning(s)\n",
      "    0 Error(s)\n",
      "\n",
      "Time Elapsed 00:00:01.18\n"
     ]
    }
   ],
   "source": [
    "dotnet build -c Release \"..\\..\\GC.Analysis.API\" # /p:CustomTraceEvent=true and Optionally add: /p:PerfViewPath=C:\\\\Dev\\\\PerfView"
   ]
  },
  {
   "cell_type": "code",
   "execution_count": 3,
   "metadata": {
    "dotnet_interactive": {
     "language": "csharp"
    },
    "vscode": {
     "languageId": "polyglot-notebook"
    }
   },
   "outputs": [],
   "source": [
    "#r \"..\\..\\..\\..\\..\\..\\artifacts\\bin\\GC.Analysis.API\\Release\\net8.0\\GC.Analysis.API.dll\"\n",
    "\n",
    "using GC.Analysis.API;\n",
    "using GC.Analysis.API.DynamicEvents;"
   ]
  },
  {
   "cell_type": "markdown",
   "metadata": {},
   "source": [
    "# Dynamic Event"
   ]
  },
  {
   "cell_type": "code",
   "execution_count": 4,
   "metadata": {
    "dotnet_interactive": {
     "language": "csharp"
    },
    "polyglot_notebook": {
     "kernelName": "csharp"
    },
    "vscode": {
     "languageId": "polyglot-notebook"
    }
   },
   "outputs": [],
   "source": [
    "Analyzer analyzer = new Analyzer(@\"C:\\Users\\musharm\\source\\repos\\performance\\artifacts\\Results\\2gb\\2gb.run.0.etlx\");\n",
    "GCProcessData gcData = analyzer.GetProcessGCData(\"corerun\").First();"
   ]
  },
  {
   "cell_type": "code",
   "execution_count": 5,
   "metadata": {
    "dotnet_interactive": {
     "language": "csharp"
    },
    "polyglot_notebook": {
     "kernelName": "csharp"
    },
    "vscode": {
     "languageId": "polyglot-notebook"
    }
   },
   "outputs": [],
   "source": [
    "public static DynamicEventSchema OOMDetailsSchema = new DynamicEventSchema\n",
    "{\n",
    "    DynamicEventName = \"OOMDetails\",\n",
    "    Fields = new List<KeyValuePair<string, Type>>\n",
    "    {\n",
    "        KeyValuePair.Create(\"version\", typeof(ushort)),\n",
    "        KeyValuePair.Create(\"GCIndex\", typeof(uint)),\n",
    "        KeyValuePair.Create(\"Allocated\", typeof(ushort)),\n",
    "        KeyValuePair.Create(\"Reserved\", typeof(ushort)),\n",
    "        KeyValuePair.Create(\"AllocSize\", typeof(uint)),\n",
    "        KeyValuePair.Create(\"Reason\", typeof(ushort)),\n",
    "        KeyValuePair.Create(\"FGM\", typeof(ushort)),\n",
    "        KeyValuePair.Create(\"Size\", typeof(uint)),\n",
    "        KeyValuePair.Create(\"AvailablePageFileMB\", typeof(uint)),\n",
    "    },\n",
    "    MaxOccurrence = 1000\n",
    "};\n",
    "\n",
    "DynamicEventSchema.Add(OOMDetailsSchema);"
   ]
  },
  {
   "cell_type": "code",
   "execution_count": 9,
   "metadata": {
    "dotnet_interactive": {
     "language": "csharp"
    },
    "polyglot_notebook": {
     "kernelName": "csharp"
    },
    "vscode": {
     "languageId": "polyglot-notebook"
    }
   },
   "outputs": [
    {
     "ename": "Error",
     "evalue": "System.Exception: Event OOMDetails does not have matching size\r\n   at GC.Analysis.API.DynamicEvents.DynamicEventObject..ctor(GCDynamicEvent dynamicEvent, CompiledSchema schema) in C:\\Users\\musharm\\source\\repos\\performance_oom\\src\\benchmarks\\gc\\GC.Infrastructure\\GC.Analysis.API\\DynamicEvents\\DynamicEvents.cs:line 218\r\n   at GC.Analysis.API.DynamicEvents.DynamicIndex..ctor(List`1 dynamicEvents) in C:\\Users\\musharm\\source\\repos\\performance_oom\\src\\benchmarks\\gc\\GC.Infrastructure\\GC.Analysis.API\\DynamicEvents\\DynamicEvents.cs:line 194\r\n   at GC.Analysis.API.DynamicEvents.TraceGCExtensions.DynamicEvents(TraceGC traceGC) in C:\\Users\\musharm\\source\\repos\\performance_oom\\src\\benchmarks\\gc\\GC.Infrastructure\\GC.Analysis.API\\DynamicEvents\\DynamicEvents.cs:line 20\r\n   at Submission#10.<>c.<<Initialize>>b__0_0(TraceGC gc)\r\n   at GC.Analysis.API.GoodLinq.Select[T,R](IEnumerable`1 data, Func`2 map) in C:\\Users\\musharm\\source\\repos\\performance_oom\\src\\benchmarks\\gc\\GC.Infrastructure\\GC.Analysis.API\\Common.cs:line 98\r\n   at Submission#10.<<Initialize>>d__0.MoveNext()\r\n--- End of stack trace from previous location ---\r\n   at Microsoft.CodeAnalysis.Scripting.ScriptExecutionState.RunSubmissionsAsync[TResult](ImmutableArray`1 precedingExecutors, Func`2 currentExecutor, StrongBox`1 exceptionHolderOpt, Func`2 catchExceptionOpt, CancellationToken cancellationToken)",
     "output_type": "error",
     "traceback": [
      "System.Exception: Event OOMDetails does not have matching size\r\n",
      "   at GC.Analysis.API.DynamicEvents.DynamicEventObject..ctor(GCDynamicEvent dynamicEvent, CompiledSchema schema) in C:\\Users\\musharm\\source\\repos\\performance_oom\\src\\benchmarks\\gc\\GC.Infrastructure\\GC.Analysis.API\\DynamicEvents\\DynamicEvents.cs:line 218\r\n",
      "   at GC.Analysis.API.DynamicEvents.DynamicIndex..ctor(List`1 dynamicEvents) in C:\\Users\\musharm\\source\\repos\\performance_oom\\src\\benchmarks\\gc\\GC.Infrastructure\\GC.Analysis.API\\DynamicEvents\\DynamicEvents.cs:line 194\r\n",
      "   at GC.Analysis.API.DynamicEvents.TraceGCExtensions.DynamicEvents(TraceGC traceGC) in C:\\Users\\musharm\\source\\repos\\performance_oom\\src\\benchmarks\\gc\\GC.Infrastructure\\GC.Analysis.API\\DynamicEvents\\DynamicEvents.cs:line 20\r\n",
      "   at Submission#10.<>c.<<Initialize>>b__0_0(TraceGC gc)\r\n",
      "   at GC.Analysis.API.GoodLinq.Select[T,R](IEnumerable`1 data, Func`2 map) in C:\\Users\\musharm\\source\\repos\\performance_oom\\src\\benchmarks\\gc\\GC.Infrastructure\\GC.Analysis.API\\Common.cs:line 98\r\n",
      "   at Submission#10.<<Initialize>>d__0.MoveNext()\r\n",
      "--- End of stack trace from previous location ---\r\n",
      "   at Microsoft.CodeAnalysis.Scripting.ScriptExecutionState.RunSubmissionsAsync[TResult](ImmutableArray`1 precedingExecutors, Func`2 currentExecutor, StrongBox`1 exceptionHolderOpt, Func`2 catchExceptionOpt, CancellationToken cancellationToken)"
     ]
    }
   ],
   "source": [
    "gcData.GCs.Select(gc => gc.DynamicEvents().OOMDetails) "
   ]
  },
  {
   "cell_type": "code",
   "execution_count": 7,
   "metadata": {
    "dotnet_interactive": {
     "language": "csharp"
    },
    "polyglot_notebook": {
     "kernelName": "csharp"
    },
    "vscode": {
     "languageId": "polyglot-notebook"
    }
   },
   "outputs": [
    {
     "ename": "Error",
     "evalue": "Microsoft.CSharp.RuntimeBinder.RuntimeBinderException: Cannot perform runtime binding on a null reference\r\n   at CallSite.Target(Closure, CallSite, Object)\r\n   at System.Dynamic.UpdateDelegates.UpdateAndExecute1[T0,TRet](CallSite site, T0 arg0)\r\n   at Submission#8.<<Initialize>>d__0.MoveNext()\r\n--- End of stack trace from previous location ---\r\n   at Microsoft.CodeAnalysis.Scripting.ScriptExecutionState.RunSubmissionsAsync[TResult](ImmutableArray`1 precedingExecutors, Func`2 currentExecutor, StrongBox`1 exceptionHolderOpt, Func`2 catchExceptionOpt, CancellationToken cancellationToken)",
     "output_type": "error",
     "traceback": [
      "Microsoft.CSharp.RuntimeBinder.RuntimeBinderException: Cannot perform runtime binding on a null reference\r\n",
      "   at CallSite.Target(Closure, CallSite, Object)\r\n",
      "   at System.Dynamic.UpdateDelegates.UpdateAndExecute1[T0,TRet](CallSite site, T0 arg0)\r\n",
      "   at Submission#8.<<Initialize>>d__0.MoveNext()\r\n",
      "--- End of stack trace from previous location ---\r\n",
      "   at Microsoft.CodeAnalysis.Scripting.ScriptExecutionState.RunSubmissionsAsync[TResult](ImmutableArray`1 precedingExecutors, Func`2 currentExecutor, StrongBox`1 exceptionHolderOpt, Func`2 catchExceptionOpt, CancellationToken cancellationToken)"
     ]
    }
   ],
   "source": [
    "Console.WriteLine($\"Elapsed Time between GCs for GC#2: {gcData.GCs[1].DynamicEvents().SizeAdaptationSample.ElapsedTimeBetweenGCs}\");\n",
    "Console.WriteLine($\"TotalSOHStableSize for GC#4: {gcData.GCs[3].DynamicEvents().SizeAdaptationTuning.TotalSOHStableSize}\");"
   ]
  }
 ],
 "metadata": {
  "kernelspec": {
   "display_name": ".NET (C#)",
   "language": "C#",
   "name": ".net-csharp"
  },
  "language_info": {
   "file_extension": ".cs",
   "mimetype": "text/x-csharp",
   "name": "C#",
   "pygments_lexer": "csharp",
   "version": "9.0"
  },
  "orig_nbformat": 4,
  "polyglot_notebook": {
   "kernelInfo": {
    "defaultKernelName": "csharp",
    "items": [
     {
      "aliases": [],
      "name": "csharp"
     }
    ]
   }
  }
 },
 "nbformat": 4,
 "nbformat_minor": 2
}
