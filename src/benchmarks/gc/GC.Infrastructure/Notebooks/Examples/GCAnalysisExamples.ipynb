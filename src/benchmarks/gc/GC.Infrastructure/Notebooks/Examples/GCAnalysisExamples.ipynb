{
 "cells": [
  {
   "attachments": {},
   "cell_type": "markdown",
   "metadata": {},
   "source": [
    "# Usage of GC.Analysis.API for GC Analysis"
   ]
  },
  {
   "cell_type": "code",
   "execution_count": 1,
   "metadata": {
    "dotnet_interactive": {
     "language": "csharp"
    },
    "vscode": {
     "languageId": "polyglot-notebook"
    }
   },
   "outputs": [
    {
     "data": {
      "text/html": [
       "<div><div></div><div></div><div><strong>Installed Packages</strong><ul><li><span>Microsoft.Data.Analysis, 0.20.1</span></li><li><span>Microsoft.Diagnostics.Tracing.TraceEvent, 3.1.3</span></li><li><span>Microsoft.Playwright, 1.16.0</span></li><li><span>Newtonsoft.Json, 13.0.3</span></li><li><span>XPlot.Plotly, 4.0.6</span></li><li><span>XPlot.Plotly.Interactive, 4.0.7</span></li></ul></div></div>"
      ]
     },
     "metadata": {},
     "output_type": "display_data"
    },
    {
     "data": {
      "text/plain": [
       "Loading extensions from `C:\\Users\\musharm\\.nuget\\packages\\microsoft.data.analysis\\0.20.1\\interactive-extensions\\dotnet\\Microsoft.Data.Analysis.Interactive.dll`"
      ]
     },
     "metadata": {},
     "output_type": "display_data"
    },
    {
     "data": {
      "text/plain": [
       "Loading extensions from `C:\\Users\\musharm\\.nuget\\packages\\xplot.plotly.interactive\\4.0.7\\interactive-extensions\\dotnet\\XPlot.Plotly.Interactive.dll`"
      ]
     },
     "metadata": {},
     "output_type": "display_data"
    },
    {
     "data": {
      "text/markdown": [
       "Configuring PowerShell Kernel for XPlot.Plotly integration."
      ]
     },
     "metadata": {},
     "output_type": "display_data"
    },
    {
     "data": {
      "text/markdown": [
       "Installed support for XPlot.Plotly."
      ]
     },
     "metadata": {},
     "output_type": "display_data"
    }
   ],
   "source": [
    "#r \"nuget: Microsoft.Diagnostics.Tracing.TraceEvent\"\n",
    "#r \"nuget: XPlot.Plotly\"\n",
    "#r \"nuget: XPlot.Plotly.Interactive\"\n",
    "#r \"nuget: Microsoft.Data.Analysis\"\n",
    "#r \"nuget: Newtonsoft.Json\"\n",
    "#r \"nuget: Microsoft.Playwright, 1.16.0\"\n",
    "\n",
    "using Etlx = Microsoft.Diagnostics.Tracing.Etlx;\n",
    "using Microsoft.Data.Analysis;\n",
    "using Microsoft.Diagnostics.Tracing.Analysis.GC;\n",
    "using Microsoft.Diagnostics.Tracing.Analysis;\n",
    "using Microsoft.Diagnostics.Tracing.Parsers.Clr;\n",
    "using Microsoft.Diagnostics.Tracing;\n",
    "using XPlot.Plotly;\n",
    "\n",
    "using System.IO;\n",
    "using Newtonsoft.Json;"
   ]
  },
  {
   "attachments": {},
   "cell_type": "markdown",
   "metadata": {},
   "source": [
    "## Building and Using The GC Analysis API"
   ]
  },
  {
   "cell_type": "code",
   "execution_count": 2,
   "metadata": {
    "dotnet_interactive": {
     "language": "pwsh"
    },
    "vscode": {
     "languageId": "polyglot-notebook"
    }
   },
   "outputs": [
    {
     "name": "stdout",
     "output_type": "stream",
     "text": [
      "MSBuild version 17.6.0-preview-23174-01+e7de13307 for .NET\n",
      "  Determining projects to restore...\n",
      "  All projects are up-to-date for restore.\n",
      "  GC.Analysis.API -> C:\\performance\\artifacts\\bin\\GC.Analysis.API\\Release\\net6.0\\GC.Analysis.API.dll\n",
      "\n",
      "Build succeeded.\n",
      "    0 Warning(s)\n",
      "    0 Error(s)\n",
      "\n",
      "Time Elapsed 00:00:01.47\n"
     ]
    }
   ],
   "source": [
    "dotnet build -c Release \"..\\..\\GC.Analysis.API\""
   ]
  },
  {
   "cell_type": "code",
   "execution_count": 22,
   "metadata": {
    "dotnet_interactive": {
     "language": "csharp"
    },
    "vscode": {
     "languageId": "polyglot-notebook"
    }
   },
   "outputs": [
    {
     "ename": "Error",
     "evalue": "(1,1): error CS0006: Metadata file ' C:\\performance\\artifacts\\bin\\GC.Analysis.API\\Release\\net6.0\\GC.Analysis.API.dll' could not be found\r\n(3,7): error CS0246: The type or namespace name 'GC' could not be found (are you missing a using directive or an assembly reference?)",
     "output_type": "error",
     "traceback": [
      "(1,1): error CS0006: Metadata file ' C:\\performance\\artifacts\\bin\\GC.Analysis.API\\Release\\net6.0\\GC.Analysis.API.dll' could not be found\r\n",
      "(3,7): error CS0246: The type or namespace name 'GC' could not be found (are you missing a using directive or an assembly reference?)"
     ]
    }
   ],
   "source": [
    "#r \"C:\\performance\\artifacts\\bin\\GC.Analysis.API\\Release\\net6.0\\GC.Analysis.API.dll\" \n",
    "\n",
    "using GC.Analysis.API;"
   ]
  },
  {
   "attachments": {},
   "cell_type": "markdown",
   "metadata": {},
   "source": [
    "## Creating the Analyzer"
   ]
  },
  {
   "cell_type": "code",
   "execution_count": 4,
   "metadata": {
    "dotnet_interactive": {
     "language": "csharp"
    },
    "vscode": {
     "languageId": "polyglot-notebook"
    }
   },
   "outputs": [],
   "source": [
    "var TRACE_PATH  = @\".\\Traces\\vs-gccollectonly.etl.zip\";\n",
    "var BASE_PATH   = @\".\\Traces\\\";"
   ]
  },
  {
   "attachments": {},
   "cell_type": "markdown",
   "metadata": {},
   "source": [
    "### Get All Analyzers From Multiple Trace Paths"
   ]
  },
  {
   "cell_type": "code",
   "execution_count": 5,
   "metadata": {
    "dotnet_interactive": {
     "language": "csharp"
    },
    "vscode": {
     "languageId": "polyglot-notebook"
    }
   },
   "outputs": [
    {
     "ename": "Error",
     "evalue": "(1,20): error CS0246: The type or namespace name 'Analyzer' could not be found (are you missing a using directive or an assembly reference?)\r\n(1,44): error CS0103: The name 'AnalyzerManager' does not exist in the current context",
     "output_type": "error",
     "traceback": [
      "(1,20): error CS0246: The type or namespace name 'Analyzer' could not be found (are you missing a using directive or an assembly reference?)\r\n",
      "(1,44): error CS0103: The name 'AnalyzerManager' does not exist in the current context"
     ]
    }
   ],
   "source": [
    "Dictionary<string, Analyzer> gcTraceData = AnalyzerManager.GetAnalyzer(tracePaths: new[] { TRACE_PATH });"
   ]
  },
  {
   "attachments": {},
   "cell_type": "markdown",
   "metadata": {},
   "source": [
    "### Get All Analyzers From a Base Path"
   ]
  },
  {
   "cell_type": "code",
   "execution_count": 6,
   "metadata": {
    "dotnet_interactive": {
     "language": "csharp"
    },
    "vscode": {
     "languageId": "polyglot-notebook"
    }
   },
   "outputs": [
    {
     "ename": "Error",
     "evalue": "(1,20): error CS0246: The type or namespace name 'Analyzer' could not be found (are you missing a using directive or an assembly reference?)\r\n(1,44): error CS0103: The name 'AnalyzerManager' does not exist in the current context",
     "output_type": "error",
     "traceback": [
      "(1,20): error CS0246: The type or namespace name 'Analyzer' could not be found (are you missing a using directive or an assembly reference?)\r\n",
      "(1,44): error CS0103: The name 'AnalyzerManager' does not exist in the current context"
     ]
    }
   ],
   "source": [
    "Dictionary<string, Analyzer> gcTraceData = AnalyzerManager.GetAllAnalyzers(BASE_PATH);"
   ]
  },
  {
   "attachments": {},
   "cell_type": "markdown",
   "metadata": {},
   "source": [
    "### Get Analyzer From a Single Path"
   ]
  },
  {
   "attachments": {},
   "cell_type": "markdown",
   "metadata": {},
   "source": [
    "#### Get All Processes From a Trace"
   ]
  },
  {
   "cell_type": "code",
   "execution_count": 7,
   "metadata": {
    "dotnet_interactive": {
     "language": "csharp"
    },
    "vscode": {
     "languageId": "polyglot-notebook"
    }
   },
   "outputs": [
    {
     "ename": "Error",
     "evalue": "(1,1): error CS0246: The type or namespace name 'Analyzer' could not be found (are you missing a using directive or an assembly reference?)\r\n(1,28): error CS0246: The type or namespace name 'Analyzer' could not be found (are you missing a using directive or an assembly reference?)",
     "output_type": "error",
     "traceback": [
      "(1,1): error CS0246: The type or namespace name 'Analyzer' could not be found (are you missing a using directive or an assembly reference?)\r\n",
      "(1,28): error CS0246: The type or namespace name 'Analyzer' could not be found (are you missing a using directive or an assembly reference?)"
     ]
    }
   ],
   "source": [
    "Analyzer gcTraceData = new Analyzer(tracePath: TRACE_PATH);"
   ]
  },
  {
   "attachments": {},
   "cell_type": "markdown",
   "metadata": {},
   "source": [
    "#### Get Select Processes From a Trace"
   ]
  },
  {
   "cell_type": "code",
   "execution_count": 8,
   "metadata": {
    "dotnet_interactive": {
     "language": "csharp"
    },
    "vscode": {
     "languageId": "polyglot-notebook"
    }
   },
   "outputs": [
    {
     "ename": "Error",
     "evalue": "(1,1): error CS0246: The type or namespace name 'Analyzer' could not be found (are you missing a using directive or an assembly reference?)\r\n(1,28): error CS0246: The type or namespace name 'Analyzer' could not be found (are you missing a using directive or an assembly reference?)",
     "output_type": "error",
     "traceback": [
      "(1,1): error CS0246: The type or namespace name 'Analyzer' could not be found (are you missing a using directive or an assembly reference?)\r\n",
      "(1,28): error CS0246: The type or namespace name 'Analyzer' could not be found (are you missing a using directive or an assembly reference?)"
     ]
    }
   ],
   "source": [
    "Analyzer gcTraceData = new Analyzer(tracePath: TRACE_PATH, processNames: new HashSet<string> { \"devenv\" });"
   ]
  },
  {
   "attachments": {},
   "cell_type": "markdown",
   "metadata": {},
   "source": [
    "## Trace Summarization"
   ]
  },
  {
   "cell_type": "code",
   "execution_count": 9,
   "metadata": {
    "dotnet_interactive": {
     "language": "csharp"
    },
    "vscode": {
     "languageId": "polyglot-notebook"
    }
   },
   "outputs": [
    {
     "ename": "Error",
     "evalue": "(1,1): error CS0103: The name 'gcTraceData' does not exist in the current context",
     "output_type": "error",
     "traceback": [
      "(1,1): error CS0103: The name 'gcTraceData' does not exist in the current context"
     ]
    }
   ],
   "source": [
    "gcTraceData.SummarizeTrace(processName: \"devenv\")"
   ]
  },
  {
   "attachments": {},
   "cell_type": "markdown",
   "metadata": {},
   "source": [
    "## GC Analysis"
   ]
  },
  {
   "attachments": {},
   "cell_type": "markdown",
   "metadata": {},
   "source": [
    "### GC Summary"
   ]
  },
  {
   "attachments": {},
   "cell_type": "markdown",
   "metadata": {},
   "source": [
    "#### Summarize By Process Name"
   ]
  },
  {
   "cell_type": "code",
   "execution_count": 10,
   "metadata": {
    "dotnet_interactive": {
     "language": "csharp"
    },
    "vscode": {
     "languageId": "polyglot-notebook"
    }
   },
   "outputs": [
    {
     "ename": "Error",
     "evalue": "(1,1): error CS0103: The name 'gcTraceData' does not exist in the current context",
     "output_type": "error",
     "traceback": [
      "(1,1): error CS0103: The name 'gcTraceData' does not exist in the current context"
     ]
    }
   ],
   "source": [
    "gcTraceData.Summarize(processName: \"devenv\")"
   ]
  },
  {
   "attachments": {},
   "cell_type": "markdown",
   "metadata": {},
   "source": [
    "#### Comparative Summary"
   ]
  },
  {
   "cell_type": "code",
   "execution_count": 11,
   "metadata": {
    "dotnet_interactive": {
     "language": "csharp"
    },
    "vscode": {
     "languageId": "polyglot-notebook"
    }
   },
   "outputs": [
    {
     "ename": "Error",
     "evalue": "(1,6): error CS0246: The type or namespace name 'GCProcessData' could not be found (are you missing a using directive or an assembly reference?)\r\n(1,34): error CS0103: The name 'gcTraceData' does not exist in the current context",
     "output_type": "error",
     "traceback": [
      "(1,6): error CS0246: The type or namespace name 'GCProcessData' could not be found (are you missing a using directive or an assembly reference?)\r\n",
      "(1,34): error CS0103: The name 'gcTraceData' does not exist in the current context"
     ]
    }
   ],
   "source": [
    "List<GCProcessData> allDevenvs = gcTraceData.GetProcessGCData(\"devenv\");\n",
    "var data = allDevenvs[0].Compare(new [] { allDevenvs[1], allDevenvs[2] });\n",
    "data"
   ]
  },
  {
   "attachments": {},
   "cell_type": "markdown",
   "metadata": {},
   "source": [
    "#### Summarize Based On All Processes Sorted By Some Criteria "
   ]
  },
  {
   "cell_type": "code",
   "execution_count": 12,
   "metadata": {
    "dotnet_interactive": {
     "language": "csharp"
    },
    "vscode": {
     "languageId": "polyglot-notebook"
    }
   },
   "outputs": [
    {
     "ename": "Error",
     "evalue": "(1,1): error CS0103: The name 'gcTraceData' does not exist in the current context",
     "output_type": "error",
     "traceback": [
      "(1,1): error CS0103: The name 'gcTraceData' does not exist in the current context"
     ]
    }
   ],
   "source": [
    "gcTraceData.Summarize(topN: 3, criteriaInGCStats: nameof(GCStats.MeanSizeAfterMB))"
   ]
  },
  {
   "attachments": {},
   "cell_type": "markdown",
   "metadata": {},
   "source": [
    "### Charting"
   ]
  },
  {
   "attachments": {},
   "cell_type": "markdown",
   "metadata": {},
   "source": [
    "#### Getting To a ``List<TraceGC>`` from the Trace Data For a Process"
   ]
  },
  {
   "cell_type": "code",
   "execution_count": 13,
   "metadata": {
    "dotnet_interactive": {
     "language": "csharp"
    },
    "vscode": {
     "languageId": "polyglot-notebook"
    }
   },
   "outputs": [
    {
     "ename": "Error",
     "evalue": "(1,6): error CS0246: The type or namespace name 'GCProcessData' could not be found (are you missing a using directive or an assembly reference?)\r\n(2,1): error CS0246: The type or namespace name 'GCProcessData' could not be found (are you missing a using directive or an assembly reference?)\r\n(1,39): error CS0103: The name 'gcTraceData' does not exist in the current context",
     "output_type": "error",
     "traceback": [
      "(1,6): error CS0246: The type or namespace name 'GCProcessData' could not be found (are you missing a using directive or an assembly reference?)\r\n",
      "(2,1): error CS0246: The type or namespace name 'GCProcessData' could not be found (are you missing a using directive or an assembly reference?)\r\n",
      "(1,39): error CS0103: The name 'gcTraceData' does not exist in the current context"
     ]
    }
   ],
   "source": [
    "List<GCProcessData> devenvChartData = gcTraceData.GetProcessGCData(processName: \"devenv\");\n",
    "GCProcessData devenvToInvestigate   = devenvChartData[0];\n",
    "List<TraceGC> devenvTraceGCs        = devenvToInvestigate.GCs;"
   ]
  },
  {
   "attachments": {},
   "cell_type": "markdown",
   "metadata": {},
   "source": [
    "#### Charting Single Series"
   ]
  },
  {
   "cell_type": "code",
   "execution_count": 14,
   "metadata": {
    "dotnet_interactive": {
     "language": "csharp"
    },
    "vscode": {
     "languageId": "polyglot-notebook"
    }
   },
   "outputs": [
    {
     "ename": "Error",
     "evalue": "(1,1): error CS0103: The name 'GCCharting' does not exist in the current context\r\n(1,36): error CS0103: The name 'devenvTraceGCs' does not exist in the current context",
     "output_type": "error",
     "traceback": [
      "(1,1): error CS0103: The name 'GCCharting' does not exist in the current context\r\n",
      "(1,36): error CS0103: The name 'devenvTraceGCs' does not exist in the current context"
     ]
    }
   ],
   "source": [
    "GCCharting.ChartGCData(gcs       : devenvTraceGCs, \n",
    "                       title     : \"Pause Duration (MSec)\", \n",
    "                       fieldName : nameof(TraceGC.PauseDurationMSec), \n",
    "                       xAxis     : nameof(TraceGC.Number))"
   ]
  },
  {
   "attachments": {},
   "cell_type": "markdown",
   "metadata": {},
   "source": [
    "#### Charting Single Series with Chart Info"
   ]
  },
  {
   "cell_type": "code",
   "execution_count": 15,
   "metadata": {
    "dotnet_interactive": {
     "language": "csharp"
    },
    "vscode": {
     "languageId": "polyglot-notebook"
    }
   },
   "outputs": [
    {
     "ename": "Error",
     "evalue": "(1,1): error CS0246: The type or namespace name 'ChartInfo' could not be found (are you missing a using directive or an assembly reference?)\r\n(1,27): error CS0246: The type or namespace name 'ChartInfo' could not be found (are you missing a using directive or an assembly reference?)\r\n(9,1): error CS0103: The name 'GCCharting' does not exist in the current context\r\n(9,36): error CS0103: The name 'devenvTraceGCs' does not exist in the current context",
     "output_type": "error",
     "traceback": [
      "(1,1): error CS0246: The type or namespace name 'ChartInfo' could not be found (are you missing a using directive or an assembly reference?)\r\n",
      "(1,27): error CS0246: The type or namespace name 'ChartInfo' could not be found (are you missing a using directive or an assembly reference?)\r\n",
      "(9,1): error CS0103: The name 'GCCharting' does not exist in the current context\r\n",
      "(9,36): error CS0103: The name 'devenvTraceGCs' does not exist in the current context"
     ]
    }
   ],
   "source": [
    "ChartInfo chartInfo = new ChartInfo\n",
    "{\n",
    "    YAxisLabel = \"MSec\",\n",
    "    XAxisLabel = \"GC #\",\n",
    "    Width = 1000,\n",
    "    Height = 500,\n",
    "};\n",
    "\n",
    "GCCharting.ChartGCData(gcs       : devenvTraceGCs, \n",
    "                       title     : \"Pause Duration (MSec)\", \n",
    "                       fieldName : nameof(TraceGC.PauseDurationMSec), \n",
    "                       xAxis     : nameof(TraceGC.Number),\n",
    "                       chartInfo : chartInfo)"
   ]
  },
  {
   "attachments": {},
   "cell_type": "markdown",
   "metadata": {},
   "source": [
    "#### Charting Multiple Series From One List of Trace GCs"
   ]
  },
  {
   "cell_type": "code",
   "execution_count": 16,
   "metadata": {
    "dotnet_interactive": {
     "language": "csharp"
    },
    "vscode": {
     "languageId": "polyglot-notebook"
    }
   },
   "outputs": [
    {
     "ename": "Error",
     "evalue": "(1,1): error CS0103: The name 'GCCharting' does not exist in the current context\r\n(1,37): error CS0103: The name 'devenvTraceGCs' does not exist in the current context\r\n(6,37): error CS0103: The name 'chartInfo' does not exist in the current context",
     "output_type": "error",
     "traceback": [
      "(1,1): error CS0103: The name 'GCCharting' does not exist in the current context\r\n",
      "(1,37): error CS0103: The name 'devenvTraceGCs' does not exist in the current context\r\n",
      "(6,37): error CS0103: The name 'chartInfo' does not exist in the current context"
     ]
    }
   ],
   "source": [
    "GCCharting.ChartGCData(gcs        : devenvTraceGCs,\n",
    "                       title      : \"Pause Durations and Suspend Durations\",\n",
    "                       fields     : new [] { ( \"Pause Duration (MSec)\", nameof(TraceGC.PauseDurationMSec)),\n",
    "                                           ( \"Suspend Duration (MSec)\", nameof(TraceGC.SuspendDurationMSec)) },\n",
    "                       xAxis      : nameof(TraceGC.Number),\n",
    "                       chartInfo  : chartInfo)"
   ]
  },
  {
   "attachments": {},
   "cell_type": "markdown",
   "metadata": {},
   "source": [
    "#### Charting Multiple Series From Different Trace GCs"
   ]
  },
  {
   "attachments": {},
   "cell_type": "markdown",
   "metadata": {},
   "source": [
    "##### Non Relative GCs"
   ]
  },
  {
   "cell_type": "code",
   "execution_count": 17,
   "metadata": {
    "dotnet_interactive": {
     "language": "csharp"
    },
    "vscode": {
     "languageId": "polyglot-notebook"
    }
   },
   "outputs": [
    {
     "ename": "Error",
     "evalue": "(1,1): error CS0246: The type or namespace name 'GCProcessData' could not be found (are you missing a using directive or an assembly reference?)\r\n(1,42): error CS0103: The name 'devenvChartData' does not exist in the current context\r\n(7,71): error CS0103: The name 'devenvTraceGCs' does not exist in the current context\r\n(11,1): error CS0103: The name 'GCCharting' does not exist in the current context",
     "output_type": "error",
     "traceback": [
      "(1,1): error CS0246: The type or namespace name 'GCProcessData' could not be found (are you missing a using directive or an assembly reference?)\r\n",
      "(1,42): error CS0103: The name 'devenvChartData' does not exist in the current context\r\n",
      "(7,71): error CS0103: The name 'devenvTraceGCs' does not exist in the current context\r\n",
      "(11,1): error CS0103: The name 'GCCharting' does not exist in the current context"
     ]
    }
   ],
   "source": [
    "GCProcessData otherDevenvToInvestigate = devenvChartData[1];\n",
    "List<TraceGC> devenvTraceGCsOther      = otherDevenvToInvestigate.GCs;\n",
    "\n",
    "List<(string scatterName, List<TraceGC> gcs)> gcData = \n",
    "    new()\n",
    "    {\n",
    "        { ( scatterName :  \"Devenv 0 - Pause Duration (MSec)\" , gcs : devenvTraceGCs )},\n",
    "        { ( scatterName :  \"Devenv 1 - Pause Duration (MSec)\" , gcs : devenvTraceGCsOther )}\n",
    "    };\n",
    "\n",
    "GCCharting.ChartGCData(gcData          : gcData, \n",
    "                       title           : \"Pause Duration Comparisons Between Devenvs\", \n",
    "                       isXAxisRelative : false,\n",
    "                       fieldName       : nameof(TraceGC.PauseDurationMSec))"
   ]
  },
  {
   "attachments": {},
   "cell_type": "markdown",
   "metadata": {},
   "source": [
    "##### Relative GCs"
   ]
  },
  {
   "cell_type": "code",
   "execution_count": 18,
   "metadata": {
    "dotnet_interactive": {
     "language": "csharp"
    },
    "vscode": {
     "languageId": "polyglot-notebook"
    }
   },
   "outputs": [
    {
     "ename": "Error",
     "evalue": "(4,71): error CS0103: The name 'devenvTraceGCs' does not exist in the current context\r\n(5,71): error CS0103: The name 'allDevenvs' does not exist in the current context\r\n(8,1): error CS0103: The name 'GCCharting' does not exist in the current context",
     "output_type": "error",
     "traceback": [
      "(4,71): error CS0103: The name 'devenvTraceGCs' does not exist in the current context\r\n",
      "(5,71): error CS0103: The name 'allDevenvs' does not exist in the current context\r\n",
      "(8,1): error CS0103: The name 'GCCharting' does not exist in the current context"
     ]
    }
   ],
   "source": [
    "List<(string scatterName, List<TraceGC> gcs)> gcData = \n",
    "    new()\n",
    "    {\n",
    "        { ( scatterName :  \"Devenv 0 - Pause Duration (MSec)\" , gcs : devenvTraceGCs )},\n",
    "        { ( scatterName :  \"Devenv 1 - Pause Duration (MSec)\" , gcs : allDevenvs[1].GCs )}\n",
    "    };\n",
    "\n",
    "GCCharting.ChartGCData(gcData          : gcData, \n",
    "                       title           : \"Pause Duration Comparisons Between Devenvs\", \n",
    "                       fieldName       : nameof(TraceGC.PauseDurationMSec),\n",
    "                       isXAxisRelative : true,\n",
    "                       xAxis           : nameof(TraceGC.Number))"
   ]
  },
  {
   "attachments": {},
   "cell_type": "markdown",
   "metadata": {},
   "source": [
    "#### Charting Multiple Series With Filters"
   ]
  },
  {
   "cell_type": "code",
   "execution_count": 19,
   "metadata": {
    "dotnet_interactive": {
     "language": "csharp"
    },
    "vscode": {
     "languageId": "polyglot-notebook"
    }
   },
   "outputs": [
    {
     "ename": "Error",
     "evalue": "(7,1): error CS0103: The name 'GCCharting' does not exist in the current context\r\n(7,36): error CS0103: The name 'devenvTraceGCs' does not exist in the current context",
     "output_type": "error",
     "traceback": [
      "(7,1): error CS0103: The name 'GCCharting' does not exist in the current context\r\n",
      "(7,36): error CS0103: The name 'devenvTraceGCs' does not exist in the current context"
     ]
    }
   ],
   "source": [
    "IEnumerable<(string, Func<TraceGC, bool>)> filters = new (string, Func<TraceGC, bool>)[] \n",
    "{\n",
    "    (\"Generation0\", (TraceGC gc) => gc.Generation == 0),\n",
    "    (\"Generation1\", (TraceGC gc) => gc.Generation == 1),\n",
    "};\n",
    "\n",
    "GCCharting.ChartGCData(gcs       : devenvTraceGCs, \n",
    "                       title     : \"Per Generation Pause Duration (MSec)\", \n",
    "                       fieldName : nameof(TraceGC.PauseDurationMSec), \n",
    "                       filters   : filters)"
   ]
  },
  {
   "attachments": {},
   "cell_type": "markdown",
   "metadata": {},
   "source": [
    "#### Charting Custom Objects"
   ]
  },
  {
   "cell_type": "code",
   "execution_count": 20,
   "metadata": {
    "dotnet_interactive": {
     "language": "csharp"
    },
    "vscode": {
     "languageId": "polyglot-notebook"
    }
   },
   "outputs": [
    {
     "ename": "Error",
     "evalue": "(14,14): error CS0103: The name 'devenvTraceGCs' does not exist in the current context\r\n(21,1): error CS0103: The name 'GCCharting' does not exist in the current context",
     "output_type": "error",
     "traceback": [
      "(14,14): error CS0103: The name 'devenvTraceGCs' does not exist in the current context\r\n",
      "(21,1): error CS0103: The name 'GCCharting' does not exist in the current context"
     ]
    }
   ],
   "source": [
    "class CustomType\n",
    "{\n",
    "    public double Value0;\n",
    "    public double Value1;\n",
    "    public int Index;\n",
    "}\n",
    "\n",
    "var NUM_GCs = 5;\n",
    "\n",
    "CustomType[] customTypes = new CustomType[NUM_GCs];\n",
    "for(int customTypeIdx = 0; customTypeIdx < customTypes.Length; customTypeIdx++)\n",
    "{\n",
    "    customTypes[customTypeIdx] = new CustomType();\n",
    "    var gc = devenvTraceGCs[customTypeIdx];\n",
    "\n",
    "    customTypes[customTypeIdx].Value0 = gc.HeapSizeAfterMB; \n",
    "    customTypes[customTypeIdx].Value1 = gc.HeapSizeBeforeMB;\n",
    "    customTypes[customTypeIdx].Index  = customTypeIdx;\n",
    "}\n",
    "\n",
    "GCCharting.ChartGCData(gcData : customTypes, \n",
    "                       title  : \"Charting Custom Data\",\n",
    "                       fields : new [] { ( \"Value0\", nameof(CustomType.Value0) ), \n",
    "                                       ( \"Value1\", nameof(CustomType.Value1) )},\n",
    "                       xAxis  : nameof(CustomType.Index))"
   ]
  },
  {
   "attachments": {},
   "cell_type": "markdown",
   "metadata": {},
   "source": [
    "## Debugging"
   ]
  },
  {
   "cell_type": "code",
   "execution_count": 21,
   "metadata": {
    "dotnet_interactive": {
     "language": "csharp"
    },
    "vscode": {
     "languageId": "polyglot-notebook"
    }
   },
   "outputs": [
    {
     "name": "stdout",
     "output_type": "stream",
     "text": [
      "Current Process ID: 13000\r\n"
     ]
    },
    {
     "data": {
      "text/html": [
       "<table><tbody><tr><td><img src=\"data:image/png;base64, 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\" width=\"125em\"></img></td><td style=\"line-height:.8em\"><p style=\"font-size:1.5em\"><b>.NET Interactive</b></p><p>&#169; 2020 Microsoft Corporation</p><p><b>Version: </b>1.0.425803+1db2979099d0272660e1497cae9b9af1238db42f</p><p><b>Library version: </b>1.0.0-beta.23258.3+1db2979099d0272660e1497cae9b9af1238db42f</p><p><b>Build date: </b>2023-05-19T04:42:05.2974204Z</p><p><a href=\"https://github.com/dotnet/interactive\">https://github.com/dotnet/interactive</a></p></td></tr></tbody></table>"
      ]
     },
     "metadata": {},
     "output_type": "display_data"
    }
   ],
   "source": [
    "Console.WriteLine($\"Current Process ID: {System.Diagnostics.Process.GetCurrentProcess().Id}\");\n",
    "\n",
    "#!about"
   ]
  }
 ],
 "metadata": {
  "kernelspec": {
   "display_name": ".NET (C#)",
   "language": "C#",
   "name": ".net-csharp"
  },
  "language_info": {
   "file_extension": ".cs",
   "mimetype": "text/x-csharp",
   "name": "C#",
   "pygments_lexer": "csharp",
   "version": "9.0"
  },
  "orig_nbformat": 4
 },
 "nbformat": 4,
 "nbformat_minor": 2
}
