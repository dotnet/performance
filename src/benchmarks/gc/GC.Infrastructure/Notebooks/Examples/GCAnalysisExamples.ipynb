{
 "cells": [
  {
   "attachments": {},
   "cell_type": "markdown",
   "metadata": {},
   "source": [
    "# Usage of GC.Analysis.API for GC Analysis"
   ]
  },
  {
   "cell_type": "code",
   "execution_count": null,
   "metadata": {
    "dotnet_interactive": {
     "language": "csharp"
    },
    "vscode": {
     "languageId": "polyglot-notebook"
    }
   },
   "outputs": [],
   "source": [
    "#r \"nuget: Microsoft.Diagnostics.Tracing.TraceEvent, 3.1.9\"\n",
    "#r \"nuget: XPlot.Plotly\"\n",
    "#r \"nuget: XPlot.Plotly.Interactive\"\n",
    "#r \"nuget: Microsoft.Data.Analysis\"\n",
    "#r \"nuget: Newtonsoft.Json\"\n",
    "\n",
    "using Etlx = Microsoft.Diagnostics.Tracing.Etlx;\n",
    "using Microsoft.Data.Analysis;\n",
    "using Microsoft.Diagnostics.Tracing.Analysis.GC;\n",
    "using Microsoft.Diagnostics.Tracing.Analysis;\n",
    "using Microsoft.Diagnostics.Tracing.Parsers.Clr;\n",
    "using Microsoft.Diagnostics.Tracing;\n",
    "using XPlot.Plotly;\n",
    "\n",
    "using System.IO;\n",
    "using Newtonsoft.Json;"
   ]
  },
  {
   "attachments": {},
   "cell_type": "markdown",
   "metadata": {},
   "source": [
    "## Building and Using The GC Analysis API"
   ]
  },
  {
   "cell_type": "code",
   "execution_count": null,
   "metadata": {
    "dotnet_interactive": {
     "language": "pwsh"
    },
    "vscode": {
     "languageId": "polyglot-notebook"
    }
   },
   "outputs": [],
   "source": [
    "dotnet build -c Release \"..\\..\\GC.Analysis.API\""
   ]
  },
  {
   "cell_type": "code",
   "execution_count": null,
   "metadata": {
    "dotnet_interactive": {
     "language": "csharp"
    },
    "vscode": {
     "languageId": "polyglot-notebook"
    }
   },
   "outputs": [],
   "source": [
    "#r \"C:\\performance\\artifacts\\bin\\GC.Analysis.API\\Release\\net8.0\\GC.Analysis.API.dll\" \n",
    "\n",
    "using GC.Analysis.API;"
   ]
  },
  {
   "attachments": {},
   "cell_type": "markdown",
   "metadata": {},
   "source": [
    "## Creating the Analyzer"
   ]
  },
  {
   "cell_type": "code",
   "execution_count": null,
   "metadata": {
    "dotnet_interactive": {
     "language": "csharp"
    },
    "vscode": {
     "languageId": "polyglot-notebook"
    }
   },
   "outputs": [],
   "source": [
    "var TRACE_PATH  = @\".\\Traces\\vs-gccollectonly.etl.zip\";\n",
    "var BASE_PATH   = @\".\\Traces\\\";"
   ]
  },
  {
   "attachments": {},
   "cell_type": "markdown",
   "metadata": {},
   "source": [
    "### Get All Analyzers From Multiple Trace Paths"
   ]
  },
  {
   "cell_type": "code",
   "execution_count": null,
   "metadata": {
    "dotnet_interactive": {
     "language": "csharp"
    },
    "vscode": {
     "languageId": "polyglot-notebook"
    }
   },
   "outputs": [],
   "source": [
    "Dictionary<string, Analyzer> gcTraceData = AnalyzerManager.GetAnalyzer(tracePaths: new[] { TRACE_PATH });"
   ]
  },
  {
   "attachments": {},
   "cell_type": "markdown",
   "metadata": {},
   "source": [
    "### Get All Analyzers From a Base Path"
   ]
  },
  {
   "cell_type": "code",
   "execution_count": null,
   "metadata": {
    "dotnet_interactive": {
     "language": "csharp"
    },
    "vscode": {
     "languageId": "polyglot-notebook"
    }
   },
   "outputs": [],
   "source": [
    "Dictionary<string, Analyzer> gcTraceData = AnalyzerManager.GetAllAnalyzers(BASE_PATH);"
   ]
  },
  {
   "attachments": {},
   "cell_type": "markdown",
   "metadata": {},
   "source": [
    "### Get Analyzer From a Single Path"
   ]
  },
  {
   "attachments": {},
   "cell_type": "markdown",
   "metadata": {},
   "source": [
    "#### Get All Processes From a Trace"
   ]
  },
  {
   "cell_type": "code",
   "execution_count": null,
   "metadata": {
    "dotnet_interactive": {
     "language": "csharp"
    },
    "vscode": {
     "languageId": "polyglot-notebook"
    }
   },
   "outputs": [],
   "source": [
    "Analyzer gcTraceData = new Analyzer(tracePath: TRACE_PATH);"
   ]
  },
  {
   "attachments": {},
   "cell_type": "markdown",
   "metadata": {},
   "source": [
    "#### Get Select Processes From a Trace"
   ]
  },
  {
   "cell_type": "code",
   "execution_count": null,
   "metadata": {
    "dotnet_interactive": {
     "language": "csharp"
    },
    "vscode": {
     "languageId": "polyglot-notebook"
    }
   },
   "outputs": [],
   "source": [
    "Analyzer gcTraceData = new Analyzer(tracePath: TRACE_PATH, processNames: new HashSet<string> { \"devenv\" });"
   ]
  },
  {
   "attachments": {},
   "cell_type": "markdown",
   "metadata": {},
   "source": [
    "## Trace Summarization"
   ]
  },
  {
   "cell_type": "code",
   "execution_count": null,
   "metadata": {
    "dotnet_interactive": {
     "language": "csharp"
    },
    "vscode": {
     "languageId": "polyglot-notebook"
    }
   },
   "outputs": [],
   "source": [
    "gcTraceData.SummarizeTrace(processName: \"devenv\")"
   ]
  },
  {
   "attachments": {},
   "cell_type": "markdown",
   "metadata": {},
   "source": [
    "## GC Analysis"
   ]
  },
  {
   "attachments": {},
   "cell_type": "markdown",
   "metadata": {},
   "source": [
    "### GC Summary"
   ]
  },
  {
   "attachments": {},
   "cell_type": "markdown",
   "metadata": {},
   "source": [
    "#### Summarize By Process Name"
   ]
  },
  {
   "cell_type": "code",
   "execution_count": null,
   "metadata": {
    "dotnet_interactive": {
     "language": "csharp"
    },
    "vscode": {
     "languageId": "polyglot-notebook"
    }
   },
   "outputs": [],
   "source": [
    "gcTraceData.Summarize(processName: \"devenv\")"
   ]
  },
  {
   "attachments": {},
   "cell_type": "markdown",
   "metadata": {},
   "source": [
    "#### Comparative Summary"
   ]
  },
  {
   "cell_type": "code",
   "execution_count": null,
   "metadata": {
    "dotnet_interactive": {
     "language": "csharp"
    },
    "vscode": {
     "languageId": "polyglot-notebook"
    }
   },
   "outputs": [],
   "source": [
    "List<GCProcessData> allDevenvs = gcTraceData.GetProcessGCData(\"devenv\");\n",
    "var data = allDevenvs[0].Compare(new [] { allDevenvs[1], allDevenvs[2] });\n",
    "data"
   ]
  },
  {
   "attachments": {},
   "cell_type": "markdown",
   "metadata": {},
   "source": [
    "#### Summarize Based On All Processes Sorted By Some Criteria "
   ]
  },
  {
   "cell_type": "code",
   "execution_count": null,
   "metadata": {
    "dotnet_interactive": {
     "language": "csharp"
    },
    "vscode": {
     "languageId": "polyglot-notebook"
    }
   },
   "outputs": [],
   "source": [
    "gcTraceData.Summarize(topN: 3, criteriaInGCStats: nameof(GCStats.MeanSizeAfterMB))"
   ]
  },
  {
   "attachments": {},
   "cell_type": "markdown",
   "metadata": {},
   "source": [
    "### Charting"
   ]
  },
  {
   "attachments": {},
   "cell_type": "markdown",
   "metadata": {},
   "source": [
    "#### Getting To a ``List<TraceGC>`` from the Trace Data For a Process"
   ]
  },
  {
   "cell_type": "code",
   "execution_count": null,
   "metadata": {
    "dotnet_interactive": {
     "language": "csharp"
    },
    "vscode": {
     "languageId": "polyglot-notebook"
    }
   },
   "outputs": [],
   "source": [
    "List<GCProcessData> devenvChartData = gcTraceData.GetProcessGCData(processName: \"devenv\");\n",
    "GCProcessData devenvToInvestigate   = devenvChartData[0];\n",
    "List<TraceGC> devenvTraceGCs        = devenvToInvestigate.GCs;"
   ]
  },
  {
   "attachments": {},
   "cell_type": "markdown",
   "metadata": {},
   "source": [
    "#### Charting Single Series"
   ]
  },
  {
   "cell_type": "code",
   "execution_count": null,
   "metadata": {
    "dotnet_interactive": {
     "language": "csharp"
    },
    "vscode": {
     "languageId": "polyglot-notebook"
    }
   },
   "outputs": [],
   "source": [
    "GCCharting.ChartGCData(gcs       : devenvTraceGCs, \n",
    "                       title     : \"Pause Duration (MSec)\", \n",
    "                       fieldName : nameof(TraceGC.PauseDurationMSec), \n",
    "                       xAxis     : nameof(TraceGC.Number))"
   ]
  },
  {
   "attachments": {},
   "cell_type": "markdown",
   "metadata": {},
   "source": [
    "#### Charting Single Series with Chart Info"
   ]
  },
  {
   "cell_type": "code",
   "execution_count": null,
   "metadata": {
    "dotnet_interactive": {
     "language": "csharp"
    },
    "vscode": {
     "languageId": "polyglot-notebook"
    }
   },
   "outputs": [],
   "source": [
    "ChartInfo chartInfo = new ChartInfo\n",
    "{\n",
    "    YAxisLabel = \"MSec\",\n",
    "    XAxisLabel = \"GC #\",\n",
    "    Width = 1000,\n",
    "    Height = 500,\n",
    "};\n",
    "\n",
    "GCCharting.ChartGCData(gcs       : devenvTraceGCs, \n",
    "                       title     : \"Pause Duration (MSec)\", \n",
    "                       fieldName : nameof(TraceGC.PauseDurationMSec), \n",
    "                       xAxis     : nameof(TraceGC.Number),\n",
    "                       chartInfo : chartInfo)"
   ]
  },
  {
   "attachments": {},
   "cell_type": "markdown",
   "metadata": {},
   "source": [
    "#### Charting Multiple Series From One List of Trace GCs"
   ]
  },
  {
   "cell_type": "code",
   "execution_count": null,
   "metadata": {
    "dotnet_interactive": {
     "language": "csharp"
    },
    "vscode": {
     "languageId": "polyglot-notebook"
    }
   },
   "outputs": [],
   "source": [
    "GCCharting.ChartGCData(gcs        : devenvTraceGCs,\n",
    "                       title      : \"Pause Durations and Suspend Durations\",\n",
    "                       fields     : new [] { ( \"Pause Duration (MSec)\", nameof(TraceGC.PauseDurationMSec)),\n",
    "                                           ( \"Suspend Duration (MSec)\", nameof(TraceGC.SuspendDurationMSec)) },\n",
    "                       xAxis      : nameof(TraceGC.Number),\n",
    "                       chartInfo  : chartInfo)"
   ]
  },
  {
   "attachments": {},
   "cell_type": "markdown",
   "metadata": {},
   "source": [
    "#### Charting Multiple Series From Different Trace GCs"
   ]
  },
  {
   "attachments": {},
   "cell_type": "markdown",
   "metadata": {},
   "source": [
    "##### Non Relative GCs"
   ]
  },
  {
   "cell_type": "code",
   "execution_count": null,
   "metadata": {
    "dotnet_interactive": {
     "language": "csharp"
    },
    "vscode": {
     "languageId": "polyglot-notebook"
    }
   },
   "outputs": [],
   "source": [
    "GCProcessData otherDevenvToInvestigate = devenvChartData[1];\n",
    "List<TraceGC> devenvTraceGCsOther      = otherDevenvToInvestigate.GCs;\n",
    "\n",
    "List<(string scatterName, List<TraceGC> gcs)> gcData = \n",
    "    new()\n",
    "    {\n",
    "        { ( scatterName :  \"Devenv 0 - Pause Duration (MSec)\" , gcs : devenvTraceGCs )},\n",
    "        { ( scatterName :  \"Devenv 1 - Pause Duration (MSec)\" , gcs : devenvTraceGCsOther )}\n",
    "    };\n",
    "\n",
    "GCCharting.ChartGCData(gcData          : gcData, \n",
    "                       title           : \"Pause Duration Comparisons Between Devenvs\", \n",
    "                       isXAxisRelative : false,\n",
    "                       fieldName       : nameof(TraceGC.PauseDurationMSec))"
   ]
  },
  {
   "attachments": {},
   "cell_type": "markdown",
   "metadata": {},
   "source": [
    "##### Relative GCs"
   ]
  },
  {
   "cell_type": "code",
   "execution_count": null,
   "metadata": {
    "dotnet_interactive": {
     "language": "csharp"
    },
    "vscode": {
     "languageId": "polyglot-notebook"
    }
   },
   "outputs": [],
   "source": [
    "List<(string scatterName, List<TraceGC> gcs)> gcData = \n",
    "    new()\n",
    "    {\n",
    "        { ( scatterName :  \"Devenv 0 - Pause Duration (MSec)\" , gcs : devenvTraceGCs )},\n",
    "        { ( scatterName :  \"Devenv 1 - Pause Duration (MSec)\" , gcs : allDevenvs[1].GCs )}\n",
    "    };\n",
    "\n",
    "GCCharting.ChartGCData(gcData          : gcData, \n",
    "                       title           : \"Pause Duration Comparisons Between Devenvs\", \n",
    "                       fieldName       : nameof(TraceGC.PauseDurationMSec),\n",
    "                       isXAxisRelative : true,\n",
    "                       xAxis           : nameof(TraceGC.Number))"
   ]
  },
  {
   "attachments": {},
   "cell_type": "markdown",
   "metadata": {},
   "source": [
    "#### Charting Multiple Series With Filters"
   ]
  },
  {
   "cell_type": "code",
   "execution_count": null,
   "metadata": {
    "dotnet_interactive": {
     "language": "csharp"
    },
    "vscode": {
     "languageId": "polyglot-notebook"
    }
   },
   "outputs": [],
   "source": [
    "IEnumerable<(string, Func<TraceGC, bool>)> filters = new (string, Func<TraceGC, bool>)[] \n",
    "{\n",
    "    (\"Generation0\", (TraceGC gc) => gc.Generation == 0),\n",
    "    (\"Generation1\", (TraceGC gc) => gc.Generation == 1),\n",
    "};\n",
    "\n",
    "GCCharting.ChartGCData(gcs       : devenvTraceGCs, \n",
    "                       title     : \"Per Generation Pause Duration (MSec)\", \n",
    "                       fieldName : nameof(TraceGC.PauseDurationMSec), \n",
    "                       filters   : filters)"
   ]
  },
  {
   "attachments": {},
   "cell_type": "markdown",
   "metadata": {},
   "source": [
    "#### Charting Custom Objects"
   ]
  },
  {
   "cell_type": "code",
   "execution_count": null,
   "metadata": {
    "dotnet_interactive": {
     "language": "csharp"
    },
    "vscode": {
     "languageId": "polyglot-notebook"
    }
   },
   "outputs": [],
   "source": [
    "class CustomType\n",
    "{\n",
    "    public double Value0;\n",
    "    public double Value1;\n",
    "    public int Index;\n",
    "}\n",
    "\n",
    "var NUM_GCs = 5;\n",
    "\n",
    "CustomType[] customTypes = new CustomType[NUM_GCs];\n",
    "for(int customTypeIdx = 0; customTypeIdx < customTypes.Length; customTypeIdx++)\n",
    "{\n",
    "    customTypes[customTypeIdx] = new CustomType();\n",
    "    var gc = devenvTraceGCs[customTypeIdx];\n",
    "\n",
    "    customTypes[customTypeIdx].Value0 = gc.HeapSizeAfterMB; \n",
    "    customTypes[customTypeIdx].Value1 = gc.HeapSizeBeforeMB;\n",
    "    customTypes[customTypeIdx].Index  = customTypeIdx;\n",
    "}\n",
    "\n",
    "GCCharting.ChartGCData(gcData : customTypes, \n",
    "                       title  : \"Charting Custom Data\",\n",
    "                       fields : new [] { ( \"Value0\", nameof(CustomType.Value0) ), \n",
    "                                       ( \"Value1\", nameof(CustomType.Value1) )},\n",
    "                       xAxis  : nameof(CustomType.Index))"
   ]
  },
  {
   "attachments": {},
   "cell_type": "markdown",
   "metadata": {},
   "source": [
    "## Debugging"
   ]
  },
  {
   "cell_type": "code",
   "execution_count": null,
   "metadata": {
    "dotnet_interactive": {
     "language": "csharp"
    },
    "vscode": {
     "languageId": "polyglot-notebook"
    }
   },
   "outputs": [],
   "source": [
    "Console.WriteLine($\"Current Process ID: {System.Diagnostics.Process.GetCurrentProcess().Id}\");\n",
    "\n",
    "#!about"
   ]
  }
 ],
 "metadata": {
  "kernelspec": {
   "display_name": ".NET (C#)",
   "language": "C#",
   "name": ".net-csharp"
  },
  "language_info": {
   "file_extension": ".cs",
   "mimetype": "text/x-csharp",
   "name": "C#",
   "pygments_lexer": "csharp",
   "version": "9.0"
  },
  "orig_nbformat": 4,
  "polyglot_notebook": {
   "kernelInfo": {
    "defaultKernelName": "csharp",
    "items": [
     {
      "aliases": [],
      "name": "csharp"
     }
    ]
   }
  }
 },
 "nbformat": 4,
 "nbformat_minor": 2
}
