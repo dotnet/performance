{
 "cells": [
  {
   "attachments": {},
   "cell_type": "markdown",
   "metadata": {},
   "source": [
    "# Custom Dynamic Event Example"
   ]
  },
  {
   "cell_type": "code",
   "execution_count": null,
   "metadata": {
    "dotnet_interactive": {
     "language": "csharp"
    },
    "vscode": {
     "languageId": "polyglot-notebook"
    }
   },
   "outputs": [],
   "source": [
    "#r \"nuget: Microsoft.Diagnostics.Tracing.TraceEvent, 3.1.13\"\n",
    "// #r \"./TraceEvent.dll\" <- Here is how to add your custom TraceEvent.dll\n",
    "\n",
    "#r \"nuget: XPlot.Plotly\"\n",
    "#r \"nuget: XPlot.Plotly.Interactive\"\n",
    "#r \"nuget: Microsoft.Data.Analysis\"\n",
    "#r \"nuget: Newtonsoft.Json\"\n",
    "\n",
    "using Etlx = Microsoft.Diagnostics.Tracing.Etlx;\n",
    "using Microsoft.Data.Analysis;\n",
    "using Microsoft.Diagnostics.Tracing.Analysis.GC;\n",
    "using Microsoft.Diagnostics.Tracing.Analysis;\n",
    "using Microsoft.Diagnostics.Tracing.Parsers.Clr;\n",
    "using Microsoft.Diagnostics.Tracing;\n",
    "using XPlot.Plotly;\n",
    "\n",
    "using System.IO;\n",
    "using Newtonsoft.Json;"
   ]
  },
  {
   "cell_type": "code",
   "execution_count": null,
   "metadata": {
    "dotnet_interactive": {
     "language": "pwsh"
    },
    "vscode": {
     "languageId": "polyglot-notebook"
    }
   },
   "outputs": [],
   "source": [
    "dotnet build -c Release \"..\\..\\GC.Analysis.API\" # /p:CustomTraceEvent=true and Optionally add: /p:PerfViewPath=C:\\\\Dev\\\\PerfView"
   ]
  },
  {
   "cell_type": "code",
   "execution_count": null,
   "metadata": {
    "dotnet_interactive": {
     "language": "csharp"
    },
    "vscode": {
     "languageId": "polyglot-notebook"
    }
   },
   "outputs": [],
   "source": [
    "#r \"..\\..\\..\\..\\..\\..\\artifacts\\bin\\GC.Analysis.API\\Release\\net8.0\\GC.Analysis.API.dll\"\n",
    "\n",
    "using GC.Analysis.API;\n",
    "using GC.Analysis.API.DynamicEvents;"
   ]
  },
  {
   "cell_type": "markdown",
   "metadata": {},
   "source": [
    "# Dynamic Event"
   ]
  },
  {
   "cell_type": "code",
   "execution_count": null,
   "metadata": {
    "dotnet_interactive": {
     "language": "csharp"
    },
    "polyglot_notebook": {
     "kernelName": "csharp"
    },
    "vscode": {
     "languageId": "polyglot-notebook"
    }
   },
   "outputs": [],
   "source": [
    "Analyzer analyzer = new Analyzer(@\".\\Traces\\DynamicEvents.etl.zip\");\n",
    "GCProcessData gcData = analyzer.GetProcessGCData(\"Benchmarks\").First();"
   ]
  },
  {
   "cell_type": "markdown",
   "metadata": {},
   "source": [
    "### Accessing Dynamic Events"
   ]
  },
  {
   "cell_type": "code",
   "execution_count": null,
   "metadata": {
    "dotnet_interactive": {
     "language": "csharp"
    },
    "polyglot_notebook": {
     "kernelName": "csharp"
    },
    "vscode": {
     "languageId": "polyglot-notebook"
    }
   },
   "outputs": [],
   "source": [
    "Console.WriteLine($\"Elapsed Time between GCs for GC#2: {gcData.GCs[1].DynamicEvents().SizeAdaptationSample.ElapsedTimeBetweenGCs}\");\n",
    "Console.WriteLine($\"TotalSOHStableSize for GC#4: {gcData.GCs[3].DynamicEvents().SizeAdaptationTuning.TotalSOHStableSize}\");"
   ]
  }
 ],
 "metadata": {
  "kernelspec": {
   "display_name": ".NET (C#)",
   "language": "C#",
   "name": ".net-csharp"
  },
  "language_info": {
   "file_extension": ".cs",
   "mimetype": "text/x-csharp",
   "name": "C#",
   "pygments_lexer": "csharp",
   "version": "9.0"
  },
  "orig_nbformat": 4,
  "polyglot_notebook": {
   "kernelInfo": {
    "defaultKernelName": "csharp",
    "items": [
     {
      "aliases": [],
      "name": "csharp"
     }
    ]
   }
  }
 },
 "nbformat": 4,
 "nbformat_minor": 2
}
