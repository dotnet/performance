{
 "cells": [
  {
   "cell_type": "code",
   "execution_count": null,
   "metadata": {
    "dotnet_interactive": {
     "language": "csharp"
    },
    "polyglot_notebook": {
     "kernelName": "csharp"
    },
    "vscode": {
     "languageId": "polyglot-notebook"
    }
   },
   "outputs": [],
   "source": [
    "#!import BenchmarkAnalysis.dib"
   ]
  },
  {
   "cell_type": "code",
   "execution_count": null,
   "metadata": {
    "dotnet_interactive": {
     "language": "csharp"
    },
    "polyglot_notebook": {
     "kernelName": "csharp"
    },
    "vscode": {
     "languageId": "polyglot-notebook"
    }
   },
   "outputs": [],
   "source": [
    "// This only needs to be evaluated when iterating on the Reports code itself.\n",
    "\n",
    "#!import Reports.dib"
   ]
  },
  {
   "cell_type": "markdown",
   "metadata": {},
   "source": [
    "Note that this is just the state of my working notebook, not a comprehensive set of examples."
   ]
  },
  {
   "cell_type": "code",
   "execution_count": null,
   "metadata": {
    "dotnet_interactive": {
     "language": "csharp"
    },
    "polyglot_notebook": {
     "kernelName": "csharp"
    },
    "vscode": {
     "languageId": "polyglot-notebook"
    }
   },
   "outputs": [],
   "source": [
    "string rootDir = @\"C:\\home\\repro\\decommit\";\n",
    "var hugeDM = new DataManager();\n",
    "foreach (string config in ML(\"rcbase\", \"rc1\", \"alt-draft-log3\"))\n",
    "{\n",
    "    string configDir = $\"gcperfsim_{config}_gc\";\n",
    "    foreach (string benchBase in ML(\"100mb\", \"100mb-10mb\", \"10mb-100mb\"))\n",
    "    {\n",
    "        foreach (string benchSuffix in ML(\"\", \"-low\"))\n",
    "        {\n",
    "            string bench = benchBase + benchSuffix;\n",
    "            string etl = $@\"{rootDir}\\{configDir}\\{bench}\\{bench}.{config}.0.etl\";\n",
    "            if (!File.Exists(etl))\n",
    "            {\n",
    "                Console.WriteLine($\"{etl} does not exist\");\n",
    "                continue;\n",
    "            }\n",
    "            hugeDM.AddGCTrace(etl, ML(\"corerun\"), config: config, loadMultipleProcesses: false);\n",
    "        }\n",
    "    }\n",
    "}"
   ]
  },
  {
   "cell_type": "code",
   "execution_count": null,
   "metadata": {
    "dotnet_interactive": {
     "language": "csharp"
    },
    "polyglot_notebook": {
     "kernelName": "csharp"
    },
    "vscode": {
     "languageId": "polyglot-notebook"
    }
   },
   "outputs": [],
   "source": [
    "hugeDM"
   ]
  },
  {
   "cell_type": "code",
   "execution_count": null,
   "metadata": {
    "dotnet_interactive": {
     "language": "csharp"
    },
    "polyglot_notebook": {
     "kernelName": "csharp"
    },
    "vscode": {
     "languageId": "polyglot-notebook"
    }
   },
   "outputs": [],
   "source": [
    "string sds_process_name = \"Microsoft.M365.Core.Sds.Service\";\n",
    "string store_worker_process_name = \"Microsoft.Exchange.Store.Worker\";\n",
    "var store_work_process_list = ML(sds_process_name, store_worker_process_name);\n",
    "var sdsDM = DataManager.CreateGCTraces(@\"c:\\home\\repro\\notebook-gcapi\", store_work_process_list);\n",
    "\n",
    "(sdsDM.Data.Runs.First().Value.Configs.First().Value.Benchmarks.First().Value.Iterations[0].GCProcessData.ProcessID,\n",
    "sdsDM.Data.Runs.First().Value.Configs.First().Value.Benchmarks.First().Value.Iterations[0].GCProcessData.CommandLine)"
   ]
  },
  {
   "cell_type": "code",
   "execution_count": null,
   "metadata": {
    "dotnet_interactive": {
     "language": "csharp"
    },
    "polyglot_notebook": {
     "kernelName": "csharp"
    },
    "vscode": {
     "languageId": "polyglot-notebook"
    }
   },
   "outputs": [],
   "source": [
    "var diffDataManager = DataManager.CreateAspNetData(ML(\n",
    "    @\"C:\\home\\repro\\hc\\asp_traceplus3_gc\",\n",
    "    @\"C:\\home\\repro\\hc\\asp_tp3-m4_gc\",\n",
    "    @\"C:\\home\\repro\\hc\\asp_slope_gc\",\n",
    "    @\"C:\\home\\repro\\hc\\asp_evaldecr_gc\"\n",
    "));"
   ]
  },
  {
   "cell_type": "code",
   "execution_count": null,
   "metadata": {
    "dotnet_interactive": {
     "language": "csharp"
    },
    "polyglot_notebook": {
     "kernelName": "csharp"
    },
    "vscode": {
     "languageId": "polyglot-notebook"
    }
   },
   "outputs": [],
   "source": [
    "var cardsDM = DataManager.CreateGCTraces(@\"c:\\home\\repro\\2401310010004275\", pertinentProcesses: ML(\"EXCEL\"));"
   ]
  },
  {
   "cell_type": "code",
   "execution_count": null,
   "metadata": {
    "dotnet_interactive": {
     "language": "csharp"
    },
    "polyglot_notebook": {
     "kernelName": "csharp"
    },
    "vscode": {
     "languageId": "polyglot-notebook"
    }
   },
   "outputs": [],
   "source": [
    "var low4DM = DataManager.CreateAspNetData(@\"c:\\home\\repro\\hc\\asp_v2-fixrearranged-mult-max_gc\"\n",
    "    //, benchmarkFilter: Filter.RE(\"Stage.*|Json.*\");\n",
    "    //, iterationFilter: IntFilter.Values(1)\n",
    ");\n",
    "\n",
    "(low4DM.Data.Runs[\"asp_v2-fixrearranged-mult-max_gc\"].Configs.Keys,\n",
    " low4DM.Data.Runs[\"asp_v2-fixrearranged-mult-max_gc\"].Configs[\"v2-fixrearranged-mult-max-h4\"].Benchmarks[\"Stage2\"].Iterations[1].GCSummaryInfo.MaxHeapCount,\n",
    " low4DM.Data.Runs[\"asp_v2-fixrearranged-mult-max_gc\"].Configs[\"v2-fixrearranged-mult-max\"].Benchmarks[\"Stage2\"].Iterations[1].GCSummaryInfo.MaxHeapCount,\n",
    " low4DM.GetConfigs(Filter.All, Filter.RE(\"max\")))\n"
   ]
  },
  {
   "cell_type": "code",
   "execution_count": null,
   "metadata": {
    "dotnet_interactive": {
     "language": "csharp"
    },
    "polyglot_notebook": {
     "kernelName": "csharp"
    },
    "vscode": {
     "languageId": "polyglot-notebook"
    }
   },
   "outputs": [],
   "source": [
    "var rc3DataManager = DataManager.CreateAspNetData(@\"C:\\home\\repro\\hc\\asp_v2-fixrearranged_gc\");\n",
    "rc3DataManager.AddAspNetData(@\"C:\\home\\repro\\hc\\asp_v2-tune_gc\");\n",
    "\n",
    "rc3DataManager.GetConfigs(Filter.All, Filter.All)"
   ]
  },
  {
   "cell_type": "code",
   "execution_count": null,
   "metadata": {
    "dotnet_interactive": {
     "language": "csharp"
    },
    "polyglot_notebook": {
     "kernelName": "csharp"
    },
    "vscode": {
     "languageId": "polyglot-notebook"
    }
   },
   "outputs": [],
   "source": [
    "var net6dm = DataManager.CreateGCTrace(@\"C:\\home\\repro\\2046032\\Microsoft.MWC.Workload.OneLake.Service.EntryPoint.exe_WithGCon.nettrace\", ML(\"Microsoft.MWC.Workload.OneLake.Service.EntryPoint\"));\n",
    "net6dm.AddGCTrace(@\"C:\\home\\repro\\2046032\\TESTenvCST350 with perf.nettrace\", ML(\"Microsoft.MWC.Workload.OneLake.Service.EntryPoint\"));"
   ]
  },
  {
   "cell_type": "markdown",
   "metadata": {},
   "source": [
    "Charting examples"
   ]
  },
  {
   "cell_type": "code",
   "execution_count": null,
   "metadata": {
    "dotnet_interactive": {
     "language": "csharp"
    },
    "polyglot_notebook": {
     "kernelName": "csharp"
    },
    "vscode": {
     "languageId": "polyglot-notebook"
    }
   },
   "outputs": [],
   "source": [
    "ChartBenchmarks(sdsDM, ML(Metrics.B.AveragePercentPauseTimeInGC, Metrics.B.MaxHeapCount)\n",
    "    //, benchmarkFilter: Filter.Names(\"JsonMapAction\")\n",
    "    , configNameSimplifier: NameSimplifier.PrefixDashed\n",
    "    );"
   ]
  },
  {
   "cell_type": "code",
   "execution_count": null,
   "metadata": {
    "dotnet_interactive": {
     "language": "csharp"
    },
    "polyglot_notebook": {
     "kernelName": "csharp"
    },
    "vscode": {
     "languageId": "polyglot-notebook"
    }
   },
   "outputs": [],
   "source": [
    "TableBenchmarks(low4DM, ML(Metrics.B.AveragePercentPauseTimeInGC, Metrics.B.MaxHeapCount)\n",
    "    //, benchmarkFilter: Filter.Names(\"JsonMapAction\")\n",
    "    , configNameSimplifier: NameSimplifier.PrefixDashed\n",
    "    );"
   ]
  },
  {
   "cell_type": "code",
   "execution_count": null,
   "metadata": {
    "dotnet_interactive": {
     "language": "csharp"
    },
    "polyglot_notebook": {
     "kernelName": "csharp"
    },
    "vscode": {
     "languageId": "polyglot-notebook"
    }
   },
   "outputs": [],
   "source": [
    "hugeDM.Data.Runs.First().Value.Configs.First().Value.Benchmarks.First().Value.Iterations[0].GCProcessData.GCs"
   ]
  },
  {
   "cell_type": "code",
   "execution_count": null,
   "metadata": {
    "dotnet_interactive": {
     "language": "csharp"
    },
    "polyglot_notebook": {
     "kernelName": "csharp"
    },
    "vscode": {
     "languageId": "polyglot-notebook"
    }
   },
   "outputs": [],
   "source": [
    "ChartGCData(hugeDM, ML(Metrics.G.CommittedBeforeInUse, Metrics.G.CommittedBeforeInFree, Metrics.G.CommittedBeforeInGlobalFree, Metrics.G.CommittedBeforeInGlobalDecommit)\n",
    "  , configNameSimplifier: NameSimplifier.PrefixDashed\n",
    "  , debug: true\n",
    "  );"
   ]
  },
  {
   "cell_type": "code",
   "execution_count": null,
   "metadata": {
    "dotnet_interactive": {
     "language": "csharp"
    },
    "polyglot_notebook": {
     "kernelName": "csharp"
    },
    "vscode": {
     "languageId": "polyglot-notebook"
    }
   },
   "outputs": [],
   "source": [
    "foreach (var xarr in new[] { (XArrangement) XArrangements.Default, XArrangements.Sorted, XArrangements.CombinedSorted })\n",
    "{\n",
    "TableBenchmarks(low4DM,\n",
    "    ML(Metrics.B.MaxHeapCount,\n",
    "        Metrics.Promote(Metrics.I.MaxHeapCount, Aggregation.Min),\n",
    "        Metrics.Promote(Metrics.I.MaxHeapCount, Aggregation.Range),\n",
    "        Metrics.Promote(Metrics.I.NumberOfHeapCountSwitches, Aggregation.Range),\n",
    "        Metrics.Promote(Metrics.I.NumberOfHeapCountDirectionChanges, Aggregation.Range)),\n",
    "    configNameSimplifier: NameSimplifier.PrefixDashed,\n",
    "    xArrangement: xarr,\n",
    "    configFilter: new Filter(excludeRE: \"h4\")\n",
    "    //, debug: true\n",
    "    );\n",
    "}"
   ]
  },
  {
   "cell_type": "code",
   "execution_count": null,
   "metadata": {
    "dotnet_interactive": {
     "language": "csharp"
    },
    "polyglot_notebook": {
     "kernelName": "csharp"
    },
    "vscode": {
     "languageId": "polyglot-notebook"
    }
   },
   "outputs": [],
   "source": [
    "foreach (var xarr in new[] { (XArrangement) XArrangements.Default, XArrangements.Sorted, XArrangements.CombinedSorted })\n",
    "{\n",
    "TableBenchmarks(diffDataManager,\n",
    "    ML((Metrics.B.MaxHeapCount),\n",
    "        Metrics.Promote(Metrics.I.MaxHeapCount, Aggregation.Min),\n",
    "        Metrics.Promote(Metrics.I.MaxHeapCount, Aggregation.Range),\n",
    "        Metrics.Promote(Metrics.I.NumberOfHeapCountSwitches, Aggregation.Range),\n",
    "        Metrics.Promote(Metrics.I.NumberOfHeapCountDirectionChanges, Aggregation.Range)),\n",
    "    //configNameSimplifier: NameSimplifier.PrefixDashed,\n",
    "    xArrangement: xarr);\n",
    "}"
   ]
  },
  {
   "cell_type": "code",
   "execution_count": null,
   "metadata": {
    "dotnet_interactive": {
     "language": "csharp"
    },
    "polyglot_notebook": {
     "kernelName": "csharp"
    },
    "vscode": {
     "languageId": "polyglot-notebook"
    }
   },
   "outputs": [],
   "source": [
    "TableIterations(diffDataManager, Metrics.I.MaxHeapCount\n",
    "    , configFilter: Filter.Names(\"traceplus3\", \"tp3-m4\")\n",
    ");"
   ]
  },
  {
   "cell_type": "code",
   "execution_count": null,
   "metadata": {
    "dotnet_interactive": {
     "language": "csharp"
    },
    "polyglot_notebook": {
     "kernelName": "csharp"
    },
    "vscode": {
     "languageId": "polyglot-notebook"
    }
   },
   "outputs": [],
   "source": [
    "foreach (var lat in Metrics.I.LatencyMSList)\n",
    "{\n",
    "    TableBenchmarks(diffDataManager, Metrics.Promote(lat, Aggregation.Average)\n",
    "        // , benchmarkFilter: Filter.RE(\"Stage.*\")\n",
    "        // configNameSimplifier: NameSimplifier.PrefixDashed,\n",
    "        // types: B_XType.All,\n",
    "        //configFilter: new Filter(excludeRE: \".*h4\")\n",
    "        );\n",
    "}"
   ]
  },
  {
   "cell_type": "code",
   "execution_count": null,
   "metadata": {
    "dotnet_interactive": {
     "language": "csharp"
    },
    "polyglot_notebook": {
     "kernelName": "csharp"
    },
    "vscode": {
     "languageId": "polyglot-notebook"
    }
   },
   "outputs": [],
   "source": [
    "ChartIterations(diffDataManager, ML(/*Metrics.I.GCScore,*/ Metrics.I.RequestsPerMSec));"
   ]
  },
  {
   "cell_type": "code",
   "execution_count": null,
   "metadata": {
    "dotnet_interactive": {
     "language": "csharp"
    },
    "polyglot_notebook": {
     "kernelName": "csharp"
    },
    "vscode": {
     "languageId": "polyglot-notebook"
    }
   },
   "outputs": [],
   "source": [
    "TableGCData(net6dm,\n",
    "    ML(\n",
    "        Metrics.G.HeapSizeAfter,\n",
    "        Metrics.G.HeapSizeBefore,\n",
    "        new Metric<TraceGC>(gc => gc.HeapStats.GCHandleCount, \"GC Handles\", \"#\"),\n",
    "        Metrics.G.GenLargeSizeBefore,\n",
    "        Metrics.G.GenLargeSizeAfter,\n",
    "        Metrics.G.GenLargeObjSizeAfter,\n",
    "        new Metric<TraceGC>(gc => gc.HeapStats.TotalHeapSize / 1000000, \"Total heap size\", \"MB\")\n",
    "    )\n",
    "    , textPresenter: TextPresenter.Html\n",
    "    , configNameSimplifier: new ListSimplifier((\"Microsoft.MWC.Workload.OneLake.Service.EntryPoint.exe_WithGCon\", \"Entry\"), (\"TESTenvCST350 with perf\", \"TES\"))\n",
    "    , dataFilter: gc => gc.Number > 300 && gc.Number < 310\n",
    "    );"
   ]
  },
  {
   "cell_type": "code",
   "execution_count": null,
   "metadata": {
    "dotnet_interactive": {
     "language": "csharp"
    },
    "polyglot_notebook": {
     "kernelName": "csharp"
    },
    "vscode": {
     "languageId": "polyglot-notebook"
    }
   },
   "outputs": [],
   "source": [
    "ChartGCData(low4DM\n",
    "    , metrics: ML(Metrics.G.PauseDuration)\n",
    "    , benchmarkFilter: Filter.Names(\"Stage2\")\n",
    "    , configNameSimplifier: NameSimplifier.PrefixDashed\n",
    "    , xMetric: Metrics.X.StartRelativeMSec\n",
    "    , dataFilter: gc => gc.StartRelativeMSec > 2000\n",
    "    , iterationFilter: IntFilter.Values(0)\n",
    "    , xArrangement: XArrangements.Relative\n",
    ");"
   ]
  },
  {
   "cell_type": "code",
   "execution_count": null,
   "metadata": {
    "dotnet_interactive": {
     "language": "csharp"
    },
    "polyglot_notebook": {
     "kernelName": "csharp"
    },
    "vscode": {
     "languageId": "polyglot-notebook"
    }
   },
   "outputs": [],
   "source": [
    "ChartGCData(low4DM\n",
    "    , metrics: ML(Metrics.G.HctMtcp, Metrics.G.NumHeaps)\n",
    "    , benchmarkFilter: Filter.RE(\"Stage2$\")\n",
    "    , configNameSimplifier: NameSimplifier.PrefixDashed\n",
    "    , iterationFilter: IntFilter.Values(0)\n",
    ");"
   ]
  },
  {
   "cell_type": "code",
   "execution_count": null,
   "metadata": {
    "dotnet_interactive": {
     "language": "csharp"
    },
    "polyglot_notebook": {
     "kernelName": "csharp"
    },
    "vscode": {
     "languageId": "polyglot-notebook"
    }
   },
   "outputs": [],
   "source": [
    "ChartGCData(low4DM, Metrics.G.NumHeaps, configNameSimplifier: NameSimplifier.PrefixDashed, debug: false);"
   ]
  },
  {
   "cell_type": "code",
   "execution_count": null,
   "metadata": {
    "dotnet_interactive": {
     "language": "csharp"
    },
    "polyglot_notebook": {
     "kernelName": "csharp"
    },
    "vscode": {
     "languageId": "polyglot-notebook"
    }
   },
   "outputs": [],
   "source": [
    "var low4CompRuns = ML((\"v2-fixrearranged-mult-max\", \"base\"), (\"v2-fixrearranged-mult-max-h4\", \"max4\"),\n",
    "    (\"v2-fixrearranged-mult-max-svr\", \"svr\"), (\"v2-fixrearranged-mult-max-svr4\", \"svr4\"),\n",
    "    (\"v2-fixrearranged-mult-max-mult8\", \"mult8\"), (\"v2-fixrearranged-mult-max-mult32\", \"mult32\"),\n",
    "    (\"v2-fixrearranged-mult-max-mult8x10\", \"m8x10\"), (\"v2-fixrearranged-mult-max-mult32x10\", \"m32x10\"),\n",
    "    (\"v2-fixrearranged-mult-max-x10\", \"x10\"));\n",
    "\n",
    "ChartGCData(low4DM, Metrics.G.HctMtcp\n",
    "    , configFilter: Filter.ExcludeRE(\"svr\")\n",
    "    , configNameSimplifier: new ListSimplifier(low4CompRuns)\n",
    "    );"
   ]
  },
  {
   "cell_type": "code",
   "execution_count": null,
   "metadata": {
    "dotnet_interactive": {
     "language": "csharp"
    },
    "polyglot_notebook": {
     "kernelName": "csharp"
    },
    "vscode": {
     "languageId": "polyglot-notebook"
    }
   },
   "outputs": [],
   "source": [
    "ChartGCData(\n",
    "    sdsDM\n",
    "    , metrics: ML(Metrics.G.AllocRateMBSec, Metrics.G.PauseDuration)\n",
    "    //, benchmarkFilter: Filter.RE(\"Run32\")\n",
    "    , configNameSimplifier: NameSimplifier.PrefixDashed\n",
    ");"
   ]
  },
  {
   "cell_type": "code",
   "execution_count": null,
   "metadata": {
    "dotnet_interactive": {
     "language": "csharp"
    },
    "polyglot_notebook": {
     "kernelName": "csharp"
    },
    "vscode": {
     "languageId": "polyglot-notebook"
    }
   },
   "outputs": [],
   "source": [
    "ChartGCData(\n",
    "    cardsDM\n",
    "    , metrics: ML(Metrics.G.AllocRateMBSec, Metrics.G.PauseDuration)\n",
    "    , configFilter: Filter.RE(\"Run32\")\n",
    ");"
   ]
  },
  {
   "cell_type": "code",
   "execution_count": null,
   "metadata": {
    "dotnet_interactive": {
     "language": "csharp"
    },
    "polyglot_notebook": {
     "kernelName": "csharp"
    },
    "vscode": {
     "languageId": "polyglot-notebook"
    }
   },
   "outputs": [],
   "source": [
    "ChartGCData(\n",
    "    cardsDM,\n",
    "    metrics: ML(Metrics.G.PauseDuration.WithCap(100), Metrics.G.PauseStack.WithCap(100), Metrics.G.PauseFQ, Metrics.G.PauseHandles.WithCap(100), Metrics.G.PauseCards, Metrics.G.Suspend,\n",
    "        new Metric<TraceGC>(gc => gc.HeapStats.GCHandleCount, \"GC Handles\", \"#\"),\n",
    "        new Metric<TraceGC>(gc => gc.HeapStats.FinalizationPromotedCount, \"F promoted\", \"#\"))\n",
    "    //, dataFilter: gc => gc.Generation == 0\n",
    "    , configFilter: Filter.RE(\"Only\")\n",
    "    , xMetric: Metrics.X.GCIndex\n",
    "    , configNameSimplifier: new ListSimplifier((\"2401310010004275\", \"a\"))\n",
    "    );"
   ]
  },
  {
   "cell_type": "code",
   "execution_count": null,
   "metadata": {
    "dotnet_interactive": {
     "language": "csharp"
    },
    "polyglot_notebook": {
     "kernelName": "csharp"
    },
    "vscode": {
     "languageId": "polyglot-notebook"
    }
   },
   "outputs": [],
   "source": [
    "ChartGCData(rc3DataManager, Metrics.G.HeapSizeBefore, benchmarkFilter: Filter.RE(\"Stage2$\"));"
   ]
  },
  {
   "cell_type": "code",
   "execution_count": null,
   "metadata": {
    "dotnet_interactive": {
     "language": "csharp"
    },
    "polyglot_notebook": {
     "kernelName": "csharp"
    },
    "vscode": {
     "languageId": "polyglot-notebook"
    }
   },
   "outputs": [],
   "source": [
    "ChartGCData(rc3DataManager, Metrics.G.NumHeaps\n",
    "    , benchmarkFilter: Filter.Names(\"Fortunes\", \"FortunesDapper\", \"JsonHttpsHttpSys\", \"PlaintextQueryString\", \"Stage1\", \"Stage2\", \"PlaintextMvc\")\n",
    "    , benchmarkMap: x => (x == \"Stage1\" || x == \"Stage2\" ? \"S1/2\" : x));"
   ]
  },
  {
   "cell_type": "code",
   "execution_count": null,
   "metadata": {
    "dotnet_interactive": {
     "language": "csharp"
    },
    "polyglot_notebook": {
     "kernelName": "csharp"
    },
    "vscode": {
     "languageId": "polyglot-notebook"
    }
   },
   "outputs": [],
   "source": [
    "var rc3RearrNoBaseRuns = ML((\"v2-rc3\", \"rc3\"), (\"v2-fixrearranged\", \"rc3rearr\"), (\"v2-tune\", \"rc3tune\"));\n",
    "\n",
    "ChartGCData(rc3DataManager, Metrics.G.NumHeaps\n",
    "    , configNameSimplifier: new ListSimplifier(rc3RearrNoBaseRuns)\n",
    "    , benchmarkFilter: new Filter(includeNames: scoutList2)\n",
    ");"
   ]
  },
  {
   "attachments": {},
   "cell_type": "markdown",
   "metadata": {},
   "source": [
    "## Debugging"
   ]
  },
  {
   "cell_type": "code",
   "execution_count": null,
   "metadata": {
    "dotnet_interactive": {
     "language": "csharp"
    },
    "polyglot_notebook": {
     "kernelName": "csharp"
    },
    "vscode": {
     "languageId": "polyglot-notebook"
    }
   },
   "outputs": [],
   "source": [
    "System.Diagnostics.Process.GetCurrentProcess().Id"
   ]
  },
  {
   "cell_type": "code",
   "execution_count": null,
   "metadata": {
    "dotnet_interactive": {
     "language": "csharp"
    },
    "polyglot_notebook": {
     "kernelName": "csharp"
    },
    "vscode": {
     "languageId": "polyglot-notebook"
    }
   },
   "outputs": [],
   "source": [
    "#!about"
   ]
  }
 ],
 "metadata": {
  "kernelspec": {
   "display_name": ".NET (C#)",
   "language": "C#",
   "name": ".net-csharp"
  },
  "language_info": {
   "name": "python"
  },
  "orig_nbformat": 4,
  "polyglot_notebook": {
   "kernelInfo": {
    "defaultKernelName": "csharp",
    "items": [
     {
      "aliases": [],
      "name": "csharp"
     }
    ]
   }
  }
 },
 "nbformat": 4,
 "nbformat_minor": 2
}
