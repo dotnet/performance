{
 "cells": [
  {
   "attachments": {},
   "cell_type": "markdown",
   "metadata": {},
   "source": [
    "# ASP.NET Benchmark Analysis \n",
    "\n",
    "This notebook highlights the steps associated with analyzing data from the ASP.NET benchmarks obtained using crank."
   ]
  },
  {
   "cell_type": "code",
   "execution_count": 1,
   "metadata": {
    "dotnet_interactive": {
     "language": "csharp"
    },
    "polyglot_notebook": {
     "kernelName": "csharp"
    },
    "vscode": {
     "languageId": "polyglot-notebook"
    }
   },
   "outputs": [
    {
     "data": {
      "text/html": [
       "<div><div></div><div></div><div><strong>Installed Packages</strong><ul><li><span>Microsoft.Data.Analysis, 0.19.1</span></li><li><span>Microsoft.Diagnostics.Tracing.TraceEvent, 3.0.1</span></li><li><span>Microsoft.Playwright, 1.16.0</span></li><li><span>Newtonsoft.Json, 13.0.3</span></li><li><span>XPlot.Plotly, 4.0.6</span></li><li><span>XPlot.Plotly.Interactive, 4.0.7</span></li><li><span>YamlDotnet, 13.3.1</span></li></ul></div></div>"
      ]
     },
     "metadata": {},
     "output_type": "display_data"
    },
    {
     "data": {
      "text/plain": [
       "Loading extensions from `C:\\Users\\musharm\\.nuget\\packages\\xplot.plotly.interactive\\4.0.7\\interactive-extensions\\dotnet\\XPlot.Plotly.Interactive.dll`"
      ]
     },
     "metadata": {},
     "output_type": "display_data"
    },
    {
     "data": {
      "text/markdown": [
       "Configuring PowerShell Kernel for XPlot.Plotly integration."
      ]
     },
     "metadata": {},
     "output_type": "display_data"
    },
    {
     "data": {
      "text/markdown": [
       "Installed support for XPlot.Plotly."
      ]
     },
     "metadata": {},
     "output_type": "display_data"
    },
    {
     "data": {
      "text/plain": [
       "Loading extensions from `C:\\Users\\musharm\\.nuget\\packages\\microsoft.data.analysis\\0.19.1\\interactive-extensions\\dotnet\\Microsoft.Data.Analysis.Interactive.dll`"
      ]
     },
     "metadata": {},
     "output_type": "display_data"
    }
   ],
   "source": [
    "#r \"nuget: Microsoft.Diagnostics.Tracing.TraceEvent, 3.0.1\"\n",
    "#r \"nuget: YamlDotnet\"\n",
    "#r \"nuget: XPlot.Plotly\"\n",
    "#r \"nuget: XPlot.Plotly.Interactive\"\n",
    "#r \"nuget: Microsoft.Data.Analysis, 0.19.1\"\n",
    "#r \"nuget: Newtonsoft.Json\"\n",
    "#r \"nuget: Microsoft.Playwright, 1.16.0\"\n",
    "\n",
    "using Etlx = Microsoft.Diagnostics.Tracing.Etlx;\n",
    "using Microsoft.Data.Analysis;\n",
    "using Microsoft.Diagnostics.Tracing.Analysis.GC;\n",
    "using Microsoft.Diagnostics.Tracing.Analysis;\n",
    "using Microsoft.Diagnostics.Tracing.Parsers.Clr;\n",
    "using Microsoft.Diagnostics.Tracing;\n",
    "using System.Diagnostics;\n",
    "using XPlot.Plotly;\n",
    "\n",
    "using System.IO;\n",
    "using Newtonsoft.Json;"
   ]
  },
  {
   "cell_type": "markdown",
   "metadata": {},
   "source": [
    "## Building and Using The GC Analysis API"
   ]
  },
  {
   "cell_type": "code",
   "execution_count": 2,
   "metadata": {
    "dotnet_interactive": {
     "language": "pwsh"
    },
    "polyglot_notebook": {
     "kernelName": "pwsh"
    },
    "vscode": {
     "languageId": "polyglot-notebook"
    }
   },
   "outputs": [
    {
     "name": "stdout",
     "output_type": "stream",
     "text": [
      "MSBuild version 17.8.0-preview-23367-03+0ff2a83e9 for .NET\n",
      "  Determining projects to restore...\n",
      "  All projects are up-to-date for restore.\n",
      "  GC.Analysis.API -> C:\\performance\\artifacts\\bin\\GC.Analysis.API\\Release\\net6.0\\GC.Analysis.API.dll\n",
      "\n",
      "Build succeeded.\n",
      "    0 Warning(s)\n",
      "    0 Error(s)\n",
      "\n",
      "Time Elapsed 00:00:01.20\n"
     ]
    }
   ],
   "source": [
    "dotnet build -c Release \"..\\GC.Analysis.API\""
   ]
  },
  {
   "cell_type": "code",
   "execution_count": 3,
   "metadata": {
    "dotnet_interactive": {
     "language": "csharp"
    },
    "polyglot_notebook": {
     "kernelName": "csharp"
    },
    "vscode": {
     "languageId": "polyglot-notebook"
    }
   },
   "outputs": [],
   "source": [
    "#r \"C:\\performance\\artifacts\\bin\\GC.Infrastructure\\Release\\net7.0\\GC.Analysis.API.dll\"\n",
    "\n",
    "using GC.Analysis.API;"
   ]
  },
  {
   "attachments": {},
   "cell_type": "markdown",
   "metadata": {},
   "source": [
    "## Data Acquisition\n",
    "\n",
    "The next few cells detail how to retrieve the data from a base path. The run name below is the name of the folder generated from running the ``aspnetbenchmarks`` command from the GC.Infrastructure API. "
   ]
  },
  {
   "cell_type": "code",
   "execution_count": 4,
   "metadata": {
    "dotnet_interactive": {
     "language": "csharp"
    },
    "polyglot_notebook": {
     "kernelName": "csharp"
    },
    "vscode": {
     "languageId": "polyglot-notebook"
    }
   },
   "outputs": [],
   "source": [
    "// The LoadInfo class consists of all the pertinent fields needed to represent both the result from a particular benchmark\n",
    "// as well as the the comparison between two runs where the Data2 represents the GCProcessData of the comparand.\n",
    "public sealed class LoadInfo\n",
    "{\n",
    "    public double WorkingSetMB {get;set;} = double.NaN;\n",
    "    public double PrivateMemoryMB {get;set;} = double.NaN;\n",
    "    public double Latency50thMS {get; set;} = double.NaN;\n",
    "    public double Latency75thMS {get; set;} = double.NaN;\n",
    "    public double Latency90thMS {get; set;} = double.NaN;\n",
    "    public double Latency99thMS {get; set;} = double.NaN;\n",
    "    public double MeanLatencyMS {get; set;} = double.NaN;\n",
    "    public int ProcessId {get;set;}\n",
    "    public double RequestsPerMSec {get; set;} = double.NaN;\n",
    "    public string Run {get; set;}\n",
    "    public GCProcessData Data {get;set;}\n",
    "    public GCProcessData? Data2 {get;set;}\n",
    "    public string CommandLine {get;set;}\n",
    "    public int NumberOfHeapCountSwitches {get;set;} = 0;\n",
    "    public string Benchmark {get; set;}\n",
    "    public string Id {get; set;}\n",
    "    public double TotalSuspensionTimeMSec {get;set;} = double.NaN;\n",
    "    public double PercentPauseTimeInGC {get; set;} = double.NaN;\n",
    "    public double PercentTimeInGC {get; set;} = double.NaN;\n",
    "    public double MeanHeapSizeBeforeMB {get; set;} = double.NaN;\n",
    "    public double MaxHeapSizeMB {get; set;} = double.NaN;\n",
    "    public double TotalAllocationsMB {get;set;} = double.NaN;\n",
    "    public string TracePath {get; set;}\n",
    "    public string ProcessName {get;set;}\n",
    "}"
   ]
  },
  {
   "cell_type": "code",
   "execution_count": 8,
   "metadata": {
    "dotnet_interactive": {
     "language": "csharp"
    },
    "polyglot_notebook": {
     "kernelName": "csharp"
    },
    "vscode": {
     "languageId": "polyglot-notebook"
    }
   },
   "outputs": [],
   "source": [
    "// The DataManager is responsible for parsing all the data from ASP.NET results from a basepath.\n",
    "public class DataManager \n",
    "{\n",
    "    private readonly Dictionary<string, Dictionary<string, LoadInfo>> _benchmarkToRunData = new();\n",
    "    private readonly Dictionary<string, Dictionary<string, LoadInfo>> _runToBenchmarkData = new();\n",
    "    private readonly Dictionary<string, LoadInfo> _data; \n",
    "    private readonly string _basePath;\n",
    "\n",
    "    public DataManager(string basePath)\n",
    "    {\n",
    "        _basePath = basePath;\n",
    "        _data = GetLoadInfoFromBasePath(basePath);\n",
    "        foreach (var d in _data)\n",
    "        {\n",
    "            if (!_benchmarkToRunData.TryGetValue(d.Value.Benchmark, out var runData))\n",
    "            {\n",
    "                _benchmarkToRunData[d.Value.Benchmark] = runData = new();\n",
    "            }\n",
    "            runData[d.Value.Run] = d.Value;\n",
    "\n",
    "            if (!_runToBenchmarkData.TryGetValue(d.Value.Run, out var benchmarkData))\n",
    "            {\n",
    "                _runToBenchmarkData[d.Value.Run] = benchmarkData = new();\n",
    "            }\n",
    "\n",
    "            benchmarkData[d.Value.Benchmark] = d.Value;\n",
    "        }\n",
    "    }\n",
    "\n",
    "    public static double DeltaPercent (double baseline, double comparand) => (comparand - baseline) / baseline * 100;\n",
    "\n",
    "    public LoadInfo GetComparison(LoadInfo baseline, LoadInfo comparand)\n",
    "    {\n",
    "        return new LoadInfo\n",
    "        {\n",
    "            WorkingSetMB    = DeltaPercent(baseline.WorkingSetMB, comparand.WorkingSetMB),\n",
    "            PrivateMemoryMB = DeltaPercent(baseline.PrivateMemoryMB, comparand.PrivateMemoryMB),\n",
    "            Latency50thMS   = DeltaPercent(baseline.Latency50thMS, comparand.Latency50thMS),\n",
    "            Latency75thMS   = DeltaPercent(baseline.Latency75thMS, comparand.Latency75thMS),\n",
    "            Latency90thMS   = DeltaPercent(baseline.Latency90thMS, comparand.Latency90thMS), \n",
    "            Latency99thMS   = DeltaPercent(baseline.Latency99thMS, comparand.Latency99thMS),  \n",
    "            MeanLatencyMS   = DeltaPercent(baseline.MeanLatencyMS, comparand.MeanLatencyMS),\n",
    "            RequestsPerMSec = DeltaPercent(baseline.RequestsPerMSec, comparand.RequestsPerMSec),\n",
    "            Data = baseline.Data,\n",
    "            Data2 = comparand.Data,\n",
    "            Run = $\"{baseline.Run} vs. {comparand.Run}\",\n",
    "            Benchmark = baseline.Benchmark,\n",
    "            Id = $\"{baseline.Run} vs. {comparand.Run} for {baseline.Benchmark}\"\n",
    "        };\n",
    "    }\n",
    "\n",
    "    public Dictionary<string, LoadInfo>? GetAllBenchmarksForRun(string run)\n",
    "    {\n",
    "        if (!_runToBenchmarkData.TryGetValue(run, out var benchmarksForRun))\n",
    "        {\n",
    "            Console.WriteLine($\"No benchmarks found for run: {run}\");\n",
    "            return null;\n",
    "        }\n",
    "\n",
    "        return benchmarksForRun;\n",
    "    }\n",
    "\n",
    "    public void SaveBenchmarkData(string outputPath = \"\")\n",
    "    {\n",
    "        if (string.IsNullOrEmpty(outputPath))\n",
    "        {\n",
    "            outputPath = _basePath;\n",
    "        }\n",
    "\n",
    "        StringBuilder sb = new();\n",
    "        sb.AppendLine($\"Run,Benchmark,Working Set (MB), Private Memory (MB), Request/MSec, Mean Latency (MSec), Latency 50th Percentile MSec, Latency 75th Percentile MSec, Latency 90th Percentile MSec, Latency 99th Percentile MSec\");\n",
    "        foreach (var b in _data)\n",
    "        {\n",
    "            var val = b.Value; \n",
    "            sb.AppendLine($\"{val.Run},{val.Benchmark},{val.WorkingSetMB},{val.PrivateMemoryMB},{val.RequestsPerMSec},{val.MeanLatencyMS},{val.Latency50thMS},{val.Latency75thMS},{val.Latency90thMS},{val.Latency99thMS}\");\n",
    "        }\n",
    "\n",
    "        File.WriteAllText(Path.Combine(outputPath, \"AllBenchmarks.csv\"), sb.ToString());\n",
    "    }\n",
    "\n",
    "    public Dictionary<string, LoadInfo>? GetAllRunsForBenchmark(string benchmark)\n",
    "    {\n",
    "        if (!_benchmarkToRunData.TryGetValue(benchmark, out var runsForBenchmark))\n",
    "        {\n",
    "            Console.WriteLine($\"No runs found for benchmark: {benchmark}\");\n",
    "            return null;\n",
    "        }\n",
    "\n",
    "        return runsForBenchmark;\n",
    "    }\n",
    "\n",
    "    public LoadInfo? GetBenchmarkData(string benchmark, string run)\n",
    "    {\n",
    "        if (!_benchmarkToRunData.TryGetValue(benchmark, out var runData))\n",
    "        {\n",
    "            Console.WriteLine($\"Benchmark: {benchmark} not found!\");\n",
    "            return null;\n",
    "        }\n",
    "\n",
    "        if (!runData.TryGetValue(run, out var loadInfo))\n",
    "        {\n",
    "            Console.WriteLine($\"Run: {run} not found!\");\n",
    "            return null;\n",
    "        }\n",
    "\n",
    "        return loadInfo;\n",
    "    }\n",
    "\n",
    "    public Dictionary<string, LoadInfo> Data => _data; \n",
    "\n",
    "    private Dictionary<string, LoadInfo> GetLoadInfoFromBasePath(string basePath)\n",
    "    {\n",
    "        Dictionary<string, LoadInfo> flatLoadMap = new();\n",
    "        var files = Directory.GetFiles(basePath, \"*.log\", SearchOption.AllDirectories);\n",
    "\n",
    "        foreach (var f in files)\n",
    "        {\n",
    "            if (f.Contains(\"buildLog\") || f.Contains(\"output\"))\n",
    "            {\n",
    "                continue;\n",
    "            }\n",
    "\n",
    "            LoadInfo info = new();\n",
    "\n",
    "            string[] lines = File.ReadAllLines(f);\n",
    "            int idxOfApplication = Int32.MaxValue;\n",
    "            int idxOfLoad = Int32.MaxValue;\n",
    "            int idx = 0;\n",
    "\n",
    "            foreach (var line in lines)\n",
    "            {\n",
    "                string[] sp = line.Split(\"|\", StringSplitOptions.TrimEntries);\n",
    "                if (line.Contains(\"| application\"))\n",
    "                {\n",
    "                    idxOfApplication = idx;\n",
    "                }\n",
    "\n",
    "                else if (line.Contains(\"| load\"))\n",
    "                {\n",
    "                    idxOfLoad = idx;\n",
    "                }\n",
    "\n",
    "                else if (line.Contains(\"| Latency 50th\"))\n",
    "                {\n",
    "                    info.Latency50thMS = double.Parse(sp[2]);\n",
    "                }\n",
    "\n",
    "                else if (line.Contains(\"| Latency 75th\"))\n",
    "                {\n",
    "                    info.Latency75thMS = double.Parse(sp[2]);\n",
    "                }\n",
    "\n",
    "                else if (line.Contains(\"| Latency 90th\"))\n",
    "                {\n",
    "                    info.Latency90thMS = double.Parse(sp[2]);\n",
    "                }\n",
    "\n",
    "                else if (line.Contains(\"| Latency 99th\"))\n",
    "                {\n",
    "                    info.Latency99thMS = double.Parse(sp[2]);\n",
    "                }\n",
    "\n",
    "                else if (line.Contains(\"Requests/sec\"))\n",
    "                {\n",
    "                    info.RequestsPerMSec = double.Parse(sp[2]) / 1000;\n",
    "                }\n",
    "\n",
    "                else if (line.Contains(\"Mean latency\"))\n",
    "                {\n",
    "                    info.MeanLatencyMS = double.Parse(sp[2]);\n",
    "                }\n",
    "\n",
    "                else if (line.Contains(\"Private Memory\") && (idxOfApplication < idx && idx < idxOfLoad)) \n",
    "                {\n",
    "                    info.PrivateMemoryMB  = double.Parse(sp[2]);\n",
    "                }\n",
    "\n",
    "                else if (line.Contains(\"Working Set\") && (idxOfApplication < idx && idx < idxOfLoad)) \n",
    "                {\n",
    "                    info.WorkingSetMB = double.Parse(sp[2]);\n",
    "                }\n",
    "\n",
    "                ++idx;\n",
    "            }\n",
    "\n",
    "            string[] split =  f.Replace(\".5\", \"5\").Split(\".\");\n",
    "            string run = split[1];\n",
    "            string benchmark = Path.GetFileName( split[0] ).Replace(\"_Windows\", \"\");\n",
    "\n",
    "            string key = $\"{run} | {benchmark}\";\n",
    "            info.Benchmark = benchmark;\n",
    "            info.Run = run;\n",
    "            info.Id = key;\n",
    "\n",
    "            flatLoadMap[key] = info;\n",
    "        }\n",
    "\n",
    "        var traceFiles = Directory.GetFiles(basePath, \"*.etl.zip\", SearchOption.AllDirectories);\n",
    "\n",
    "        HashSet<string> pertinentProcesses = new HashSet<string>\n",
    "        {\n",
    "            \"PlatformBenchmarks\",\n",
    "            \"Benchmarks\",\n",
    "            \"MapAction\",\n",
    "            \"TodosApi\",\n",
    "            \"BasicGrpc\",\n",
    "            \"BasicMinimalApi\",\n",
    "        };\n",
    "\n",
    "        Parallel.ForEach(traceFiles, (t) => {\n",
    "            string[] sp = t.Split(\"\\\\\");\n",
    "            string benchmark = Path.GetFileNameWithoutExtension(sp[sp.Length - 1]).Replace(\"_Windows\", \"\").Replace(\".gc.etl\", \"\");\n",
    "            string name = sp[sp.Length - 2].Replace(\".5\", \"5\");\n",
    "            string key = $\"{name} | {benchmark}\";\n",
    "            Analyzer analyzer = AnalyzerManager.GetAnalyzer(t);\n",
    "            GCProcessData? data = null;\n",
    "\n",
    "            foreach (var p in pertinentProcesses)\n",
    "            {\n",
    "                data = analyzer.GetProcessGCData(p).FirstOrDefault();\n",
    "                if (data != null)\n",
    "                {\n",
    "                    break;\n",
    "                }\n",
    "            }\n",
    "\n",
    "            if (data == null)\n",
    "            {\n",
    "                Console.WriteLine($\"The following key doesn't have the pertinent process {key} - {t}: {string.Join(\" , \", analyzer.TraceLog.Processes.Select(p => p.Name))}\");\n",
    "            }\n",
    "\n",
    "            else\n",
    "            {\n",
    "                lock (flatLoadMap)\n",
    "                {\n",
    "                    if (flatLoadMap.TryGetValue( key, out var f ))\n",
    "                    {\n",
    "                        f.MeanHeapSizeBeforeMB = data.Stats.MeanSizePeakMB;\n",
    "                        f.MaxHeapSizeMB = data.Stats.MaxSizePeakMB;\n",
    "                        f.PercentTimeInGC = (data.GCs.Sum(gc => gc.PauseDurationMSec - gc.SuspendDurationMSec) / (data.Stats.ProcessDuration) ) * 100;\n",
    "                        f.TracePath = data.Parent.TraceLogPath;\n",
    "                        f.TotalAllocationsMB = data.Stats.TotalAllocatedMB;\n",
    "                        f.CommandLine = data.CommandLine;\n",
    "                        f.PercentPauseTimeInGC = data.Stats.GetGCPauseTimePercentage();\n",
    "                        f.ProcessId = data.ProcessID;\n",
    "                        f.Data = data;\n",
    "                        f.ProcessName = data.ProcessName;\n",
    "                        f.TotalSuspensionTimeMSec = data.GCs.Sum(gc => gc.SuspendDurationMSec);\n",
    "\n",
    "                        for (int i = 0; i < data.GCs.Count - 1; i++)\n",
    "                        {\n",
    "                            if ( data.GCs[i].GlobalHeapHistory?.NumHeaps != data.GCs[i + 1].GlobalHeapHistory?.NumHeaps)\n",
    "                            {\n",
    "                                ++f.NumberOfHeapCountSwitches;\n",
    "                            }\n",
    "                        }\n",
    "                    }\n",
    "\n",
    "                    else\n",
    "                    {\n",
    "                        //Console.WriteLine($\"{key} not found!!\");\n",
    "                    }\n",
    "                }\n",
    "            }\n",
    "        });\n",
    "\n",
    "        return flatLoadMap;\n",
    "    }\n",
    "\n",
    "    public Dictionary<string, LoadInfo> GetBenchmarkToComparison(string baselineRun, string comparandRun)\n",
    "    {\n",
    "        Dictionary<string, LoadInfo> comparisons = new();\n",
    "\n",
    "        Dictionary<string, LoadInfo> baselineData = new();\n",
    "        Dictionary<string, LoadInfo> comparandData = new();\n",
    "        HashSet<string> allBenchmarks = new();\n",
    "\n",
    "        foreach (var d in _data)\n",
    "        {\n",
    "            allBenchmarks.Add(d.Value.Benchmark);\n",
    "\n",
    "            string run = d.Key.Split(\"|\", StringSplitOptions.RemoveEmptyEntries | StringSplitOptions.TrimEntries)[0];\n",
    "\n",
    "            if (string.CompareOrdinal(run, baselineRun) == 0 && !baselineData.TryGetValue(d.Key, out var baselineInfo))\n",
    "            {\n",
    "                baselineInfo = baselineData[d.Value.Benchmark] = d.Value;\n",
    "            }\n",
    "\n",
    "            else if (string.CompareOrdinal(run, comparandRun) == 0 && !comparandData.TryGetValue(d.Key, out var comparandInfo))\n",
    "            {\n",
    "                comparandInfo = comparandData[d.Value.Benchmark] = d.Value;\n",
    "            }\n",
    "        }\n",
    "\n",
    "        foreach (var benchmark in allBenchmarks)\n",
    "        {\n",
    "            if (!baselineData.TryGetValue(benchmark, out var baselineBenchmarkInfo))\n",
    "            {\n",
    "                Console.WriteLine($\"Benchmark: {benchmark} not found on the baseline: {baselineRun}\");\n",
    "                continue;\n",
    "            }\n",
    "\n",
    "            if (!comparandData.TryGetValue(benchmark, out var comparandBenchmarkInfo))\n",
    "            {\n",
    "                Console.WriteLine($\"Benchmark: {benchmark} not found on the comparand: {comparandRun}\");\n",
    "                continue;\n",
    "            }\n",
    "\n",
    "            LoadInfo comparison = GetComparison(baselineBenchmarkInfo, comparandBenchmarkInfo);\n",
    "            comparisons[benchmark] = comparison;\n",
    "        }\n",
    "        \n",
    "        return comparisons;\n",
    "    }\n",
    "}"
   ]
  },
  {
   "cell_type": "code",
   "execution_count": null,
   "metadata": {
    "dotnet_interactive": {
     "language": "csharp"
    },
    "polyglot_notebook": {
     "kernelName": "csharp"
    },
    "vscode": {
     "languageId": "polyglot-notebook"
    }
   },
   "outputs": [],
   "source": [
    "string basePath = @\"Base Path To the ASP.NET Infra Run\";\n",
    "var dataManager = new DataManager(basePath);"
   ]
  },
  {
   "cell_type": "markdown",
   "metadata": {},
   "source": [
    "### Using the DataManager\n",
    "\n",
    "The following cells demonstrates how to make use of the ``DataManager``. "
   ]
  },
  {
   "cell_type": "code",
   "execution_count": null,
   "metadata": {
    "dotnet_interactive": {
     "language": "csharp"
    },
    "polyglot_notebook": {
     "kernelName": "csharp"
    },
    "vscode": {
     "languageId": "polyglot-notebook"
    }
   },
   "outputs": [],
   "source": [
    "string runName = \"run1\";\n",
    "\n",
    "Dictionary<string, LoadInfo> run = dataManager.GetAllBenchmarksForRun(runName);\n",
    "dataManager.Data.Display();\n",
    "List<KeyValuePair<string, LoadInfo>> runsWithGCData = dataManager.GetAllBenchmarksForRun(runName).Where(gc => gc.Value.Data != null);"
   ]
  },
  {
   "cell_type": "code",
   "execution_count": null,
   "metadata": {
    "dotnet_interactive": {
     "language": "csharp"
    },
    "polyglot_notebook": {
     "kernelName": "csharp"
    },
    "vscode": {
     "languageId": "polyglot-notebook"
    }
   },
   "outputs": [],
   "source": [
    "string benchmarkName = \"Name of the Benchmark\";\n",
    "LoadInfo benchmarkData = dataManager.GetBenchmarkData(benchmark: benchmarkName, run: runName);\n",
    "benchmarkData.Id"
   ]
  },
  {
   "cell_type": "code",
   "execution_count": null,
   "metadata": {
    "dotnet_interactive": {
     "language": "csharp"
    },
    "polyglot_notebook": {
     "kernelName": "csharp"
    },
    "vscode": {
     "languageId": "polyglot-notebook"
    }
   },
   "outputs": [],
   "source": [
    "Dictionary<string, LoadInfo> allRunsForBenchmark = dataManager.GetAllRunsForBenchmark(benchmark: benchmarkName);\n",
    "allRunsForBenchmark.Keys"
   ]
  },
  {
   "cell_type": "markdown",
   "metadata": {},
   "source": [
    "#### Saving The Benchmark Results\n",
    "\n",
    "The following call will persist a flat list of all the results."
   ]
  },
  {
   "cell_type": "code",
   "execution_count": null,
   "metadata": {
    "dotnet_interactive": {
     "language": "csharp"
    },
    "polyglot_notebook": {
     "kernelName": "csharp"
    },
    "vscode": {
     "languageId": "polyglot-notebook"
    }
   },
   "outputs": [],
   "source": [
    "dataManager.SaveBenchmarkData()"
   ]
  },
  {
   "attachments": {},
   "cell_type": "markdown",
   "metadata": {},
   "source": [
    "## Build to Build Comparison and Volatility Analysis"
   ]
  },
  {
   "cell_type": "code",
   "execution_count": 11,
   "metadata": {
    "dotnet_interactive": {
     "language": "csharp"
    },
    "polyglot_notebook": {
     "kernelName": "csharp"
    },
    "vscode": {
     "languageId": "polyglot-notebook"
    }
   },
   "outputs": [
    {
     "ename": "Error",
     "evalue": "System.NullReferenceException: Object reference not set to an instance of an object.\r\n   at Submission#11.<<Initialize>>d__0.MoveNext()\r\n--- End of stack trace from previous location ---\r\n   at Microsoft.CodeAnalysis.Scripting.ScriptExecutionState.RunSubmissionsAsync[TResult](ImmutableArray`1 precedingExecutors, Func`2 currentExecutor, StrongBox`1 exceptionHolderOpt, Func`2 catchExceptionOpt, CancellationToken cancellationToken)",
     "output_type": "error",
     "traceback": [
      "System.NullReferenceException: Object reference not set to an instance of an object.\r\n",
      "   at Submission#11.<<Initialize>>d__0.MoveNext()\r\n",
      "--- End of stack trace from previous location ---\r\n",
      "   at Microsoft.CodeAnalysis.Scripting.ScriptExecutionState.RunSubmissionsAsync[TResult](ImmutableArray`1 precedingExecutors, Func`2 currentExecutor, StrongBox`1 exceptionHolderOpt, Func`2 catchExceptionOpt, CancellationToken cancellationToken)"
     ]
    }
   ],
   "source": [
    "var run1_vs_run2 = dataManager.GetBenchmarkToComparison(\"run1\", \"run2\");"
   ]
  },
  {
   "cell_type": "code",
   "execution_count": 12,
   "metadata": {
    "dotnet_interactive": {
     "language": "csharp"
    },
    "polyglot_notebook": {
     "kernelName": "csharp"
    },
    "vscode": {
     "languageId": "polyglot-notebook"
    }
   },
   "outputs": [],
   "source": [
    "static bool IsNotInvalidDouble(double val) => \n",
    "    !double.IsNaN(val) && \n",
    "    !double.IsInfinity(val) && \n",
    "    !double.IsPositiveInfinity(val) && \n",
    "    !double.IsNegativeInfinity(val);\n",
    "\n",
    "public class SummaryTable\n",
    "{\n",
    "    public SummaryTable(Dictionary<string, Dictionary<string, LoadInfo>> comparisons)\n",
    "    {\n",
    "        Comparisons = comparisons;\n",
    "    }\n",
    "\n",
    "    private string GenerateSummaryForComparison(string comparisonKey, Dictionary<string, LoadInfo> comparison)\n",
    "    {\n",
    "        double averageWorkingSet = comparison.Where(a => IsNotInvalidDouble(a.Value.WorkingSetMB)).Average(a => a.Value.WorkingSetMB);\n",
    "        double privateMemory = comparison.Where(a => IsNotInvalidDouble(a.Value.PrivateMemoryMB)).Average(a => a.Value.PrivateMemoryMB);\n",
    "        double throughput = comparison.Where(a => IsNotInvalidDouble(a.Value.RequestsPerMSec)).Average(a => a.Value.RequestsPerMSec);\n",
    "        double meanLatency = comparison.Where(a => IsNotInvalidDouble(a.Value.MeanLatencyMS)).Average(a => a.Value.MeanLatencyMS);\n",
    "\n",
    "        double p50Latency = comparison.Where(a => IsNotInvalidDouble(a.Value.Latency50thMS)).Average(a => a.Value.Latency50thMS);\n",
    "        double p75Latency = comparison.Where(a => IsNotInvalidDouble(a.Value.Latency75thMS)).Average(a => a.Value.Latency75thMS);\n",
    "        double p90Latency = comparison.Where(a => IsNotInvalidDouble(a.Value.Latency90thMS)).Average(a => a.Value.Latency90thMS);\n",
    "        double p99Latency = comparison.Where(a => IsNotInvalidDouble(a.Value.Latency99thMS)).Average(a => a.Value.Latency99thMS);\n",
    "\n",
    "        return $\"{comparisonKey},{averageWorkingSet},{privateMemory},{throughput},{meanLatency},{p50Latency},{p75Latency},{p90Latency},{p99Latency}\";\n",
    "    }\n",
    "\n",
    "    public string GenerateSummaryForComparisons()\n",
    "    {\n",
    "        StringBuilder sb = new();\n",
    "        sb.AppendLine(\"Build to Build,Average Working Set (MB) %, Average Private Memory (MB) %, Average Request/MSec %, Average Mean Latency (MSec), Average P50 Latency (MSec) %, Average P75 Latency (MSec) %, Average P90 Latency (MSec) %, Average P99 Latency (MSec) %\");\n",
    "        foreach (var comparison in Comparisons)\n",
    "        {\n",
    "            sb.AppendLine(GenerateSummaryForComparison(comparison.Key, comparison.Value));\n",
    "        }\n",
    "\n",
    "        return sb.ToString();\n",
    "    }\n",
    "\n",
    "    private int GetCountOfRegressions(List<double> selected, double thresholdPercentage, bool lessIsBetter = true)\n",
    "    {\n",
    "        // If throughput, less is worse => threshold <= -5%.\n",
    "        var comparison = selected.Where(d => IsNotInvalidDouble(d) && ( (lessIsBetter) ? (d >= thresholdPercentage) : (d <= -thresholdPercentage)));\n",
    "        return comparison.Count;\n",
    "    }\n",
    "\n",
    "    private int GetCountOfAbsRegressions(List<double> selected, double thresholdPercentage)\n",
    "    {\n",
    "        var comparison = selected.Where(d => IsNotInvalidDouble(d) && Math.Abs(d) >= thresholdPercentage);\n",
    "        return comparison.Count;\n",
    "    }\n",
    "\n",
    "    // # of benchmarks with throughput regressed by >= 5% and 10%\n",
    "    private string GenerateRegressionSummary(string comparisonKey, Dictionary<string, LoadInfo> comparison)\n",
    "    {\n",
    "        List<double> workingSet  = comparison.Select(c => c.Value.WorkingSetMB);\n",
    "        int workingSetCountGT_5  = GetCountOfRegressions(workingSet, 5);\n",
    "        int workingSetCountGT_10 = GetCountOfRegressions(workingSet, 10);\n",
    "\n",
    "        List<double> privateMemory  = comparison.Select(c => c.Value.PrivateMemoryMB);\n",
    "        int privateMemoryCountGT_5  = GetCountOfRegressions(privateMemory, 5);\n",
    "        int privateMemoryCountGT_10 = GetCountOfRegressions(privateMemory, 10);\n",
    "\n",
    "        List<double> throughput  = comparison.Select(a => a.Value.RequestsPerMSec);\n",
    "        int throughputCountGT_5  = GetCountOfRegressions(throughput, 5, false);\n",
    "        int throughputCountGT_10 = GetCountOfRegressions(throughput, 10, false);\n",
    "\n",
    "        List<double> meanLatency  = comparison.Select(a => a.Value.MeanLatencyMS);\n",
    "        int meanLatencyCountGT_5  = GetCountOfRegressions(meanLatency, 5);\n",
    "        int meanLatencyCountGT_10 = GetCountOfRegressions(meanLatency, 10);\n",
    "\n",
    "        List<double> p50Latency  = comparison.Select(a => a.Value.Latency50thMS);\n",
    "        int p50LatencyCountGT_5  = GetCountOfRegressions(p50Latency, 5);\n",
    "        int p50LatencyCountGT_10 = GetCountOfRegressions(p50Latency, 10);\n",
    "\n",
    "        List<double> p75Latency  = comparison.Select(a => a.Value.Latency75thMS);\n",
    "        int p75LatencyCountGT_5  = GetCountOfRegressions(p75Latency, 5);\n",
    "        int p75LatencyCountGT_10 = GetCountOfRegressions(p75Latency, 10);\n",
    "\n",
    "        List<double> p90Latency  = comparison.Select(a => a.Value.Latency90thMS);\n",
    "        int p90LatencyCountGT_5  = GetCountOfRegressions(p90Latency, 5);\n",
    "        int p90LatencyCountGT_10 = GetCountOfRegressions(p90Latency, 10);\n",
    "        \n",
    "        List<double> p99Latency  = comparison.Select(a => a.Value.Latency99thMS);\n",
    "        int p99LatencyCountGT_5  = GetCountOfRegressions(p99Latency, 5);\n",
    "        int p99LatencyCountGT_10 = GetCountOfRegressions(p99Latency, 10);\n",
    "\n",
    "        return $\"{comparisonKey},{workingSetCountGT_5},{workingSetCountGT_10},{privateMemoryCountGT_5},{privateMemoryCountGT_10},{throughputCountGT_5},{throughputCountGT_10},{meanLatencyCountGT_5},{meanLatencyCountGT_10},{p50LatencyCountGT_5},{p50LatencyCountGT_10},{p75LatencyCountGT_5},{p75LatencyCountGT_10},{p90LatencyCountGT_5},{p90LatencyCountGT_10},{p99LatencyCountGT_5},{p99LatencyCountGT_10}\";\n",
    "    }\n",
    "\n",
    "    public string GenerateRegressionSummaryForComparisons()\n",
    "    {\n",
    "        StringBuilder sb = new();\n",
    "        sb.AppendLine(\"Build to Build,Reg. Count - Working Set (MB),Large Reg. Count - Working Set (MB),Reg. Count - Private Memory (MB),Large Reg. Count - Private Memory (MB),Reg. Count - Throughput, Large Reg. Count - Throughput,Reg. Count - Mean Latency,Large Reg. Count - Mean Latency,Reg. Count - P50 Latency, Large Reg. Count - P50 Latency, Reg. Count - P75 Latency, Large Reg. Count - P75 Latency,Reg. Count - P90 Latency, Large Reg. Count - P90 Latency,Reg. Count - P99 Latency, Large Reg. Count - P99 Latency\");\n",
    "        foreach (var comparison in Comparisons)\n",
    "        {\n",
    "            sb.AppendLine(GenerateRegressionSummary(comparison.Key, comparison.Value));\n",
    "        }\n",
    "\n",
    "        return sb.ToString();\n",
    "    }\n",
    "\n",
    "    public Dictionary<string, string> GenerateRegressionAnalysisForComparison(string comparisonKey)\n",
    "    {\n",
    "        StringBuilder sb = new();\n",
    "        Dictionary<string, string> csvData = new();\n",
    "        Dictionary<string, LoadInfo> comparison = Comparisons[comparisonKey];\n",
    "\n",
    "        string header = \"Benchmark,WorkingSetMB,PrivateMemoryMB,RequestsPerMSec,MeanLatencyMS,Latency50thMS,Latency75thMS,Latency90thMS,Latency99thMS\";\n",
    "\n",
    "        // Generate Memory Regressions.\n",
    "        StringBuilder memRegressions = new();\n",
    "        memRegressions.AppendLine(header);\n",
    "        foreach (var benchmark in comparison.Where(c => c.Value.WorkingSetMB >= 10 || c.Value.PrivateMemoryMB >= 10 ))\n",
    "        {\n",
    "            memRegressions.AppendLine($\"{benchmark.Key},{benchmark.Value.WorkingSetMB},{benchmark.Value.PrivateMemoryMB},{benchmark.Value.RequestsPerMSec},{benchmark.Value.MeanLatencyMS},{benchmark.Value.Latency50thMS},{benchmark.Value.Latency75thMS},{benchmark.Value.Latency90thMS},{benchmark.Value.Latency99thMS}\");\n",
    "        }\n",
    "        csvData[\"memory\"] = memRegressions.ToString();\n",
    "\n",
    "        // Generate Throughput Regressions.\n",
    "        StringBuilder throughputRegressions = new();\n",
    "        throughputRegressions.AppendLine(header);\n",
    "        foreach (var benchmark in comparison.Where(c => c.Value.RequestsPerMSec <= -10))\n",
    "        {\n",
    "            throughputRegressions.AppendLine($\"{benchmark.Key},{benchmark.Value.WorkingSetMB},{benchmark.Value.PrivateMemoryMB},{benchmark.Value.RequestsPerMSec},{benchmark.Value.MeanLatencyMS},{benchmark.Value.Latency50thMS},{benchmark.Value.Latency75thMS},{benchmark.Value.Latency90thMS},{benchmark.Value.Latency99thMS}\");\n",
    "        }\n",
    "        csvData[\"throughput\"] = throughputRegressions.ToString();\n",
    "\n",
    "        // Generate Latency Regressions.\n",
    "        StringBuilder latencyRegressions = new();\n",
    "        latencyRegressions.AppendLine(header);\n",
    "        foreach (var benchmark in comparison.Where(c => c.Value.MeanLatencyMS >= 10 || \n",
    "                                                        c.Value.Latency50thMS >= 10 || \n",
    "                                                        c.Value.Latency75thMS >= 10 || \n",
    "                                                        c.Value.Latency90thMS >= 10 || \n",
    "                                                        c.Value.Latency99thMS >= 10 ))\n",
    "        {\n",
    "            latencyRegressions.AppendLine($\"{benchmark.Key},{benchmark.Value.WorkingSetMB},{benchmark.Value.PrivateMemoryMB},{benchmark.Value.RequestsPerMSec},{benchmark.Value.MeanLatencyMS},{benchmark.Value.Latency50thMS},{benchmark.Value.Latency75thMS},{benchmark.Value.Latency90thMS},{benchmark.Value.Latency99thMS}\");\n",
    "        }\n",
    "        csvData[\"latency\"] = latencyRegressions.ToString();\n",
    "\n",
    "        // All.\n",
    "        StringBuilder all = new();\n",
    "        all.AppendLine(header);\n",
    "        foreach (var benchmark in comparison)\n",
    "        {\n",
    "            all.AppendLine($\"{benchmark.Key},{benchmark.Value.WorkingSetMB},{benchmark.Value.PrivateMemoryMB},{benchmark.Value.RequestsPerMSec},{benchmark.Value.MeanLatencyMS},{benchmark.Value.Latency50thMS},{benchmark.Value.Latency75thMS},{benchmark.Value.Latency90thMS},{benchmark.Value.Latency99thMS}\");\n",
    "        }\n",
    "        csvData[\"all\"] = all.ToString();\n",
    "\n",
    "        return csvData;\n",
    "    }\n",
    "\n",
    "    public void SaveComparisons(string basePath)\n",
    "    {\n",
    "        // Add Summary for Comparisons.\n",
    "        string summaryOfComparisons = GenerateSummaryForComparisons();\n",
    "        File.WriteAllText(Path.Combine(basePath, \"SummaryOfComparisons.csv\"), summaryOfComparisons);\n",
    "\n",
    "        // Add Regression Summary for Comparisons.\n",
    "        string regressionSummary = GenerateRegressionSummaryForComparisons();\n",
    "        File.WriteAllText(Path.Combine(basePath, \"RegressionSummary.csv\"), regressionSummary);\n",
    "\n",
    "        // Add Large Regression Analysis for Comparison.\n",
    "        string perComparisonDataPath = Path.Combine(basePath, \"PerComparisonData\");\n",
    "        if (!Directory.Exists(perComparisonDataPath))\n",
    "        {\n",
    "            Directory.CreateDirectory(perComparisonDataPath);\n",
    "        }\n",
    "\n",
    "        foreach (var comparison in Comparisons)\n",
    "        {\n",
    "            string comparisonPath = Path.Combine(perComparisonDataPath, comparison.Key);\n",
    "            Directory.CreateDirectory(comparisonPath);\n",
    "\n",
    "            Dictionary<string, string> regressionComparisons = GenerateRegressionAnalysisForComparison(comparison.Key);\n",
    "\n",
    "            // Memory\n",
    "            File.WriteAllText(Path.Combine(comparisonPath, \"MemoryRegressions.csv\"), regressionComparisons[\"memory\"]);\n",
    "\n",
    "            // Throughput\n",
    "            File.WriteAllText(Path.Combine(comparisonPath, \"ThroughputRegressions.csv\"), regressionComparisons[\"throughput\"]);\n",
    "\n",
    "            // Latency\n",
    "            File.WriteAllText(Path.Combine(comparisonPath, \"LatencyRegressions.csv\"), regressionComparisons[\"latency\"]);\n",
    "\n",
    "            // All\n",
    "            File.WriteAllText(Path.Combine(comparisonPath, \"All.csv\"), regressionComparisons[\"all\"]);\n",
    "        }\n",
    "    }\n",
    "\n",
    "    public Dictionary<string, Dictionary<string, LoadInfo>> Comparisons { get; }\n",
    "}"
   ]
  },
  {
   "cell_type": "code",
   "execution_count": 13,
   "metadata": {
    "dotnet_interactive": {
     "language": "csharp"
    },
    "polyglot_notebook": {
     "kernelName": "csharp"
    },
    "vscode": {
     "languageId": "polyglot-notebook"
    }
   },
   "outputs": [
    {
     "ename": "Error",
     "evalue": "System.NullReferenceException: Object reference not set to an instance of an object.\r\n   at GC.Analysis.API.GoodLinq.Where[T](IEnumerable`1 data, Func`2 predicate) in C:\\performance\\src\\benchmarks\\gc\\GC.Infrastructure\\GC.Analysis.API\\Common.cs:line 107\r\n   at Submission#12.SummaryTable.GenerateSummaryForComparison(String comparisonKey, Dictionary`2 comparison)\r\n   at Submission#12.SummaryTable.GenerateSummaryForComparisons()\r\n   at Submission#12.SummaryTable.SaveComparisons(String basePath)\r\n   at Submission#13.<<Initialize>>d__0.MoveNext()\r\n--- End of stack trace from previous location ---\r\n   at Microsoft.CodeAnalysis.Scripting.ScriptExecutionState.RunSubmissionsAsync[TResult](ImmutableArray`1 precedingExecutors, Func`2 currentExecutor, StrongBox`1 exceptionHolderOpt, Func`2 catchExceptionOpt, CancellationToken cancellationToken)",
     "output_type": "error",
     "traceback": [
      "System.NullReferenceException: Object reference not set to an instance of an object.\r\n",
      "   at GC.Analysis.API.GoodLinq.Where[T](IEnumerable`1 data, Func`2 predicate) in C:\\performance\\src\\benchmarks\\gc\\GC.Infrastructure\\GC.Analysis.API\\Common.cs:line 107\r\n",
      "   at Submission#12.SummaryTable.GenerateSummaryForComparison(String comparisonKey, Dictionary`2 comparison)\r\n",
      "   at Submission#12.SummaryTable.GenerateSummaryForComparisons()\r\n",
      "   at Submission#12.SummaryTable.SaveComparisons(String basePath)\r\n",
      "   at Submission#13.<<Initialize>>d__0.MoveNext()\r\n",
      "--- End of stack trace from previous location ---\r\n",
      "   at Microsoft.CodeAnalysis.Scripting.ScriptExecutionState.RunSubmissionsAsync[TResult](ImmutableArray`1 precedingExecutors, Func`2 currentExecutor, StrongBox`1 exceptionHolderOpt, Func`2 catchExceptionOpt, CancellationToken cancellationToken)"
     ]
    }
   ],
   "source": [
    "Dictionary<string, Dictionary<string, LoadInfo>> comparisons = new()\n",
    "{\n",
    "    { nameof(run1_vs_run2), run1_vs_run2 },\n",
    "};\n",
    "\n",
    "SummaryTable summaryTable = new(comparisons);\n",
    "summaryTable.SaveComparisons(basePath);"
   ]
  },
  {
   "cell_type": "markdown",
   "metadata": {},
   "source": [
    "## Charting Helpers\n",
    "\n",
    "The following cells highlight how to chart certain properties of the LoadInfo class."
   ]
  },
  {
   "cell_type": "code",
   "execution_count": 14,
   "metadata": {
    "dotnet_interactive": {
     "language": "csharp"
    },
    "polyglot_notebook": {
     "kernelName": "csharp"
    },
    "vscode": {
     "languageId": "polyglot-notebook"
    }
   },
   "outputs": [],
   "source": [
    "void ChartProperty(LoadInfo baseline, LoadInfo comparand, string nameOfProperty)\n",
    "{\n",
    "    GCProcessData baselineGC = baseline.Data;\n",
    "    GCProcessData comparandGC = comparand.Data;\n",
    "\n",
    "    List<(string scatterName, List<TraceGC> gcs)> gcData = \n",
    "        new()\n",
    "        {\n",
    "            { ( scatterName :  $\"{nameOfProperty} for {baseline.Id}\" , gcs : baselineGC.GCs )},\n",
    "            { ( scatterName :  $\"{nameOfProperty} for {comparand.Id}\" , gcs : comparandGC.GCs )}\n",
    "        };\n",
    "\n",
    "    GCCharting.ChartGCData(gcData          : gcData, \n",
    "                           title           : $\"{nameOfProperty} Comparison Between {baseline.Run} and {comparand.Run}\", \n",
    "                           isXAxisRelative : false,\n",
    "                           fieldName       : nameOfProperty).Display();\n",
    "\n",
    "}\n",
    "\n",
    "void ChartProperty(LoadInfo comparison, string nameOfProperty)\n",
    "{\n",
    "    GCProcessData baselineGC = comparison.Data;\n",
    "    GCProcessData comparandGC = comparison.Data2;\n",
    "\n",
    "    List<(string scatterName, List<TraceGC> gcs)> gcData = \n",
    "        new()\n",
    "        {\n",
    "            { ( scatterName :  $\"{nameOfProperty} for Baseline\" , gcs : baselineGC.GCs )},\n",
    "            { ( scatterName :  $\"{nameOfProperty} for Comparand\" , gcs : comparandGC.GCs )}\n",
    "        };\n",
    "\n",
    "    GCCharting.ChartGCData(gcData          : gcData, \n",
    "                           title           : $\"{nameOfProperty} Comparison\", \n",
    "                           isXAxisRelative : false,\n",
    "                           fieldName       : nameOfProperty).Display();\n",
    "\n",
    "}"
   ]
  },
  {
   "cell_type": "code",
   "execution_count": null,
   "metadata": {
    "dotnet_interactive": {
     "language": "csharp"
    },
    "polyglot_notebook": {
     "kernelName": "csharp"
    },
    "vscode": {
     "languageId": "polyglot-notebook"
    }
   },
   "outputs": [],
   "source": [
    "var run1_Benchmark = dataManager.GetBenchmarkData(benchmark: benchmarkName, \"run1\");\n",
    "var run2_Benchmark = dataManager.GetBenchmarkData(benchmark: benchmarkName, \"run2\");\n",
    "\n",
    "// Chart the PauseDurationMSec for the run1 vs. run2.\n",
    "ChartProperty(baseline: run1_Benchmark, comparand: run2_Benchmark, nameof(TraceGC.PauseDurationMSec))"
   ]
  },
  {
   "attachments": {},
   "cell_type": "markdown",
   "metadata": {},
   "source": [
    "## Debugging"
   ]
  },
  {
   "cell_type": "code",
   "execution_count": null,
   "metadata": {
    "dotnet_interactive": {
     "language": "csharp"
    },
    "polyglot_notebook": {
     "kernelName": "csharp"
    },
    "vscode": {
     "languageId": "polyglot-notebook"
    }
   },
   "outputs": [],
   "source": [
    "System.Diagnostics.Process.GetCurrentProcess().Id"
   ]
  },
  {
   "cell_type": "code",
   "execution_count": null,
   "metadata": {
    "dotnet_interactive": {
     "language": "csharp"
    },
    "polyglot_notebook": {
     "kernelName": "csharp"
    },
    "vscode": {
     "languageId": "polyglot-notebook"
    }
   },
   "outputs": [],
   "source": [
    "#!about"
   ]
  }
 ],
 "metadata": {
  "kernelspec": {
   "display_name": ".NET (C#)",
   "language": "C#",
   "name": ".net-csharp"
  },
  "language_info": {
   "name": "python"
  },
  "orig_nbformat": 4,
  "polyglot_notebook": {
   "kernelInfo": {
    "defaultKernelName": "csharp",
    "items": [
     {
      "aliases": [],
      "name": "csharp"
     }
    ]
   }
  }
 },
 "nbformat": 4,
 "nbformat_minor": 2
}
